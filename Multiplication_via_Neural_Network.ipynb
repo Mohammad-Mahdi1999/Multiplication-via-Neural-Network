{
  "cells": [
    {
      "cell_type": "markdown",
      "metadata": {
        "id": "view-in-github",
        "colab_type": "text"
      },
      "source": [
        "<a href=\"https://colab.research.google.com/github/Mohammad-Mahdi1999/Multiplication-via-Neural-Network/blob/master/Multiplication_via_Neural_Network.ipynb\" target=\"_parent\"><img src=\"https://colab.research.google.com/assets/colab-badge.svg\" alt=\"Open In Colab\"/></a>"
      ]
    },
    {
      "cell_type": "code",
      "execution_count": 1,
      "metadata": {
        "id": "fNGk1t_aMi96"
      },
      "outputs": [],
      "source": [
        "import numpy as np\n",
        "import pandas as pd\n",
        "import tensorflow as tf\n",
        "from tensorflow import keras"
      ]
    },
    {
      "cell_type": "markdown",
      "metadata": {
        "id": "WA81FIaBNlrp"
      },
      "source": [
        "# Generate Dataset"
      ]
    },
    {
      "cell_type": "code",
      "execution_count": 2,
      "metadata": {
        "id": "412lukIBNEZF"
      },
      "outputs": [],
      "source": [
        "x_1 = np.random.randint(0,10_000,1_000_000)\n",
        "x_2 = np.random.randint(0,10_000,1_000_000)\n",
        "y = x_1 * x_2 + 5"
      ]
    },
    {
      "cell_type": "code",
      "execution_count": 3,
      "metadata": {
        "colab": {
          "base_uri": "https://localhost:8080/",
          "height": 424
        },
        "id": "TehWO-gyP50A",
        "outputId": "d1c0dd7c-d0a3-4ad7-f834-8e3cea2d6b3f"
      },
      "outputs": [
        {
          "output_type": "execute_result",
          "data": {
            "text/plain": [
              "         x_1   x_2         y\n",
              "0        415   445    184680\n",
              "1        214  8226   1760369\n",
              "2       9739  6547  63761238\n",
              "3       9075  6558  59513855\n",
              "4        690  3449   2379815\n",
              "...      ...   ...       ...\n",
              "999995  5870  6643  38994415\n",
              "999996  8553  9687  82852916\n",
              "999997  6847  7763  53153266\n",
              "999998  8148   388   3161429\n",
              "999999  9208  3348  30828389\n",
              "\n",
              "[1000000 rows x 3 columns]"
            ],
            "text/html": [
              "\n",
              "  <div id=\"df-eb2b9776-a2dc-4c9e-b575-815db4020d58\" class=\"colab-df-container\">\n",
              "    <div>\n",
              "<style scoped>\n",
              "    .dataframe tbody tr th:only-of-type {\n",
              "        vertical-align: middle;\n",
              "    }\n",
              "\n",
              "    .dataframe tbody tr th {\n",
              "        vertical-align: top;\n",
              "    }\n",
              "\n",
              "    .dataframe thead th {\n",
              "        text-align: right;\n",
              "    }\n",
              "</style>\n",
              "<table border=\"1\" class=\"dataframe\">\n",
              "  <thead>\n",
              "    <tr style=\"text-align: right;\">\n",
              "      <th></th>\n",
              "      <th>x_1</th>\n",
              "      <th>x_2</th>\n",
              "      <th>y</th>\n",
              "    </tr>\n",
              "  </thead>\n",
              "  <tbody>\n",
              "    <tr>\n",
              "      <th>0</th>\n",
              "      <td>415</td>\n",
              "      <td>445</td>\n",
              "      <td>184680</td>\n",
              "    </tr>\n",
              "    <tr>\n",
              "      <th>1</th>\n",
              "      <td>214</td>\n",
              "      <td>8226</td>\n",
              "      <td>1760369</td>\n",
              "    </tr>\n",
              "    <tr>\n",
              "      <th>2</th>\n",
              "      <td>9739</td>\n",
              "      <td>6547</td>\n",
              "      <td>63761238</td>\n",
              "    </tr>\n",
              "    <tr>\n",
              "      <th>3</th>\n",
              "      <td>9075</td>\n",
              "      <td>6558</td>\n",
              "      <td>59513855</td>\n",
              "    </tr>\n",
              "    <tr>\n",
              "      <th>4</th>\n",
              "      <td>690</td>\n",
              "      <td>3449</td>\n",
              "      <td>2379815</td>\n",
              "    </tr>\n",
              "    <tr>\n",
              "      <th>...</th>\n",
              "      <td>...</td>\n",
              "      <td>...</td>\n",
              "      <td>...</td>\n",
              "    </tr>\n",
              "    <tr>\n",
              "      <th>999995</th>\n",
              "      <td>5870</td>\n",
              "      <td>6643</td>\n",
              "      <td>38994415</td>\n",
              "    </tr>\n",
              "    <tr>\n",
              "      <th>999996</th>\n",
              "      <td>8553</td>\n",
              "      <td>9687</td>\n",
              "      <td>82852916</td>\n",
              "    </tr>\n",
              "    <tr>\n",
              "      <th>999997</th>\n",
              "      <td>6847</td>\n",
              "      <td>7763</td>\n",
              "      <td>53153266</td>\n",
              "    </tr>\n",
              "    <tr>\n",
              "      <th>999998</th>\n",
              "      <td>8148</td>\n",
              "      <td>388</td>\n",
              "      <td>3161429</td>\n",
              "    </tr>\n",
              "    <tr>\n",
              "      <th>999999</th>\n",
              "      <td>9208</td>\n",
              "      <td>3348</td>\n",
              "      <td>30828389</td>\n",
              "    </tr>\n",
              "  </tbody>\n",
              "</table>\n",
              "<p>1000000 rows × 3 columns</p>\n",
              "</div>\n",
              "    <div class=\"colab-df-buttons\">\n",
              "\n",
              "  <div class=\"colab-df-container\">\n",
              "    <button class=\"colab-df-convert\" onclick=\"convertToInteractive('df-eb2b9776-a2dc-4c9e-b575-815db4020d58')\"\n",
              "            title=\"Convert this dataframe to an interactive table.\"\n",
              "            style=\"display:none;\">\n",
              "\n",
              "  <svg xmlns=\"http://www.w3.org/2000/svg\" height=\"24px\" viewBox=\"0 -960 960 960\">\n",
              "    <path d=\"M120-120v-720h720v720H120Zm60-500h600v-160H180v160Zm220 220h160v-160H400v160Zm0 220h160v-160H400v160ZM180-400h160v-160H180v160Zm440 0h160v-160H620v160ZM180-180h160v-160H180v160Zm440 0h160v-160H620v160Z\"/>\n",
              "  </svg>\n",
              "    </button>\n",
              "\n",
              "  <style>\n",
              "    .colab-df-container {\n",
              "      display:flex;\n",
              "      gap: 12px;\n",
              "    }\n",
              "\n",
              "    .colab-df-convert {\n",
              "      background-color: #E8F0FE;\n",
              "      border: none;\n",
              "      border-radius: 50%;\n",
              "      cursor: pointer;\n",
              "      display: none;\n",
              "      fill: #1967D2;\n",
              "      height: 32px;\n",
              "      padding: 0 0 0 0;\n",
              "      width: 32px;\n",
              "    }\n",
              "\n",
              "    .colab-df-convert:hover {\n",
              "      background-color: #E2EBFA;\n",
              "      box-shadow: 0px 1px 2px rgba(60, 64, 67, 0.3), 0px 1px 3px 1px rgba(60, 64, 67, 0.15);\n",
              "      fill: #174EA6;\n",
              "    }\n",
              "\n",
              "    .colab-df-buttons div {\n",
              "      margin-bottom: 4px;\n",
              "    }\n",
              "\n",
              "    [theme=dark] .colab-df-convert {\n",
              "      background-color: #3B4455;\n",
              "      fill: #D2E3FC;\n",
              "    }\n",
              "\n",
              "    [theme=dark] .colab-df-convert:hover {\n",
              "      background-color: #434B5C;\n",
              "      box-shadow: 0px 1px 3px 1px rgba(0, 0, 0, 0.15);\n",
              "      filter: drop-shadow(0px 1px 2px rgba(0, 0, 0, 0.3));\n",
              "      fill: #FFFFFF;\n",
              "    }\n",
              "  </style>\n",
              "\n",
              "    <script>\n",
              "      const buttonEl =\n",
              "        document.querySelector('#df-eb2b9776-a2dc-4c9e-b575-815db4020d58 button.colab-df-convert');\n",
              "      buttonEl.style.display =\n",
              "        google.colab.kernel.accessAllowed ? 'block' : 'none';\n",
              "\n",
              "      async function convertToInteractive(key) {\n",
              "        const element = document.querySelector('#df-eb2b9776-a2dc-4c9e-b575-815db4020d58');\n",
              "        const dataTable =\n",
              "          await google.colab.kernel.invokeFunction('convertToInteractive',\n",
              "                                                    [key], {});\n",
              "        if (!dataTable) return;\n",
              "\n",
              "        const docLinkHtml = 'Like what you see? Visit the ' +\n",
              "          '<a target=\"_blank\" href=https://colab.research.google.com/notebooks/data_table.ipynb>data table notebook</a>'\n",
              "          + ' to learn more about interactive tables.';\n",
              "        element.innerHTML = '';\n",
              "        dataTable['output_type'] = 'display_data';\n",
              "        await google.colab.output.renderOutput(dataTable, element);\n",
              "        const docLink = document.createElement('div');\n",
              "        docLink.innerHTML = docLinkHtml;\n",
              "        element.appendChild(docLink);\n",
              "      }\n",
              "    </script>\n",
              "  </div>\n",
              "\n",
              "\n",
              "<div id=\"df-e8574c1f-8de2-49a6-9f94-6d785e81dc5a\">\n",
              "  <button class=\"colab-df-quickchart\" onclick=\"quickchart('df-e8574c1f-8de2-49a6-9f94-6d785e81dc5a')\"\n",
              "            title=\"Suggest charts\"\n",
              "            style=\"display:none;\">\n",
              "\n",
              "<svg xmlns=\"http://www.w3.org/2000/svg\" height=\"24px\"viewBox=\"0 0 24 24\"\n",
              "     width=\"24px\">\n",
              "    <g>\n",
              "        <path d=\"M19 3H5c-1.1 0-2 .9-2 2v14c0 1.1.9 2 2 2h14c1.1 0 2-.9 2-2V5c0-1.1-.9-2-2-2zM9 17H7v-7h2v7zm4 0h-2V7h2v10zm4 0h-2v-4h2v4z\"/>\n",
              "    </g>\n",
              "</svg>\n",
              "  </button>\n",
              "\n",
              "<style>\n",
              "  .colab-df-quickchart {\n",
              "      --bg-color: #E8F0FE;\n",
              "      --fill-color: #1967D2;\n",
              "      --hover-bg-color: #E2EBFA;\n",
              "      --hover-fill-color: #174EA6;\n",
              "      --disabled-fill-color: #AAA;\n",
              "      --disabled-bg-color: #DDD;\n",
              "  }\n",
              "\n",
              "  [theme=dark] .colab-df-quickchart {\n",
              "      --bg-color: #3B4455;\n",
              "      --fill-color: #D2E3FC;\n",
              "      --hover-bg-color: #434B5C;\n",
              "      --hover-fill-color: #FFFFFF;\n",
              "      --disabled-bg-color: #3B4455;\n",
              "      --disabled-fill-color: #666;\n",
              "  }\n",
              "\n",
              "  .colab-df-quickchart {\n",
              "    background-color: var(--bg-color);\n",
              "    border: none;\n",
              "    border-radius: 50%;\n",
              "    cursor: pointer;\n",
              "    display: none;\n",
              "    fill: var(--fill-color);\n",
              "    height: 32px;\n",
              "    padding: 0;\n",
              "    width: 32px;\n",
              "  }\n",
              "\n",
              "  .colab-df-quickchart:hover {\n",
              "    background-color: var(--hover-bg-color);\n",
              "    box-shadow: 0 1px 2px rgba(60, 64, 67, 0.3), 0 1px 3px 1px rgba(60, 64, 67, 0.15);\n",
              "    fill: var(--button-hover-fill-color);\n",
              "  }\n",
              "\n",
              "  .colab-df-quickchart-complete:disabled,\n",
              "  .colab-df-quickchart-complete:disabled:hover {\n",
              "    background-color: var(--disabled-bg-color);\n",
              "    fill: var(--disabled-fill-color);\n",
              "    box-shadow: none;\n",
              "  }\n",
              "\n",
              "  .colab-df-spinner {\n",
              "    border: 2px solid var(--fill-color);\n",
              "    border-color: transparent;\n",
              "    border-bottom-color: var(--fill-color);\n",
              "    animation:\n",
              "      spin 1s steps(1) infinite;\n",
              "  }\n",
              "\n",
              "  @keyframes spin {\n",
              "    0% {\n",
              "      border-color: transparent;\n",
              "      border-bottom-color: var(--fill-color);\n",
              "      border-left-color: var(--fill-color);\n",
              "    }\n",
              "    20% {\n",
              "      border-color: transparent;\n",
              "      border-left-color: var(--fill-color);\n",
              "      border-top-color: var(--fill-color);\n",
              "    }\n",
              "    30% {\n",
              "      border-color: transparent;\n",
              "      border-left-color: var(--fill-color);\n",
              "      border-top-color: var(--fill-color);\n",
              "      border-right-color: var(--fill-color);\n",
              "    }\n",
              "    40% {\n",
              "      border-color: transparent;\n",
              "      border-right-color: var(--fill-color);\n",
              "      border-top-color: var(--fill-color);\n",
              "    }\n",
              "    60% {\n",
              "      border-color: transparent;\n",
              "      border-right-color: var(--fill-color);\n",
              "    }\n",
              "    80% {\n",
              "      border-color: transparent;\n",
              "      border-right-color: var(--fill-color);\n",
              "      border-bottom-color: var(--fill-color);\n",
              "    }\n",
              "    90% {\n",
              "      border-color: transparent;\n",
              "      border-bottom-color: var(--fill-color);\n",
              "    }\n",
              "  }\n",
              "</style>\n",
              "\n",
              "  <script>\n",
              "    async function quickchart(key) {\n",
              "      const quickchartButtonEl =\n",
              "        document.querySelector('#' + key + ' button');\n",
              "      quickchartButtonEl.disabled = true;  // To prevent multiple clicks.\n",
              "      quickchartButtonEl.classList.add('colab-df-spinner');\n",
              "      try {\n",
              "        const charts = await google.colab.kernel.invokeFunction(\n",
              "            'suggestCharts', [key], {});\n",
              "      } catch (error) {\n",
              "        console.error('Error during call to suggestCharts:', error);\n",
              "      }\n",
              "      quickchartButtonEl.classList.remove('colab-df-spinner');\n",
              "      quickchartButtonEl.classList.add('colab-df-quickchart-complete');\n",
              "    }\n",
              "    (() => {\n",
              "      let quickchartButtonEl =\n",
              "        document.querySelector('#df-e8574c1f-8de2-49a6-9f94-6d785e81dc5a button');\n",
              "      quickchartButtonEl.style.display =\n",
              "        google.colab.kernel.accessAllowed ? 'block' : 'none';\n",
              "    })();\n",
              "  </script>\n",
              "</div>\n",
              "    </div>\n",
              "  </div>\n"
            ],
            "application/vnd.google.colaboratory.intrinsic+json": {
              "type": "dataframe",
              "variable_name": "df"
            }
          },
          "metadata": {},
          "execution_count": 3
        }
      ],
      "source": [
        "df = pd.DataFrame({\n",
        "    \"x_1\" : x_1,\n",
        "    \"x_2\" : x_2,\n",
        "    \"y\" : y,\n",
        "\n",
        "})\n",
        "\n",
        "df"
      ]
    },
    {
      "cell_type": "markdown",
      "source": [
        "## Data ???"
      ],
      "metadata": {
        "id": "lE0bZlJOxUfQ"
      }
    },
    {
      "cell_type": "code",
      "execution_count": 11,
      "metadata": {
        "id": "OJfuUYbSZMP4",
        "colab": {
          "base_uri": "https://localhost:8080/",
          "height": 424
        },
        "outputId": "c8b5127b-9999-4f45-8587-02d0b81929d8"
      },
      "outputs": [
        {
          "output_type": "execute_result",
          "data": {
            "text/plain": [
              "             x_1       x_2         y\n",
              "0      -1.587357 -1.575320 -1.124090\n",
              "1      -1.656982  1.119104 -1.052620\n",
              "2       1.642389  0.537696  1.759619\n",
              "3       1.412385  0.541505  1.566966\n",
              "4      -1.492100 -0.535087 -1.024523\n",
              "...          ...       ...       ...\n",
              "999995  0.302204  0.570939  0.636244\n",
              "999996  1.231569  1.625023  2.625580\n",
              "999997  0.640627  0.958775  1.278462\n",
              "999998  1.091281 -1.595058 -0.989070\n",
              "999999  1.458455 -0.570062  0.265849\n",
              "\n",
              "[1000000 rows x 3 columns]"
            ],
            "text/html": [
              "\n",
              "  <div id=\"df-4808e42b-c780-4a68-8ff8-66a9243aecd1\" class=\"colab-df-container\">\n",
              "    <div>\n",
              "<style scoped>\n",
              "    .dataframe tbody tr th:only-of-type {\n",
              "        vertical-align: middle;\n",
              "    }\n",
              "\n",
              "    .dataframe tbody tr th {\n",
              "        vertical-align: top;\n",
              "    }\n",
              "\n",
              "    .dataframe thead th {\n",
              "        text-align: right;\n",
              "    }\n",
              "</style>\n",
              "<table border=\"1\" class=\"dataframe\">\n",
              "  <thead>\n",
              "    <tr style=\"text-align: right;\">\n",
              "      <th></th>\n",
              "      <th>x_1</th>\n",
              "      <th>x_2</th>\n",
              "      <th>y</th>\n",
              "    </tr>\n",
              "  </thead>\n",
              "  <tbody>\n",
              "    <tr>\n",
              "      <th>0</th>\n",
              "      <td>-1.587357</td>\n",
              "      <td>-1.575320</td>\n",
              "      <td>-1.124090</td>\n",
              "    </tr>\n",
              "    <tr>\n",
              "      <th>1</th>\n",
              "      <td>-1.656982</td>\n",
              "      <td>1.119104</td>\n",
              "      <td>-1.052620</td>\n",
              "    </tr>\n",
              "    <tr>\n",
              "      <th>2</th>\n",
              "      <td>1.642389</td>\n",
              "      <td>0.537696</td>\n",
              "      <td>1.759619</td>\n",
              "    </tr>\n",
              "    <tr>\n",
              "      <th>3</th>\n",
              "      <td>1.412385</td>\n",
              "      <td>0.541505</td>\n",
              "      <td>1.566966</td>\n",
              "    </tr>\n",
              "    <tr>\n",
              "      <th>4</th>\n",
              "      <td>-1.492100</td>\n",
              "      <td>-0.535087</td>\n",
              "      <td>-1.024523</td>\n",
              "    </tr>\n",
              "    <tr>\n",
              "      <th>...</th>\n",
              "      <td>...</td>\n",
              "      <td>...</td>\n",
              "      <td>...</td>\n",
              "    </tr>\n",
              "    <tr>\n",
              "      <th>999995</th>\n",
              "      <td>0.302204</td>\n",
              "      <td>0.570939</td>\n",
              "      <td>0.636244</td>\n",
              "    </tr>\n",
              "    <tr>\n",
              "      <th>999996</th>\n",
              "      <td>1.231569</td>\n",
              "      <td>1.625023</td>\n",
              "      <td>2.625580</td>\n",
              "    </tr>\n",
              "    <tr>\n",
              "      <th>999997</th>\n",
              "      <td>0.640627</td>\n",
              "      <td>0.958775</td>\n",
              "      <td>1.278462</td>\n",
              "    </tr>\n",
              "    <tr>\n",
              "      <th>999998</th>\n",
              "      <td>1.091281</td>\n",
              "      <td>-1.595058</td>\n",
              "      <td>-0.989070</td>\n",
              "    </tr>\n",
              "    <tr>\n",
              "      <th>999999</th>\n",
              "      <td>1.458455</td>\n",
              "      <td>-0.570062</td>\n",
              "      <td>0.265849</td>\n",
              "    </tr>\n",
              "  </tbody>\n",
              "</table>\n",
              "<p>1000000 rows × 3 columns</p>\n",
              "</div>\n",
              "    <div class=\"colab-df-buttons\">\n",
              "\n",
              "  <div class=\"colab-df-container\">\n",
              "    <button class=\"colab-df-convert\" onclick=\"convertToInteractive('df-4808e42b-c780-4a68-8ff8-66a9243aecd1')\"\n",
              "            title=\"Convert this dataframe to an interactive table.\"\n",
              "            style=\"display:none;\">\n",
              "\n",
              "  <svg xmlns=\"http://www.w3.org/2000/svg\" height=\"24px\" viewBox=\"0 -960 960 960\">\n",
              "    <path d=\"M120-120v-720h720v720H120Zm60-500h600v-160H180v160Zm220 220h160v-160H400v160Zm0 220h160v-160H400v160ZM180-400h160v-160H180v160Zm440 0h160v-160H620v160ZM180-180h160v-160H180v160Zm440 0h160v-160H620v160Z\"/>\n",
              "  </svg>\n",
              "    </button>\n",
              "\n",
              "  <style>\n",
              "    .colab-df-container {\n",
              "      display:flex;\n",
              "      gap: 12px;\n",
              "    }\n",
              "\n",
              "    .colab-df-convert {\n",
              "      background-color: #E8F0FE;\n",
              "      border: none;\n",
              "      border-radius: 50%;\n",
              "      cursor: pointer;\n",
              "      display: none;\n",
              "      fill: #1967D2;\n",
              "      height: 32px;\n",
              "      padding: 0 0 0 0;\n",
              "      width: 32px;\n",
              "    }\n",
              "\n",
              "    .colab-df-convert:hover {\n",
              "      background-color: #E2EBFA;\n",
              "      box-shadow: 0px 1px 2px rgba(60, 64, 67, 0.3), 0px 1px 3px 1px rgba(60, 64, 67, 0.15);\n",
              "      fill: #174EA6;\n",
              "    }\n",
              "\n",
              "    .colab-df-buttons div {\n",
              "      margin-bottom: 4px;\n",
              "    }\n",
              "\n",
              "    [theme=dark] .colab-df-convert {\n",
              "      background-color: #3B4455;\n",
              "      fill: #D2E3FC;\n",
              "    }\n",
              "\n",
              "    [theme=dark] .colab-df-convert:hover {\n",
              "      background-color: #434B5C;\n",
              "      box-shadow: 0px 1px 3px 1px rgba(0, 0, 0, 0.15);\n",
              "      filter: drop-shadow(0px 1px 2px rgba(0, 0, 0, 0.3));\n",
              "      fill: #FFFFFF;\n",
              "    }\n",
              "  </style>\n",
              "\n",
              "    <script>\n",
              "      const buttonEl =\n",
              "        document.querySelector('#df-4808e42b-c780-4a68-8ff8-66a9243aecd1 button.colab-df-convert');\n",
              "      buttonEl.style.display =\n",
              "        google.colab.kernel.accessAllowed ? 'block' : 'none';\n",
              "\n",
              "      async function convertToInteractive(key) {\n",
              "        const element = document.querySelector('#df-4808e42b-c780-4a68-8ff8-66a9243aecd1');\n",
              "        const dataTable =\n",
              "          await google.colab.kernel.invokeFunction('convertToInteractive',\n",
              "                                                    [key], {});\n",
              "        if (!dataTable) return;\n",
              "\n",
              "        const docLinkHtml = 'Like what you see? Visit the ' +\n",
              "          '<a target=\"_blank\" href=https://colab.research.google.com/notebooks/data_table.ipynb>data table notebook</a>'\n",
              "          + ' to learn more about interactive tables.';\n",
              "        element.innerHTML = '';\n",
              "        dataTable['output_type'] = 'display_data';\n",
              "        await google.colab.output.renderOutput(dataTable, element);\n",
              "        const docLink = document.createElement('div');\n",
              "        docLink.innerHTML = docLinkHtml;\n",
              "        element.appendChild(docLink);\n",
              "      }\n",
              "    </script>\n",
              "  </div>\n",
              "\n",
              "\n",
              "<div id=\"df-b6f9f532-993c-4375-9f29-718ea2851872\">\n",
              "  <button class=\"colab-df-quickchart\" onclick=\"quickchart('df-b6f9f532-993c-4375-9f29-718ea2851872')\"\n",
              "            title=\"Suggest charts\"\n",
              "            style=\"display:none;\">\n",
              "\n",
              "<svg xmlns=\"http://www.w3.org/2000/svg\" height=\"24px\"viewBox=\"0 0 24 24\"\n",
              "     width=\"24px\">\n",
              "    <g>\n",
              "        <path d=\"M19 3H5c-1.1 0-2 .9-2 2v14c0 1.1.9 2 2 2h14c1.1 0 2-.9 2-2V5c0-1.1-.9-2-2-2zM9 17H7v-7h2v7zm4 0h-2V7h2v10zm4 0h-2v-4h2v4z\"/>\n",
              "    </g>\n",
              "</svg>\n",
              "  </button>\n",
              "\n",
              "<style>\n",
              "  .colab-df-quickchart {\n",
              "      --bg-color: #E8F0FE;\n",
              "      --fill-color: #1967D2;\n",
              "      --hover-bg-color: #E2EBFA;\n",
              "      --hover-fill-color: #174EA6;\n",
              "      --disabled-fill-color: #AAA;\n",
              "      --disabled-bg-color: #DDD;\n",
              "  }\n",
              "\n",
              "  [theme=dark] .colab-df-quickchart {\n",
              "      --bg-color: #3B4455;\n",
              "      --fill-color: #D2E3FC;\n",
              "      --hover-bg-color: #434B5C;\n",
              "      --hover-fill-color: #FFFFFF;\n",
              "      --disabled-bg-color: #3B4455;\n",
              "      --disabled-fill-color: #666;\n",
              "  }\n",
              "\n",
              "  .colab-df-quickchart {\n",
              "    background-color: var(--bg-color);\n",
              "    border: none;\n",
              "    border-radius: 50%;\n",
              "    cursor: pointer;\n",
              "    display: none;\n",
              "    fill: var(--fill-color);\n",
              "    height: 32px;\n",
              "    padding: 0;\n",
              "    width: 32px;\n",
              "  }\n",
              "\n",
              "  .colab-df-quickchart:hover {\n",
              "    background-color: var(--hover-bg-color);\n",
              "    box-shadow: 0 1px 2px rgba(60, 64, 67, 0.3), 0 1px 3px 1px rgba(60, 64, 67, 0.15);\n",
              "    fill: var(--button-hover-fill-color);\n",
              "  }\n",
              "\n",
              "  .colab-df-quickchart-complete:disabled,\n",
              "  .colab-df-quickchart-complete:disabled:hover {\n",
              "    background-color: var(--disabled-bg-color);\n",
              "    fill: var(--disabled-fill-color);\n",
              "    box-shadow: none;\n",
              "  }\n",
              "\n",
              "  .colab-df-spinner {\n",
              "    border: 2px solid var(--fill-color);\n",
              "    border-color: transparent;\n",
              "    border-bottom-color: var(--fill-color);\n",
              "    animation:\n",
              "      spin 1s steps(1) infinite;\n",
              "  }\n",
              "\n",
              "  @keyframes spin {\n",
              "    0% {\n",
              "      border-color: transparent;\n",
              "      border-bottom-color: var(--fill-color);\n",
              "      border-left-color: var(--fill-color);\n",
              "    }\n",
              "    20% {\n",
              "      border-color: transparent;\n",
              "      border-left-color: var(--fill-color);\n",
              "      border-top-color: var(--fill-color);\n",
              "    }\n",
              "    30% {\n",
              "      border-color: transparent;\n",
              "      border-left-color: var(--fill-color);\n",
              "      border-top-color: var(--fill-color);\n",
              "      border-right-color: var(--fill-color);\n",
              "    }\n",
              "    40% {\n",
              "      border-color: transparent;\n",
              "      border-right-color: var(--fill-color);\n",
              "      border-top-color: var(--fill-color);\n",
              "    }\n",
              "    60% {\n",
              "      border-color: transparent;\n",
              "      border-right-color: var(--fill-color);\n",
              "    }\n",
              "    80% {\n",
              "      border-color: transparent;\n",
              "      border-right-color: var(--fill-color);\n",
              "      border-bottom-color: var(--fill-color);\n",
              "    }\n",
              "    90% {\n",
              "      border-color: transparent;\n",
              "      border-bottom-color: var(--fill-color);\n",
              "    }\n",
              "  }\n",
              "</style>\n",
              "\n",
              "  <script>\n",
              "    async function quickchart(key) {\n",
              "      const quickchartButtonEl =\n",
              "        document.querySelector('#' + key + ' button');\n",
              "      quickchartButtonEl.disabled = true;  // To prevent multiple clicks.\n",
              "      quickchartButtonEl.classList.add('colab-df-spinner');\n",
              "      try {\n",
              "        const charts = await google.colab.kernel.invokeFunction(\n",
              "            'suggestCharts', [key], {});\n",
              "      } catch (error) {\n",
              "        console.error('Error during call to suggestCharts:', error);\n",
              "      }\n",
              "      quickchartButtonEl.classList.remove('colab-df-spinner');\n",
              "      quickchartButtonEl.classList.add('colab-df-quickchart-complete');\n",
              "    }\n",
              "    (() => {\n",
              "      let quickchartButtonEl =\n",
              "        document.querySelector('#df-b6f9f532-993c-4375-9f29-718ea2851872 button');\n",
              "      quickchartButtonEl.style.display =\n",
              "        google.colab.kernel.accessAllowed ? 'block' : 'none';\n",
              "    })();\n",
              "  </script>\n",
              "</div>\n",
              "    </div>\n",
              "  </div>\n"
            ],
            "application/vnd.google.colaboratory.intrinsic+json": {
              "type": "dataframe",
              "variable_name": "df_scaled"
            }
          },
          "metadata": {},
          "execution_count": 11
        }
      ],
      "source": [
        "\n",
        "from sklearn.preprocessing import StandardScaler\n",
        "\n",
        "scaler = StandardScaler()\n",
        "\n",
        "df_scaled = pd.DataFrame(scaler.fit_transform(df.to_numpy()), columns=df.columns)\n",
        "df_scaled"
      ]
    },
    {
      "cell_type": "markdown",
      "source": [
        "## Data Cleaning"
      ],
      "metadata": {
        "id": "rX46ymo-xSyT"
      }
    },
    {
      "cell_type": "code",
      "execution_count": 12,
      "metadata": {
        "colab": {
          "base_uri": "https://localhost:8080/"
        },
        "id": "R8AES5oOSB4b",
        "outputId": "fe925ee1-dd7b-4301-eccb-99bd69afdf4d"
      },
      "outputs": [
        {
          "output_type": "stream",
          "name": "stdout",
          "text": [
            "There are 4928 duplicate records in dataset\n",
            "Dataset length after droping duplicatets:  995072\n"
          ]
        }
      ],
      "source": [
        "print (f\"There are {df_scaled.duplicated().sum()} duplicate records in dataset\")\n",
        "\n",
        "# Drop duplicates\n",
        "\n",
        "df_scaled.drop_duplicates(inplace = True)\n",
        "print(\"Dataset length after droping duplicatets: \", len(df_scaled))"
      ]
    },
    {
      "cell_type": "markdown",
      "source": [
        "## Data Splitting"
      ],
      "metadata": {
        "id": "LuKzQVTPxAEN"
      }
    },
    {
      "cell_type": "code",
      "execution_count": 13,
      "metadata": {
        "id": "lrWuhtp4Q22l",
        "colab": {
          "base_uri": "https://localhost:8080/"
        },
        "outputId": "6268edeb-d1c4-47e8-cdf1-c9f6813d8720"
      },
      "outputs": [
        {
          "output_type": "stream",
          "name": "stdout",
          "text": [
            "Lenght of Train Data: (800000, 2)\n",
            "Lenght of Test Data: (195072, 2)\n"
          ]
        }
      ],
      "source": [
        "X_train = df_scaled[[\"x_1\",\"x_2\"]][:800000]\n",
        "Y_train = df_scaled[[\"y\"]][:800000]\n",
        "X_test = df_scaled[[\"x_1\",\"x_2\"]][800000:]\n",
        "Y_test = df_scaled[[\"y\"]][800000:]\n",
        "\n",
        "print(f\"Lenght of Train Data: {X_train.shape}\")\n",
        "print(f\"Lenght of Test Data: {X_test.shape}\")"
      ]
    },
    {
      "cell_type": "markdown",
      "source": [
        "## Modeling"
      ],
      "metadata": {
        "id": "ADyVTb15xRfg"
      }
    },
    {
      "cell_type": "code",
      "execution_count": 14,
      "metadata": {
        "id": "2UsN_IR_StQ3"
      },
      "outputs": [],
      "source": [
        "from keras import layers\n",
        "from sklearn.metrics import r2_score\n",
        "from keras.callbacks import EarlyStopping\n",
        "from keras.callbacks import ModelCheckpoint\n",
        "from keras.callbacks import ReduceLROnPlateau\n"
      ]
    },
    {
      "cell_type": "markdown",
      "source": [
        "## FFN : One Hidden Layer"
      ],
      "metadata": {
        "id": "mm_I6L4UxlvN"
      }
    },
    {
      "cell_type": "code",
      "execution_count": 15,
      "metadata": {
        "id": "o5I7yd7LS9lK",
        "colab": {
          "base_uri": "https://localhost:8080/"
        },
        "outputId": "ea70837f-7947-435d-b394-da6001405901"
      },
      "outputs": [
        {
          "output_type": "stream",
          "name": "stdout",
          "text": [
            "Model: \"sequential\"\n",
            "_________________________________________________________________\n",
            " Layer (type)                Output Shape              Param #   \n",
            "=================================================================\n",
            " dense (Dense)               (None, 64)                192       \n",
            "                                                                 \n",
            " dense_1 (Dense)             (None, 1)                 65        \n",
            "                                                                 \n",
            "=================================================================\n",
            "Total params: 257 (1.00 KB)\n",
            "Trainable params: 257 (1.00 KB)\n",
            "Non-trainable params: 0 (0.00 Byte)\n",
            "_________________________________________________________________\n"
          ]
        },
        {
          "output_type": "stream",
          "name": "stderr",
          "text": [
            "WARNING:tensorflow:`epsilon` argument is deprecated and will be removed, use `min_delta` instead.\n"
          ]
        },
        {
          "output_type": "stream",
          "name": "stdout",
          "text": [
            "Epoch 1/100\n",
            "10000/10000 [==============================] - 22s 2ms/step - loss: 0.0044 - val_loss: 2.0412e-05 - lr: 0.0010\n",
            "Epoch 2/100\n",
            "   94/10000 [..............................] - ETA: 16s - loss: 2.0079e-05"
          ]
        },
        {
          "output_type": "stream",
          "name": "stderr",
          "text": [
            "/usr/local/lib/python3.10/dist-packages/keras/src/engine/training.py:3103: UserWarning: You are saving your model as an HDF5 file via `model.save()`. This file format is considered legacy. We recommend using instead the native Keras format, e.g. `model.save('my_model.keras')`.\n",
            "  saving_api.save_model(\n"
          ]
        },
        {
          "output_type": "stream",
          "name": "stdout",
          "text": [
            "10000/10000 [==============================] - 19s 2ms/step - loss: 1.3595e-05 - val_loss: 9.0292e-06 - lr: 0.0010\n",
            "Epoch 3/100\n",
            "10000/10000 [==============================] - 26s 3ms/step - loss: 9.3074e-06 - val_loss: 9.6235e-06 - lr: 0.0010\n",
            "Epoch 4/100\n",
            "10000/10000 [==============================] - 30s 3ms/step - loss: 8.7560e-06 - val_loss: 2.0727e-05 - lr: 0.0010\n",
            "Epoch 5/100\n",
            "10000/10000 [==============================] - 25s 3ms/step - loss: 8.1364e-06 - val_loss: 5.2009e-06 - lr: 0.0010\n",
            "Epoch 6/100\n",
            "10000/10000 [==============================] - 23s 2ms/step - loss: 7.6661e-06 - val_loss: 5.6307e-06 - lr: 0.0010\n",
            "Epoch 7/100\n",
            "10000/10000 [==============================] - 22s 2ms/step - loss: 7.4666e-06 - val_loss: 7.2059e-06 - lr: 0.0010\n",
            "Epoch 8/100\n",
            " 9980/10000 [============================>.] - ETA: 0s - loss: 7.0876e-06\n",
            "Epoch 8: ReduceLROnPlateau reducing learning rate to 0.00010000000474974513.\n",
            "10000/10000 [==============================] - 20s 2ms/step - loss: 7.0852e-06 - val_loss: 4.8036e-06 - lr: 0.0010\n",
            "Epoch 9/100\n",
            "10000/10000 [==============================] - 22s 2ms/step - loss: 3.8830e-06 - val_loss: 3.8550e-06 - lr: 1.0000e-04\n",
            "Epoch 10/100\n",
            "10000/10000 [==============================] - 22s 2ms/step - loss: 3.8608e-06 - val_loss: 3.7506e-06 - lr: 1.0000e-04\n",
            "Epoch 11/100\n",
            "10000/10000 [==============================] - 23s 2ms/step - loss: 3.8190e-06 - val_loss: 3.6115e-06 - lr: 1.0000e-04\n",
            "Epoch 12/100\n",
            "10000/10000 [==============================] - 21s 2ms/step - loss: 3.8036e-06 - val_loss: 3.6169e-06 - lr: 1.0000e-04\n",
            "Epoch 13/100\n",
            "10000/10000 [==============================] - 23s 2ms/step - loss: 3.7636e-06 - val_loss: 3.6459e-06 - lr: 1.0000e-04\n",
            "Epoch 14/100\n",
            "10000/10000 [==============================] - 21s 2ms/step - loss: 3.7254e-06 - val_loss: 3.7226e-06 - lr: 1.0000e-04\n",
            "Epoch 15/100\n",
            " 9977/10000 [============================>.] - ETA: 0s - loss: 3.7038e-06\n",
            "Epoch 15: ReduceLROnPlateau reducing learning rate to 1.0000000474974514e-05.\n",
            "10000/10000 [==============================] - 19s 2ms/step - loss: 3.7036e-06 - val_loss: 3.6202e-06 - lr: 1.0000e-04\n",
            "Epoch 16/100\n",
            "10000/10000 [==============================] - 24s 2ms/step - loss: 3.3742e-06 - val_loss: 3.4307e-06 - lr: 1.0000e-05\n",
            "Epoch 17/100\n",
            "10000/10000 [==============================] - 26s 3ms/step - loss: 3.3711e-06 - val_loss: 3.3612e-06 - lr: 1.0000e-05\n",
            "Epoch 18/100\n",
            "10000/10000 [==============================] - 22s 2ms/step - loss: 3.3673e-06 - val_loss: 3.4053e-06 - lr: 1.0000e-05\n",
            "Epoch 19/100\n",
            "10000/10000 [==============================] - 20s 2ms/step - loss: 3.3637e-06 - val_loss: 3.4571e-06 - lr: 1.0000e-05\n",
            "Epoch 20/100\n",
            "10000/10000 [==============================] - 26s 3ms/step - loss: 3.3606e-06 - val_loss: 3.3688e-06 - lr: 1.0000e-05\n",
            "Epoch 21/100\n",
            "10000/10000 [==============================] - 39s 4ms/step - loss: 3.3586e-06 - val_loss: 3.3459e-06 - lr: 1.0000e-05\n",
            "Epoch 22/100\n",
            " 9992/10000 [============================>.] - ETA: 0s - loss: 3.3548e-06\n",
            "Epoch 22: ReduceLROnPlateau reducing learning rate to 1.0000000656873453e-06.\n",
            "10000/10000 [==============================] - 34s 3ms/step - loss: 3.3551e-06 - val_loss: 3.3248e-06 - lr: 1.0000e-05\n",
            "Epoch 23/100\n",
            "10000/10000 [==============================] - 30s 3ms/step - loss: 3.3126e-06 - val_loss: 3.3133e-06 - lr: 1.0000e-06\n",
            "Epoch 24/100\n",
            "10000/10000 [==============================] - 38s 4ms/step - loss: 3.3125e-06 - val_loss: 3.3154e-06 - lr: 1.0000e-06\n",
            "Epoch 25/100\n",
            "10000/10000 [==============================] - 34s 3ms/step - loss: 3.3119e-06 - val_loss: 3.3175e-06 - lr: 1.0000e-06\n",
            "Epoch 26/100\n",
            "10000/10000 [==============================] - 36s 4ms/step - loss: 3.3120e-06 - val_loss: 3.3141e-06 - lr: 1.0000e-06\n",
            "Epoch 27/100\n",
            "10000/10000 [==============================] - 29s 3ms/step - loss: 3.3116e-06 - val_loss: 3.3155e-06 - lr: 1.0000e-06\n",
            "Epoch 28/100\n",
            "10000/10000 [==============================] - 35s 3ms/step - loss: 3.3109e-06 - val_loss: 3.3126e-06 - lr: 1.0000e-06\n",
            "Epoch 29/100\n",
            " 9980/10000 [============================>.] - ETA: 0s - loss: 3.3110e-06\n",
            "Epoch 29: ReduceLROnPlateau reducing learning rate to 1.0000001111620805e-07.\n",
            "10000/10000 [==============================] - 24s 2ms/step - loss: 3.3108e-06 - val_loss: 3.3112e-06 - lr: 1.0000e-06\n",
            "Epoch 30/100\n",
            "10000/10000 [==============================] - 37s 4ms/step - loss: 3.3065e-06 - val_loss: 3.3083e-06 - lr: 1.0000e-07\n",
            "Epoch 31/100\n",
            "10000/10000 [==============================] - 44s 4ms/step - loss: 3.3063e-06 - val_loss: 3.3087e-06 - lr: 1.0000e-07\n",
            "Epoch 32/100\n",
            "10000/10000 [==============================] - 30s 3ms/step - loss: 3.3062e-06 - val_loss: 3.3087e-06 - lr: 1.0000e-07\n",
            "Epoch 33/100\n",
            "10000/10000 [==============================] - 24s 2ms/step - loss: 3.3063e-06 - val_loss: 3.3085e-06 - lr: 1.0000e-07\n",
            "Epoch 34/100\n",
            "10000/10000 [==============================] - 30s 3ms/step - loss: 3.3062e-06 - val_loss: 3.3081e-06 - lr: 1.0000e-07\n",
            "Epoch 35/100\n",
            "10000/10000 [==============================] - 22s 2ms/step - loss: 3.3061e-06 - val_loss: 3.3087e-06 - lr: 1.0000e-07\n",
            "Epoch 36/100\n",
            " 9983/10000 [============================>.] - ETA: 0s - loss: 3.3062e-06\n",
            "Epoch 36: ReduceLROnPlateau reducing learning rate to 1.000000082740371e-08.\n",
            "10000/10000 [==============================] - 22s 2ms/step - loss: 3.3061e-06 - val_loss: 3.3081e-06 - lr: 1.0000e-07\n",
            "Epoch 37/100\n",
            "10000/10000 [==============================] - 20s 2ms/step - loss: 3.3057e-06 - val_loss: 3.3078e-06 - lr: 1.0000e-08\n",
            "Epoch 38/100\n",
            "10000/10000 [==============================] - 22s 2ms/step - loss: 3.3056e-06 - val_loss: 3.3078e-06 - lr: 1.0000e-08\n",
            "Epoch 39/100\n",
            "10000/10000 [==============================] - 22s 2ms/step - loss: 3.3056e-06 - val_loss: 3.3078e-06 - lr: 1.0000e-08\n",
            "Epoch 40/100\n",
            "10000/10000 [==============================] - 21s 2ms/step - loss: 3.3056e-06 - val_loss: 3.3078e-06 - lr: 1.0000e-08\n",
            "Epoch 41/100\n",
            "10000/10000 [==============================] - 25s 2ms/step - loss: 3.3056e-06 - val_loss: 3.3078e-06 - lr: 1.0000e-08\n",
            "Epoch 42/100\n",
            "10000/10000 [==============================] - 19s 2ms/step - loss: 3.3055e-06 - val_loss: 3.3078e-06 - lr: 1.0000e-08\n",
            "Epoch 43/100\n",
            " 9980/10000 [============================>.] - ETA: 0s - loss: 3.3051e-06\n",
            "Epoch 43: ReduceLROnPlateau reducing learning rate to 1.000000082740371e-09.\n",
            "10000/10000 [==============================] - 21s 2ms/step - loss: 3.3055e-06 - val_loss: 3.3078e-06 - lr: 1.0000e-08\n",
            "Epoch 44/100\n",
            "10000/10000 [==============================] - 19s 2ms/step - loss: 3.3055e-06 - val_loss: 3.3078e-06 - lr: 1.0000e-09\n",
            "Epoch 45/100\n",
            "10000/10000 [==============================] - 28s 3ms/step - loss: 3.3055e-06 - val_loss: 3.3078e-06 - lr: 1.0000e-09\n",
            "Epoch 46/100\n",
            "10000/10000 [==============================] - 21s 2ms/step - loss: 3.3055e-06 - val_loss: 3.3078e-06 - lr: 1.0000e-09\n",
            "Epoch 47/100\n",
            "10000/10000 [==============================] - 22s 2ms/step - loss: 3.3055e-06 - val_loss: 3.3078e-06 - lr: 1.0000e-09\n",
            "Epoch 48/100\n",
            "10000/10000 [==============================] - 23s 2ms/step - loss: 3.3055e-06 - val_loss: 3.3078e-06 - lr: 1.0000e-09\n",
            "Epoch 49/100\n",
            "10000/10000 [==============================] - 23s 2ms/step - loss: 3.3055e-06 - val_loss: 3.3078e-06 - lr: 1.0000e-09\n",
            "Epoch 50/100\n",
            " 9981/10000 [============================>.] - ETA: 0s - loss: 3.3058e-06\n",
            "Epoch 50: ReduceLROnPlateau reducing learning rate to 1.000000082740371e-10.\n",
            "10000/10000 [==============================] - 22s 2ms/step - loss: 3.3055e-06 - val_loss: 3.3078e-06 - lr: 1.0000e-09\n",
            "Epoch 51/100\n",
            "10000/10000 [==============================] - 20s 2ms/step - loss: 3.3055e-06 - val_loss: 3.3078e-06 - lr: 1.0000e-10\n",
            "Epoch 52/100\n",
            "10000/10000 [==============================] - 19s 2ms/step - loss: 3.3055e-06 - val_loss: 3.3078e-06 - lr: 1.0000e-10\n",
            "Epoch 53/100\n",
            "10000/10000 [==============================] - 23s 2ms/step - loss: 3.3055e-06 - val_loss: 3.3078e-06 - lr: 1.0000e-10\n",
            "Epoch 54/100\n",
            "10000/10000 [==============================] - 21s 2ms/step - loss: 3.3055e-06 - val_loss: 3.3078e-06 - lr: 1.0000e-10\n",
            "Epoch 55/100\n",
            "10000/10000 [==============================] - 32s 3ms/step - loss: 3.3055e-06 - val_loss: 3.3078e-06 - lr: 1.0000e-10\n",
            "Epoch 56/100\n",
            "10000/10000 [==============================] - 31s 3ms/step - loss: 3.3055e-06 - val_loss: 3.3078e-06 - lr: 1.0000e-10\n",
            "Epoch 57/100\n",
            " 9995/10000 [============================>.] - ETA: 0s - loss: 3.3056e-06\n",
            "Epoch 57: ReduceLROnPlateau reducing learning rate to 1.000000082740371e-11.\n",
            "10000/10000 [==============================] - 32s 3ms/step - loss: 3.3055e-06 - val_loss: 3.3078e-06 - lr: 1.0000e-10\n",
            "Epoch 58/100\n",
            "10000/10000 [==============================] - 19s 2ms/step - loss: 3.3055e-06 - val_loss: 3.3078e-06 - lr: 1.0000e-11\n",
            "Epoch 59/100\n",
            "10000/10000 [==============================] - 22s 2ms/step - loss: 3.3055e-06 - val_loss: 3.3078e-06 - lr: 1.0000e-11\n"
          ]
        }
      ],
      "source": [
        "model = keras.Sequential()\n",
        "model.add(layers.Dense(64,activation=\"relu\",input_dim=2))\n",
        "model.add(layers.Dense(1,activation=\"linear\"))\n",
        "\n",
        "model.summary()\n",
        "\n",
        "# Compile the Model\n",
        "model.compile(loss = 'MSE',\n",
        "              optimizer=\"adam\")\n",
        "\n",
        "# Callbacks Configs\n",
        "earlyStopping = EarlyStopping(monitor='val_loss', patience=10, verbose=0, mode='min')\n",
        "mcp_save = ModelCheckpoint('.mdl_wts.hdf5', save_best_only=True, monitor='val_loss', mode='min')\n",
        "reduce_lr_loss = ReduceLROnPlateau(monitor='val_loss', factor=0.1, patience=7, verbose=1, epsilon=1e-4, mode='min')\n",
        "\n",
        "history = model.fit(X_train,Y_train,batch_size=64,epochs=100,validation_split=0.2,callbacks=[earlyStopping, mcp_save, reduce_lr_loss],)"
      ]
    },
    {
      "cell_type": "code",
      "source": [
        "from matplotlib import pyplot as plt\n",
        "plt.plot(history.history['loss'])\n",
        "plt.plot(history.history['val_loss'])\n",
        "plt.title('model loss')\n",
        "plt.ylabel('loss')\n",
        "plt.xlabel('epoch')\n",
        "plt.legend(['train', 'val'], loc='upper left')\n",
        "plt.show()"
      ],
      "metadata": {
        "id": "Qe3NFQLL0Shj",
        "colab": {
          "base_uri": "https://localhost:8080/",
          "height": 472
        },
        "outputId": "31d8ec0c-2e1e-4d44-ecb0-513c3e2db1bb"
      },
      "execution_count": 16,
      "outputs": [
        {
          "output_type": "display_data",
          "data": {
            "text/plain": [
              "<Figure size 640x480 with 1 Axes>"
            ],
            "image/png": "[encoded data removed]"
          },
          "metadata": {}
        }
      ]
    },
    {
      "cell_type": "code",
      "source": [
        "from matplotlib import pyplot as plt\n",
        "plt.plot(history.history['loss'][5:])\n",
        "plt.plot(history.history['val_loss'][5:])\n",
        "plt.title('model loss')\n",
        "plt.ylabel('loss')\n",
        "plt.xlabel('epoch')\n",
        "plt.legend(['train', 'val'], loc='upper left')\n",
        "plt.show()"
      ],
      "metadata": {
        "colab": {
          "base_uri": "https://localhost:8080/",
          "height": 472
        },
        "id": "sbuTtT7m4W4u",
        "outputId": "a9490f09-70b0-4302-a783-7b8a369251d2"
      },
      "execution_count": 17,
      "outputs": [
        {
          "output_type": "display_data",
          "data": {
            "text/plain": [
              "<Figure size 640x480 with 1 Axes>"
            ],
            "image/png": "[encoded data removed]"
          },
          "metadata": {}
        }
      ]
    },
    {
      "cell_type": "code",
      "source": [
        "from matplotlib import pyplot as plt\n",
        "plt.plot(history.history['loss'][30:])\n",
        "plt.plot(history.history['val_loss'][30:])\n",
        "plt.title('model loss')\n",
        "plt.ylabel('loss')\n",
        "plt.xlabel('epoch')\n",
        "plt.legend(['train', 'val'], loc='upper left')\n",
        "plt.show()"
      ],
      "metadata": {
        "id": "GfbK9UDl4eEh",
        "outputId": "b7728dfb-ed4a-409e-cb23-162c5281bcb2",
        "colab": {
          "base_uri": "https://localhost:8080/",
          "height": 472
        }
      },
      "execution_count": 18,
      "outputs": [
        {
          "output_type": "display_data",
          "data": {
            "text/plain": [
              "<Figure size 640x480 with 1 Axes>"
            ],
            "image/png": "[encoded data removed]"
          },
          "metadata": {}
        }
      ]
    },
    {
      "cell_type": "markdown",
      "source": [
        "## ٍEvaluate Model"
      ],
      "metadata": {
        "id": "xzkcn9Iu3Gqb"
      }
    },
    {
      "cell_type": "code",
      "execution_count": null,
      "metadata": {
        "id": "pC8bJkRWWdO1",
        "colab": {
          "base_uri": "https://localhost:8080/"
        },
        "outputId": "740ac73b-9b85-4a4c-a46c-9d4f4a9931bf"
      },
      "outputs": [
        {
          "output_type": "stream",
          "name": "stdout",
          "text": [
            "6093/6093 [==============================] - 13s 2ms/step - loss: 1.2708e-07\n"
          ]
        },
        {
          "output_type": "execute_result",
          "data": {
            "text/plain": [
              "1.2707938878975256e-07"
            ]
          },
          "metadata": {},
          "execution_count": 159
        }
      ],
      "source": [
        "model.evaluate(X_test,Y_test)"
      ]
    },
    {
      "cell_type": "markdown",
      "source": [
        "## Let's test the model"
      ],
      "metadata": {
        "id": "H3q7y-Gc3NIe"
      }
    },
    {
      "cell_type": "code",
      "source": [
        "test_data = X_test.iloc[:1]\n",
        "print(\"Data :\")\n",
        "display(test_data)\n",
        "print(\"------------------------------------\")\n",
        "print(\"lable :\",)\n",
        "display(Y_test.iloc[:1])\n",
        "print(\"------------------------------------\")\n",
        "predicted = model.predict(test_data)\n",
        "print(\"------------------------------------\")\n",
        "print(predicted)\n",
        "output = scaler.inverse_transform([[np.nan,np.nan,predicted[:,0][0]]])\n",
        "output"
      ],
      "metadata": {
        "id": "RiH0fmGIvpaV",
        "colab": {
          "base_uri": "https://localhost:8080/",
          "height": 231
        },
        "outputId": "ca298c62-8df5-47cd-9ca5-92a8d9dcd169"
      },
      "execution_count": null,
      "outputs": [
        {
          "output_type": "stream",
          "name": "stdout",
          "text": [
            "Data :\n"
          ]
        },
        {
          "output_type": "display_data",
          "data": {
            "text/plain": [
              "             x_1       x_2\n",
              "803299  0.670967  0.126313"
            ],
            "text/html": [
              "\n",
              "  <div id=\"df-85f4f5d9-baca-4989-84a9-bb22c523e816\" class=\"colab-df-container\">\n",
              "    <div>\n",
              "<style scoped>\n",
              "    .dataframe tbody tr th:only-of-type {\n",
              "        vertical-align: middle;\n",
              "    }\n",
              "\n",
              "    .dataframe tbody tr th {\n",
              "        vertical-align: top;\n",
              "    }\n",
              "\n",
              "    .dataframe thead th {\n",
              "        text-align: right;\n",
              "    }\n",
              "</style>\n",
              "<table border=\"1\" class=\"dataframe\">\n",
              "  <thead>\n",
              "    <tr style=\"text-align: right;\">\n",
              "      <th></th>\n",
              "      <th>x_1</th>\n",
              "      <th>x_2</th>\n",
              "    </tr>\n",
              "  </thead>\n",
              "  <tbody>\n",
              "    <tr>\n",
              "      <th>803299</th>\n",
              "      <td>0.670967</td>\n",
              "      <td>0.126313</td>\n",
              "    </tr>\n",
              "  </tbody>\n",
              "</table>\n",
              "</div>\n",
              "    <div class=\"colab-df-buttons\">\n",
              "\n",
              "  <div class=\"colab-df-container\">\n",
              "    <button class=\"colab-df-convert\" onclick=\"convertToInteractive('df-85f4f5d9-baca-4989-84a9-bb22c523e816')\"\n",
              "            title=\"Convert this dataframe to an interactive table.\"\n",
              "            style=\"display:none;\">\n",
              "\n",
              "  <svg xmlns=\"http://www.w3.org/2000/svg\" height=\"24px\" viewBox=\"0 -960 960 960\">\n",
              "    <path d=\"M120-120v-720h720v720H120Zm60-500h600v-160H180v160Zm220 220h160v-160H400v160Zm0 220h160v-160H400v160ZM180-400h160v-160H180v160Zm440 0h160v-160H620v160ZM180-180h160v-160H180v160Zm440 0h160v-160H620v160Z\"/>\n",
              "  </svg>\n",
              "    </button>\n",
              "\n",
              "  <style>\n",
              "    .colab-df-container {\n",
              "      display:flex;\n",
              "      gap: 12px;\n",
              "    }\n",
              "\n",
              "    .colab-df-convert {\n",
              "      background-color: #E8F0FE;\n",
              "      border: none;\n",
              "      border-radius: 50%;\n",
              "      cursor: pointer;\n",
              "      display: none;\n",
              "      fill: #1967D2;\n",
              "      height: 32px;\n",
              "      padding: 0 0 0 0;\n",
              "      width: 32px;\n",
              "    }\n",
              "\n",
              "    .colab-df-convert:hover {\n",
              "      background-color: #E2EBFA;\n",
              "      box-shadow: 0px 1px 2px rgba(60, 64, 67, 0.3), 0px 1px 3px 1px rgba(60, 64, 67, 0.15);\n",
              "      fill: #174EA6;\n",
              "    }\n",
              "\n",
              "    .colab-df-buttons div {\n",
              "      margin-bottom: 4px;\n",
              "    }\n",
              "\n",
              "    [theme=dark] .colab-df-convert {\n",
              "      background-color: #3B4455;\n",
              "      fill: #D2E3FC;\n",
              "    }\n",
              "\n",
              "    [theme=dark] .colab-df-convert:hover {\n",
              "      background-color: #434B5C;\n",
              "      box-shadow: 0px 1px 3px 1px rgba(0, 0, 0, 0.15);\n",
              "      filter: drop-shadow(0px 1px 2px rgba(0, 0, 0, 0.3));\n",
              "      fill: #FFFFFF;\n",
              "    }\n",
              "  </style>\n",
              "\n",
              "    <script>\n",
              "      const buttonEl =\n",
              "        document.querySelector('#df-85f4f5d9-baca-4989-84a9-bb22c523e816 button.colab-df-convert');\n",
              "      buttonEl.style.display =\n",
              "        google.colab.kernel.accessAllowed ? 'block' : 'none';\n",
              "\n",
              "      async function convertToInteractive(key) {\n",
              "        const element = document.querySelector('#df-85f4f5d9-baca-4989-84a9-bb22c523e816');\n",
              "        const dataTable =\n",
              "          await google.colab.kernel.invokeFunction('convertToInteractive',\n",
              "                                                    [key], {});\n",
              "        if (!dataTable) return;\n",
              "\n",
              "        const docLinkHtml = 'Like what you see? Visit the ' +\n",
              "          '<a target=\"_blank\" href=https://colab.research.google.com/notebooks/data_table.ipynb>data table notebook</a>'\n",
              "          + ' to learn more about interactive tables.';\n",
              "        element.innerHTML = '';\n",
              "        dataTable['output_type'] = 'display_data';\n",
              "        await google.colab.output.renderOutput(dataTable, element);\n",
              "        const docLink = document.createElement('div');\n",
              "        docLink.innerHTML = docLinkHtml;\n",
              "        element.appendChild(docLink);\n",
              "      }\n",
              "    </script>\n",
              "  </div>\n",
              "\n",
              "    </div>\n",
              "  </div>\n"
            ],
            "application/vnd.google.colaboratory.intrinsic+json": {
              "type": "dataframe",
              "variable_name": "unseen_data",
              "summary": "{\n  \"name\": \"unseen_data\",\n  \"rows\": 1,\n  \"fields\": [\n    {\n      \"column\": \"x_1\",\n      \"properties\": {\n        \"dtype\": \"number\",\n        \"std\": null,\n        \"min\": 0.670967096709671,\n        \"max\": 0.670967096709671,\n        \"num_unique_values\": 1,\n        \"samples\": [\n          0.670967096709671\n        ],\n        \"semantic_type\": \"\",\n        \"description\": \"\"\n      }\n    },\n    {\n      \"column\": \"x_2\",\n      \"properties\": {\n        \"dtype\": \"number\",\n        \"std\": null,\n        \"min\": 0.1263126312631263,\n        \"max\": 0.1263126312631263,\n        \"num_unique_values\": 1,\n        \"samples\": [\n          0.1263126312631263\n        ],\n        \"semantic_type\": \"\",\n        \"description\": \"\"\n      }\n    }\n  ]\n}"
            }
          },
          "metadata": {}
        },
        {
          "output_type": "stream",
          "name": "stdout",
          "text": [
            "lable :\n"
          ]
        },
        {
          "output_type": "display_data",
          "data": {
            "text/plain": [
              "              y\n",
              "803299  0.08476"
            ],
            "text/html": [
              "\n",
              "  <div id=\"df-cd2c8646-7aac-4955-a7ef-bfce11ae43da\" class=\"colab-df-container\">\n",
              "    <div>\n",
              "<style scoped>\n",
              "    .dataframe tbody tr th:only-of-type {\n",
              "        vertical-align: middle;\n",
              "    }\n",
              "\n",
              "    .dataframe tbody tr th {\n",
              "        vertical-align: top;\n",
              "    }\n",
              "\n",
              "    .dataframe thead th {\n",
              "        text-align: right;\n",
              "    }\n",
              "</style>\n",
              "<table border=\"1\" class=\"dataframe\">\n",
              "  <thead>\n",
              "    <tr style=\"text-align: right;\">\n",
              "      <th></th>\n",
              "      <th>y</th>\n",
              "    </tr>\n",
              "  </thead>\n",
              "  <tbody>\n",
              "    <tr>\n",
              "      <th>803299</th>\n",
              "      <td>0.08476</td>\n",
              "    </tr>\n",
              "  </tbody>\n",
              "</table>\n",
              "</div>\n",
              "    <div class=\"colab-df-buttons\">\n",
              "\n",
              "  <div class=\"colab-df-container\">\n",
              "    <button class=\"colab-df-convert\" onclick=\"convertToInteractive('df-cd2c8646-7aac-4955-a7ef-bfce11ae43da')\"\n",
              "            title=\"Convert this dataframe to an interactive table.\"\n",
              "            style=\"display:none;\">\n",
              "\n",
              "  <svg xmlns=\"http://www.w3.org/2000/svg\" height=\"24px\" viewBox=\"0 -960 960 960\">\n",
              "    <path d=\"M120-120v-720h720v720H120Zm60-500h600v-160H180v160Zm220 220h160v-160H400v160Zm0 220h160v-160H400v160ZM180-400h160v-160H180v160Zm440 0h160v-160H620v160ZM180-180h160v-160H180v160Zm440 0h160v-160H620v160Z\"/>\n",
              "  </svg>\n",
              "    </button>\n",
              "\n",
              "  <style>\n",
              "    .colab-df-container {\n",
              "      display:flex;\n",
              "      gap: 12px;\n",
              "    }\n",
              "\n",
              "    .colab-df-convert {\n",
              "      background-color: #E8F0FE;\n",
              "      border: none;\n",
              "      border-radius: 50%;\n",
              "      cursor: pointer;\n",
              "      display: none;\n",
              "      fill: #1967D2;\n",
              "      height: 32px;\n",
              "      padding: 0 0 0 0;\n",
              "      width: 32px;\n",
              "    }\n",
              "\n",
              "    .colab-df-convert:hover {\n",
              "      background-color: #E2EBFA;\n",
              "      box-shadow: 0px 1px 2px rgba(60, 64, 67, 0.3), 0px 1px 3px 1px rgba(60, 64, 67, 0.15);\n",
              "      fill: #174EA6;\n",
              "    }\n",
              "\n",
              "    .colab-df-buttons div {\n",
              "      margin-bottom: 4px;\n",
              "    }\n",
              "\n",
              "    [theme=dark] .colab-df-convert {\n",
              "      background-color: #3B4455;\n",
              "      fill: #D2E3FC;\n",
              "    }\n",
              "\n",
              "    [theme=dark] .colab-df-convert:hover {\n",
              "      background-color: #434B5C;\n",
              "      box-shadow: 0px 1px 3px 1px rgba(0, 0, 0, 0.15);\n",
              "      filter: drop-shadow(0px 1px 2px rgba(0, 0, 0, 0.3));\n",
              "      fill: #FFFFFF;\n",
              "    }\n",
              "  </style>\n",
              "\n",
              "    <script>\n",
              "      const buttonEl =\n",
              "        document.querySelector('#df-cd2c8646-7aac-4955-a7ef-bfce11ae43da button.colab-df-convert');\n",
              "      buttonEl.style.display =\n",
              "        google.colab.kernel.accessAllowed ? 'block' : 'none';\n",
              "\n",
              "      async function convertToInteractive(key) {\n",
              "        const element = document.querySelector('#df-cd2c8646-7aac-4955-a7ef-bfce11ae43da');\n",
              "        const dataTable =\n",
              "          await google.colab.kernel.invokeFunction('convertToInteractive',\n",
              "                                                    [key], {});\n",
              "        if (!dataTable) return;\n",
              "\n",
              "        const docLinkHtml = 'Like what you see? Visit the ' +\n",
              "          '<a target=\"_blank\" href=https://colab.research.google.com/notebooks/data_table.ipynb>data table notebook</a>'\n",
              "          + ' to learn more about interactive tables.';\n",
              "        element.innerHTML = '';\n",
              "        dataTable['output_type'] = 'display_data';\n",
              "        await google.colab.output.renderOutput(dataTable, element);\n",
              "        const docLink = document.createElement('div');\n",
              "        docLink.innerHTML = docLinkHtml;\n",
              "        element.appendChild(docLink);\n",
              "      }\n",
              "    </script>\n",
              "  </div>\n",
              "\n",
              "    </div>\n",
              "  </div>\n"
            ],
            "application/vnd.google.colaboratory.intrinsic+json": {
              "type": "dataframe",
              "summary": "{\n  \"name\": \"output\",\n  \"rows\": 1,\n  \"fields\": [\n    {\n      \"column\": \"y\",\n      \"properties\": {\n        \"dtype\": \"number\",\n        \"std\": null,\n        \"min\": 0.08476009633369819,\n        \"max\": 0.08476009633369819,\n        \"num_unique_values\": 1,\n        \"samples\": [\n          0.08476009633369819\n        ],\n        \"semantic_type\": \"\",\n        \"description\": \"\"\n      }\n    }\n  ]\n}"
            }
          },
          "metadata": {}
        },
        {
          "output_type": "stream",
          "name": "stdout",
          "text": [
            "1/1 [==============================] - 0s 97ms/step\n",
            "[[0.08487717]]\n"
          ]
        },
        {
          "output_type": "execute_result",
          "data": {
            "text/plain": [
              "array([[848.68682905,          nan,          nan]])"
            ]
          },
          "metadata": {},
          "execution_count": 157
        }
      ]
    },
    {
      "cell_type": "markdown",
      "source": [
        "## Let's test the model via unseen data"
      ],
      "metadata": {
        "id": "7ChyWrI33Ttf"
      }
    },
    {
      "cell_type": "code",
      "source": [
        "num_1 = 8000\n",
        "num_2 = 3000\n",
        "unseen_data = scaler.transform([[num_1,num_2,np.nan]])\n",
        "print(\"Data :\",unseen_data)\n",
        "print(\"Label :\" )\n",
        "print(\"Actual Multiplication :\",num_1*num_2 +5)\n",
        "print(\"------------------------------------\")\n",
        "predicted = model.predict(unseen_data[:,:2])\n",
        "print(\"------------------------------------\")\n",
        "print(f\"Model scaled Prediction is : {predicted}\")\n",
        "output = scaler.inverse_transform([[np.nan,np.nan,predicted[:,0][0]]])\n",
        "print(f\"Model Prediction is : {output}\")"
      ],
      "metadata": {
        "id": "_8Vn44F-vSYo",
        "colab": {
          "base_uri": "https://localhost:8080/"
        },
        "outputId": "b7e498d3-3272-47b7-d212-fb1308af9195"
      },
      "execution_count": null,
      "outputs": [
        {
          "output_type": "stream",
          "name": "stdout",
          "text": [
            "Data : [[0.80008001 0.30003           nan]]\n",
            "Label : 24000005\n",
            "1/1 [==============================] - 0s 109ms/step\n",
            "[[0.24006832]]\n"
          ]
        },
        {
          "output_type": "execute_result",
          "data": {
            "text/plain": [
              "array([[2400.44309628,           nan,           nan]])"
            ]
          },
          "metadata": {},
          "execution_count": 163
        }
      ]
    },
    {
      "cell_type": "code",
      "source": [],
      "metadata": {
        "id": "cSZh_cqZ3TuI"
      },
      "execution_count": null,
      "outputs": []
    }
  ],
  "metadata": {
    "colab": {
      "provenance": [],
      "authorship_tag": "ABX9TyOt0ErpMe3/7CyuXH5cSJG/",
      "include_colab_link": true
    },
    "kernelspec": {
      "display_name": "Python 3",
      "name": "python3"
    },
    "language_info": {
      "name": "python"
    }
  },
  "nbformat": 4,
  "nbformat_minor": 0
}