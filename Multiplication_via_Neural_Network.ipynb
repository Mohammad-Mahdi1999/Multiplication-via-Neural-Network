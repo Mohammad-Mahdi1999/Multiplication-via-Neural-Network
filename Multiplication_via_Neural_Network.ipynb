{
  "cells": [
    {
      "cell_type": "markdown",
      "metadata": {
        "id": "view-in-github",
        "colab_type": "text"
      },
      "source": [
        "<a href=\"https://colab.research.google.com/github/Mohammad-Mahdi1999/Multiplication-via-Neural-Network/blob/master/Multiplication_via_Neural_Network.ipynb\" target=\"_parent\"><img src=\"https://colab.research.google.com/assets/colab-badge.svg\" alt=\"Open In Colab\"/></a>"
      ]
    },
    {
      "cell_type": "code",
      "execution_count": 4,
      "metadata": {
        "id": "fNGk1t_aMi96"
      },
      "outputs": [],
      "source": [
        "import numpy as np\n",
        "import pandas as pd\n",
        "import tensorflow as tf\n",
        "from tensorflow import keras"
      ]
    },
    {
      "cell_type": "markdown",
      "metadata": {
        "id": "WA81FIaBNlrp"
      },
      "source": [
        "# Generate Dataset"
      ]
    },
    {
      "cell_type": "code",
      "execution_count": 67,
      "metadata": {
        "id": "412lukIBNEZF"
      },
      "outputs": [],
      "source": [
        "x_1 = np.random.randint(0,10_000,1_000_000)\n",
        "x_2 = np.random.randint(0,10_000,1_000_000)\n",
        "y = x_1 * x_2 + 5"
      ]
    },
    {
      "cell_type": "code",
      "execution_count": 68,
      "metadata": {
        "colab": {
          "base_uri": "https://localhost:8080/",
          "height": 0
        },
        "id": "TehWO-gyP50A",
        "outputId": "ddc0267b-accb-4c60-cad5-6567a973f644"
      },
      "outputs": [
        {
          "output_type": "execute_result",
          "data": {
            "text/plain": [
              "         x_1   x_2         y\n",
              "0       4785  3022  14460275\n",
              "1       3870  2579   9980735\n",
              "2       7688  5614  43160437\n",
              "3       9454  6279  59361671\n",
              "4       5795  7865  45577680\n",
              "...      ...   ...       ...\n",
              "999995   343  2339    802282\n",
              "999996  4489  4964  22283401\n",
              "999997  4738  2642  12517801\n",
              "999998  6568  7915  51985725\n",
              "999999  1405  8612  12099865\n",
              "\n",
              "[1000000 rows x 3 columns]"
            ],
            "text/html": [
              "\n",
              "  <div id=\"df-b6cbdb4b-fcdd-4bf0-8691-34c2c20fdc38\" class=\"colab-df-container\">\n",
              "    <div>\n",
              "<style scoped>\n",
              "    .dataframe tbody tr th:only-of-type {\n",
              "        vertical-align: middle;\n",
              "    }\n",
              "\n",
              "    .dataframe tbody tr th {\n",
              "        vertical-align: top;\n",
              "    }\n",
              "\n",
              "    .dataframe thead th {\n",
              "        text-align: right;\n",
              "    }\n",
              "</style>\n",
              "<table border=\"1\" class=\"dataframe\">\n",
              "  <thead>\n",
              "    <tr style=\"text-align: right;\">\n",
              "      <th></th>\n",
              "      <th>x_1</th>\n",
              "      <th>x_2</th>\n",
              "      <th>y</th>\n",
              "    </tr>\n",
              "  </thead>\n",
              "  <tbody>\n",
              "    <tr>\n",
              "      <th>0</th>\n",
              "      <td>4785</td>\n",
              "      <td>3022</td>\n",
              "      <td>14460275</td>\n",
              "    </tr>\n",
              "    <tr>\n",
              "      <th>1</th>\n",
              "      <td>3870</td>\n",
              "      <td>2579</td>\n",
              "      <td>9980735</td>\n",
              "    </tr>\n",
              "    <tr>\n",
              "      <th>2</th>\n",
              "      <td>7688</td>\n",
              "      <td>5614</td>\n",
              "      <td>43160437</td>\n",
              "    </tr>\n",
              "    <tr>\n",
              "      <th>3</th>\n",
              "      <td>9454</td>\n",
              "      <td>6279</td>\n",
              "      <td>59361671</td>\n",
              "    </tr>\n",
              "    <tr>\n",
              "      <th>4</th>\n",
              "      <td>5795</td>\n",
              "      <td>7865</td>\n",
              "      <td>45577680</td>\n",
              "    </tr>\n",
              "    <tr>\n",
              "      <th>...</th>\n",
              "      <td>...</td>\n",
              "      <td>...</td>\n",
              "      <td>...</td>\n",
              "    </tr>\n",
              "    <tr>\n",
              "      <th>999995</th>\n",
              "      <td>343</td>\n",
              "      <td>2339</td>\n",
              "      <td>802282</td>\n",
              "    </tr>\n",
              "    <tr>\n",
              "      <th>999996</th>\n",
              "      <td>4489</td>\n",
              "      <td>4964</td>\n",
              "      <td>22283401</td>\n",
              "    </tr>\n",
              "    <tr>\n",
              "      <th>999997</th>\n",
              "      <td>4738</td>\n",
              "      <td>2642</td>\n",
              "      <td>12517801</td>\n",
              "    </tr>\n",
              "    <tr>\n",
              "      <th>999998</th>\n",
              "      <td>6568</td>\n",
              "      <td>7915</td>\n",
              "      <td>51985725</td>\n",
              "    </tr>\n",
              "    <tr>\n",
              "      <th>999999</th>\n",
              "      <td>1405</td>\n",
              "      <td>8612</td>\n",
              "      <td>12099865</td>\n",
              "    </tr>\n",
              "  </tbody>\n",
              "</table>\n",
              "<p>1000000 rows × 3 columns</p>\n",
              "</div>\n",
              "    <div class=\"colab-df-buttons\">\n",
              "\n",
              "  <div class=\"colab-df-container\">\n",
              "    <button class=\"colab-df-convert\" onclick=\"convertToInteractive('df-b6cbdb4b-fcdd-4bf0-8691-34c2c20fdc38')\"\n",
              "            title=\"Convert this dataframe to an interactive table.\"\n",
              "            style=\"display:none;\">\n",
              "\n",
              "  <svg xmlns=\"http://www.w3.org/2000/svg\" height=\"24px\" viewBox=\"0 -960 960 960\">\n",
              "    <path d=\"M120-120v-720h720v720H120Zm60-500h600v-160H180v160Zm220 220h160v-160H400v160Zm0 220h160v-160H400v160ZM180-400h160v-160H180v160Zm440 0h160v-160H620v160ZM180-180h160v-160H180v160Zm440 0h160v-160H620v160Z\"/>\n",
              "  </svg>\n",
              "    </button>\n",
              "\n",
              "  <style>\n",
              "    .colab-df-container {\n",
              "      display:flex;\n",
              "      gap: 12px;\n",
              "    }\n",
              "\n",
              "    .colab-df-convert {\n",
              "      background-color: #E8F0FE;\n",
              "      border: none;\n",
              "      border-radius: 50%;\n",
              "      cursor: pointer;\n",
              "      display: none;\n",
              "      fill: #1967D2;\n",
              "      height: 32px;\n",
              "      padding: 0 0 0 0;\n",
              "      width: 32px;\n",
              "    }\n",
              "\n",
              "    .colab-df-convert:hover {\n",
              "      background-color: #E2EBFA;\n",
              "      box-shadow: 0px 1px 2px rgba(60, 64, 67, 0.3), 0px 1px 3px 1px rgba(60, 64, 67, 0.15);\n",
              "      fill: #174EA6;\n",
              "    }\n",
              "\n",
              "    .colab-df-buttons div {\n",
              "      margin-bottom: 4px;\n",
              "    }\n",
              "\n",
              "    [theme=dark] .colab-df-convert {\n",
              "      background-color: #3B4455;\n",
              "      fill: #D2E3FC;\n",
              "    }\n",
              "\n",
              "    [theme=dark] .colab-df-convert:hover {\n",
              "      background-color: #434B5C;\n",
              "      box-shadow: 0px 1px 3px 1px rgba(0, 0, 0, 0.15);\n",
              "      filter: drop-shadow(0px 1px 2px rgba(0, 0, 0, 0.3));\n",
              "      fill: #FFFFFF;\n",
              "    }\n",
              "  </style>\n",
              "\n",
              "    <script>\n",
              "      const buttonEl =\n",
              "        document.querySelector('#df-b6cbdb4b-fcdd-4bf0-8691-34c2c20fdc38 button.colab-df-convert');\n",
              "      buttonEl.style.display =\n",
              "        google.colab.kernel.accessAllowed ? 'block' : 'none';\n",
              "\n",
              "      async function convertToInteractive(key) {\n",
              "        const element = document.querySelector('#df-b6cbdb4b-fcdd-4bf0-8691-34c2c20fdc38');\n",
              "        const dataTable =\n",
              "          await google.colab.kernel.invokeFunction('convertToInteractive',\n",
              "                                                    [key], {});\n",
              "        if (!dataTable) return;\n",
              "\n",
              "        const docLinkHtml = 'Like what you see? Visit the ' +\n",
              "          '<a target=\"_blank\" href=https://colab.research.google.com/notebooks/data_table.ipynb>data table notebook</a>'\n",
              "          + ' to learn more about interactive tables.';\n",
              "        element.innerHTML = '';\n",
              "        dataTable['output_type'] = 'display_data';\n",
              "        await google.colab.output.renderOutput(dataTable, element);\n",
              "        const docLink = document.createElement('div');\n",
              "        docLink.innerHTML = docLinkHtml;\n",
              "        element.appendChild(docLink);\n",
              "      }\n",
              "    </script>\n",
              "  </div>\n",
              "\n",
              "\n",
              "<div id=\"df-f615231c-b76c-41e5-8c78-4d2a55132c56\">\n",
              "  <button class=\"colab-df-quickchart\" onclick=\"quickchart('df-f615231c-b76c-41e5-8c78-4d2a55132c56')\"\n",
              "            title=\"Suggest charts\"\n",
              "            style=\"display:none;\">\n",
              "\n",
              "<svg xmlns=\"http://www.w3.org/2000/svg\" height=\"24px\"viewBox=\"0 0 24 24\"\n",
              "     width=\"24px\">\n",
              "    <g>\n",
              "        <path d=\"M19 3H5c-1.1 0-2 .9-2 2v14c0 1.1.9 2 2 2h14c1.1 0 2-.9 2-2V5c0-1.1-.9-2-2-2zM9 17H7v-7h2v7zm4 0h-2V7h2v10zm4 0h-2v-4h2v4z\"/>\n",
              "    </g>\n",
              "</svg>\n",
              "  </button>\n",
              "\n",
              "<style>\n",
              "  .colab-df-quickchart {\n",
              "      --bg-color: #E8F0FE;\n",
              "      --fill-color: #1967D2;\n",
              "      --hover-bg-color: #E2EBFA;\n",
              "      --hover-fill-color: #174EA6;\n",
              "      --disabled-fill-color: #AAA;\n",
              "      --disabled-bg-color: #DDD;\n",
              "  }\n",
              "\n",
              "  [theme=dark] .colab-df-quickchart {\n",
              "      --bg-color: #3B4455;\n",
              "      --fill-color: #D2E3FC;\n",
              "      --hover-bg-color: #434B5C;\n",
              "      --hover-fill-color: #FFFFFF;\n",
              "      --disabled-bg-color: #3B4455;\n",
              "      --disabled-fill-color: #666;\n",
              "  }\n",
              "\n",
              "  .colab-df-quickchart {\n",
              "    background-color: var(--bg-color);\n",
              "    border: none;\n",
              "    border-radius: 50%;\n",
              "    cursor: pointer;\n",
              "    display: none;\n",
              "    fill: var(--fill-color);\n",
              "    height: 32px;\n",
              "    padding: 0;\n",
              "    width: 32px;\n",
              "  }\n",
              "\n",
              "  .colab-df-quickchart:hover {\n",
              "    background-color: var(--hover-bg-color);\n",
              "    box-shadow: 0 1px 2px rgba(60, 64, 67, 0.3), 0 1px 3px 1px rgba(60, 64, 67, 0.15);\n",
              "    fill: var(--button-hover-fill-color);\n",
              "  }\n",
              "\n",
              "  .colab-df-quickchart-complete:disabled,\n",
              "  .colab-df-quickchart-complete:disabled:hover {\n",
              "    background-color: var(--disabled-bg-color);\n",
              "    fill: var(--disabled-fill-color);\n",
              "    box-shadow: none;\n",
              "  }\n",
              "\n",
              "  .colab-df-spinner {\n",
              "    border: 2px solid var(--fill-color);\n",
              "    border-color: transparent;\n",
              "    border-bottom-color: var(--fill-color);\n",
              "    animation:\n",
              "      spin 1s steps(1) infinite;\n",
              "  }\n",
              "\n",
              "  @keyframes spin {\n",
              "    0% {\n",
              "      border-color: transparent;\n",
              "      border-bottom-color: var(--fill-color);\n",
              "      border-left-color: var(--fill-color);\n",
              "    }\n",
              "    20% {\n",
              "      border-color: transparent;\n",
              "      border-left-color: var(--fill-color);\n",
              "      border-top-color: var(--fill-color);\n",
              "    }\n",
              "    30% {\n",
              "      border-color: transparent;\n",
              "      border-left-color: var(--fill-color);\n",
              "      border-top-color: var(--fill-color);\n",
              "      border-right-color: var(--fill-color);\n",
              "    }\n",
              "    40% {\n",
              "      border-color: transparent;\n",
              "      border-right-color: var(--fill-color);\n",
              "      border-top-color: var(--fill-color);\n",
              "    }\n",
              "    60% {\n",
              "      border-color: transparent;\n",
              "      border-right-color: var(--fill-color);\n",
              "    }\n",
              "    80% {\n",
              "      border-color: transparent;\n",
              "      border-right-color: var(--fill-color);\n",
              "      border-bottom-color: var(--fill-color);\n",
              "    }\n",
              "    90% {\n",
              "      border-color: transparent;\n",
              "      border-bottom-color: var(--fill-color);\n",
              "    }\n",
              "  }\n",
              "</style>\n",
              "\n",
              "  <script>\n",
              "    async function quickchart(key) {\n",
              "      const quickchartButtonEl =\n",
              "        document.querySelector('#' + key + ' button');\n",
              "      quickchartButtonEl.disabled = true;  // To prevent multiple clicks.\n",
              "      quickchartButtonEl.classList.add('colab-df-spinner');\n",
              "      try {\n",
              "        const charts = await google.colab.kernel.invokeFunction(\n",
              "            'suggestCharts', [key], {});\n",
              "      } catch (error) {\n",
              "        console.error('Error during call to suggestCharts:', error);\n",
              "      }\n",
              "      quickchartButtonEl.classList.remove('colab-df-spinner');\n",
              "      quickchartButtonEl.classList.add('colab-df-quickchart-complete');\n",
              "    }\n",
              "    (() => {\n",
              "      let quickchartButtonEl =\n",
              "        document.querySelector('#df-f615231c-b76c-41e5-8c78-4d2a55132c56 button');\n",
              "      quickchartButtonEl.style.display =\n",
              "        google.colab.kernel.accessAllowed ? 'block' : 'none';\n",
              "    })();\n",
              "  </script>\n",
              "</div>\n",
              "    </div>\n",
              "  </div>\n"
            ],
            "application/vnd.google.colaboratory.intrinsic+json": {
              "type": "dataframe",
              "variable_name": "df"
            }
          },
          "metadata": {},
          "execution_count": 68
        }
      ],
      "source": [
        "df = pd.DataFrame({\n",
        "    \"x_1\" : x_1,\n",
        "    \"x_2\" : x_2,\n",
        "    \"y\" : y,\n",
        "\n",
        "})\n",
        "\n",
        "df"
      ]
    },
    {
      "cell_type": "markdown",
      "source": [
        "## Data ???"
      ],
      "metadata": {
        "id": "lE0bZlJOxUfQ"
      }
    },
    {
      "cell_type": "code",
      "execution_count": 69,
      "metadata": {
        "id": "OJfuUYbSZMP4",
        "colab": {
          "base_uri": "https://localhost:8080/",
          "height": 0
        },
        "outputId": "a989c11f-f560-4e6a-aa75-6e1ccd6b29e8"
      },
      "outputs": [
        {
          "output_type": "execute_result",
          "data": {
            "text/plain": [
              "             x_1       x_2         y\n",
              "0      -0.072880 -0.686891 -0.477870\n",
              "1      -0.389927 -0.840366 -0.681086\n",
              "2       0.933005  0.211095  0.824124\n",
              "3       1.544922  0.441481  1.559099\n",
              "4       0.277083  0.990943  0.933783\n",
              "...          ...       ...       ...\n",
              "999995 -1.612027 -0.923513 -1.097470\n",
              "999996 -0.175444 -0.014094 -0.122971\n",
              "999997 -0.089166 -0.818540 -0.565991\n",
              "999998  0.544927  1.008265  1.224487\n",
              "999999 -1.244046  1.249738 -0.584951\n",
              "\n",
              "[1000000 rows x 3 columns]"
            ],
            "text/html": [
              "\n",
              "  <div id=\"df-e6c2f7ce-f8b8-4040-b255-902fd3c06a67\" class=\"colab-df-container\">\n",
              "    <div>\n",
              "<style scoped>\n",
              "    .dataframe tbody tr th:only-of-type {\n",
              "        vertical-align: middle;\n",
              "    }\n",
              "\n",
              "    .dataframe tbody tr th {\n",
              "        vertical-align: top;\n",
              "    }\n",
              "\n",
              "    .dataframe thead th {\n",
              "        text-align: right;\n",
              "    }\n",
              "</style>\n",
              "<table border=\"1\" class=\"dataframe\">\n",
              "  <thead>\n",
              "    <tr style=\"text-align: right;\">\n",
              "      <th></th>\n",
              "      <th>x_1</th>\n",
              "      <th>x_2</th>\n",
              "      <th>y</th>\n",
              "    </tr>\n",
              "  </thead>\n",
              "  <tbody>\n",
              "    <tr>\n",
              "      <th>0</th>\n",
              "      <td>-0.072880</td>\n",
              "      <td>-0.686891</td>\n",
              "      <td>-0.477870</td>\n",
              "    </tr>\n",
              "    <tr>\n",
              "      <th>1</th>\n",
              "      <td>-0.389927</td>\n",
              "      <td>-0.840366</td>\n",
              "      <td>-0.681086</td>\n",
              "    </tr>\n",
              "    <tr>\n",
              "      <th>2</th>\n",
              "      <td>0.933005</td>\n",
              "      <td>0.211095</td>\n",
              "      <td>0.824124</td>\n",
              "    </tr>\n",
              "    <tr>\n",
              "      <th>3</th>\n",
              "      <td>1.544922</td>\n",
              "      <td>0.441481</td>\n",
              "      <td>1.559099</td>\n",
              "    </tr>\n",
              "    <tr>\n",
              "      <th>4</th>\n",
              "      <td>0.277083</td>\n",
              "      <td>0.990943</td>\n",
              "      <td>0.933783</td>\n",
              "    </tr>\n",
              "    <tr>\n",
              "      <th>...</th>\n",
              "      <td>...</td>\n",
              "      <td>...</td>\n",
              "      <td>...</td>\n",
              "    </tr>\n",
              "    <tr>\n",
              "      <th>999995</th>\n",
              "      <td>-1.612027</td>\n",
              "      <td>-0.923513</td>\n",
              "      <td>-1.097470</td>\n",
              "    </tr>\n",
              "    <tr>\n",
              "      <th>999996</th>\n",
              "      <td>-0.175444</td>\n",
              "      <td>-0.014094</td>\n",
              "      <td>-0.122971</td>\n",
              "    </tr>\n",
              "    <tr>\n",
              "      <th>999997</th>\n",
              "      <td>-0.089166</td>\n",
              "      <td>-0.818540</td>\n",
              "      <td>-0.565991</td>\n",
              "    </tr>\n",
              "    <tr>\n",
              "      <th>999998</th>\n",
              "      <td>0.544927</td>\n",
              "      <td>1.008265</td>\n",
              "      <td>1.224487</td>\n",
              "    </tr>\n",
              "    <tr>\n",
              "      <th>999999</th>\n",
              "      <td>-1.244046</td>\n",
              "      <td>1.249738</td>\n",
              "      <td>-0.584951</td>\n",
              "    </tr>\n",
              "  </tbody>\n",
              "</table>\n",
              "<p>1000000 rows × 3 columns</p>\n",
              "</div>\n",
              "    <div class=\"colab-df-buttons\">\n",
              "\n",
              "  <div class=\"colab-df-container\">\n",
              "    <button class=\"colab-df-convert\" onclick=\"convertToInteractive('df-e6c2f7ce-f8b8-4040-b255-902fd3c06a67')\"\n",
              "            title=\"Convert this dataframe to an interactive table.\"\n",
              "            style=\"display:none;\">\n",
              "\n",
              "  <svg xmlns=\"http://www.w3.org/2000/svg\" height=\"24px\" viewBox=\"0 -960 960 960\">\n",
              "    <path d=\"M120-120v-720h720v720H120Zm60-500h600v-160H180v160Zm220 220h160v-160H400v160Zm0 220h160v-160H400v160ZM180-400h160v-160H180v160Zm440 0h160v-160H620v160ZM180-180h160v-160H180v160Zm440 0h160v-160H620v160Z\"/>\n",
              "  </svg>\n",
              "    </button>\n",
              "\n",
              "  <style>\n",
              "    .colab-df-container {\n",
              "      display:flex;\n",
              "      gap: 12px;\n",
              "    }\n",
              "\n",
              "    .colab-df-convert {\n",
              "      background-color: #E8F0FE;\n",
              "      border: none;\n",
              "      border-radius: 50%;\n",
              "      cursor: pointer;\n",
              "      display: none;\n",
              "      fill: #1967D2;\n",
              "      height: 32px;\n",
              "      padding: 0 0 0 0;\n",
              "      width: 32px;\n",
              "    }\n",
              "\n",
              "    .colab-df-convert:hover {\n",
              "      background-color: #E2EBFA;\n",
              "      box-shadow: 0px 1px 2px rgba(60, 64, 67, 0.3), 0px 1px 3px 1px rgba(60, 64, 67, 0.15);\n",
              "      fill: #174EA6;\n",
              "    }\n",
              "\n",
              "    .colab-df-buttons div {\n",
              "      margin-bottom: 4px;\n",
              "    }\n",
              "\n",
              "    [theme=dark] .colab-df-convert {\n",
              "      background-color: #3B4455;\n",
              "      fill: #D2E3FC;\n",
              "    }\n",
              "\n",
              "    [theme=dark] .colab-df-convert:hover {\n",
              "      background-color: #434B5C;\n",
              "      box-shadow: 0px 1px 3px 1px rgba(0, 0, 0, 0.15);\n",
              "      filter: drop-shadow(0px 1px 2px rgba(0, 0, 0, 0.3));\n",
              "      fill: #FFFFFF;\n",
              "    }\n",
              "  </style>\n",
              "\n",
              "    <script>\n",
              "      const buttonEl =\n",
              "        document.querySelector('#df-e6c2f7ce-f8b8-4040-b255-902fd3c06a67 button.colab-df-convert');\n",
              "      buttonEl.style.display =\n",
              "        google.colab.kernel.accessAllowed ? 'block' : 'none';\n",
              "\n",
              "      async function convertToInteractive(key) {\n",
              "        const element = document.querySelector('#df-e6c2f7ce-f8b8-4040-b255-902fd3c06a67');\n",
              "        const dataTable =\n",
              "          await google.colab.kernel.invokeFunction('convertToInteractive',\n",
              "                                                    [key], {});\n",
              "        if (!dataTable) return;\n",
              "\n",
              "        const docLinkHtml = 'Like what you see? Visit the ' +\n",
              "          '<a target=\"_blank\" href=https://colab.research.google.com/notebooks/data_table.ipynb>data table notebook</a>'\n",
              "          + ' to learn more about interactive tables.';\n",
              "        element.innerHTML = '';\n",
              "        dataTable['output_type'] = 'display_data';\n",
              "        await google.colab.output.renderOutput(dataTable, element);\n",
              "        const docLink = document.createElement('div');\n",
              "        docLink.innerHTML = docLinkHtml;\n",
              "        element.appendChild(docLink);\n",
              "      }\n",
              "    </script>\n",
              "  </div>\n",
              "\n",
              "\n",
              "<div id=\"df-3cf144fa-50ca-4c4a-842f-0669bda5fbdf\">\n",
              "  <button class=\"colab-df-quickchart\" onclick=\"quickchart('df-3cf144fa-50ca-4c4a-842f-0669bda5fbdf')\"\n",
              "            title=\"Suggest charts\"\n",
              "            style=\"display:none;\">\n",
              "\n",
              "<svg xmlns=\"http://www.w3.org/2000/svg\" height=\"24px\"viewBox=\"0 0 24 24\"\n",
              "     width=\"24px\">\n",
              "    <g>\n",
              "        <path d=\"M19 3H5c-1.1 0-2 .9-2 2v14c0 1.1.9 2 2 2h14c1.1 0 2-.9 2-2V5c0-1.1-.9-2-2-2zM9 17H7v-7h2v7zm4 0h-2V7h2v10zm4 0h-2v-4h2v4z\"/>\n",
              "    </g>\n",
              "</svg>\n",
              "  </button>\n",
              "\n",
              "<style>\n",
              "  .colab-df-quickchart {\n",
              "      --bg-color: #E8F0FE;\n",
              "      --fill-color: #1967D2;\n",
              "      --hover-bg-color: #E2EBFA;\n",
              "      --hover-fill-color: #174EA6;\n",
              "      --disabled-fill-color: #AAA;\n",
              "      --disabled-bg-color: #DDD;\n",
              "  }\n",
              "\n",
              "  [theme=dark] .colab-df-quickchart {\n",
              "      --bg-color: #3B4455;\n",
              "      --fill-color: #D2E3FC;\n",
              "      --hover-bg-color: #434B5C;\n",
              "      --hover-fill-color: #FFFFFF;\n",
              "      --disabled-bg-color: #3B4455;\n",
              "      --disabled-fill-color: #666;\n",
              "  }\n",
              "\n",
              "  .colab-df-quickchart {\n",
              "    background-color: var(--bg-color);\n",
              "    border: none;\n",
              "    border-radius: 50%;\n",
              "    cursor: pointer;\n",
              "    display: none;\n",
              "    fill: var(--fill-color);\n",
              "    height: 32px;\n",
              "    padding: 0;\n",
              "    width: 32px;\n",
              "  }\n",
              "\n",
              "  .colab-df-quickchart:hover {\n",
              "    background-color: var(--hover-bg-color);\n",
              "    box-shadow: 0 1px 2px rgba(60, 64, 67, 0.3), 0 1px 3px 1px rgba(60, 64, 67, 0.15);\n",
              "    fill: var(--button-hover-fill-color);\n",
              "  }\n",
              "\n",
              "  .colab-df-quickchart-complete:disabled,\n",
              "  .colab-df-quickchart-complete:disabled:hover {\n",
              "    background-color: var(--disabled-bg-color);\n",
              "    fill: var(--disabled-fill-color);\n",
              "    box-shadow: none;\n",
              "  }\n",
              "\n",
              "  .colab-df-spinner {\n",
              "    border: 2px solid var(--fill-color);\n",
              "    border-color: transparent;\n",
              "    border-bottom-color: var(--fill-color);\n",
              "    animation:\n",
              "      spin 1s steps(1) infinite;\n",
              "  }\n",
              "\n",
              "  @keyframes spin {\n",
              "    0% {\n",
              "      border-color: transparent;\n",
              "      border-bottom-color: var(--fill-color);\n",
              "      border-left-color: var(--fill-color);\n",
              "    }\n",
              "    20% {\n",
              "      border-color: transparent;\n",
              "      border-left-color: var(--fill-color);\n",
              "      border-top-color: var(--fill-color);\n",
              "    }\n",
              "    30% {\n",
              "      border-color: transparent;\n",
              "      border-left-color: var(--fill-color);\n",
              "      border-top-color: var(--fill-color);\n",
              "      border-right-color: var(--fill-color);\n",
              "    }\n",
              "    40% {\n",
              "      border-color: transparent;\n",
              "      border-right-color: var(--fill-color);\n",
              "      border-top-color: var(--fill-color);\n",
              "    }\n",
              "    60% {\n",
              "      border-color: transparent;\n",
              "      border-right-color: var(--fill-color);\n",
              "    }\n",
              "    80% {\n",
              "      border-color: transparent;\n",
              "      border-right-color: var(--fill-color);\n",
              "      border-bottom-color: var(--fill-color);\n",
              "    }\n",
              "    90% {\n",
              "      border-color: transparent;\n",
              "      border-bottom-color: var(--fill-color);\n",
              "    }\n",
              "  }\n",
              "</style>\n",
              "\n",
              "  <script>\n",
              "    async function quickchart(key) {\n",
              "      const quickchartButtonEl =\n",
              "        document.querySelector('#' + key + ' button');\n",
              "      quickchartButtonEl.disabled = true;  // To prevent multiple clicks.\n",
              "      quickchartButtonEl.classList.add('colab-df-spinner');\n",
              "      try {\n",
              "        const charts = await google.colab.kernel.invokeFunction(\n",
              "            'suggestCharts', [key], {});\n",
              "      } catch (error) {\n",
              "        console.error('Error during call to suggestCharts:', error);\n",
              "      }\n",
              "      quickchartButtonEl.classList.remove('colab-df-spinner');\n",
              "      quickchartButtonEl.classList.add('colab-df-quickchart-complete');\n",
              "    }\n",
              "    (() => {\n",
              "      let quickchartButtonEl =\n",
              "        document.querySelector('#df-3cf144fa-50ca-4c4a-842f-0669bda5fbdf button');\n",
              "      quickchartButtonEl.style.display =\n",
              "        google.colab.kernel.accessAllowed ? 'block' : 'none';\n",
              "    })();\n",
              "  </script>\n",
              "</div>\n",
              "    </div>\n",
              "  </div>\n"
            ],
            "application/vnd.google.colaboratory.intrinsic+json": {
              "type": "dataframe",
              "variable_name": "df_scaled"
            }
          },
          "metadata": {},
          "execution_count": 69
        }
      ],
      "source": [
        "\n",
        "from sklearn.preprocessing import StandardScaler\n",
        "\n",
        "scaler = StandardScaler()\n",
        "\n",
        "df_scaled = pd.DataFrame(scaler.fit_transform(df.to_numpy()), columns=df.columns)\n",
        "df_scaled"
      ]
    },
    {
      "cell_type": "markdown",
      "source": [
        "## Data Cleaning"
      ],
      "metadata": {
        "id": "rX46ymo-xSyT"
      }
    },
    {
      "cell_type": "code",
      "execution_count": 70,
      "metadata": {
        "colab": {
          "base_uri": "https://localhost:8080/"
        },
        "id": "R8AES5oOSB4b",
        "outputId": "b465c4fa-555b-4707-f40f-9a122479b8c3"
      },
      "outputs": [
        {
          "output_type": "stream",
          "name": "stdout",
          "text": [
            "There are 4891 duplicate records in dataset\n",
            "Dataset length after droping duplicatets:  995109\n"
          ]
        }
      ],
      "source": [
        "print (f\"There are {df_scaled.duplicated().sum()} duplicate records in dataset\")\n",
        "\n",
        "# Drop duplicates\n",
        "\n",
        "df_scaled.drop_duplicates(inplace = True)\n",
        "print(\"Dataset length after droping duplicatets: \", len(df_scaled))"
      ]
    },
    {
      "cell_type": "markdown",
      "source": [
        "## Data Splitting"
      ],
      "metadata": {
        "id": "LuKzQVTPxAEN"
      }
    },
    {
      "cell_type": "code",
      "execution_count": 71,
      "metadata": {
        "id": "lrWuhtp4Q22l",
        "colab": {
          "base_uri": "https://localhost:8080/"
        },
        "outputId": "a0733fe8-6666-4d6e-b960-ad48f4ab3e75"
      },
      "outputs": [
        {
          "output_type": "stream",
          "name": "stdout",
          "text": [
            "Lenght of Train Data: (800000, 2)\n",
            "Lenght of Test Data: (195109, 2)\n"
          ]
        }
      ],
      "source": [
        "X_train = df_scaled[[\"x_1\",\"x_2\"]][:800000]\n",
        "Y_train = df_scaled[[\"y\"]][:800000]\n",
        "X_test = df_scaled[[\"x_1\",\"x_2\"]][800000:]\n",
        "Y_test = df_scaled[[\"y\"]][800000:]\n",
        "\n",
        "print(f\"Lenght of Train Data: {X_train.shape}\")\n",
        "print(f\"Lenght of Test Data: {X_test.shape}\")"
      ]
    },
    {
      "cell_type": "markdown",
      "source": [
        "# Modeling"
      ],
      "metadata": {
        "id": "ADyVTb15xRfg"
      }
    },
    {
      "cell_type": "code",
      "execution_count": 2,
      "metadata": {
        "id": "2UsN_IR_StQ3"
      },
      "outputs": [],
      "source": [
        "from keras import layers\n",
        "from sklearn.metrics import r2_score\n",
        "from keras.callbacks import EarlyStopping\n",
        "from keras.callbacks import ModelCheckpoint\n",
        "from keras.callbacks import ReduceLROnPlateau\n"
      ]
    },
    {
      "cell_type": "markdown",
      "source": [
        "## FFN : One Hidden Layer"
      ],
      "metadata": {
        "id": "mm_I6L4UxlvN"
      }
    },
    {
      "cell_type": "code",
      "execution_count": 15,
      "metadata": {
        "id": "o5I7yd7LS9lK",
        "colab": {
          "base_uri": "https://localhost:8080/"
        },
        "outputId": "ea70837f-7947-435d-b394-da6001405901"
      },
      "outputs": [
        {
          "output_type": "stream",
          "name": "stdout",
          "text": [
            "Model: \"sequential\"\n",
            "_________________________________________________________________\n",
            " Layer (type)                Output Shape              Param #   \n",
            "=================================================================\n",
            " dense (Dense)               (None, 64)                192       \n",
            "                                                                 \n",
            " dense_1 (Dense)             (None, 1)                 65        \n",
            "                                                                 \n",
            "=================================================================\n",
            "Total params: 257 (1.00 KB)\n",
            "Trainable params: 257 (1.00 KB)\n",
            "Non-trainable params: 0 (0.00 Byte)\n",
            "_________________________________________________________________\n"
          ]
        },
        {
          "output_type": "stream",
          "name": "stderr",
          "text": [
            "WARNING:tensorflow:`epsilon` argument is deprecated and will be removed, use `min_delta` instead.\n"
          ]
        },
        {
          "output_type": "stream",
          "name": "stdout",
          "text": [
            "Epoch 1/100\n",
            "10000/10000 [==============================] - 22s 2ms/step - loss: 0.0044 - val_loss: 2.0412e-05 - lr: 0.0010\n",
            "Epoch 2/100\n",
            "   94/10000 [..............................] - ETA: 16s - loss: 2.0079e-05"
          ]
        },
        {
          "output_type": "stream",
          "name": "stderr",
          "text": [
            "/usr/local/lib/python3.10/dist-packages/keras/src/engine/training.py:3103: UserWarning: You are saving your model as an HDF5 file via `model.save()`. This file format is considered legacy. We recommend using instead the native Keras format, e.g. `model.save('my_model.keras')`.\n",
            "  saving_api.save_model(\n"
          ]
        },
        {
          "output_type": "stream",
          "name": "stdout",
          "text": [
            "10000/10000 [==============================] - 19s 2ms/step - loss: 1.3595e-05 - val_loss: 9.0292e-06 - lr: 0.0010\n",
            "Epoch 3/100\n",
            "10000/10000 [==============================] - 26s 3ms/step - loss: 9.3074e-06 - val_loss: 9.6235e-06 - lr: 0.0010\n",
            "Epoch 4/100\n",
            "10000/10000 [==============================] - 30s 3ms/step - loss: 8.7560e-06 - val_loss: 2.0727e-05 - lr: 0.0010\n",
            "Epoch 5/100\n",
            "10000/10000 [==============================] - 25s 3ms/step - loss: 8.1364e-06 - val_loss: 5.2009e-06 - lr: 0.0010\n",
            "Epoch 6/100\n",
            "10000/10000 [==============================] - 23s 2ms/step - loss: 7.6661e-06 - val_loss: 5.6307e-06 - lr: 0.0010\n",
            "Epoch 7/100\n",
            "10000/10000 [==============================] - 22s 2ms/step - loss: 7.4666e-06 - val_loss: 7.2059e-06 - lr: 0.0010\n",
            "Epoch 8/100\n",
            " 9980/10000 [============================>.] - ETA: 0s - loss: 7.0876e-06\n",
            "Epoch 8: ReduceLROnPlateau reducing learning rate to 0.00010000000474974513.\n",
            "10000/10000 [==============================] - 20s 2ms/step - loss: 7.0852e-06 - val_loss: 4.8036e-06 - lr: 0.0010\n",
            "Epoch 9/100\n",
            "10000/10000 [==============================] - 22s 2ms/step - loss: 3.8830e-06 - val_loss: 3.8550e-06 - lr: 1.0000e-04\n",
            "Epoch 10/100\n",
            "10000/10000 [==============================] - 22s 2ms/step - loss: 3.8608e-06 - val_loss: 3.7506e-06 - lr: 1.0000e-04\n",
            "Epoch 11/100\n",
            "10000/10000 [==============================] - 23s 2ms/step - loss: 3.8190e-06 - val_loss: 3.6115e-06 - lr: 1.0000e-04\n",
            "Epoch 12/100\n",
            "10000/10000 [==============================] - 21s 2ms/step - loss: 3.8036e-06 - val_loss: 3.6169e-06 - lr: 1.0000e-04\n",
            "Epoch 13/100\n",
            "10000/10000 [==============================] - 23s 2ms/step - loss: 3.7636e-06 - val_loss: 3.6459e-06 - lr: 1.0000e-04\n",
            "Epoch 14/100\n",
            "10000/10000 [==============================] - 21s 2ms/step - loss: 3.7254e-06 - val_loss: 3.7226e-06 - lr: 1.0000e-04\n",
            "Epoch 15/100\n",
            " 9977/10000 [============================>.] - ETA: 0s - loss: 3.7038e-06\n",
            "Epoch 15: ReduceLROnPlateau reducing learning rate to 1.0000000474974514e-05.\n",
            "10000/10000 [==============================] - 19s 2ms/step - loss: 3.7036e-06 - val_loss: 3.6202e-06 - lr: 1.0000e-04\n",
            "Epoch 16/100\n",
            "10000/10000 [==============================] - 24s 2ms/step - loss: 3.3742e-06 - val_loss: 3.4307e-06 - lr: 1.0000e-05\n",
            "Epoch 17/100\n",
            "10000/10000 [==============================] - 26s 3ms/step - loss: 3.3711e-06 - val_loss: 3.3612e-06 - lr: 1.0000e-05\n",
            "Epoch 18/100\n",
            "10000/10000 [==============================] - 22s 2ms/step - loss: 3.3673e-06 - val_loss: 3.4053e-06 - lr: 1.0000e-05\n",
            "Epoch 19/100\n",
            "10000/10000 [==============================] - 20s 2ms/step - loss: 3.3637e-06 - val_loss: 3.4571e-06 - lr: 1.0000e-05\n",
            "Epoch 20/100\n",
            "10000/10000 [==============================] - 26s 3ms/step - loss: 3.3606e-06 - val_loss: 3.3688e-06 - lr: 1.0000e-05\n",
            "Epoch 21/100\n",
            "10000/10000 [==============================] - 39s 4ms/step - loss: 3.3586e-06 - val_loss: 3.3459e-06 - lr: 1.0000e-05\n",
            "Epoch 22/100\n",
            " 9992/10000 [============================>.] - ETA: 0s - loss: 3.3548e-06\n",
            "Epoch 22: ReduceLROnPlateau reducing learning rate to 1.0000000656873453e-06.\n",
            "10000/10000 [==============================] - 34s 3ms/step - loss: 3.3551e-06 - val_loss: 3.3248e-06 - lr: 1.0000e-05\n",
            "Epoch 23/100\n",
            "10000/10000 [==============================] - 30s 3ms/step - loss: 3.3126e-06 - val_loss: 3.3133e-06 - lr: 1.0000e-06\n",
            "Epoch 24/100\n",
            "10000/10000 [==============================] - 38s 4ms/step - loss: 3.3125e-06 - val_loss: 3.3154e-06 - lr: 1.0000e-06\n",
            "Epoch 25/100\n",
            "10000/10000 [==============================] - 34s 3ms/step - loss: 3.3119e-06 - val_loss: 3.3175e-06 - lr: 1.0000e-06\n",
            "Epoch 26/100\n",
            "10000/10000 [==============================] - 36s 4ms/step - loss: 3.3120e-06 - val_loss: 3.3141e-06 - lr: 1.0000e-06\n",
            "Epoch 27/100\n",
            "10000/10000 [==============================] - 29s 3ms/step - loss: 3.3116e-06 - val_loss: 3.3155e-06 - lr: 1.0000e-06\n",
            "Epoch 28/100\n",
            "10000/10000 [==============================] - 35s 3ms/step - loss: 3.3109e-06 - val_loss: 3.3126e-06 - lr: 1.0000e-06\n",
            "Epoch 29/100\n",
            " 9980/10000 [============================>.] - ETA: 0s - loss: 3.3110e-06\n",
            "Epoch 29: ReduceLROnPlateau reducing learning rate to 1.0000001111620805e-07.\n",
            "10000/10000 [==============================] - 24s 2ms/step - loss: 3.3108e-06 - val_loss: 3.3112e-06 - lr: 1.0000e-06\n",
            "Epoch 30/100\n",
            "10000/10000 [==============================] - 37s 4ms/step - loss: 3.3065e-06 - val_loss: 3.3083e-06 - lr: 1.0000e-07\n",
            "Epoch 31/100\n",
            "10000/10000 [==============================] - 44s 4ms/step - loss: 3.3063e-06 - val_loss: 3.3087e-06 - lr: 1.0000e-07\n",
            "Epoch 32/100\n",
            "10000/10000 [==============================] - 30s 3ms/step - loss: 3.3062e-06 - val_loss: 3.3087e-06 - lr: 1.0000e-07\n",
            "Epoch 33/100\n",
            "10000/10000 [==============================] - 24s 2ms/step - loss: 3.3063e-06 - val_loss: 3.3085e-06 - lr: 1.0000e-07\n",
            "Epoch 34/100\n",
            "10000/10000 [==============================] - 30s 3ms/step - loss: 3.3062e-06 - val_loss: 3.3081e-06 - lr: 1.0000e-07\n",
            "Epoch 35/100\n",
            "10000/10000 [==============================] - 22s 2ms/step - loss: 3.3061e-06 - val_loss: 3.3087e-06 - lr: 1.0000e-07\n",
            "Epoch 36/100\n",
            " 9983/10000 [============================>.] - ETA: 0s - loss: 3.3062e-06\n",
            "Epoch 36: ReduceLROnPlateau reducing learning rate to 1.000000082740371e-08.\n",
            "10000/10000 [==============================] - 22s 2ms/step - loss: 3.3061e-06 - val_loss: 3.3081e-06 - lr: 1.0000e-07\n",
            "Epoch 37/100\n",
            "10000/10000 [==============================] - 20s 2ms/step - loss: 3.3057e-06 - val_loss: 3.3078e-06 - lr: 1.0000e-08\n",
            "Epoch 38/100\n",
            "10000/10000 [==============================] - 22s 2ms/step - loss: 3.3056e-06 - val_loss: 3.3078e-06 - lr: 1.0000e-08\n",
            "Epoch 39/100\n",
            "10000/10000 [==============================] - 22s 2ms/step - loss: 3.3056e-06 - val_loss: 3.3078e-06 - lr: 1.0000e-08\n",
            "Epoch 40/100\n",
            "10000/10000 [==============================] - 21s 2ms/step - loss: 3.3056e-06 - val_loss: 3.3078e-06 - lr: 1.0000e-08\n",
            "Epoch 41/100\n",
            "10000/10000 [==============================] - 25s 2ms/step - loss: 3.3056e-06 - val_loss: 3.3078e-06 - lr: 1.0000e-08\n",
            "Epoch 42/100\n",
            "10000/10000 [==============================] - 19s 2ms/step - loss: 3.3055e-06 - val_loss: 3.3078e-06 - lr: 1.0000e-08\n",
            "Epoch 43/100\n",
            " 9980/10000 [============================>.] - ETA: 0s - loss: 3.3051e-06\n",
            "Epoch 43: ReduceLROnPlateau reducing learning rate to 1.000000082740371e-09.\n",
            "10000/10000 [==============================] - 21s 2ms/step - loss: 3.3055e-06 - val_loss: 3.3078e-06 - lr: 1.0000e-08\n",
            "Epoch 44/100\n",
            "10000/10000 [==============================] - 19s 2ms/step - loss: 3.3055e-06 - val_loss: 3.3078e-06 - lr: 1.0000e-09\n",
            "Epoch 45/100\n",
            "10000/10000 [==============================] - 28s 3ms/step - loss: 3.3055e-06 - val_loss: 3.3078e-06 - lr: 1.0000e-09\n",
            "Epoch 46/100\n",
            "10000/10000 [==============================] - 21s 2ms/step - loss: 3.3055e-06 - val_loss: 3.3078e-06 - lr: 1.0000e-09\n",
            "Epoch 47/100\n",
            "10000/10000 [==============================] - 22s 2ms/step - loss: 3.3055e-06 - val_loss: 3.3078e-06 - lr: 1.0000e-09\n",
            "Epoch 48/100\n",
            "10000/10000 [==============================] - 23s 2ms/step - loss: 3.3055e-06 - val_loss: 3.3078e-06 - lr: 1.0000e-09\n",
            "Epoch 49/100\n",
            "10000/10000 [==============================] - 23s 2ms/step - loss: 3.3055e-06 - val_loss: 3.3078e-06 - lr: 1.0000e-09\n",
            "Epoch 50/100\n",
            " 9981/10000 [============================>.] - ETA: 0s - loss: 3.3058e-06\n",
            "Epoch 50: ReduceLROnPlateau reducing learning rate to 1.000000082740371e-10.\n",
            "10000/10000 [==============================] - 22s 2ms/step - loss: 3.3055e-06 - val_loss: 3.3078e-06 - lr: 1.0000e-09\n",
            "Epoch 51/100\n",
            "10000/10000 [==============================] - 20s 2ms/step - loss: 3.3055e-06 - val_loss: 3.3078e-06 - lr: 1.0000e-10\n",
            "Epoch 52/100\n",
            "10000/10000 [==============================] - 19s 2ms/step - loss: 3.3055e-06 - val_loss: 3.3078e-06 - lr: 1.0000e-10\n",
            "Epoch 53/100\n",
            "10000/10000 [==============================] - 23s 2ms/step - loss: 3.3055e-06 - val_loss: 3.3078e-06 - lr: 1.0000e-10\n",
            "Epoch 54/100\n",
            "10000/10000 [==============================] - 21s 2ms/step - loss: 3.3055e-06 - val_loss: 3.3078e-06 - lr: 1.0000e-10\n",
            "Epoch 55/100\n",
            "10000/10000 [==============================] - 32s 3ms/step - loss: 3.3055e-06 - val_loss: 3.3078e-06 - lr: 1.0000e-10\n",
            "Epoch 56/100\n",
            "10000/10000 [==============================] - 31s 3ms/step - loss: 3.3055e-06 - val_loss: 3.3078e-06 - lr: 1.0000e-10\n",
            "Epoch 57/100\n",
            " 9995/10000 [============================>.] - ETA: 0s - loss: 3.3056e-06\n",
            "Epoch 57: ReduceLROnPlateau reducing learning rate to 1.000000082740371e-11.\n",
            "10000/10000 [==============================] - 32s 3ms/step - loss: 3.3055e-06 - val_loss: 3.3078e-06 - lr: 1.0000e-10\n",
            "Epoch 58/100\n",
            "10000/10000 [==============================] - 19s 2ms/step - loss: 3.3055e-06 - val_loss: 3.3078e-06 - lr: 1.0000e-11\n",
            "Epoch 59/100\n",
            "10000/10000 [==============================] - 22s 2ms/step - loss: 3.3055e-06 - val_loss: 3.3078e-06 - lr: 1.0000e-11\n"
          ]
        }
      ],
      "source": [
        "model = keras.Sequential()\n",
        "model.add(layers.Dense(64,activation=\"relu\",input_dim=2))\n",
        "model.add(layers.Dense(1,activation=\"linear\"))\n",
        "\n",
        "model.summary()\n",
        "\n",
        "# Compile the Model\n",
        "model.compile(loss = 'MSE',\n",
        "              optimizer=\"adam\")\n",
        "\n",
        "# Callbacks Configs\n",
        "earlyStopping = EarlyStopping(monitor='val_loss', patience=10, verbose=0, mode='min')\n",
        "mcp_save = ModelCheckpoint('.mdl_wts.hdf5', save_best_only=True, monitor='val_loss', mode='min')\n",
        "reduce_lr_loss = ReduceLROnPlateau(monitor='val_loss', factor=0.1, patience=7, verbose=1, epsilon=1e-4, mode='min')\n",
        "\n",
        "history = model.fit(X_train,Y_train,batch_size=64,epochs=100,validation_split=0.2,callbacks=[earlyStopping, mcp_save, reduce_lr_loss],)"
      ]
    },
    {
      "cell_type": "code",
      "source": [
        "from matplotlib import pyplot as plt\n",
        "plt.plot(history.history['loss'])\n",
        "plt.plot(history.history['val_loss'])\n",
        "plt.title('model loss')\n",
        "plt.ylabel('loss')\n",
        "plt.xlabel('epoch')\n",
        "plt.legend(['train', 'val'], loc='upper left')\n",
        "plt.show()"
      ],
      "metadata": {
        "id": "Qe3NFQLL0Shj",
        "colab": {
          "base_uri": "https://localhost:8080/",
          "height": 472
        },
        "outputId": "31d8ec0c-2e1e-4d44-ecb0-513c3e2db1bb"
      },
      "execution_count": 16,
      "outputs": [
        {
          "output_type": "display_data",
          "data": {
            "text/plain": [
              "<Figure size 640x480 with 1 Axes>"
            ],
            "image/png": "[encoded data removed]"
          },
          "metadata": {}
        }
      ]
    },
    {
      "cell_type": "code",
      "source": [
        "from matplotlib import pyplot as plt\n",
        "plt.plot(history.history['loss'][5:])\n",
        "plt.plot(history.history['val_loss'][5:])\n",
        "plt.title('model loss')\n",
        "plt.ylabel('loss')\n",
        "plt.xlabel('epoch')\n",
        "plt.legend(['train', 'val'], loc='upper left')\n",
        "plt.show()"
      ],
      "metadata": {
        "colab": {
          "base_uri": "https://localhost:8080/",
          "height": 472
        },
        "id": "sbuTtT7m4W4u",
        "outputId": "a9490f09-70b0-4302-a783-7b8a369251d2"
      },
      "execution_count": 17,
      "outputs": [
        {
          "output_type": "display_data",
          "data": {
            "text/plain": [
              "<Figure size 640x480 with 1 Axes>"
            ],
            "image/png": "[encoded data removed]"
          },
          "metadata": {}
        }
      ]
    },
    {
      "cell_type": "code",
      "source": [
        "from matplotlib import pyplot as plt\n",
        "plt.plot(history.history['loss'][30:])\n",
        "plt.plot(history.history['val_loss'][30:])\n",
        "plt.title('model loss')\n",
        "plt.ylabel('loss')\n",
        "plt.xlabel('epoch')\n",
        "plt.legend(['train', 'val'], loc='upper left')\n",
        "plt.show()"
      ],
      "metadata": {
        "colab": {
          "base_uri": "https://localhost:8080/",
          "height": 472
        },
        "id": "GfbK9UDl4eEh",
        "outputId": "b7728dfb-ed4a-409e-cb23-162c5281bcb2"
      },
      "execution_count": 18,
      "outputs": [
        {
          "output_type": "display_data",
          "data": {
            "text/plain": [
              "<Figure size 640x480 with 1 Axes>"
            ],
            "image/png": "[encoded data removed]"
          },
          "metadata": {}
        }
      ]
    },
    {
      "cell_type": "markdown",
      "source": [
        "### ٍEvaluate Model"
      ],
      "metadata": {
        "id": "xzkcn9Iu3Gqb"
      }
    },
    {
      "cell_type": "code",
      "execution_count": null,
      "metadata": {
        "id": "pC8bJkRWWdO1",
        "colab": {
          "base_uri": "https://localhost:8080/"
        },
        "outputId": "714d0696-271d-43ac-d53d-9da60548b81f"
      },
      "outputs": [
        {
          "output_type": "stream",
          "name": "stdout",
          "text": [
            "6096/6096 [==============================] - 8s 1ms/step - loss: 3.3287e-06\n"
          ]
        }
      ],
      "source": [
        "model.evaluate(X_test,Y_test)"
      ]
    },
    {
      "cell_type": "code",
      "source": [
        "y_predicted = model.predict(X_test)"
      ],
      "metadata": {
        "colab": {
          "base_uri": "https://localhost:8080/"
        },
        "id": "etHlGzQA519E",
        "outputId": "56f8d391-a34d-44e0-d751-4a7b99e75d76"
      },
      "execution_count": 21,
      "outputs": [
        {
          "output_type": "stream",
          "name": "stdout",
          "text": [
            "6096/6096 [==============================] - 20s 3ms/step\n"
          ]
        }
      ]
    },
    {
      "cell_type": "code",
      "source": [
        "from sklearn.metrics import (\n",
        "    mean_absolute_error,\n",
        "    mean_squared_error,\n",
        "    r2_score,\n",
        ")\n",
        "\n",
        "print('MAE: ',mean_absolute_error(Y_test, y_predicted))\n",
        "print('MSE: ',mean_squared_error(Y_test, y_predicted))\n",
        "print('R2_score: ',r2_score(Y_test, y_predicted))\n"
      ],
      "metadata": {
        "colab": {
          "base_uri": "https://localhost:8080/"
        },
        "id": "PauoqaBI5z85",
        "outputId": "373b997a-3579-45f5-b61b-6de17aabcbdd"
      },
      "execution_count": 24,
      "outputs": [
        {
          "output_type": "stream",
          "name": "stdout",
          "text": [
            "MAE:  0.001433238867953178\n",
            "MSE:  3.328692293360769e-06\n",
            "R2_score:  0.9999966905483642\n"
          ]
        }
      ]
    },
    {
      "cell_type": "markdown",
      "source": [
        "### Let's test the model"
      ],
      "metadata": {
        "id": "H3q7y-Gc3NIe"
      }
    },
    {
      "cell_type": "code",
      "source": [
        "test_data = X_test.iloc[:1]\n",
        "print(\"Data :\")\n",
        "display(test_data)\n",
        "print(\"------------------------------------\")\n",
        "print(\"lable :\",)\n",
        "display(Y_test.iloc[:1])\n",
        "print(\"------------------------------------\")\n",
        "predicted = model.predict(test_data)\n",
        "print(\"------------------------------------\")\n",
        "print(f\"Model scaled Prediction is : {predicted}\")\n",
        "output = scaler.inverse_transform([[np.nan,np.nan,predicted[0][0]]])\n",
        "print(f\"Model Prediction is : {output[0][2]}\")"
      ],
      "metadata": {
        "id": "RiH0fmGIvpaV",
        "colab": {
          "base_uri": "https://localhost:8080/",
          "height": 283
        },
        "outputId": "2a5cad1a-033b-4c7f-937f-b449e07583d7"
      },
      "execution_count": 48,
      "outputs": [
        {
          "output_type": "stream",
          "name": "stdout",
          "text": [
            "Data :\n"
          ]
        },
        {
          "output_type": "display_data",
          "data": {
            "text/plain": [
              "             x_1       x_2\n",
              "803254  1.121071 -1.146622"
            ],
            "text/html": [
              "\n",
              "  <div id=\"df-2b5f930e-3751-4021-ae49-110e06e96450\" class=\"colab-df-container\">\n",
              "    <div>\n",
              "<style scoped>\n",
              "    .dataframe tbody tr th:only-of-type {\n",
              "        vertical-align: middle;\n",
              "    }\n",
              "\n",
              "    .dataframe tbody tr th {\n",
              "        vertical-align: top;\n",
              "    }\n",
              "\n",
              "    .dataframe thead th {\n",
              "        text-align: right;\n",
              "    }\n",
              "</style>\n",
              "<table border=\"1\" class=\"dataframe\">\n",
              "  <thead>\n",
              "    <tr style=\"text-align: right;\">\n",
              "      <th></th>\n",
              "      <th>x_1</th>\n",
              "      <th>x_2</th>\n",
              "    </tr>\n",
              "  </thead>\n",
              "  <tbody>\n",
              "    <tr>\n",
              "      <th>803254</th>\n",
              "      <td>1.121071</td>\n",
              "      <td>-1.146622</td>\n",
              "    </tr>\n",
              "  </tbody>\n",
              "</table>\n",
              "</div>\n",
              "    <div class=\"colab-df-buttons\">\n",
              "\n",
              "  <div class=\"colab-df-container\">\n",
              "    <button class=\"colab-df-convert\" onclick=\"convertToInteractive('df-2b5f930e-3751-4021-ae49-110e06e96450')\"\n",
              "            title=\"Convert this dataframe to an interactive table.\"\n",
              "            style=\"display:none;\">\n",
              "\n",
              "  <svg xmlns=\"http://www.w3.org/2000/svg\" height=\"24px\" viewBox=\"0 -960 960 960\">\n",
              "    <path d=\"M120-120v-720h720v720H120Zm60-500h600v-160H180v160Zm220 220h160v-160H400v160Zm0 220h160v-160H400v160ZM180-400h160v-160H180v160Zm440 0h160v-160H620v160ZM180-180h160v-160H180v160Zm440 0h160v-160H620v160Z\"/>\n",
              "  </svg>\n",
              "    </button>\n",
              "\n",
              "  <style>\n",
              "    .colab-df-container {\n",
              "      display:flex;\n",
              "      gap: 12px;\n",
              "    }\n",
              "\n",
              "    .colab-df-convert {\n",
              "      background-color: #E8F0FE;\n",
              "      border: none;\n",
              "      border-radius: 50%;\n",
              "      cursor: pointer;\n",
              "      display: none;\n",
              "      fill: #1967D2;\n",
              "      height: 32px;\n",
              "      padding: 0 0 0 0;\n",
              "      width: 32px;\n",
              "    }\n",
              "\n",
              "    .colab-df-convert:hover {\n",
              "      background-color: #E2EBFA;\n",
              "      box-shadow: 0px 1px 2px rgba(60, 64, 67, 0.3), 0px 1px 3px 1px rgba(60, 64, 67, 0.15);\n",
              "      fill: #174EA6;\n",
              "    }\n",
              "\n",
              "    .colab-df-buttons div {\n",
              "      margin-bottom: 4px;\n",
              "    }\n",
              "\n",
              "    [theme=dark] .colab-df-convert {\n",
              "      background-color: #3B4455;\n",
              "      fill: #D2E3FC;\n",
              "    }\n",
              "\n",
              "    [theme=dark] .colab-df-convert:hover {\n",
              "      background-color: #434B5C;\n",
              "      box-shadow: 0px 1px 3px 1px rgba(0, 0, 0, 0.15);\n",
              "      filter: drop-shadow(0px 1px 2px rgba(0, 0, 0, 0.3));\n",
              "      fill: #FFFFFF;\n",
              "    }\n",
              "  </style>\n",
              "\n",
              "    <script>\n",
              "      const buttonEl =\n",
              "        document.querySelector('#df-2b5f930e-3751-4021-ae49-110e06e96450 button.colab-df-convert');\n",
              "      buttonEl.style.display =\n",
              "        google.colab.kernel.accessAllowed ? 'block' : 'none';\n",
              "\n",
              "      async function convertToInteractive(key) {\n",
              "        const element = document.querySelector('#df-2b5f930e-3751-4021-ae49-110e06e96450');\n",
              "        const dataTable =\n",
              "          await google.colab.kernel.invokeFunction('convertToInteractive',\n",
              "                                                    [key], {});\n",
              "        if (!dataTable) return;\n",
              "\n",
              "        const docLinkHtml = 'Like what you see? Visit the ' +\n",
              "          '<a target=\"_blank\" href=https://colab.research.google.com/notebooks/data_table.ipynb>data table notebook</a>'\n",
              "          + ' to learn more about interactive tables.';\n",
              "        element.innerHTML = '';\n",
              "        dataTable['output_type'] = 'display_data';\n",
              "        await google.colab.output.renderOutput(dataTable, element);\n",
              "        const docLink = document.createElement('div');\n",
              "        docLink.innerHTML = docLinkHtml;\n",
              "        element.appendChild(docLink);\n",
              "      }\n",
              "    </script>\n",
              "  </div>\n",
              "\n",
              "    </div>\n",
              "  </div>\n"
            ],
            "application/vnd.google.colaboratory.intrinsic+json": {
              "type": "dataframe",
              "variable_name": "test_data",
              "summary": "{\n  \"name\": \"test_data\",\n  \"rows\": 1,\n  \"fields\": [\n    {\n      \"column\": \"x_1\",\n      \"properties\": {\n        \"dtype\": \"number\",\n        \"std\": null,\n        \"min\": 1.1210708877357798,\n        \"max\": 1.1210708877357798,\n        \"num_unique_values\": 1,\n        \"samples\": [\n          1.1210708877357798\n        ],\n        \"semantic_type\": \"\",\n        \"description\": \"\"\n      }\n    },\n    {\n      \"column\": \"x_2\",\n      \"properties\": {\n        \"dtype\": \"number\",\n        \"std\": null,\n        \"min\": -1.1466220963924352,\n        \"max\": -1.1466220963924352,\n        \"num_unique_values\": 1,\n        \"samples\": [\n          -1.1466220963924352\n        ],\n        \"semantic_type\": \"\",\n        \"description\": \"\"\n      }\n    }\n  ]\n}"
            }
          },
          "metadata": {}
        },
        {
          "output_type": "stream",
          "name": "stdout",
          "text": [
            "------------------------------------\n",
            "lable :\n"
          ]
        },
        {
          "output_type": "display_data",
          "data": {
            "text/plain": [
              "               y\n",
              "803254 -0.503903"
            ],
            "text/html": [
              "\n",
              "  <div id=\"df-34875678-0ad5-4dc8-9174-a73f77e077a8\" class=\"colab-df-container\">\n",
              "    <div>\n",
              "<style scoped>\n",
              "    .dataframe tbody tr th:only-of-type {\n",
              "        vertical-align: middle;\n",
              "    }\n",
              "\n",
              "    .dataframe tbody tr th {\n",
              "        vertical-align: top;\n",
              "    }\n",
              "\n",
              "    .dataframe thead th {\n",
              "        text-align: right;\n",
              "    }\n",
              "</style>\n",
              "<table border=\"1\" class=\"dataframe\">\n",
              "  <thead>\n",
              "    <tr style=\"text-align: right;\">\n",
              "      <th></th>\n",
              "      <th>y</th>\n",
              "    </tr>\n",
              "  </thead>\n",
              "  <tbody>\n",
              "    <tr>\n",
              "      <th>803254</th>\n",
              "      <td>-0.503903</td>\n",
              "    </tr>\n",
              "  </tbody>\n",
              "</table>\n",
              "</div>\n",
              "    <div class=\"colab-df-buttons\">\n",
              "\n",
              "  <div class=\"colab-df-container\">\n",
              "    <button class=\"colab-df-convert\" onclick=\"convertToInteractive('df-34875678-0ad5-4dc8-9174-a73f77e077a8')\"\n",
              "            title=\"Convert this dataframe to an interactive table.\"\n",
              "            style=\"display:none;\">\n",
              "\n",
              "  <svg xmlns=\"http://www.w3.org/2000/svg\" height=\"24px\" viewBox=\"0 -960 960 960\">\n",
              "    <path d=\"M120-120v-720h720v720H120Zm60-500h600v-160H180v160Zm220 220h160v-160H400v160Zm0 220h160v-160H400v160ZM180-400h160v-160H180v160Zm440 0h160v-160H620v160ZM180-180h160v-160H180v160Zm440 0h160v-160H620v160Z\"/>\n",
              "  </svg>\n",
              "    </button>\n",
              "\n",
              "  <style>\n",
              "    .colab-df-container {\n",
              "      display:flex;\n",
              "      gap: 12px;\n",
              "    }\n",
              "\n",
              "    .colab-df-convert {\n",
              "      background-color: #E8F0FE;\n",
              "      border: none;\n",
              "      border-radius: 50%;\n",
              "      cursor: pointer;\n",
              "      display: none;\n",
              "      fill: #1967D2;\n",
              "      height: 32px;\n",
              "      padding: 0 0 0 0;\n",
              "      width: 32px;\n",
              "    }\n",
              "\n",
              "    .colab-df-convert:hover {\n",
              "      background-color: #E2EBFA;\n",
              "      box-shadow: 0px 1px 2px rgba(60, 64, 67, 0.3), 0px 1px 3px 1px rgba(60, 64, 67, 0.15);\n",
              "      fill: #174EA6;\n",
              "    }\n",
              "\n",
              "    .colab-df-buttons div {\n",
              "      margin-bottom: 4px;\n",
              "    }\n",
              "\n",
              "    [theme=dark] .colab-df-convert {\n",
              "      background-color: #3B4455;\n",
              "      fill: #D2E3FC;\n",
              "    }\n",
              "\n",
              "    [theme=dark] .colab-df-convert:hover {\n",
              "      background-color: #434B5C;\n",
              "      box-shadow: 0px 1px 3px 1px rgba(0, 0, 0, 0.15);\n",
              "      filter: drop-shadow(0px 1px 2px rgba(0, 0, 0, 0.3));\n",
              "      fill: #FFFFFF;\n",
              "    }\n",
              "  </style>\n",
              "\n",
              "    <script>\n",
              "      const buttonEl =\n",
              "        document.querySelector('#df-34875678-0ad5-4dc8-9174-a73f77e077a8 button.colab-df-convert');\n",
              "      buttonEl.style.display =\n",
              "        google.colab.kernel.accessAllowed ? 'block' : 'none';\n",
              "\n",
              "      async function convertToInteractive(key) {\n",
              "        const element = document.querySelector('#df-34875678-0ad5-4dc8-9174-a73f77e077a8');\n",
              "        const dataTable =\n",
              "          await google.colab.kernel.invokeFunction('convertToInteractive',\n",
              "                                                    [key], {});\n",
              "        if (!dataTable) return;\n",
              "\n",
              "        const docLinkHtml = 'Like what you see? Visit the ' +\n",
              "          '<a target=\"_blank\" href=https://colab.research.google.com/notebooks/data_table.ipynb>data table notebook</a>'\n",
              "          + ' to learn more about interactive tables.';\n",
              "        element.innerHTML = '';\n",
              "        dataTable['output_type'] = 'display_data';\n",
              "        await google.colab.output.renderOutput(dataTable, element);\n",
              "        const docLink = document.createElement('div');\n",
              "        docLink.innerHTML = docLinkHtml;\n",
              "        element.appendChild(docLink);\n",
              "      }\n",
              "    </script>\n",
              "  </div>\n",
              "\n",
              "    </div>\n",
              "  </div>\n"
            ],
            "application/vnd.google.colaboratory.intrinsic+json": {
              "type": "dataframe",
              "summary": "{\n  \"name\": \"print(f\\\"Model Prediction is : {output[0][2]}\\\")\",\n  \"rows\": 1,\n  \"fields\": [\n    {\n      \"column\": \"y\",\n      \"properties\": {\n        \"dtype\": \"number\",\n        \"std\": null,\n        \"min\": -0.5039025284461852,\n        \"max\": -0.5039025284461852,\n        \"num_unique_values\": 1,\n        \"samples\": [\n          -0.5039025284461852\n        ],\n        \"semantic_type\": \"\",\n        \"description\": \"\"\n      }\n    }\n  ]\n}"
            }
          },
          "metadata": {}
        },
        {
          "output_type": "stream",
          "name": "stdout",
          "text": [
            "------------------------------------\n",
            "1/1 [==============================] - 0s 33ms/step\n",
            "------------------------------------\n",
            "Model scaled Prediction is : [[-0.5034374]]\n",
            "Model Prediction is : 13868081.599753588\n"
          ]
        }
      ]
    },
    {
      "cell_type": "markdown",
      "source": [
        "### Let's test the model via unseen data"
      ],
      "metadata": {
        "id": "7ChyWrI33Ttf"
      }
    },
    {
      "cell_type": "code",
      "source": [
        "num_1 = 8000\n",
        "num_2 = 3000\n",
        "unseen_data = scaler.transform([[num_1,num_2,np.nan]])\n",
        "print(\"Data :\",unseen_data)\n",
        "print(\"Label :\" )\n",
        "print(\"Actual Multiplication :\",num_1*num_2 +5)\n",
        "print(\"------------------------------------\")\n",
        "predicted = model.predict(unseen_data[:,:2])\n",
        "print(\"------------------------------------\")\n",
        "print(f\"Model scaled Prediction is : {predicted}\")\n",
        "output = scaler.inverse_transform([[np.nan,np.nan,predicted[0][0]]])\n",
        "print(f\"Model Prediction is : {output[0][2]}\")"
      ],
      "metadata": {
        "id": "_8Vn44F-vSYo",
        "colab": {
          "base_uri": "https://localhost:8080/"
        },
        "outputId": "02a002da-c8e2-4e8c-cc88-3015a9e8a93e"
      },
      "execution_count": 49,
      "outputs": [
        {
          "output_type": "stream",
          "name": "stdout",
          "text": [
            "Data : [[ 1.04001549 -0.69056813         nan]]\n",
            "Label :\n",
            "Actual Multiplication : 24000005\n",
            "------------------------------------\n",
            "1/1 [==============================] - 0s 36ms/step\n",
            "------------------------------------\n",
            "Model scaled Prediction is : [[-0.04317922]]\n",
            "Model Prediction is : 24015304.509091616\n"
          ]
        }
      ]
    },
    {
      "cell_type": "markdown",
      "source": [
        "## FFN : Two Hidden Layer"
      ],
      "metadata": {
        "id": "koac3v0k-IeE"
      }
    },
    {
      "cell_type": "code",
      "execution_count": 11,
      "metadata": {
        "colab": {
          "base_uri": "https://localhost:8080/"
        },
        "outputId": "7082e43f-2dd6-4a97-fc2e-744ce026c0c0",
        "id": "fd53uCqk-IeM"
      },
      "outputs": [
        {
          "metadata": {
            "tags": null
          },
          "name": "stdout",
          "output_type": "stream",
          "text": [
            "Model: \"sequential_1\"\n",
            "_________________________________________________________________\n",
            " Layer (type)                Output Shape              Param #   \n",
            "=================================================================\n",
            " dense_3 (Dense)             (None, 64)                192       \n",
            "                                                                 \n",
            " dense_4 (Dense)             (None, 64)                4160      \n",
            "                                                                 \n",
            " dense_5 (Dense)             (None, 1)                 65        \n",
            "                                                                 \n",
            "=================================================================\n",
            "Total params: 4417 (17.25 KB)\n",
            "Trainable params: 4417 (17.25 KB)\n",
            "Non-trainable params: 0 (0.00 Byte)\n",
            "_________________________________________________________________\n"
          ]
        },
        {
          "metadata": {
            "tags": null
          },
          "name": "stderr",
          "output_type": "stream",
          "text": [
            "WARNING:tensorflow:`epsilon` argument is deprecated and will be removed, use `min_delta` instead.\n"
          ]
        },
        {
          "metadata": {
            "tags": null
          },
          "name": "stdout",
          "output_type": "stream",
          "text": [
            "Epoch 1/100\n",
            "10000/10000 [==============================] - 37s 3ms/step - loss: 0.0017 - val_loss: 2.2257e-05 - lr: 0.0010\n",
            "Epoch 2/100\n",
            "   63/10000 [..............................] - ETA: 24s - loss: 1.5908e-05"
          ]
        },
        {
          "metadata": {
            "tags": null
          },
          "name": "stderr",
          "output_type": "stream",
          "text": [
            "/usr/local/lib/python3.10/dist-packages/keras/src/engine/training.py:3103: UserWarning: You are saving your model as an HDF5 file via `model.save()`. This file format is considered legacy. We recommend using instead the native Keras format, e.g. `model.save('my_model.keras')`.\n",
            "  saving_api.save_model(\n"
          ]
        },
        {
          "output_type": "stream",
          "name": "stdout",
          "text": [
            "10000/10000 [==============================] - 35s 3ms/step - loss: 2.5534e-05 - val_loss: 4.0732e-06 - lr: 0.0010\n",
            "Epoch 3/100\n",
            "10000/10000 [==============================] - 29s 3ms/step - loss: 1.7490e-05 - val_loss: 8.3898e-06 - lr: 0.0010\n",
            "Epoch 4/100\n",
            "10000/10000 [==============================] - 32s 3ms/step - loss: 1.5373e-05 - val_loss: 4.8172e-06 - lr: 0.0010\n",
            "Epoch 5/100\n",
            "10000/10000 [==============================] - 31s 3ms/step - loss: 1.2696e-05 - val_loss: 5.8235e-06 - lr: 0.0010\n",
            "Epoch 6/100\n",
            "10000/10000 [==============================] - 30s 3ms/step - loss: 1.3037e-05 - val_loss: 4.5417e-06 - lr: 0.0010\n",
            "Epoch 7/100\n",
            "10000/10000 [==============================] - 32s 3ms/step - loss: 1.0587e-05 - val_loss: 4.4341e-06 - lr: 0.0010\n",
            "Epoch 8/100\n",
            " 9981/10000 [============================>.] - ETA: 0s - loss: 1.1161e-05\n",
            "Epoch 8: ReduceLROnPlateau reducing learning rate to 0.00010000000474974513.\n",
            "10000/10000 [==============================] - 29s 3ms/step - loss: 1.1148e-05 - val_loss: 4.8549e-06 - lr: 0.0010\n",
            "Epoch 9/100\n",
            "10000/10000 [==============================] - 32s 3ms/step - loss: 1.6237e-06 - val_loss: 1.4540e-06 - lr: 1.0000e-04\n",
            "Epoch 10/100\n",
            "10000/10000 [==============================] - 29s 3ms/step - loss: 1.5722e-06 - val_loss: 1.4954e-06 - lr: 1.0000e-04\n",
            "Epoch 11/100\n",
            "10000/10000 [==============================] - 30s 3ms/step - loss: 1.4611e-06 - val_loss: 1.1833e-06 - lr: 1.0000e-04\n",
            "Epoch 12/100\n",
            "10000/10000 [==============================] - 32s 3ms/step - loss: 1.4061e-06 - val_loss: 1.3546e-06 - lr: 1.0000e-04\n",
            "Epoch 13/100\n",
            "10000/10000 [==============================] - 30s 3ms/step - loss: 1.3353e-06 - val_loss: 1.4372e-06 - lr: 1.0000e-04\n",
            "Epoch 14/100\n",
            "10000/10000 [==============================] - 30s 3ms/step - loss: 1.2825e-06 - val_loss: 1.7286e-06 - lr: 1.0000e-04\n",
            "Epoch 15/100\n",
            " 9996/10000 [============================>.] - ETA: 0s - loss: 1.2533e-06\n",
            "Epoch 15: ReduceLROnPlateau reducing learning rate to 1.0000000474974514e-05.\n",
            "10000/10000 [==============================] - 30s 3ms/step - loss: 1.2532e-06 - val_loss: 1.0288e-06 - lr: 1.0000e-04\n",
            "Epoch 16/100\n",
            "10000/10000 [==============================] - 29s 3ms/step - loss: 8.9701e-07 - val_loss: 9.0172e-07 - lr: 1.0000e-05\n",
            "Epoch 17/100\n",
            "10000/10000 [==============================] - 30s 3ms/step - loss: 8.8985e-07 - val_loss: 8.5341e-07 - lr: 1.0000e-05\n",
            "Epoch 18/100\n",
            "10000/10000 [==============================] - 32s 3ms/step - loss: 8.8437e-07 - val_loss: 9.6275e-07 - lr: 1.0000e-05\n",
            "Epoch 19/100\n",
            "10000/10000 [==============================] - 32s 3ms/step - loss: 8.7785e-07 - val_loss: 8.9240e-07 - lr: 1.0000e-05\n",
            "Epoch 20/100\n",
            "10000/10000 [==============================] - 31s 3ms/step - loss: 8.7257e-07 - val_loss: 8.7452e-07 - lr: 1.0000e-05\n",
            "Epoch 21/100\n",
            "10000/10000 [==============================] - 32s 3ms/step - loss: 8.6893e-07 - val_loss: 8.4461e-07 - lr: 1.0000e-05\n",
            "Epoch 22/100\n",
            " 9988/10000 [============================>.] - ETA: 0s - loss: 8.6262e-07\n",
            "Epoch 22: ReduceLROnPlateau reducing learning rate to 1.0000000656873453e-06.\n",
            "10000/10000 [==============================] - 31s 3ms/step - loss: 8.6266e-07 - val_loss: 8.4909e-07 - lr: 1.0000e-05\n",
            "Epoch 23/100\n",
            "10000/10000 [==============================] - 31s 3ms/step - loss: 8.2053e-07 - val_loss: 8.1753e-07 - lr: 1.0000e-06\n",
            "Epoch 24/100\n",
            "10000/10000 [==============================] - 34s 3ms/step - loss: 8.1961e-07 - val_loss: 8.1560e-07 - lr: 1.0000e-06\n",
            "Epoch 25/100\n",
            "10000/10000 [==============================] - 30s 3ms/step - loss: 8.1924e-07 - val_loss: 8.1563e-07 - lr: 1.0000e-06\n",
            "Epoch 26/100\n",
            "10000/10000 [==============================] - 30s 3ms/step - loss: 8.1851e-07 - val_loss: 8.1603e-07 - lr: 1.0000e-06\n",
            "Epoch 27/100\n",
            "10000/10000 [==============================] - 31s 3ms/step - loss: 8.1794e-07 - val_loss: 8.1335e-07 - lr: 1.0000e-06\n",
            "Epoch 28/100\n",
            "10000/10000 [==============================] - 31s 3ms/step - loss: 8.1704e-07 - val_loss: 8.1676e-07 - lr: 1.0000e-06\n",
            "Epoch 29/100\n",
            " 9999/10000 [============================>.] - ETA: 0s - loss: 8.1661e-07\n",
            "Epoch 29: ReduceLROnPlateau reducing learning rate to 1.0000001111620805e-07.\n",
            "10000/10000 [==============================] - 30s 3ms/step - loss: 8.1661e-07 - val_loss: 8.1619e-07 - lr: 1.0000e-06\n",
            "Epoch 30/100\n",
            "10000/10000 [==============================] - 32s 3ms/step - loss: 8.1180e-07 - val_loss: 8.1029e-07 - lr: 1.0000e-07\n",
            "Epoch 31/100\n",
            "10000/10000 [==============================] - 33s 3ms/step - loss: 8.1162e-07 - val_loss: 8.1038e-07 - lr: 1.0000e-07\n",
            "Epoch 32/100\n",
            "10000/10000 [==============================] - 34s 3ms/step - loss: 8.1147e-07 - val_loss: 8.1111e-07 - lr: 1.0000e-07\n",
            "Epoch 33/100\n",
            "10000/10000 [==============================] - 33s 3ms/step - loss: 8.1147e-07 - val_loss: 8.1039e-07 - lr: 1.0000e-07\n",
            "Epoch 34/100\n",
            "10000/10000 [==============================] - 30s 3ms/step - loss: 8.1146e-07 - val_loss: 8.1029e-07 - lr: 1.0000e-07\n",
            "Epoch 35/100\n",
            "10000/10000 [==============================] - 30s 3ms/step - loss: 8.1140e-07 - val_loss: 8.1018e-07 - lr: 1.0000e-07\n",
            "Epoch 36/100\n",
            " 9993/10000 [============================>.] - ETA: 0s - loss: 8.1122e-07\n",
            "Epoch 36: ReduceLROnPlateau reducing learning rate to 1.000000082740371e-08.\n",
            "10000/10000 [==============================] - 31s 3ms/step - loss: 8.1128e-07 - val_loss: 8.1027e-07 - lr: 1.0000e-07\n",
            "Epoch 37/100\n",
            "10000/10000 [==============================] - 32s 3ms/step - loss: 8.1082e-07 - val_loss: 8.0990e-07 - lr: 1.0000e-08\n",
            "Epoch 38/100\n",
            "10000/10000 [==============================] - 33s 3ms/step - loss: 8.1076e-07 - val_loss: 8.0989e-07 - lr: 1.0000e-08\n",
            "Epoch 39/100\n",
            "10000/10000 [==============================] - 31s 3ms/step - loss: 8.1074e-07 - val_loss: 8.0987e-07 - lr: 1.0000e-08\n",
            "Epoch 40/100\n",
            "10000/10000 [==============================] - 32s 3ms/step - loss: 8.1074e-07 - val_loss: 8.0986e-07 - lr: 1.0000e-08\n",
            "Epoch 41/100\n",
            "10000/10000 [==============================] - 33s 3ms/step - loss: 8.1073e-07 - val_loss: 8.0984e-07 - lr: 1.0000e-08\n",
            "Epoch 42/100\n",
            "10000/10000 [==============================] - 33s 3ms/step - loss: 8.1071e-07 - val_loss: 8.0993e-07 - lr: 1.0000e-08\n",
            "Epoch 43/100\n",
            " 9994/10000 [============================>.] - ETA: 0s - loss: 8.1069e-07\n",
            "Epoch 43: ReduceLROnPlateau reducing learning rate to 1.000000082740371e-09.\n",
            "10000/10000 [==============================] - 35s 4ms/step - loss: 8.1072e-07 - val_loss: 8.0985e-07 - lr: 1.0000e-08\n",
            "Epoch 44/100\n",
            "10000/10000 [==============================] - 33s 3ms/step - loss: 8.1070e-07 - val_loss: 8.0985e-07 - lr: 1.0000e-09\n",
            "Epoch 45/100\n",
            "10000/10000 [==============================] - 35s 4ms/step - loss: 8.1070e-07 - val_loss: 8.0985e-07 - lr: 1.0000e-09\n",
            "Epoch 46/100\n",
            "10000/10000 [==============================] - 33s 3ms/step - loss: 8.1070e-07 - val_loss: 8.0985e-07 - lr: 1.0000e-09\n",
            "Epoch 47/100\n",
            "10000/10000 [==============================] - 31s 3ms/step - loss: 8.1070e-07 - val_loss: 8.0985e-07 - lr: 1.0000e-09\n",
            "Epoch 48/100\n",
            "10000/10000 [==============================] - 29s 3ms/step - loss: 8.1070e-07 - val_loss: 8.0985e-07 - lr: 1.0000e-09\n",
            "Epoch 49/100\n",
            "10000/10000 [==============================] - 31s 3ms/step - loss: 8.1070e-07 - val_loss: 8.0985e-07 - lr: 1.0000e-09\n",
            "Epoch 50/100\n",
            " 9987/10000 [============================>.] - ETA: 0s - loss: 8.1071e-07\n",
            "Epoch 50: ReduceLROnPlateau reducing learning rate to 1.000000082740371e-10.\n",
            "10000/10000 [==============================] - 31s 3ms/step - loss: 8.1070e-07 - val_loss: 8.0985e-07 - lr: 1.0000e-09\n",
            "Epoch 51/100\n",
            "10000/10000 [==============================] - 30s 3ms/step - loss: 8.1070e-07 - val_loss: 8.0985e-07 - lr: 1.0000e-10\n"
          ]
        }
      ],
      "source": [
        "model = keras.Sequential()\n",
        "model.add(layers.Dense(64,activation=\"relu\",input_dim=2))\n",
        "model.add(layers.Dense(64,activation=\"relu\"))\n",
        "model.add(layers.Dense(1,activation=\"linear\"))\n",
        "\n",
        "model.summary()\n",
        "\n",
        "# Compile the Model\n",
        "model.compile(loss = 'MSE',\n",
        "              optimizer=\"adam\")\n",
        "\n",
        "# Callbacks Configs\n",
        "earlyStopping = EarlyStopping(monitor='val_loss', patience=10, verbose=0, mode='min')\n",
        "mcp_save = ModelCheckpoint('.mdl_wts.hdf5', save_best_only=True, monitor='val_loss', mode='min')\n",
        "reduce_lr_loss = ReduceLROnPlateau(monitor='val_loss', factor=0.1, patience=7, verbose=1, epsilon=1e-4, mode='min')\n",
        "\n",
        "history = model.fit(X_train,Y_train,batch_size=64,epochs=100,validation_split=0.2,callbacks=[earlyStopping, mcp_save, reduce_lr_loss],)"
      ]
    },
    {
      "cell_type": "code",
      "source": [
        "from matplotlib import pyplot as plt\n",
        "plt.plot(history.history['loss'])\n",
        "plt.plot(history.history['val_loss'])\n",
        "plt.title('model loss')\n",
        "plt.ylabel('loss')\n",
        "plt.xlabel('epoch')\n",
        "plt.legend(['train', 'val'], loc='upper left')\n",
        "plt.show()"
      ],
      "metadata": {
        "colab": {
          "base_uri": "https://localhost:8080/",
          "height": 472
        },
        "outputId": "c89abe47-18a6-4e1d-c79f-90637d861d74",
        "id": "itwtYwtV-IeN"
      },
      "execution_count": 12,
      "outputs": [
        {
          "output_type": "display_data",
          "data": {
            "text/plain": [
              "<Figure size 640x480 with 1 Axes>"
            ],
            "image/png": "[encoded data removed]"
          },
          "metadata": {}
        }
      ]
    },
    {
      "cell_type": "code",
      "source": [
        "from matplotlib import pyplot as plt\n",
        "plt.plot(history.history['loss'][5:])\n",
        "plt.plot(history.history['val_loss'][5:])\n",
        "plt.title('model loss')\n",
        "plt.ylabel('loss')\n",
        "plt.xlabel('epoch')\n",
        "plt.legend(['train', 'val'], loc='upper left')\n",
        "plt.show()"
      ],
      "metadata": {
        "id": "wfgeRWQW-IeN"
      },
      "execution_count": null,
      "outputs": []
    },
    {
      "cell_type": "code",
      "source": [
        "from matplotlib import pyplot as plt\n",
        "plt.plot(history.history['loss'][30:])\n",
        "plt.plot(history.history['val_loss'][30:])\n",
        "plt.title('model loss')\n",
        "plt.ylabel('loss')\n",
        "plt.xlabel('epoch')\n",
        "plt.legend(['train', 'val'], loc='upper left')\n",
        "plt.show()"
      ],
      "metadata": {
        "colab": {
          "base_uri": "https://localhost:8080/",
          "height": 472
        },
        "outputId": "0c8f681a-04ff-4d7f-8771-c8a18068d55f",
        "id": "r8vqnzWM-IeN"
      },
      "execution_count": 14,
      "outputs": [
        {
          "output_type": "display_data",
          "data": {
            "text/plain": [
              "<Figure size 640x480 with 1 Axes>"
            ],
            "image/png": "[encoded data removed]"
          },
          "metadata": {}
        }
      ]
    },
    {
      "cell_type": "markdown",
      "source": [
        "### ٍEvaluate Model"
      ],
      "metadata": {
        "id": "A8BrzRV4-IeO"
      }
    },
    {
      "cell_type": "code",
      "execution_count": 15,
      "metadata": {
        "colab": {
          "base_uri": "https://localhost:8080/"
        },
        "outputId": "1c64e8af-e4ab-4be7-ec14-fc20af56c4c9",
        "id": "Sz8xnZWM-IeO"
      },
      "outputs": [
        {
          "output_type": "stream",
          "name": "stdout",
          "text": [
            "6093/6093 [==============================] - 13s 2ms/step - loss: 8.1234e-07\n"
          ]
        },
        {
          "output_type": "execute_result",
          "data": {
            "text/plain": [
              "8.123406018967216e-07"
            ]
          },
          "metadata": {},
          "execution_count": 15
        }
      ],
      "source": [
        "model.evaluate(X_test,Y_test)"
      ]
    },
    {
      "cell_type": "code",
      "source": [
        "y_predicted = model.predict(X_test)"
      ],
      "metadata": {
        "id": "bdnKnSWf-IeO"
      },
      "execution_count": null,
      "outputs": []
    },
    {
      "cell_type": "code",
      "source": [
        "from sklearn.metrics import (\n",
        "    mean_absolute_error,\n",
        "    mean_squared_error,\n",
        "    r2_score,\n",
        ")\n",
        "\n",
        "print('MAE: ',mean_absolute_error(Y_test, y_predicted))\n",
        "print('MSE: ',mean_squared_error(Y_test, y_predicted))\n",
        "print('R2_score: ',r2_score(Y_test, y_predicted))\n"
      ],
      "metadata": {
        "colab": {
          "base_uri": "https://localhost:8080/"
        },
        "outputId": "3db7c208-99c1-4e69-865c-da2694bcae53",
        "id": "P71xkVxs-IeO"
      },
      "execution_count": 17,
      "outputs": [
        {
          "output_type": "stream",
          "name": "stdout",
          "text": [
            "MAE:  0.000706885314877243\n",
            "MSE:  8.123406824961714e-07\n",
            "R2_score:  0.9999991873627554\n"
          ]
        }
      ]
    },
    {
      "cell_type": "markdown",
      "source": [
        "### Let's test the model"
      ],
      "metadata": {
        "id": "FkisExmv-IeO"
      }
    },
    {
      "cell_type": "code",
      "source": [
        "test_data = X_test.iloc[:1]\n",
        "print(\"Data :\")\n",
        "display(test_data)\n",
        "print(\"------------------------------------\")\n",
        "print(\"lable :\",)\n",
        "display(Y_test.iloc[:1])\n",
        "print(\"------------------------------------\")\n",
        "predicted = model.predict(test_data)\n",
        "print(\"------------------------------------\")\n",
        "print(f\"Model scaled Prediction is : {predicted}\")\n",
        "output = scaler.inverse_transform([[np.nan,np.nan,predicted[0][0]]])\n",
        "print(f\"Model Prediction is : {output[0][2]}\")"
      ],
      "metadata": {
        "id": "6yC1JCV0-IeO"
      },
      "execution_count": null,
      "outputs": []
    },
    {
      "cell_type": "markdown",
      "source": [
        "### Let's test the model via unseen data"
      ],
      "metadata": {
        "id": "rLasqUVO-IeO"
      }
    },
    {
      "cell_type": "code",
      "source": [
        "num_1 = 8000\n",
        "num_2 = 3000\n",
        "unseen_data = scaler.transform([[num_1,num_2,np.nan]])\n",
        "print(\"Data :\",unseen_data)\n",
        "print(\"Label :\" )\n",
        "print(\"Actual Multiplication :\",num_1*num_2 +5)\n",
        "print(\"------------------------------------\")\n",
        "predicted = model.predict(unseen_data[:,:2])\n",
        "print(\"------------------------------------\")\n",
        "print(f\"Model scaled Prediction is : {predicted}\")\n",
        "output = scaler.inverse_transform([[np.nan,np.nan,predicted[0][0]]])\n",
        "print(f\"Model Prediction is : {output[0][2]}\")"
      ],
      "metadata": {
        "colab": {
          "base_uri": "https://localhost:8080/"
        },
        "outputId": "8e617110-e8d2-4c97-f471-0abd254fe5a7",
        "id": "z1VNhITZ-IeO"
      },
      "execution_count": 19,
      "outputs": [
        {
          "output_type": "stream",
          "name": "stdout",
          "text": [
            "Data : [[ 1.03774632 -0.69262191         nan]]\n",
            "Label :\n",
            "Actual Multiplication : 24000005\n",
            "------------------------------------\n",
            "1/1 [==============================] - 0s 57ms/step\n",
            "------------------------------------\n",
            "Model scaled Prediction is : [[-0.04481017]]\n",
            "Model Prediction is : 24023951.601729915\n",
            "Data : [[ 1.03774632 -0.69262191         nan]]\n",
            "Label :\n",
            "Actual Multiplication : 24000005\n",
            "------------------------------------\n",
            "1/1 [==============================] - 0s 57ms/step\n",
            "------------------------------------\n",
            "Model scaled Prediction is : [[-0.04481017]]\n",
            "Model Prediction is : 24023951.601729915\n"
          ]
        }
      ]
    },
    {
      "cell_type": "code",
      "source": [
        "num_1 = 4455\n",
        "num_2 = 5556\n",
        "unseen_data = scaler.transform([[num_1,num_2,np.nan]])\n",
        "print(\"Data :\",unseen_data)\n",
        "print(\"Label :\" )\n",
        "print(\"Actual Multiplication :\",num_1*num_2 +5)\n",
        "print(\"------------------------------------\")\n",
        "predicted = model.predict(unseen_data[:,:2])\n",
        "print(\"------------------------------------\")\n",
        "print(f\"Model scaled Prediction is : {predicted}\")\n",
        "output = scaler.inverse_transform([[np.nan,np.nan,predicted[0][0]]])\n",
        "print(f\"Model Prediction is : {output[0][2]}\")"
      ],
      "metadata": {
        "colab": {
          "base_uri": "https://localhost:8080/"
        },
        "outputId": "ec7e3424-d072-4c45-f9a1-eee733cea19a",
        "id": "QJwcxxgUF_u4"
      },
      "execution_count": 22,
      "outputs": [
        {
          "output_type": "stream",
          "name": "stdout",
          "text": [
            "Data : [[-0.18925441  0.19237757         nan]]\n",
            "Label :\n",
            "Actual Multiplication : 24751985\n",
            "------------------------------------\n",
            "1/1 [==============================] - 0s 18ms/step\n",
            "------------------------------------\n",
            "Model scaled Prediction is : [[-0.01235055]]\n",
            "Model Prediction is : 24740506.189390738\n"
          ]
        }
      ]
    },
    {
      "cell_type": "code",
      "source": [
        "num_1 = 50\n",
        "num_2 = 34\n",
        "unseen_data = scaler.transform([[num_1,num_2,np.nan]])\n",
        "print(\"Data :\",unseen_data)\n",
        "print(\"Label :\" )\n",
        "print(\"Actual Multiplication :\",num_1*num_2 +5)\n",
        "print(\"------------------------------------\")\n",
        "predicted = model.predict(unseen_data[:,:2])\n",
        "print(\"------------------------------------\")\n",
        "print(f\"Model scaled Prediction is : {predicted}\")\n",
        "output = scaler.inverse_transform([[np.nan,np.nan,predicted[0][0]]])\n",
        "print(f\"Model Prediction is : {output[0][2]}\")"
      ],
      "metadata": {
        "colab": {
          "base_uri": "https://localhost:8080/"
        },
        "outputId": "769ef542-27b1-43eb-95ef-a91fde2c1d3c",
        "id": "1ilib2t2GYND"
      },
      "execution_count": 23,
      "outputs": [
        {
          "output_type": "stream",
          "name": "stdout",
          "text": [
            "Data : [[-1.71391962 -1.7195814          nan]]\n",
            "Label :\n",
            "Actual Multiplication : 1705\n",
            "------------------------------------\n",
            "1/1 [==============================] - 0s 18ms/step\n",
            "------------------------------------\n",
            "Model scaled Prediction is : [[-1.1391819]]\n",
            "Model Prediction is : -134592.9642238319\n"
          ]
        }
      ]
    },
    {
      "cell_type": "markdown",
      "source": [
        "## CNN : 1D"
      ],
      "metadata": {
        "id": "8nZQfx7eNb-L"
      }
    },
    {
      "cell_type": "code",
      "execution_count": null,
      "metadata": {
        "colab": {
          "base_uri": "https://localhost:8080/",
          "height": 703
        },
        "outputId": "3655d285-f0ab-4f2c-9a54-be758444cd36",
        "id": "GKKQ2pMENb-L"
      },
      "outputs": [
        {
          "output_type": "stream",
          "name": "stdout",
          "text": [
            "Model: \"sequential_20\"\n",
            "_________________________________________________________________\n",
            " Layer (type)                Output Shape              Param #   \n",
            "=================================================================\n",
            " dense_25 (Dense)            (None, 64)                192       \n",
            "                                                                 \n",
            " dense_26 (Dense)            (None, 1)                 65        \n",
            "                                                                 \n",
            "=================================================================\n",
            "Total params: 257 (1.00 KB)\n",
            "Trainable params: 257 (1.00 KB)\n",
            "Non-trainable params: 0 (0.00 Byte)\n",
            "_________________________________________________________________\n"
          ]
        },
        {
          "output_type": "stream",
          "name": "stderr",
          "text": [
            "WARNING:tensorflow:`epsilon` argument is deprecated and will be removed, use `min_delta` instead.\n"
          ]
        },
        {
          "output_type": "stream",
          "name": "stdout",
          "text": [
            "Epoch 1/100\n",
            " 6184/10000 [=================>............] - ETA: 8s - loss: nan"
          ]
        },
        {
          "output_type": "error",
          "ename": "KeyboardInterrupt",
          "evalue": "",
          "traceback": [
            "\u001b[0;31m---------------------------------------------------------------------------\u001b[0m",
            "\u001b[0;31mKeyboardInterrupt\u001b[0m                         Traceback (most recent call last)",
            "\u001b[0;32m<ipython-input-66-b146ff1e794d>\u001b[0m in \u001b[0;36m<cell line: 18>\u001b[0;34m()\u001b[0m\n\u001b[1;32m     16\u001b[0m \u001b[0mreduce_lr_loss\u001b[0m \u001b[0;34m=\u001b[0m \u001b[0mReduceLROnPlateau\u001b[0m\u001b[0;34m(\u001b[0m\u001b[0mmonitor\u001b[0m\u001b[0;34m=\u001b[0m\u001b[0;34m'val_loss'\u001b[0m\u001b[0;34m,\u001b[0m \u001b[0mfactor\u001b[0m\u001b[0;34m=\u001b[0m\u001b[0;36m0.1\u001b[0m\u001b[0;34m,\u001b[0m \u001b[0mpatience\u001b[0m\u001b[0;34m=\u001b[0m\u001b[0;36m7\u001b[0m\u001b[0;34m,\u001b[0m \u001b[0mverbose\u001b[0m\u001b[0;34m=\u001b[0m\u001b[0;36m1\u001b[0m\u001b[0;34m,\u001b[0m \u001b[0mepsilon\u001b[0m\u001b[0;34m=\u001b[0m\u001b[0;36m1e-4\u001b[0m\u001b[0;34m,\u001b[0m \u001b[0mmode\u001b[0m\u001b[0;34m=\u001b[0m\u001b[0;34m'min'\u001b[0m\u001b[0;34m)\u001b[0m\u001b[0;34m\u001b[0m\u001b[0;34m\u001b[0m\u001b[0m\n\u001b[1;32m     17\u001b[0m \u001b[0;34m\u001b[0m\u001b[0m\n\u001b[0;32m---> 18\u001b[0;31m \u001b[0mhistory\u001b[0m \u001b[0;34m=\u001b[0m \u001b[0mmodel\u001b[0m\u001b[0;34m.\u001b[0m\u001b[0mfit\u001b[0m\u001b[0;34m(\u001b[0m\u001b[0mX_train\u001b[0m\u001b[0;34m,\u001b[0m\u001b[0mY_train\u001b[0m\u001b[0;34m,\u001b[0m\u001b[0mbatch_size\u001b[0m\u001b[0;34m=\u001b[0m\u001b[0;36m64\u001b[0m\u001b[0;34m,\u001b[0m\u001b[0mepochs\u001b[0m\u001b[0;34m=\u001b[0m\u001b[0;36m100\u001b[0m\u001b[0;34m,\u001b[0m\u001b[0mvalidation_split\u001b[0m\u001b[0;34m=\u001b[0m\u001b[0;36m0.2\u001b[0m\u001b[0;34m,\u001b[0m\u001b[0mcallbacks\u001b[0m\u001b[0;34m=\u001b[0m\u001b[0;34m[\u001b[0m\u001b[0mearlyStopping\u001b[0m\u001b[0;34m,\u001b[0m \u001b[0mmcp_save\u001b[0m\u001b[0;34m,\u001b[0m \u001b[0mreduce_lr_loss\u001b[0m\u001b[0;34m]\u001b[0m\u001b[0;34m,\u001b[0m\u001b[0;34m)\u001b[0m\u001b[0;34m\u001b[0m\u001b[0;34m\u001b[0m\u001b[0m\n\u001b[0m",
            "\u001b[0;32m/usr/local/lib/python3.10/dist-packages/keras/src/utils/traceback_utils.py\u001b[0m in \u001b[0;36merror_handler\u001b[0;34m(*args, **kwargs)\u001b[0m\n\u001b[1;32m     63\u001b[0m         \u001b[0mfiltered_tb\u001b[0m \u001b[0;34m=\u001b[0m \u001b[0;32mNone\u001b[0m\u001b[0;34m\u001b[0m\u001b[0;34m\u001b[0m\u001b[0m\n\u001b[1;32m     64\u001b[0m         \u001b[0;32mtry\u001b[0m\u001b[0;34m:\u001b[0m\u001b[0;34m\u001b[0m\u001b[0;34m\u001b[0m\u001b[0m\n\u001b[0;32m---> 65\u001b[0;31m             \u001b[0;32mreturn\u001b[0m \u001b[0mfn\u001b[0m\u001b[0;34m(\u001b[0m\u001b[0;34m*\u001b[0m\u001b[0margs\u001b[0m\u001b[0;34m,\u001b[0m \u001b[0;34m**\u001b[0m\u001b[0mkwargs\u001b[0m\u001b[0;34m)\u001b[0m\u001b[0;34m\u001b[0m\u001b[0;34m\u001b[0m\u001b[0m\n\u001b[0m\u001b[1;32m     66\u001b[0m         \u001b[0;32mexcept\u001b[0m \u001b[0mException\u001b[0m \u001b[0;32mas\u001b[0m \u001b[0me\u001b[0m\u001b[0;34m:\u001b[0m\u001b[0;34m\u001b[0m\u001b[0;34m\u001b[0m\u001b[0m\n\u001b[1;32m     67\u001b[0m             \u001b[0mfiltered_tb\u001b[0m \u001b[0;34m=\u001b[0m \u001b[0m_process_traceback_frames\u001b[0m\u001b[0;34m(\u001b[0m\u001b[0me\u001b[0m\u001b[0;34m.\u001b[0m\u001b[0m__traceback__\u001b[0m\u001b[0;34m)\u001b[0m\u001b[0;34m\u001b[0m\u001b[0;34m\u001b[0m\u001b[0m\n",
            "\u001b[0;32m/usr/local/lib/python3.10/dist-packages/keras/src/engine/training.py\u001b[0m in \u001b[0;36mfit\u001b[0;34m(self, x, y, batch_size, epochs, verbose, callbacks, validation_split, validation_data, shuffle, class_weight, sample_weight, initial_epoch, steps_per_epoch, validation_steps, validation_batch_size, validation_freq, max_queue_size, workers, use_multiprocessing)\u001b[0m\n\u001b[1;32m   1796\u001b[0m                 \u001b[0mcallbacks\u001b[0m\u001b[0;34m.\u001b[0m\u001b[0mon_epoch_begin\u001b[0m\u001b[0;34m(\u001b[0m\u001b[0mepoch\u001b[0m\u001b[0;34m)\u001b[0m\u001b[0;34m\u001b[0m\u001b[0;34m\u001b[0m\u001b[0m\n\u001b[1;32m   1797\u001b[0m                 \u001b[0;32mwith\u001b[0m \u001b[0mdata_handler\u001b[0m\u001b[0;34m.\u001b[0m\u001b[0mcatch_stop_iteration\u001b[0m\u001b[0;34m(\u001b[0m\u001b[0;34m)\u001b[0m\u001b[0;34m:\u001b[0m\u001b[0;34m\u001b[0m\u001b[0;34m\u001b[0m\u001b[0m\n\u001b[0;32m-> 1798\u001b[0;31m                     \u001b[0;32mfor\u001b[0m \u001b[0mstep\u001b[0m \u001b[0;32min\u001b[0m \u001b[0mdata_handler\u001b[0m\u001b[0;34m.\u001b[0m\u001b[0msteps\u001b[0m\u001b[0;34m(\u001b[0m\u001b[0;34m)\u001b[0m\u001b[0;34m:\u001b[0m\u001b[0;34m\u001b[0m\u001b[0;34m\u001b[0m\u001b[0m\n\u001b[0m\u001b[1;32m   1799\u001b[0m                         with tf.profiler.experimental.Trace(\n\u001b[1;32m   1800\u001b[0m                             \u001b[0;34m\"train\"\u001b[0m\u001b[0;34m,\u001b[0m\u001b[0;34m\u001b[0m\u001b[0;34m\u001b[0m\u001b[0m\n",
            "\u001b[0;32m/usr/local/lib/python3.10/dist-packages/keras/src/engine/data_adapter.py\u001b[0m in \u001b[0;36msteps\u001b[0;34m(self)\u001b[0m\n\u001b[1;32m   1409\u001b[0m             \u001b[0;32mif\u001b[0m \u001b[0mself\u001b[0m\u001b[0;34m.\u001b[0m\u001b[0m_insufficient_data\u001b[0m\u001b[0;34m:\u001b[0m  \u001b[0;31m# Set by `catch_stop_iteration`.\u001b[0m\u001b[0;34m\u001b[0m\u001b[0;34m\u001b[0m\u001b[0m\n\u001b[1;32m   1410\u001b[0m                 \u001b[0;32mbreak\u001b[0m\u001b[0;34m\u001b[0m\u001b[0;34m\u001b[0m\u001b[0m\n\u001b[0;32m-> 1411\u001b[0;31m             \u001b[0moriginal_spe\u001b[0m \u001b[0;34m=\u001b[0m \u001b[0mself\u001b[0m\u001b[0;34m.\u001b[0m\u001b[0m_steps_per_execution\u001b[0m\u001b[0;34m.\u001b[0m\u001b[0mnumpy\u001b[0m\u001b[0;34m(\u001b[0m\u001b[0;34m)\u001b[0m\u001b[0;34m.\u001b[0m\u001b[0mitem\u001b[0m\u001b[0;34m(\u001b[0m\u001b[0;34m)\u001b[0m\u001b[0;34m\u001b[0m\u001b[0;34m\u001b[0m\u001b[0m\n\u001b[0m\u001b[1;32m   1412\u001b[0m             can_run_full_execution = (\n\u001b[1;32m   1413\u001b[0m                 \u001b[0moriginal_spe\u001b[0m \u001b[0;34m==\u001b[0m \u001b[0;36m1\u001b[0m\u001b[0;34m\u001b[0m\u001b[0;34m\u001b[0m\u001b[0m\n",
            "\u001b[0;32m/usr/local/lib/python3.10/dist-packages/tensorflow/python/ops/resource_variable_ops.py\u001b[0m in \u001b[0;36mnumpy\u001b[0;34m(self)\u001b[0m\n\u001b[1;32m    687\u001b[0m   \u001b[0;32mdef\u001b[0m \u001b[0mnumpy\u001b[0m\u001b[0;34m(\u001b[0m\u001b[0mself\u001b[0m\u001b[0;34m)\u001b[0m\u001b[0;34m:\u001b[0m\u001b[0;34m\u001b[0m\u001b[0;34m\u001b[0m\u001b[0m\n\u001b[1;32m    688\u001b[0m     \u001b[0;32mif\u001b[0m \u001b[0mcontext\u001b[0m\u001b[0;34m.\u001b[0m\u001b[0mexecuting_eagerly\u001b[0m\u001b[0;34m(\u001b[0m\u001b[0;34m)\u001b[0m\u001b[0;34m:\u001b[0m\u001b[0;34m\u001b[0m\u001b[0;34m\u001b[0m\u001b[0m\n\u001b[0;32m--> 689\u001b[0;31m       \u001b[0;32mreturn\u001b[0m \u001b[0mself\u001b[0m\u001b[0;34m.\u001b[0m\u001b[0mread_value\u001b[0m\u001b[0;34m(\u001b[0m\u001b[0;34m)\u001b[0m\u001b[0;34m.\u001b[0m\u001b[0mnumpy\u001b[0m\u001b[0;34m(\u001b[0m\u001b[0;34m)\u001b[0m\u001b[0;34m\u001b[0m\u001b[0;34m\u001b[0m\u001b[0m\n\u001b[0m\u001b[1;32m    690\u001b[0m     raise NotImplementedError(\n\u001b[1;32m    691\u001b[0m         \"numpy() is only available when eager execution is enabled.\")\n",
            "\u001b[0;32m/usr/local/lib/python3.10/dist-packages/tensorflow/python/ops/resource_variable_ops.py\u001b[0m in \u001b[0;36mread_value\u001b[0;34m(self)\u001b[0m\n\u001b[1;32m    840\u001b[0m     \u001b[0;31m# Return an identity so it can get placed on whatever device the context\u001b[0m\u001b[0;34m\u001b[0m\u001b[0;34m\u001b[0m\u001b[0m\n\u001b[1;32m    841\u001b[0m     \u001b[0;31m# specifies instead of the device where the variable is.\u001b[0m\u001b[0;34m\u001b[0m\u001b[0;34m\u001b[0m\u001b[0m\n\u001b[0;32m--> 842\u001b[0;31m     \u001b[0;32mreturn\u001b[0m \u001b[0marray_ops\u001b[0m\u001b[0;34m.\u001b[0m\u001b[0midentity\u001b[0m\u001b[0;34m(\u001b[0m\u001b[0mvalue\u001b[0m\u001b[0;34m)\u001b[0m\u001b[0;34m\u001b[0m\u001b[0;34m\u001b[0m\u001b[0m\n\u001b[0m\u001b[1;32m    843\u001b[0m \u001b[0;34m\u001b[0m\u001b[0m\n\u001b[1;32m    844\u001b[0m   \u001b[0;32mdef\u001b[0m \u001b[0mread_value_no_copy\u001b[0m\u001b[0;34m(\u001b[0m\u001b[0mself\u001b[0m\u001b[0;34m)\u001b[0m\u001b[0;34m:\u001b[0m\u001b[0;34m\u001b[0m\u001b[0;34m\u001b[0m\u001b[0m\n",
            "\u001b[0;32m/usr/local/lib/python3.10/dist-packages/tensorflow/python/ops/weak_tensor_ops.py\u001b[0m in \u001b[0;36mwrapper\u001b[0;34m(*args, **kwargs)\u001b[0m\n\u001b[1;32m     86\u001b[0m   \u001b[0;32mdef\u001b[0m \u001b[0mwrapper\u001b[0m\u001b[0;34m(\u001b[0m\u001b[0;34m*\u001b[0m\u001b[0margs\u001b[0m\u001b[0;34m,\u001b[0m \u001b[0;34m**\u001b[0m\u001b[0mkwargs\u001b[0m\u001b[0;34m)\u001b[0m\u001b[0;34m:\u001b[0m\u001b[0;34m\u001b[0m\u001b[0;34m\u001b[0m\u001b[0m\n\u001b[1;32m     87\u001b[0m     \u001b[0;32mif\u001b[0m \u001b[0;32mnot\u001b[0m \u001b[0mops\u001b[0m\u001b[0;34m.\u001b[0m\u001b[0mis_auto_dtype_conversion_enabled\u001b[0m\u001b[0;34m(\u001b[0m\u001b[0;34m)\u001b[0m\u001b[0;34m:\u001b[0m\u001b[0;34m\u001b[0m\u001b[0;34m\u001b[0m\u001b[0m\n\u001b[0;32m---> 88\u001b[0;31m       \u001b[0;32mreturn\u001b[0m \u001b[0mop\u001b[0m\u001b[0;34m(\u001b[0m\u001b[0;34m*\u001b[0m\u001b[0margs\u001b[0m\u001b[0;34m,\u001b[0m \u001b[0;34m**\u001b[0m\u001b[0mkwargs\u001b[0m\u001b[0;34m)\u001b[0m\u001b[0;34m\u001b[0m\u001b[0;34m\u001b[0m\u001b[0m\n\u001b[0m\u001b[1;32m     89\u001b[0m     \u001b[0mbound_arguments\u001b[0m \u001b[0;34m=\u001b[0m \u001b[0msignature\u001b[0m\u001b[0;34m.\u001b[0m\u001b[0mbind\u001b[0m\u001b[0;34m(\u001b[0m\u001b[0;34m*\u001b[0m\u001b[0margs\u001b[0m\u001b[0;34m,\u001b[0m \u001b[0;34m**\u001b[0m\u001b[0mkwargs\u001b[0m\u001b[0;34m)\u001b[0m\u001b[0;34m\u001b[0m\u001b[0;34m\u001b[0m\u001b[0m\n\u001b[1;32m     90\u001b[0m     \u001b[0mbound_arguments\u001b[0m\u001b[0;34m.\u001b[0m\u001b[0mapply_defaults\u001b[0m\u001b[0;34m(\u001b[0m\u001b[0;34m)\u001b[0m\u001b[0;34m\u001b[0m\u001b[0;34m\u001b[0m\u001b[0m\n",
            "\u001b[0;32m/usr/local/lib/python3.10/dist-packages/tensorflow/python/util/traceback_utils.py\u001b[0m in \u001b[0;36merror_handler\u001b[0;34m(*args, **kwargs)\u001b[0m\n\u001b[1;32m    148\u001b[0m     \u001b[0mfiltered_tb\u001b[0m \u001b[0;34m=\u001b[0m \u001b[0;32mNone\u001b[0m\u001b[0;34m\u001b[0m\u001b[0;34m\u001b[0m\u001b[0m\n\u001b[1;32m    149\u001b[0m     \u001b[0;32mtry\u001b[0m\u001b[0;34m:\u001b[0m\u001b[0;34m\u001b[0m\u001b[0;34m\u001b[0m\u001b[0m\n\u001b[0;32m--> 150\u001b[0;31m       \u001b[0;32mreturn\u001b[0m \u001b[0mfn\u001b[0m\u001b[0;34m(\u001b[0m\u001b[0;34m*\u001b[0m\u001b[0margs\u001b[0m\u001b[0;34m,\u001b[0m \u001b[0;34m**\u001b[0m\u001b[0mkwargs\u001b[0m\u001b[0;34m)\u001b[0m\u001b[0;34m\u001b[0m\u001b[0;34m\u001b[0m\u001b[0m\n\u001b[0m\u001b[1;32m    151\u001b[0m     \u001b[0;32mexcept\u001b[0m \u001b[0mException\u001b[0m \u001b[0;32mas\u001b[0m \u001b[0me\u001b[0m\u001b[0;34m:\u001b[0m\u001b[0;34m\u001b[0m\u001b[0;34m\u001b[0m\u001b[0m\n\u001b[1;32m    152\u001b[0m       \u001b[0mfiltered_tb\u001b[0m \u001b[0;34m=\u001b[0m \u001b[0m_process_traceback_frames\u001b[0m\u001b[0;34m(\u001b[0m\u001b[0me\u001b[0m\u001b[0;34m.\u001b[0m\u001b[0m__traceback__\u001b[0m\u001b[0;34m)\u001b[0m\u001b[0;34m\u001b[0m\u001b[0;34m\u001b[0m\u001b[0m\n",
            "\u001b[0;32m/usr/local/lib/python3.10/dist-packages/tensorflow/python/util/dispatch.py\u001b[0m in \u001b[0;36mop_dispatch_handler\u001b[0;34m(*args, **kwargs)\u001b[0m\n\u001b[1;32m   1258\u001b[0m       \u001b[0;31m# Fallback dispatch system (dispatch v1):\u001b[0m\u001b[0;34m\u001b[0m\u001b[0;34m\u001b[0m\u001b[0m\n\u001b[1;32m   1259\u001b[0m       \u001b[0;32mtry\u001b[0m\u001b[0;34m:\u001b[0m\u001b[0;34m\u001b[0m\u001b[0;34m\u001b[0m\u001b[0m\n\u001b[0;32m-> 1260\u001b[0;31m         \u001b[0;32mreturn\u001b[0m \u001b[0mdispatch_target\u001b[0m\u001b[0;34m(\u001b[0m\u001b[0;34m*\u001b[0m\u001b[0margs\u001b[0m\u001b[0;34m,\u001b[0m \u001b[0;34m**\u001b[0m\u001b[0mkwargs\u001b[0m\u001b[0;34m)\u001b[0m\u001b[0;34m\u001b[0m\u001b[0;34m\u001b[0m\u001b[0m\n\u001b[0m\u001b[1;32m   1261\u001b[0m       \u001b[0;32mexcept\u001b[0m \u001b[0;34m(\u001b[0m\u001b[0mTypeError\u001b[0m\u001b[0;34m,\u001b[0m \u001b[0mValueError\u001b[0m\u001b[0;34m)\u001b[0m\u001b[0;34m:\u001b[0m\u001b[0;34m\u001b[0m\u001b[0;34m\u001b[0m\u001b[0m\n\u001b[1;32m   1262\u001b[0m         \u001b[0;31m# Note: convert_to_eager_tensor currently raises a ValueError, not a\u001b[0m\u001b[0;34m\u001b[0m\u001b[0;34m\u001b[0m\u001b[0m\n",
            "\u001b[0;32m/usr/local/lib/python3.10/dist-packages/tensorflow/python/ops/array_ops.py\u001b[0m in \u001b[0;36midentity\u001b[0;34m(input, name)\u001b[0m\n\u001b[1;32m    310\u001b[0m     \u001b[0;31m# variables. Variables have correct handle data when graph building.\u001b[0m\u001b[0;34m\u001b[0m\u001b[0;34m\u001b[0m\u001b[0m\n\u001b[1;32m    311\u001b[0m     \u001b[0minput\u001b[0m \u001b[0;34m=\u001b[0m \u001b[0mops\u001b[0m\u001b[0;34m.\u001b[0m\u001b[0mconvert_to_tensor\u001b[0m\u001b[0;34m(\u001b[0m\u001b[0minput\u001b[0m\u001b[0;34m)\u001b[0m\u001b[0;34m\u001b[0m\u001b[0;34m\u001b[0m\u001b[0m\n\u001b[0;32m--> 312\u001b[0;31m   \u001b[0mret\u001b[0m \u001b[0;34m=\u001b[0m \u001b[0mgen_array_ops\u001b[0m\u001b[0;34m.\u001b[0m\u001b[0midentity\u001b[0m\u001b[0;34m(\u001b[0m\u001b[0minput\u001b[0m\u001b[0;34m,\u001b[0m \u001b[0mname\u001b[0m\u001b[0;34m=\u001b[0m\u001b[0mname\u001b[0m\u001b[0;34m)\u001b[0m\u001b[0;34m\u001b[0m\u001b[0;34m\u001b[0m\u001b[0m\n\u001b[0m\u001b[1;32m    313\u001b[0m   \u001b[0;31m# Propagate handle data for happier shape inference for resource variables.\u001b[0m\u001b[0;34m\u001b[0m\u001b[0;34m\u001b[0m\u001b[0m\n\u001b[1;32m    314\u001b[0m   \u001b[0;32mif\u001b[0m \u001b[0mhasattr\u001b[0m\u001b[0;34m(\u001b[0m\u001b[0minput\u001b[0m\u001b[0;34m,\u001b[0m \u001b[0;34m\"_handle_data\"\u001b[0m\u001b[0;34m)\u001b[0m\u001b[0;34m:\u001b[0m\u001b[0;34m\u001b[0m\u001b[0;34m\u001b[0m\u001b[0m\n",
            "\u001b[0;32m/usr/local/lib/python3.10/dist-packages/tensorflow/python/ops/gen_array_ops.py\u001b[0m in \u001b[0;36midentity\u001b[0;34m(input, name)\u001b[0m\n\u001b[1;32m   4168\u001b[0m \u001b[0mTV_Identity_T\u001b[0m \u001b[0;34m=\u001b[0m \u001b[0mTypeVar\u001b[0m\u001b[0;34m(\u001b[0m\u001b[0;34m\"TV_Identity_T\"\u001b[0m\u001b[0;34m,\u001b[0m \u001b[0m_atypes\u001b[0m\u001b[0;34m.\u001b[0m\u001b[0mBFloat16\u001b[0m\u001b[0;34m,\u001b[0m \u001b[0m_atypes\u001b[0m\u001b[0;34m.\u001b[0m\u001b[0mBool\u001b[0m\u001b[0;34m,\u001b[0m \u001b[0m_atypes\u001b[0m\u001b[0;34m.\u001b[0m\u001b[0mComplex128\u001b[0m\u001b[0;34m,\u001b[0m \u001b[0m_atypes\u001b[0m\u001b[0;34m.\u001b[0m\u001b[0mComplex64\u001b[0m\u001b[0;34m,\u001b[0m \u001b[0m_atypes\u001b[0m\u001b[0;34m.\u001b[0m\u001b[0mFloat16\u001b[0m\u001b[0;34m,\u001b[0m \u001b[0m_atypes\u001b[0m\u001b[0;34m.\u001b[0m\u001b[0mFloat32\u001b[0m\u001b[0;34m,\u001b[0m \u001b[0m_atypes\u001b[0m\u001b[0;34m.\u001b[0m\u001b[0mFloat64\u001b[0m\u001b[0;34m,\u001b[0m \u001b[0m_atypes\u001b[0m\u001b[0;34m.\u001b[0m\u001b[0mFloat8e4m3fn\u001b[0m\u001b[0;34m,\u001b[0m \u001b[0m_atypes\u001b[0m\u001b[0;34m.\u001b[0m\u001b[0mFloat8e5m2\u001b[0m\u001b[0;34m,\u001b[0m \u001b[0m_atypes\u001b[0m\u001b[0;34m.\u001b[0m\u001b[0mHalf\u001b[0m\u001b[0;34m,\u001b[0m \u001b[0m_atypes\u001b[0m\u001b[0;34m.\u001b[0m\u001b[0mInt16\u001b[0m\u001b[0;34m,\u001b[0m \u001b[0m_atypes\u001b[0m\u001b[0;34m.\u001b[0m\u001b[0mInt32\u001b[0m\u001b[0;34m,\u001b[0m \u001b[0m_atypes\u001b[0m\u001b[0;34m.\u001b[0m\u001b[0mInt4\u001b[0m\u001b[0;34m,\u001b[0m \u001b[0m_atypes\u001b[0m\u001b[0;34m.\u001b[0m\u001b[0mInt64\u001b[0m\u001b[0;34m,\u001b[0m \u001b[0m_atypes\u001b[0m\u001b[0;34m.\u001b[0m\u001b[0mInt8\u001b[0m\u001b[0;34m,\u001b[0m \u001b[0m_atypes\u001b[0m\u001b[0;34m.\u001b[0m\u001b[0mQInt16\u001b[0m\u001b[0;34m,\u001b[0m \u001b[0m_atypes\u001b[0m\u001b[0;34m.\u001b[0m\u001b[0mQInt32\u001b[0m\u001b[0;34m,\u001b[0m \u001b[0m_atypes\u001b[0m\u001b[0;34m.\u001b[0m\u001b[0mQInt8\u001b[0m\u001b[0;34m,\u001b[0m \u001b[0m_atypes\u001b[0m\u001b[0;34m.\u001b[0m\u001b[0mQUInt16\u001b[0m\u001b[0;34m,\u001b[0m \u001b[0m_atypes\u001b[0m\u001b[0;34m.\u001b[0m\u001b[0mQUInt8\u001b[0m\u001b[0;34m,\u001b[0m \u001b[0m_atypes\u001b[0m\u001b[0;34m.\u001b[0m\u001b[0mResource\u001b[0m\u001b[0;34m,\u001b[0m \u001b[0m_atypes\u001b[0m\u001b[0;34m.\u001b[0m\u001b[0mString\u001b[0m\u001b[0;34m,\u001b[0m \u001b[0m_atypes\u001b[0m\u001b[0;34m.\u001b[0m\u001b[0mUInt16\u001b[0m\u001b[0;34m,\u001b[0m \u001b[0m_atypes\u001b[0m\u001b[0;34m.\u001b[0m\u001b[0mUInt32\u001b[0m\u001b[0;34m,\u001b[0m \u001b[0m_atypes\u001b[0m\u001b[0;34m.\u001b[0m\u001b[0mUInt4\u001b[0m\u001b[0;34m,\u001b[0m \u001b[0m_atypes\u001b[0m...\n\u001b[1;32m   4169\u001b[0m \u001b[0;34m\u001b[0m\u001b[0m\n\u001b[0;32m-> 4170\u001b[0;31m \u001b[0;32mdef\u001b[0m \u001b[0midentity\u001b[0m\u001b[0;34m(\u001b[0m\u001b[0minput\u001b[0m\u001b[0;34m:\u001b[0m \u001b[0mAnnotated\u001b[0m\u001b[0;34m[\u001b[0m\u001b[0mAny\u001b[0m\u001b[0;34m,\u001b[0m \u001b[0mTV_Identity_T\u001b[0m\u001b[0;34m]\u001b[0m\u001b[0;34m,\u001b[0m \u001b[0mname\u001b[0m\u001b[0;34m=\u001b[0m\u001b[0;32mNone\u001b[0m\u001b[0;34m)\u001b[0m \u001b[0;34m->\u001b[0m \u001b[0mAnnotated\u001b[0m\u001b[0;34m[\u001b[0m\u001b[0mAny\u001b[0m\u001b[0;34m,\u001b[0m \u001b[0mTV_Identity_T\u001b[0m\u001b[0;34m]\u001b[0m\u001b[0;34m:\u001b[0m\u001b[0;34m\u001b[0m\u001b[0;34m\u001b[0m\u001b[0m\n\u001b[0m\u001b[1;32m   4171\u001b[0m   r\"\"\"Return a tensor with the same shape and contents as the input tensor or value.\n\u001b[1;32m   4172\u001b[0m \u001b[0;34m\u001b[0m\u001b[0m\n",
            "\u001b[0;31mKeyboardInterrupt\u001b[0m: "
          ]
        }
      ],
      "source": [
        "from keras.optimizers import RMSprop\n",
        "\n",
        "model = keras.Sequential()\n",
        "model.add(layers.Dense(64,activation=\"relu\",input_dim=2))\n",
        "model.add(layers.Dense(1,activation=\"linear\"))\n",
        "\n",
        "model.summary()\n",
        "\n",
        "# Compile the Model\n",
        "model.compile(loss = 'MSE',\n",
        "              optimizer=RMSprop(learning_rate=0.000000001))\n",
        "\n",
        "# Callbacks Configs\n",
        "earlyStopping = EarlyStopping(monitor='val_loss', patience=10, verbose=0, mode='min')\n",
        "mcp_save = ModelCheckpoint('.mdl_wts.hdf5', save_best_only=True, monitor='val_loss', mode='min')\n",
        "reduce_lr_loss = ReduceLROnPlateau(monitor='val_loss', factor=0.1, patience=7, verbose=1, epsilon=1e-4, mode='min')\n",
        "\n",
        "history = model.fit(X_train,Y_train,batch_size=64,epochs=100,validation_split=0.2,callbacks=[earlyStopping, mcp_save, reduce_lr_loss],)"
      ]
    },
    {
      "cell_type": "code",
      "source": [
        "from matplotlib import pyplot as plt\n",
        "plt.plot(history.history['loss'])\n",
        "plt.plot(history.history['val_loss'])\n",
        "plt.title('model loss')\n",
        "plt.ylabel('loss')\n",
        "plt.xlabel('epoch')\n",
        "plt.legend(['train', 'val'], loc='upper left')\n",
        "plt.show()"
      ],
      "metadata": {
        "id": "XZAzCJJINb-L"
      },
      "execution_count": null,
      "outputs": []
    },
    {
      "cell_type": "code",
      "source": [
        "from matplotlib import pyplot as plt\n",
        "plt.plot(history.history['loss'][5:])\n",
        "plt.plot(history.history['val_loss'][5:])\n",
        "plt.title('model loss')\n",
        "plt.ylabel('loss')\n",
        "plt.xlabel('epoch')\n",
        "plt.legend(['train', 'val'], loc='upper left')\n",
        "plt.show()"
      ],
      "metadata": {
        "id": "riLfJ_0eNb-M"
      },
      "execution_count": null,
      "outputs": []
    },
    {
      "cell_type": "code",
      "source": [
        "from matplotlib import pyplot as plt\n",
        "plt.plot(history.history['loss'][30:])\n",
        "plt.plot(history.history['val_loss'][30:])\n",
        "plt.title('model loss')\n",
        "plt.ylabel('loss')\n",
        "plt.xlabel('epoch')\n",
        "plt.legend(['train', 'val'], loc='upper left')\n",
        "plt.show()"
      ],
      "metadata": {
        "id": "kknX30PqNb-M"
      },
      "execution_count": null,
      "outputs": []
    },
    {
      "cell_type": "markdown",
      "source": [
        "### ٍEvaluate Model"
      ],
      "metadata": {
        "id": "IhuFBOY8Nb-M"
      }
    },
    {
      "cell_type": "code",
      "execution_count": null,
      "metadata": {
        "id": "dx-J_byONb-M"
      },
      "outputs": [],
      "source": [
        "model.evaluate(X_test,Y_test)"
      ]
    },
    {
      "cell_type": "code",
      "source": [
        "y_predicted = model.predict(X_test)"
      ],
      "metadata": {
        "id": "C0bhg1ZVNb-M"
      },
      "execution_count": null,
      "outputs": []
    },
    {
      "cell_type": "code",
      "source": [
        "from sklearn.metrics import (\n",
        "    mean_absolute_error,\n",
        "    mean_squared_error,\n",
        "    r2_score,\n",
        ")\n",
        "\n",
        "print('MAE: ',mean_absolute_error(Y_test, y_predicted))\n",
        "print('MSE: ',mean_squared_error(Y_test, y_predicted))\n",
        "print('R2_score: ',r2_score(Y_test, y_predicted))\n"
      ],
      "metadata": {
        "id": "UoWWU1VMNb-M"
      },
      "execution_count": null,
      "outputs": []
    },
    {
      "cell_type": "markdown",
      "source": [
        "### Let's test the model"
      ],
      "metadata": {
        "id": "QyxGRtYdNb-M"
      }
    },
    {
      "cell_type": "code",
      "source": [
        "test_data = X_test.iloc[:1]\n",
        "print(\"Data :\")\n",
        "display(test_data)\n",
        "print(\"------------------------------------\")\n",
        "print(\"lable :\",)\n",
        "display(Y_test.iloc[:1])\n",
        "print(\"------------------------------------\")\n",
        "predicted = model.predict(test_data)\n",
        "print(\"------------------------------------\")\n",
        "print(f\"Model scaled Prediction is : {predicted}\")\n",
        "output = scaler.inverse_transform([[np.nan,np.nan,predicted[0][0]]])\n",
        "print(f\"Model Prediction is : {output[0][2]}\")"
      ],
      "metadata": {
        "id": "1tk-hi_1Nb-M"
      },
      "execution_count": null,
      "outputs": []
    },
    {
      "cell_type": "markdown",
      "source": [
        "### Let's test the model via unseen data"
      ],
      "metadata": {
        "id": "-60NHE_VNb-M"
      }
    },
    {
      "cell_type": "code",
      "source": [
        "num_1 = 8000\n",
        "num_2 = 3000\n",
        "unseen_data = scaler.transform([[num_1,num_2,np.nan]])\n",
        "print(\"Data :\",unseen_data)\n",
        "print(\"Label :\" )\n",
        "print(\"Actual Multiplication :\",num_1*num_2 +5)\n",
        "print(\"------------------------------------\")\n",
        "predicted = model.predict(unseen_data[:,:2])\n",
        "print(\"------------------------------------\")\n",
        "print(f\"Model scaled Prediction is : {predicted}\")\n",
        "output = scaler.inverse_transform([[np.nan,np.nan,predicted[0][0]]])\n",
        "print(f\"Model Prediction is : {output[0][2]}\")"
      ],
      "metadata": {
        "id": "hn7G3DpGNb-M"
      },
      "execution_count": null,
      "outputs": []
    },
    {
      "cell_type": "code",
      "source": [],
      "metadata": {
        "id": "vyCwik53Nb-M"
      },
      "execution_count": null,
      "outputs": []
    },
    {
      "cell_type": "markdown",
      "source": [
        "## RNN : LSTM"
      ],
      "metadata": {
        "id": "fkO59QTbPYH_"
      }
    },
    {
      "cell_type": "code",
      "execution_count": 75,
      "metadata": {
        "colab": {
          "base_uri": "https://localhost:8080/",
          "height": 1000
        },
        "outputId": "a5a2f13c-6dc7-41ba-92f3-57cca701f658",
        "id": "PiamSs1CPYII"
      },
      "outputs": [
        {
          "output_type": "stream",
          "name": "stdout",
          "text": [
            "Model: \"sequential_24\"\n",
            "_________________________________________________________________\n",
            " Layer (type)                Output Shape              Param #   \n",
            "=================================================================\n",
            " lstm_3 (LSTM)               (None, None, 4)           112       \n",
            "                                                                 \n",
            " dense_28 (Dense)            (None, None, 1)           5         \n",
            "                                                                 \n",
            "=================================================================\n",
            "Total params: 117 (468.00 Byte)\n",
            "Trainable params: 117 (468.00 Byte)\n",
            "Non-trainable params: 0 (0.00 Byte)\n",
            "_________________________________________________________________\n"
          ]
        },
        {
          "output_type": "stream",
          "name": "stderr",
          "text": [
            "WARNING:tensorflow:`epsilon` argument is deprecated and will be removed, use `min_delta` instead.\n"
          ]
        },
        {
          "output_type": "stream",
          "name": "stdout",
          "text": [
            "Epoch 1/100\n"
          ]
        },
        {
          "output_type": "error",
          "ename": "ValueError",
          "evalue": "in user code:\n\n    File \"/usr/local/lib/python3.10/dist-packages/keras/src/engine/training.py\", line 1401, in train_function  *\n        return step_function(self, iterator)\n    File \"/usr/local/lib/python3.10/dist-packages/keras/src/engine/training.py\", line 1384, in step_function  **\n        outputs = model.distribute_strategy.run(run_step, args=(data,))\n    File \"/usr/local/lib/python3.10/dist-packages/keras/src/engine/training.py\", line 1373, in run_step  **\n        outputs = model.train_step(data)\n    File \"/usr/local/lib/python3.10/dist-packages/keras/src/engine/training.py\", line 1150, in train_step\n        y_pred = self(x, training=True)\n    File \"/usr/local/lib/python3.10/dist-packages/keras/src/utils/traceback_utils.py\", line 70, in error_handler\n        raise e.with_traceback(filtered_tb) from None\n    File \"/usr/local/lib/python3.10/dist-packages/keras/src/engine/input_spec.py\", line 235, in assert_input_compatibility\n        raise ValueError(\n\n    ValueError: Exception encountered when calling layer 'sequential_24' (type Sequential).\n    \n    Input 0 of layer \"lstm_3\" is incompatible with the layer: expected ndim=3, found ndim=2. Full shape received: (64, 2)\n    \n    Call arguments received by layer 'sequential_24' (type Sequential):\n      • inputs=tf.Tensor(shape=(64, 2), dtype=float64)\n      • training=True\n      • mask=None\n",
          "traceback": [
            "\u001b[0;31m---------------------------------------------------------------------------\u001b[0m",
            "\u001b[0;31mValueError\u001b[0m                                Traceback (most recent call last)",
            "\u001b[0;32m<ipython-input-75-89e81dff46b0>\u001b[0m in \u001b[0;36m<cell line: 19>\u001b[0;34m()\u001b[0m\n\u001b[1;32m     17\u001b[0m \u001b[0mreduce_lr_loss\u001b[0m \u001b[0;34m=\u001b[0m \u001b[0mReduceLROnPlateau\u001b[0m\u001b[0;34m(\u001b[0m\u001b[0mmonitor\u001b[0m\u001b[0;34m=\u001b[0m\u001b[0;34m'val_loss'\u001b[0m\u001b[0;34m,\u001b[0m \u001b[0mfactor\u001b[0m\u001b[0;34m=\u001b[0m\u001b[0;36m0.1\u001b[0m\u001b[0;34m,\u001b[0m \u001b[0mpatience\u001b[0m\u001b[0;34m=\u001b[0m\u001b[0;36m7\u001b[0m\u001b[0;34m,\u001b[0m \u001b[0mverbose\u001b[0m\u001b[0;34m=\u001b[0m\u001b[0;36m1\u001b[0m\u001b[0;34m,\u001b[0m \u001b[0mepsilon\u001b[0m\u001b[0;34m=\u001b[0m\u001b[0;36m1e-4\u001b[0m\u001b[0;34m,\u001b[0m \u001b[0mmode\u001b[0m\u001b[0;34m=\u001b[0m\u001b[0;34m'min'\u001b[0m\u001b[0;34m)\u001b[0m\u001b[0;34m\u001b[0m\u001b[0;34m\u001b[0m\u001b[0m\n\u001b[1;32m     18\u001b[0m \u001b[0;34m\u001b[0m\u001b[0m\n\u001b[0;32m---> 19\u001b[0;31m \u001b[0mhistory\u001b[0m \u001b[0;34m=\u001b[0m \u001b[0mmodel\u001b[0m\u001b[0;34m.\u001b[0m\u001b[0mfit\u001b[0m\u001b[0;34m(\u001b[0m\u001b[0mX_train\u001b[0m\u001b[0;34m,\u001b[0m\u001b[0mY_train\u001b[0m\u001b[0;34m,\u001b[0m\u001b[0mbatch_size\u001b[0m\u001b[0;34m=\u001b[0m\u001b[0;36m64\u001b[0m\u001b[0;34m,\u001b[0m\u001b[0mepochs\u001b[0m\u001b[0;34m=\u001b[0m\u001b[0;36m100\u001b[0m\u001b[0;34m,\u001b[0m\u001b[0mvalidation_split\u001b[0m\u001b[0;34m=\u001b[0m\u001b[0;36m0.2\u001b[0m\u001b[0;34m,\u001b[0m\u001b[0mcallbacks\u001b[0m\u001b[0;34m=\u001b[0m\u001b[0;34m[\u001b[0m\u001b[0mearlyStopping\u001b[0m\u001b[0;34m,\u001b[0m \u001b[0mmcp_save\u001b[0m\u001b[0;34m,\u001b[0m \u001b[0mreduce_lr_loss\u001b[0m\u001b[0;34m]\u001b[0m\u001b[0;34m,\u001b[0m\u001b[0;34m)\u001b[0m\u001b[0;34m\u001b[0m\u001b[0;34m\u001b[0m\u001b[0m\n\u001b[0m",
            "\u001b[0;32m/usr/local/lib/python3.10/dist-packages/keras/src/utils/traceback_utils.py\u001b[0m in \u001b[0;36merror_handler\u001b[0;34m(*args, **kwargs)\u001b[0m\n\u001b[1;32m     68\u001b[0m             \u001b[0;31m# To get the full stack trace, call:\u001b[0m\u001b[0;34m\u001b[0m\u001b[0;34m\u001b[0m\u001b[0m\n\u001b[1;32m     69\u001b[0m             \u001b[0;31m# `tf.debugging.disable_traceback_filtering()`\u001b[0m\u001b[0;34m\u001b[0m\u001b[0;34m\u001b[0m\u001b[0m\n\u001b[0;32m---> 70\u001b[0;31m             \u001b[0;32mraise\u001b[0m \u001b[0me\u001b[0m\u001b[0;34m.\u001b[0m\u001b[0mwith_traceback\u001b[0m\u001b[0;34m(\u001b[0m\u001b[0mfiltered_tb\u001b[0m\u001b[0;34m)\u001b[0m \u001b[0;32mfrom\u001b[0m \u001b[0;32mNone\u001b[0m\u001b[0;34m\u001b[0m\u001b[0;34m\u001b[0m\u001b[0m\n\u001b[0m\u001b[1;32m     71\u001b[0m         \u001b[0;32mfinally\u001b[0m\u001b[0;34m:\u001b[0m\u001b[0;34m\u001b[0m\u001b[0;34m\u001b[0m\u001b[0m\n\u001b[1;32m     72\u001b[0m             \u001b[0;32mdel\u001b[0m \u001b[0mfiltered_tb\u001b[0m\u001b[0;34m\u001b[0m\u001b[0;34m\u001b[0m\u001b[0m\n",
            "\u001b[0;32m/usr/local/lib/python3.10/dist-packages/keras/src/engine/training.py\u001b[0m in \u001b[0;36mtf__train_function\u001b[0;34m(iterator)\u001b[0m\n\u001b[1;32m     13\u001b[0m                 \u001b[0;32mtry\u001b[0m\u001b[0;34m:\u001b[0m\u001b[0;34m\u001b[0m\u001b[0;34m\u001b[0m\u001b[0m\n\u001b[1;32m     14\u001b[0m                     \u001b[0mdo_return\u001b[0m \u001b[0;34m=\u001b[0m \u001b[0;32mTrue\u001b[0m\u001b[0;34m\u001b[0m\u001b[0;34m\u001b[0m\u001b[0m\n\u001b[0;32m---> 15\u001b[0;31m                     \u001b[0mretval_\u001b[0m \u001b[0;34m=\u001b[0m \u001b[0mag__\u001b[0m\u001b[0;34m.\u001b[0m\u001b[0mconverted_call\u001b[0m\u001b[0;34m(\u001b[0m\u001b[0mag__\u001b[0m\u001b[0;34m.\u001b[0m\u001b[0mld\u001b[0m\u001b[0;34m(\u001b[0m\u001b[0mstep_function\u001b[0m\u001b[0;34m)\u001b[0m\u001b[0;34m,\u001b[0m \u001b[0;34m(\u001b[0m\u001b[0mag__\u001b[0m\u001b[0;34m.\u001b[0m\u001b[0mld\u001b[0m\u001b[0;34m(\u001b[0m\u001b[0mself\u001b[0m\u001b[0;34m)\u001b[0m\u001b[0;34m,\u001b[0m \u001b[0mag__\u001b[0m\u001b[0;34m.\u001b[0m\u001b[0mld\u001b[0m\u001b[0;34m(\u001b[0m\u001b[0miterator\u001b[0m\u001b[0;34m)\u001b[0m\u001b[0;34m)\u001b[0m\u001b[0;34m,\u001b[0m \u001b[0;32mNone\u001b[0m\u001b[0;34m,\u001b[0m \u001b[0mfscope\u001b[0m\u001b[0;34m)\u001b[0m\u001b[0;34m\u001b[0m\u001b[0;34m\u001b[0m\u001b[0m\n\u001b[0m\u001b[1;32m     16\u001b[0m                 \u001b[0;32mexcept\u001b[0m\u001b[0;34m:\u001b[0m\u001b[0;34m\u001b[0m\u001b[0;34m\u001b[0m\u001b[0m\n\u001b[1;32m     17\u001b[0m                     \u001b[0mdo_return\u001b[0m \u001b[0;34m=\u001b[0m \u001b[0;32mFalse\u001b[0m\u001b[0;34m\u001b[0m\u001b[0;34m\u001b[0m\u001b[0m\n",
            "\u001b[0;31mValueError\u001b[0m: in user code:\n\n    File \"/usr/local/lib/python3.10/dist-packages/keras/src/engine/training.py\", line 1401, in train_function  *\n        return step_function(self, iterator)\n    File \"/usr/local/lib/python3.10/dist-packages/keras/src/engine/training.py\", line 1384, in step_function  **\n        outputs = model.distribute_strategy.run(run_step, args=(data,))\n    File \"/usr/local/lib/python3.10/dist-packages/keras/src/engine/training.py\", line 1373, in run_step  **\n        outputs = model.train_step(data)\n    File \"/usr/local/lib/python3.10/dist-packages/keras/src/engine/training.py\", line 1150, in train_step\n        y_pred = self(x, training=True)\n    File \"/usr/local/lib/python3.10/dist-packages/keras/src/utils/traceback_utils.py\", line 70, in error_handler\n        raise e.with_traceback(filtered_tb) from None\n    File \"/usr/local/lib/python3.10/dist-packages/keras/src/engine/input_spec.py\", line 235, in assert_input_compatibility\n        raise ValueError(\n\n    ValueError: Exception encountered when calling layer 'sequential_24' (type Sequential).\n    \n    Input 0 of layer \"lstm_3\" is incompatible with the layer: expected ndim=3, found ndim=2. Full shape received: (64, 2)\n    \n    Call arguments received by layer 'sequential_24' (type Sequential):\n      • inputs=tf.Tensor(shape=(64, 2), dtype=float64)\n      • training=True\n      • mask=None\n"
          ]
        }
      ],
      "source": [
        "model = keras.Sequential()\n",
        "\n",
        "model.add(layers.LSTM(4, return_sequences=True, return_state=False,input_dim=2))\n",
        "model.add(layers.Dense(1,activation=\"linear\"))\n",
        "\n",
        "model.summary()\n",
        "\n",
        "# Compile the Model\n",
        "model.compile(loss = 'MSE',\n",
        "              optimizer=\"adam\")\n",
        "\n",
        "# Callbacks Configs\n",
        "earlyStopping = EarlyStopping(monitor='val_loss', patience=10, verbose=0, mode='min')\n",
        "mcp_save = ModelCheckpoint('.mdl_wts.hdf5', save_best_only=True, monitor='val_loss', mode='min')\n",
        "reduce_lr_loss = ReduceLROnPlateau(monitor='val_loss', factor=0.1, patience=7, verbose=1, epsilon=1e-4, mode='min')\n",
        "\n",
        "history = model.fit(X_train,Y_train,batch_size=64,epochs=100,validation_split=0.2,callbacks=[earlyStopping, mcp_save, reduce_lr_loss],)"
      ]
    },
    {
      "cell_type": "code",
      "source": [
        "from matplotlib import pyplot as plt\n",
        "plt.plot(history.history['loss'])\n",
        "plt.plot(history.history['val_loss'])\n",
        "plt.title('model loss')\n",
        "plt.ylabel('loss')\n",
        "plt.xlabel('epoch')\n",
        "plt.legend(['train', 'val'], loc='upper left')\n",
        "plt.show()"
      ],
      "metadata": {
        "id": "3SvwRz_-PYII"
      },
      "execution_count": null,
      "outputs": []
    },
    {
      "cell_type": "code",
      "source": [
        "from matplotlib import pyplot as plt\n",
        "plt.plot(history.history['loss'][5:])\n",
        "plt.plot(history.history['val_loss'][5:])\n",
        "plt.title('model loss')\n",
        "plt.ylabel('loss')\n",
        "plt.xlabel('epoch')\n",
        "plt.legend(['train', 'val'], loc='upper left')\n",
        "plt.show()"
      ],
      "metadata": {
        "id": "htxNQUTtPYII"
      },
      "execution_count": null,
      "outputs": []
    },
    {
      "cell_type": "code",
      "source": [
        "from matplotlib import pyplot as plt\n",
        "plt.plot(history.history['loss'][30:])\n",
        "plt.plot(history.history['val_loss'][30:])\n",
        "plt.title('model loss')\n",
        "plt.ylabel('loss')\n",
        "plt.xlabel('epoch')\n",
        "plt.legend(['train', 'val'], loc='upper left')\n",
        "plt.show()"
      ],
      "metadata": {
        "id": "aEJ8J1fFPYII"
      },
      "execution_count": null,
      "outputs": []
    },
    {
      "cell_type": "markdown",
      "source": [
        "### ٍEvaluate Model"
      ],
      "metadata": {
        "id": "WFX59kkmPYII"
      }
    },
    {
      "cell_type": "code",
      "execution_count": null,
      "metadata": {
        "id": "sa_LXilYPYII"
      },
      "outputs": [],
      "source": [
        "model.evaluate(X_test,Y_test)"
      ]
    },
    {
      "cell_type": "code",
      "source": [
        "y_predicted = model.predict(X_test)"
      ],
      "metadata": {
        "id": "KXDLlVaJPYII"
      },
      "execution_count": null,
      "outputs": []
    },
    {
      "cell_type": "code",
      "source": [
        "from sklearn.metrics import (\n",
        "    mean_absolute_error,\n",
        "    mean_squared_error,\n",
        "    r2_score,\n",
        ")\n",
        "\n",
        "print('MAE: ',mean_absolute_error(Y_test, y_predicted))\n",
        "print('MSE: ',mean_squared_error(Y_test, y_predicted))\n",
        "print('R2_score: ',r2_score(Y_test, y_predicted))\n"
      ],
      "metadata": {
        "id": "1PySyOOXPYII"
      },
      "execution_count": null,
      "outputs": []
    },
    {
      "cell_type": "markdown",
      "source": [
        "### Let's test the model"
      ],
      "metadata": {
        "id": "sNfninctPYII"
      }
    },
    {
      "cell_type": "code",
      "source": [
        "test_data = X_test.iloc[:1]\n",
        "print(\"Data :\")\n",
        "display(test_data)\n",
        "print(\"------------------------------------\")\n",
        "print(\"lable :\",)\n",
        "display(Y_test.iloc[:1])\n",
        "print(\"------------------------------------\")\n",
        "predicted = model.predict(test_data)\n",
        "print(\"------------------------------------\")\n",
        "print(f\"Model scaled Prediction is : {predicted}\")\n",
        "output = scaler.inverse_transform([[np.nan,np.nan,predicted[0][0]]])\n",
        "print(f\"Model Prediction is : {output[0][2]}\")"
      ],
      "metadata": {
        "id": "FzM4Cxv3PYIJ"
      },
      "execution_count": null,
      "outputs": []
    },
    {
      "cell_type": "markdown",
      "source": [
        "### Let's test the model via unseen data"
      ],
      "metadata": {
        "id": "n4I8s8wVPYIJ"
      }
    },
    {
      "cell_type": "code",
      "source": [
        "num_1 = 8000\n",
        "num_2 = 3000\n",
        "unseen_data = scaler.transform([[num_1,num_2,np.nan]])\n",
        "print(\"Data :\",unseen_data)\n",
        "print(\"Label :\" )\n",
        "print(\"Actual Multiplication :\",num_1*num_2 +5)\n",
        "print(\"------------------------------------\")\n",
        "predicted = model.predict(unseen_data[:,:2])\n",
        "print(\"------------------------------------\")\n",
        "print(f\"Model scaled Prediction is : {predicted}\")\n",
        "output = scaler.inverse_transform([[np.nan,np.nan,predicted[0][0]]])\n",
        "print(f\"Model Prediction is : {output[0][2]}\")"
      ],
      "metadata": {
        "id": "RwvlL3ZtPYIJ"
      },
      "execution_count": null,
      "outputs": []
    },
    {
      "cell_type": "code",
      "source": [],
      "metadata": {
        "id": "zD8OOOw6PYIJ"
      },
      "execution_count": null,
      "outputs": []
    },
    {
      "cell_type": "markdown",
      "source": [
        "# Data ??? via Log"
      ],
      "metadata": {
        "id": "7lTwT_n6-0LL"
      }
    },
    {
      "cell_type": "code",
      "execution_count": 55,
      "metadata": {
        "colab": {
          "base_uri": "https://localhost:8080/",
          "height": 458
        },
        "outputId": "d3a304fe-584b-45b0-90b7-72e03542beb1",
        "id": "DWmzMbBC-0LL"
      },
      "outputs": [
        {
          "output_type": "stream",
          "name": "stderr",
          "text": [
            "<ipython-input-55-e0ab853d1d0e>:2: RuntimeWarning: divide by zero encountered in log10\n",
            "  return np.log10(f)\n"
          ]
        },
        {
          "output_type": "execute_result",
          "data": {
            "text/plain": [
              "             x_1       x_2         y\n",
              "0       3.584444  3.465383  7.049827\n",
              "1       3.458336  3.881499  7.339835\n",
              "2       3.396548  3.747023  7.143571\n",
              "3       2.787460  3.197281  5.984743\n",
              "4       3.605628  3.919758  7.525386\n",
              "...          ...       ...       ...\n",
              "999995  3.432007  3.992730  7.424737\n",
              "999996  3.802842  3.707740  7.510583\n",
              "999997  3.554489  3.850095  7.404584\n",
              "999998  3.625107  3.127753  6.752859\n",
              "999999  3.763802  2.845718  6.609521\n",
              "\n",
              "[1000000 rows x 3 columns]"
            ],
            "text/html": [
              "\n",
              "  <div id=\"df-8de3e4bf-2999-430f-a04d-b74cd8bda453\" class=\"colab-df-container\">\n",
              "    <div>\n",
              "<style scoped>\n",
              "    .dataframe tbody tr th:only-of-type {\n",
              "        vertical-align: middle;\n",
              "    }\n",
              "\n",
              "    .dataframe tbody tr th {\n",
              "        vertical-align: top;\n",
              "    }\n",
              "\n",
              "    .dataframe thead th {\n",
              "        text-align: right;\n",
              "    }\n",
              "</style>\n",
              "<table border=\"1\" class=\"dataframe\">\n",
              "  <thead>\n",
              "    <tr style=\"text-align: right;\">\n",
              "      <th></th>\n",
              "      <th>x_1</th>\n",
              "      <th>x_2</th>\n",
              "      <th>y</th>\n",
              "    </tr>\n",
              "  </thead>\n",
              "  <tbody>\n",
              "    <tr>\n",
              "      <th>0</th>\n",
              "      <td>3.584444</td>\n",
              "      <td>3.465383</td>\n",
              "      <td>7.049827</td>\n",
              "    </tr>\n",
              "    <tr>\n",
              "      <th>1</th>\n",
              "      <td>3.458336</td>\n",
              "      <td>3.881499</td>\n",
              "      <td>7.339835</td>\n",
              "    </tr>\n",
              "    <tr>\n",
              "      <th>2</th>\n",
              "      <td>3.396548</td>\n",
              "      <td>3.747023</td>\n",
              "      <td>7.143571</td>\n",
              "    </tr>\n",
              "    <tr>\n",
              "      <th>3</th>\n",
              "      <td>2.787460</td>\n",
              "      <td>3.197281</td>\n",
              "      <td>5.984743</td>\n",
              "    </tr>\n",
              "    <tr>\n",
              "      <th>4</th>\n",
              "      <td>3.605628</td>\n",
              "      <td>3.919758</td>\n",
              "      <td>7.525386</td>\n",
              "    </tr>\n",
              "    <tr>\n",
              "      <th>...</th>\n",
              "      <td>...</td>\n",
              "      <td>...</td>\n",
              "      <td>...</td>\n",
              "    </tr>\n",
              "    <tr>\n",
              "      <th>999995</th>\n",
              "      <td>3.432007</td>\n",
              "      <td>3.992730</td>\n",
              "      <td>7.424737</td>\n",
              "    </tr>\n",
              "    <tr>\n",
              "      <th>999996</th>\n",
              "      <td>3.802842</td>\n",
              "      <td>3.707740</td>\n",
              "      <td>7.510583</td>\n",
              "    </tr>\n",
              "    <tr>\n",
              "      <th>999997</th>\n",
              "      <td>3.554489</td>\n",
              "      <td>3.850095</td>\n",
              "      <td>7.404584</td>\n",
              "    </tr>\n",
              "    <tr>\n",
              "      <th>999998</th>\n",
              "      <td>3.625107</td>\n",
              "      <td>3.127753</td>\n",
              "      <td>6.752859</td>\n",
              "    </tr>\n",
              "    <tr>\n",
              "      <th>999999</th>\n",
              "      <td>3.763802</td>\n",
              "      <td>2.845718</td>\n",
              "      <td>6.609521</td>\n",
              "    </tr>\n",
              "  </tbody>\n",
              "</table>\n",
              "<p>1000000 rows × 3 columns</p>\n",
              "</div>\n",
              "    <div class=\"colab-df-buttons\">\n",
              "\n",
              "  <div class=\"colab-df-container\">\n",
              "    <button class=\"colab-df-convert\" onclick=\"convertToInteractive('df-8de3e4bf-2999-430f-a04d-b74cd8bda453')\"\n",
              "            title=\"Convert this dataframe to an interactive table.\"\n",
              "            style=\"display:none;\">\n",
              "\n",
              "  <svg xmlns=\"http://www.w3.org/2000/svg\" height=\"24px\" viewBox=\"0 -960 960 960\">\n",
              "    <path d=\"M120-120v-720h720v720H120Zm60-500h600v-160H180v160Zm220 220h160v-160H400v160Zm0 220h160v-160H400v160ZM180-400h160v-160H180v160Zm440 0h160v-160H620v160ZM180-180h160v-160H180v160Zm440 0h160v-160H620v160Z\"/>\n",
              "  </svg>\n",
              "    </button>\n",
              "\n",
              "  <style>\n",
              "    .colab-df-container {\n",
              "      display:flex;\n",
              "      gap: 12px;\n",
              "    }\n",
              "\n",
              "    .colab-df-convert {\n",
              "      background-color: #E8F0FE;\n",
              "      border: none;\n",
              "      border-radius: 50%;\n",
              "      cursor: pointer;\n",
              "      display: none;\n",
              "      fill: #1967D2;\n",
              "      height: 32px;\n",
              "      padding: 0 0 0 0;\n",
              "      width: 32px;\n",
              "    }\n",
              "\n",
              "    .colab-df-convert:hover {\n",
              "      background-color: #E2EBFA;\n",
              "      box-shadow: 0px 1px 2px rgba(60, 64, 67, 0.3), 0px 1px 3px 1px rgba(60, 64, 67, 0.15);\n",
              "      fill: #174EA6;\n",
              "    }\n",
              "\n",
              "    .colab-df-buttons div {\n",
              "      margin-bottom: 4px;\n",
              "    }\n",
              "\n",
              "    [theme=dark] .colab-df-convert {\n",
              "      background-color: #3B4455;\n",
              "      fill: #D2E3FC;\n",
              "    }\n",
              "\n",
              "    [theme=dark] .colab-df-convert:hover {\n",
              "      background-color: #434B5C;\n",
              "      box-shadow: 0px 1px 3px 1px rgba(0, 0, 0, 0.15);\n",
              "      filter: drop-shadow(0px 1px 2px rgba(0, 0, 0, 0.3));\n",
              "      fill: #FFFFFF;\n",
              "    }\n",
              "  </style>\n",
              "\n",
              "    <script>\n",
              "      const buttonEl =\n",
              "        document.querySelector('#df-8de3e4bf-2999-430f-a04d-b74cd8bda453 button.colab-df-convert');\n",
              "      buttonEl.style.display =\n",
              "        google.colab.kernel.accessAllowed ? 'block' : 'none';\n",
              "\n",
              "      async function convertToInteractive(key) {\n",
              "        const element = document.querySelector('#df-8de3e4bf-2999-430f-a04d-b74cd8bda453');\n",
              "        const dataTable =\n",
              "          await google.colab.kernel.invokeFunction('convertToInteractive',\n",
              "                                                    [key], {});\n",
              "        if (!dataTable) return;\n",
              "\n",
              "        const docLinkHtml = 'Like what you see? Visit the ' +\n",
              "          '<a target=\"_blank\" href=https://colab.research.google.com/notebooks/data_table.ipynb>data table notebook</a>'\n",
              "          + ' to learn more about interactive tables.';\n",
              "        element.innerHTML = '';\n",
              "        dataTable['output_type'] = 'display_data';\n",
              "        await google.colab.output.renderOutput(dataTable, element);\n",
              "        const docLink = document.createElement('div');\n",
              "        docLink.innerHTML = docLinkHtml;\n",
              "        element.appendChild(docLink);\n",
              "      }\n",
              "    </script>\n",
              "  </div>\n",
              "\n",
              "\n",
              "<div id=\"df-631fe938-1f43-4f2c-93fd-317b26277de8\">\n",
              "  <button class=\"colab-df-quickchart\" onclick=\"quickchart('df-631fe938-1f43-4f2c-93fd-317b26277de8')\"\n",
              "            title=\"Suggest charts\"\n",
              "            style=\"display:none;\">\n",
              "\n",
              "<svg xmlns=\"http://www.w3.org/2000/svg\" height=\"24px\"viewBox=\"0 0 24 24\"\n",
              "     width=\"24px\">\n",
              "    <g>\n",
              "        <path d=\"M19 3H5c-1.1 0-2 .9-2 2v14c0 1.1.9 2 2 2h14c1.1 0 2-.9 2-2V5c0-1.1-.9-2-2-2zM9 17H7v-7h2v7zm4 0h-2V7h2v10zm4 0h-2v-4h2v4z\"/>\n",
              "    </g>\n",
              "</svg>\n",
              "  </button>\n",
              "\n",
              "<style>\n",
              "  .colab-df-quickchart {\n",
              "      --bg-color: #E8F0FE;\n",
              "      --fill-color: #1967D2;\n",
              "      --hover-bg-color: #E2EBFA;\n",
              "      --hover-fill-color: #174EA6;\n",
              "      --disabled-fill-color: #AAA;\n",
              "      --disabled-bg-color: #DDD;\n",
              "  }\n",
              "\n",
              "  [theme=dark] .colab-df-quickchart {\n",
              "      --bg-color: #3B4455;\n",
              "      --fill-color: #D2E3FC;\n",
              "      --hover-bg-color: #434B5C;\n",
              "      --hover-fill-color: #FFFFFF;\n",
              "      --disabled-bg-color: #3B4455;\n",
              "      --disabled-fill-color: #666;\n",
              "  }\n",
              "\n",
              "  .colab-df-quickchart {\n",
              "    background-color: var(--bg-color);\n",
              "    border: none;\n",
              "    border-radius: 50%;\n",
              "    cursor: pointer;\n",
              "    display: none;\n",
              "    fill: var(--fill-color);\n",
              "    height: 32px;\n",
              "    padding: 0;\n",
              "    width: 32px;\n",
              "  }\n",
              "\n",
              "  .colab-df-quickchart:hover {\n",
              "    background-color: var(--hover-bg-color);\n",
              "    box-shadow: 0 1px 2px rgba(60, 64, 67, 0.3), 0 1px 3px 1px rgba(60, 64, 67, 0.15);\n",
              "    fill: var(--button-hover-fill-color);\n",
              "  }\n",
              "\n",
              "  .colab-df-quickchart-complete:disabled,\n",
              "  .colab-df-quickchart-complete:disabled:hover {\n",
              "    background-color: var(--disabled-bg-color);\n",
              "    fill: var(--disabled-fill-color);\n",
              "    box-shadow: none;\n",
              "  }\n",
              "\n",
              "  .colab-df-spinner {\n",
              "    border: 2px solid var(--fill-color);\n",
              "    border-color: transparent;\n",
              "    border-bottom-color: var(--fill-color);\n",
              "    animation:\n",
              "      spin 1s steps(1) infinite;\n",
              "  }\n",
              "\n",
              "  @keyframes spin {\n",
              "    0% {\n",
              "      border-color: transparent;\n",
              "      border-bottom-color: var(--fill-color);\n",
              "      border-left-color: var(--fill-color);\n",
              "    }\n",
              "    20% {\n",
              "      border-color: transparent;\n",
              "      border-left-color: var(--fill-color);\n",
              "      border-top-color: var(--fill-color);\n",
              "    }\n",
              "    30% {\n",
              "      border-color: transparent;\n",
              "      border-left-color: var(--fill-color);\n",
              "      border-top-color: var(--fill-color);\n",
              "      border-right-color: var(--fill-color);\n",
              "    }\n",
              "    40% {\n",
              "      border-color: transparent;\n",
              "      border-right-color: var(--fill-color);\n",
              "      border-top-color: var(--fill-color);\n",
              "    }\n",
              "    60% {\n",
              "      border-color: transparent;\n",
              "      border-right-color: var(--fill-color);\n",
              "    }\n",
              "    80% {\n",
              "      border-color: transparent;\n",
              "      border-right-color: var(--fill-color);\n",
              "      border-bottom-color: var(--fill-color);\n",
              "    }\n",
              "    90% {\n",
              "      border-color: transparent;\n",
              "      border-bottom-color: var(--fill-color);\n",
              "    }\n",
              "  }\n",
              "</style>\n",
              "\n",
              "  <script>\n",
              "    async function quickchart(key) {\n",
              "      const quickchartButtonEl =\n",
              "        document.querySelector('#' + key + ' button');\n",
              "      quickchartButtonEl.disabled = true;  // To prevent multiple clicks.\n",
              "      quickchartButtonEl.classList.add('colab-df-spinner');\n",
              "      try {\n",
              "        const charts = await google.colab.kernel.invokeFunction(\n",
              "            'suggestCharts', [key], {});\n",
              "      } catch (error) {\n",
              "        console.error('Error during call to suggestCharts:', error);\n",
              "      }\n",
              "      quickchartButtonEl.classList.remove('colab-df-spinner');\n",
              "      quickchartButtonEl.classList.add('colab-df-quickchart-complete');\n",
              "    }\n",
              "    (() => {\n",
              "      let quickchartButtonEl =\n",
              "        document.querySelector('#df-631fe938-1f43-4f2c-93fd-317b26277de8 button');\n",
              "      quickchartButtonEl.style.display =\n",
              "        google.colab.kernel.accessAllowed ? 'block' : 'none';\n",
              "    })();\n",
              "  </script>\n",
              "</div>\n",
              "    </div>\n",
              "  </div>\n"
            ],
            "application/vnd.google.colaboratory.intrinsic+json": {
              "type": "dataframe",
              "variable_name": "df_scaled"
            }
          },
          "metadata": {},
          "execution_count": 55
        }
      ],
      "source": [
        "def log_normalize(f):\n",
        "    return np.log10(f)\n",
        "\n",
        "def inverse_log_normalize(f):\n",
        "    return np.pow(f,10)\n",
        "\n",
        "df_scaled = pd.DataFrame(log_normalize(df.to_numpy()), columns=df.columns)\n",
        "df_scaled"
      ]
    },
    {
      "cell_type": "markdown",
      "source": [
        "## Data Cleaning"
      ],
      "metadata": {
        "id": "9HjhU54M-0LL"
      }
    },
    {
      "cell_type": "code",
      "execution_count": 56,
      "metadata": {
        "colab": {
          "base_uri": "https://localhost:8080/"
        },
        "outputId": "667b5915-ba11-48c9-bcf3-899ab61d13dc",
        "id": "gkosTFuW-0LL"
      },
      "outputs": [
        {
          "output_type": "stream",
          "name": "stdout",
          "text": [
            "There are 5032 duplicate records in dataset\n",
            "Dataset length after droping duplicatets:  994968\n"
          ]
        }
      ],
      "source": [
        "print (f\"There are {df_scaled.duplicated().sum()} duplicate records in dataset\")\n",
        "\n",
        "# Drop duplicates\n",
        "\n",
        "df_scaled.drop_duplicates(inplace = True)\n",
        "print(\"Dataset length after droping duplicatets: \", len(df_scaled))"
      ]
    },
    {
      "cell_type": "markdown",
      "source": [
        "## Data Splitting"
      ],
      "metadata": {
        "id": "s4fFY7-_-0LL"
      }
    },
    {
      "cell_type": "code",
      "execution_count": 57,
      "metadata": {
        "colab": {
          "base_uri": "https://localhost:8080/"
        },
        "outputId": "e2e2548a-543f-4e33-d347-bc205d4f96e5",
        "id": "jNknqeb2-0LL"
      },
      "outputs": [
        {
          "output_type": "stream",
          "name": "stdout",
          "text": [
            "Lenght of Train Data: (800000, 2)\n",
            "Lenght of Test Data: (194968, 2)\n"
          ]
        }
      ],
      "source": [
        "X_train = df_scaled[[\"x_1\",\"x_2\"]][:800000]\n",
        "Y_train = df_scaled[[\"y\"]][:800000]\n",
        "X_test = df_scaled[[\"x_1\",\"x_2\"]][800000:]\n",
        "Y_test = df_scaled[[\"y\"]][800000:]\n",
        "\n",
        "print(f\"Lenght of Train Data: {X_train.shape}\")\n",
        "print(f\"Lenght of Test Data: {X_test.shape}\")"
      ]
    },
    {
      "cell_type": "markdown",
      "source": [
        "## Modeling"
      ],
      "metadata": {
        "id": "pAu7BlS_HO30"
      }
    },
    {
      "cell_type": "markdown",
      "source": [
        "## FFN : One Hidden Layer"
      ],
      "metadata": {
        "id": "O_J4b1csHSg3"
      }
    },
    {
      "cell_type": "code",
      "execution_count": 66,
      "metadata": {
        "colab": {
          "base_uri": "https://localhost:8080/",
          "height": 703
        },
        "outputId": "3655d285-f0ab-4f2c-9a54-be758444cd36",
        "id": "GyTi3ctdHSg_"
      },
      "outputs": [
        {
          "output_type": "stream",
          "name": "stdout",
          "text": [
            "Model: \"sequential_20\"\n",
            "_________________________________________________________________\n",
            " Layer (type)                Output Shape              Param #   \n",
            "=================================================================\n",
            " dense_25 (Dense)            (None, 64)                192       \n",
            "                                                                 \n",
            " dense_26 (Dense)            (None, 1)                 65        \n",
            "                                                                 \n",
            "=================================================================\n",
            "Total params: 257 (1.00 KB)\n",
            "Trainable params: 257 (1.00 KB)\n",
            "Non-trainable params: 0 (0.00 Byte)\n",
            "_________________________________________________________________\n"
          ]
        },
        {
          "output_type": "stream",
          "name": "stderr",
          "text": [
            "WARNING:tensorflow:`epsilon` argument is deprecated and will be removed, use `min_delta` instead.\n"
          ]
        },
        {
          "output_type": "stream",
          "name": "stdout",
          "text": [
            "Epoch 1/100\n",
            " 6184/10000 [=================>............] - ETA: 8s - loss: nan"
          ]
        },
        {
          "output_type": "error",
          "ename": "KeyboardInterrupt",
          "evalue": "",
          "traceback": [
            "\u001b[0;31m---------------------------------------------------------------------------\u001b[0m",
            "\u001b[0;31mKeyboardInterrupt\u001b[0m                         Traceback (most recent call last)",
            "\u001b[0;32m<ipython-input-66-b146ff1e794d>\u001b[0m in \u001b[0;36m<cell line: 18>\u001b[0;34m()\u001b[0m\n\u001b[1;32m     16\u001b[0m \u001b[0mreduce_lr_loss\u001b[0m \u001b[0;34m=\u001b[0m \u001b[0mReduceLROnPlateau\u001b[0m\u001b[0;34m(\u001b[0m\u001b[0mmonitor\u001b[0m\u001b[0;34m=\u001b[0m\u001b[0;34m'val_loss'\u001b[0m\u001b[0;34m,\u001b[0m \u001b[0mfactor\u001b[0m\u001b[0;34m=\u001b[0m\u001b[0;36m0.1\u001b[0m\u001b[0;34m,\u001b[0m \u001b[0mpatience\u001b[0m\u001b[0;34m=\u001b[0m\u001b[0;36m7\u001b[0m\u001b[0;34m,\u001b[0m \u001b[0mverbose\u001b[0m\u001b[0;34m=\u001b[0m\u001b[0;36m1\u001b[0m\u001b[0;34m,\u001b[0m \u001b[0mepsilon\u001b[0m\u001b[0;34m=\u001b[0m\u001b[0;36m1e-4\u001b[0m\u001b[0;34m,\u001b[0m \u001b[0mmode\u001b[0m\u001b[0;34m=\u001b[0m\u001b[0;34m'min'\u001b[0m\u001b[0;34m)\u001b[0m\u001b[0;34m\u001b[0m\u001b[0;34m\u001b[0m\u001b[0m\n\u001b[1;32m     17\u001b[0m \u001b[0;34m\u001b[0m\u001b[0m\n\u001b[0;32m---> 18\u001b[0;31m \u001b[0mhistory\u001b[0m \u001b[0;34m=\u001b[0m \u001b[0mmodel\u001b[0m\u001b[0;34m.\u001b[0m\u001b[0mfit\u001b[0m\u001b[0;34m(\u001b[0m\u001b[0mX_train\u001b[0m\u001b[0;34m,\u001b[0m\u001b[0mY_train\u001b[0m\u001b[0;34m,\u001b[0m\u001b[0mbatch_size\u001b[0m\u001b[0;34m=\u001b[0m\u001b[0;36m64\u001b[0m\u001b[0;34m,\u001b[0m\u001b[0mepochs\u001b[0m\u001b[0;34m=\u001b[0m\u001b[0;36m100\u001b[0m\u001b[0;34m,\u001b[0m\u001b[0mvalidation_split\u001b[0m\u001b[0;34m=\u001b[0m\u001b[0;36m0.2\u001b[0m\u001b[0;34m,\u001b[0m\u001b[0mcallbacks\u001b[0m\u001b[0;34m=\u001b[0m\u001b[0;34m[\u001b[0m\u001b[0mearlyStopping\u001b[0m\u001b[0;34m,\u001b[0m \u001b[0mmcp_save\u001b[0m\u001b[0;34m,\u001b[0m \u001b[0mreduce_lr_loss\u001b[0m\u001b[0;34m]\u001b[0m\u001b[0;34m,\u001b[0m\u001b[0;34m)\u001b[0m\u001b[0;34m\u001b[0m\u001b[0;34m\u001b[0m\u001b[0m\n\u001b[0m",
            "\u001b[0;32m/usr/local/lib/python3.10/dist-packages/keras/src/utils/traceback_utils.py\u001b[0m in \u001b[0;36merror_handler\u001b[0;34m(*args, **kwargs)\u001b[0m\n\u001b[1;32m     63\u001b[0m         \u001b[0mfiltered_tb\u001b[0m \u001b[0;34m=\u001b[0m \u001b[0;32mNone\u001b[0m\u001b[0;34m\u001b[0m\u001b[0;34m\u001b[0m\u001b[0m\n\u001b[1;32m     64\u001b[0m         \u001b[0;32mtry\u001b[0m\u001b[0;34m:\u001b[0m\u001b[0;34m\u001b[0m\u001b[0;34m\u001b[0m\u001b[0m\n\u001b[0;32m---> 65\u001b[0;31m             \u001b[0;32mreturn\u001b[0m \u001b[0mfn\u001b[0m\u001b[0;34m(\u001b[0m\u001b[0;34m*\u001b[0m\u001b[0margs\u001b[0m\u001b[0;34m,\u001b[0m \u001b[0;34m**\u001b[0m\u001b[0mkwargs\u001b[0m\u001b[0;34m)\u001b[0m\u001b[0;34m\u001b[0m\u001b[0;34m\u001b[0m\u001b[0m\n\u001b[0m\u001b[1;32m     66\u001b[0m         \u001b[0;32mexcept\u001b[0m \u001b[0mException\u001b[0m \u001b[0;32mas\u001b[0m \u001b[0me\u001b[0m\u001b[0;34m:\u001b[0m\u001b[0;34m\u001b[0m\u001b[0;34m\u001b[0m\u001b[0m\n\u001b[1;32m     67\u001b[0m             \u001b[0mfiltered_tb\u001b[0m \u001b[0;34m=\u001b[0m \u001b[0m_process_traceback_frames\u001b[0m\u001b[0;34m(\u001b[0m\u001b[0me\u001b[0m\u001b[0;34m.\u001b[0m\u001b[0m__traceback__\u001b[0m\u001b[0;34m)\u001b[0m\u001b[0;34m\u001b[0m\u001b[0;34m\u001b[0m\u001b[0m\n",
            "\u001b[0;32m/usr/local/lib/python3.10/dist-packages/keras/src/engine/training.py\u001b[0m in \u001b[0;36mfit\u001b[0;34m(self, x, y, batch_size, epochs, verbose, callbacks, validation_split, validation_data, shuffle, class_weight, sample_weight, initial_epoch, steps_per_epoch, validation_steps, validation_batch_size, validation_freq, max_queue_size, workers, use_multiprocessing)\u001b[0m\n\u001b[1;32m   1796\u001b[0m                 \u001b[0mcallbacks\u001b[0m\u001b[0;34m.\u001b[0m\u001b[0mon_epoch_begin\u001b[0m\u001b[0;34m(\u001b[0m\u001b[0mepoch\u001b[0m\u001b[0;34m)\u001b[0m\u001b[0;34m\u001b[0m\u001b[0;34m\u001b[0m\u001b[0m\n\u001b[1;32m   1797\u001b[0m                 \u001b[0;32mwith\u001b[0m \u001b[0mdata_handler\u001b[0m\u001b[0;34m.\u001b[0m\u001b[0mcatch_stop_iteration\u001b[0m\u001b[0;34m(\u001b[0m\u001b[0;34m)\u001b[0m\u001b[0;34m:\u001b[0m\u001b[0;34m\u001b[0m\u001b[0;34m\u001b[0m\u001b[0m\n\u001b[0;32m-> 1798\u001b[0;31m                     \u001b[0;32mfor\u001b[0m \u001b[0mstep\u001b[0m \u001b[0;32min\u001b[0m \u001b[0mdata_handler\u001b[0m\u001b[0;34m.\u001b[0m\u001b[0msteps\u001b[0m\u001b[0;34m(\u001b[0m\u001b[0;34m)\u001b[0m\u001b[0;34m:\u001b[0m\u001b[0;34m\u001b[0m\u001b[0;34m\u001b[0m\u001b[0m\n\u001b[0m\u001b[1;32m   1799\u001b[0m                         with tf.profiler.experimental.Trace(\n\u001b[1;32m   1800\u001b[0m                             \u001b[0;34m\"train\"\u001b[0m\u001b[0;34m,\u001b[0m\u001b[0;34m\u001b[0m\u001b[0;34m\u001b[0m\u001b[0m\n",
            "\u001b[0;32m/usr/local/lib/python3.10/dist-packages/keras/src/engine/data_adapter.py\u001b[0m in \u001b[0;36msteps\u001b[0;34m(self)\u001b[0m\n\u001b[1;32m   1409\u001b[0m             \u001b[0;32mif\u001b[0m \u001b[0mself\u001b[0m\u001b[0;34m.\u001b[0m\u001b[0m_insufficient_data\u001b[0m\u001b[0;34m:\u001b[0m  \u001b[0;31m# Set by `catch_stop_iteration`.\u001b[0m\u001b[0;34m\u001b[0m\u001b[0;34m\u001b[0m\u001b[0m\n\u001b[1;32m   1410\u001b[0m                 \u001b[0;32mbreak\u001b[0m\u001b[0;34m\u001b[0m\u001b[0;34m\u001b[0m\u001b[0m\n\u001b[0;32m-> 1411\u001b[0;31m             \u001b[0moriginal_spe\u001b[0m \u001b[0;34m=\u001b[0m \u001b[0mself\u001b[0m\u001b[0;34m.\u001b[0m\u001b[0m_steps_per_execution\u001b[0m\u001b[0;34m.\u001b[0m\u001b[0mnumpy\u001b[0m\u001b[0;34m(\u001b[0m\u001b[0;34m)\u001b[0m\u001b[0;34m.\u001b[0m\u001b[0mitem\u001b[0m\u001b[0;34m(\u001b[0m\u001b[0;34m)\u001b[0m\u001b[0;34m\u001b[0m\u001b[0;34m\u001b[0m\u001b[0m\n\u001b[0m\u001b[1;32m   1412\u001b[0m             can_run_full_execution = (\n\u001b[1;32m   1413\u001b[0m                 \u001b[0moriginal_spe\u001b[0m \u001b[0;34m==\u001b[0m \u001b[0;36m1\u001b[0m\u001b[0;34m\u001b[0m\u001b[0;34m\u001b[0m\u001b[0m\n",
            "\u001b[0;32m/usr/local/lib/python3.10/dist-packages/tensorflow/python/ops/resource_variable_ops.py\u001b[0m in \u001b[0;36mnumpy\u001b[0;34m(self)\u001b[0m\n\u001b[1;32m    687\u001b[0m   \u001b[0;32mdef\u001b[0m \u001b[0mnumpy\u001b[0m\u001b[0;34m(\u001b[0m\u001b[0mself\u001b[0m\u001b[0;34m)\u001b[0m\u001b[0;34m:\u001b[0m\u001b[0;34m\u001b[0m\u001b[0;34m\u001b[0m\u001b[0m\n\u001b[1;32m    688\u001b[0m     \u001b[0;32mif\u001b[0m \u001b[0mcontext\u001b[0m\u001b[0;34m.\u001b[0m\u001b[0mexecuting_eagerly\u001b[0m\u001b[0;34m(\u001b[0m\u001b[0;34m)\u001b[0m\u001b[0;34m:\u001b[0m\u001b[0;34m\u001b[0m\u001b[0;34m\u001b[0m\u001b[0m\n\u001b[0;32m--> 689\u001b[0;31m       \u001b[0;32mreturn\u001b[0m \u001b[0mself\u001b[0m\u001b[0;34m.\u001b[0m\u001b[0mread_value\u001b[0m\u001b[0;34m(\u001b[0m\u001b[0;34m)\u001b[0m\u001b[0;34m.\u001b[0m\u001b[0mnumpy\u001b[0m\u001b[0;34m(\u001b[0m\u001b[0;34m)\u001b[0m\u001b[0;34m\u001b[0m\u001b[0;34m\u001b[0m\u001b[0m\n\u001b[0m\u001b[1;32m    690\u001b[0m     raise NotImplementedError(\n\u001b[1;32m    691\u001b[0m         \"numpy() is only available when eager execution is enabled.\")\n",
            "\u001b[0;32m/usr/local/lib/python3.10/dist-packages/tensorflow/python/ops/resource_variable_ops.py\u001b[0m in \u001b[0;36mread_value\u001b[0;34m(self)\u001b[0m\n\u001b[1;32m    840\u001b[0m     \u001b[0;31m# Return an identity so it can get placed on whatever device the context\u001b[0m\u001b[0;34m\u001b[0m\u001b[0;34m\u001b[0m\u001b[0m\n\u001b[1;32m    841\u001b[0m     \u001b[0;31m# specifies instead of the device where the variable is.\u001b[0m\u001b[0;34m\u001b[0m\u001b[0;34m\u001b[0m\u001b[0m\n\u001b[0;32m--> 842\u001b[0;31m     \u001b[0;32mreturn\u001b[0m \u001b[0marray_ops\u001b[0m\u001b[0;34m.\u001b[0m\u001b[0midentity\u001b[0m\u001b[0;34m(\u001b[0m\u001b[0mvalue\u001b[0m\u001b[0;34m)\u001b[0m\u001b[0;34m\u001b[0m\u001b[0;34m\u001b[0m\u001b[0m\n\u001b[0m\u001b[1;32m    843\u001b[0m \u001b[0;34m\u001b[0m\u001b[0m\n\u001b[1;32m    844\u001b[0m   \u001b[0;32mdef\u001b[0m \u001b[0mread_value_no_copy\u001b[0m\u001b[0;34m(\u001b[0m\u001b[0mself\u001b[0m\u001b[0;34m)\u001b[0m\u001b[0;34m:\u001b[0m\u001b[0;34m\u001b[0m\u001b[0;34m\u001b[0m\u001b[0m\n",
            "\u001b[0;32m/usr/local/lib/python3.10/dist-packages/tensorflow/python/ops/weak_tensor_ops.py\u001b[0m in \u001b[0;36mwrapper\u001b[0;34m(*args, **kwargs)\u001b[0m\n\u001b[1;32m     86\u001b[0m   \u001b[0;32mdef\u001b[0m \u001b[0mwrapper\u001b[0m\u001b[0;34m(\u001b[0m\u001b[0;34m*\u001b[0m\u001b[0margs\u001b[0m\u001b[0;34m,\u001b[0m \u001b[0;34m**\u001b[0m\u001b[0mkwargs\u001b[0m\u001b[0;34m)\u001b[0m\u001b[0;34m:\u001b[0m\u001b[0;34m\u001b[0m\u001b[0;34m\u001b[0m\u001b[0m\n\u001b[1;32m     87\u001b[0m     \u001b[0;32mif\u001b[0m \u001b[0;32mnot\u001b[0m \u001b[0mops\u001b[0m\u001b[0;34m.\u001b[0m\u001b[0mis_auto_dtype_conversion_enabled\u001b[0m\u001b[0;34m(\u001b[0m\u001b[0;34m)\u001b[0m\u001b[0;34m:\u001b[0m\u001b[0;34m\u001b[0m\u001b[0;34m\u001b[0m\u001b[0m\n\u001b[0;32m---> 88\u001b[0;31m       \u001b[0;32mreturn\u001b[0m \u001b[0mop\u001b[0m\u001b[0;34m(\u001b[0m\u001b[0;34m*\u001b[0m\u001b[0margs\u001b[0m\u001b[0;34m,\u001b[0m \u001b[0;34m**\u001b[0m\u001b[0mkwargs\u001b[0m\u001b[0;34m)\u001b[0m\u001b[0;34m\u001b[0m\u001b[0;34m\u001b[0m\u001b[0m\n\u001b[0m\u001b[1;32m     89\u001b[0m     \u001b[0mbound_arguments\u001b[0m \u001b[0;34m=\u001b[0m \u001b[0msignature\u001b[0m\u001b[0;34m.\u001b[0m\u001b[0mbind\u001b[0m\u001b[0;34m(\u001b[0m\u001b[0;34m*\u001b[0m\u001b[0margs\u001b[0m\u001b[0;34m,\u001b[0m \u001b[0;34m**\u001b[0m\u001b[0mkwargs\u001b[0m\u001b[0;34m)\u001b[0m\u001b[0;34m\u001b[0m\u001b[0;34m\u001b[0m\u001b[0m\n\u001b[1;32m     90\u001b[0m     \u001b[0mbound_arguments\u001b[0m\u001b[0;34m.\u001b[0m\u001b[0mapply_defaults\u001b[0m\u001b[0;34m(\u001b[0m\u001b[0;34m)\u001b[0m\u001b[0;34m\u001b[0m\u001b[0;34m\u001b[0m\u001b[0m\n",
            "\u001b[0;32m/usr/local/lib/python3.10/dist-packages/tensorflow/python/util/traceback_utils.py\u001b[0m in \u001b[0;36merror_handler\u001b[0;34m(*args, **kwargs)\u001b[0m\n\u001b[1;32m    148\u001b[0m     \u001b[0mfiltered_tb\u001b[0m \u001b[0;34m=\u001b[0m \u001b[0;32mNone\u001b[0m\u001b[0;34m\u001b[0m\u001b[0;34m\u001b[0m\u001b[0m\n\u001b[1;32m    149\u001b[0m     \u001b[0;32mtry\u001b[0m\u001b[0;34m:\u001b[0m\u001b[0;34m\u001b[0m\u001b[0;34m\u001b[0m\u001b[0m\n\u001b[0;32m--> 150\u001b[0;31m       \u001b[0;32mreturn\u001b[0m \u001b[0mfn\u001b[0m\u001b[0;34m(\u001b[0m\u001b[0;34m*\u001b[0m\u001b[0margs\u001b[0m\u001b[0;34m,\u001b[0m \u001b[0;34m**\u001b[0m\u001b[0mkwargs\u001b[0m\u001b[0;34m)\u001b[0m\u001b[0;34m\u001b[0m\u001b[0;34m\u001b[0m\u001b[0m\n\u001b[0m\u001b[1;32m    151\u001b[0m     \u001b[0;32mexcept\u001b[0m \u001b[0mException\u001b[0m \u001b[0;32mas\u001b[0m \u001b[0me\u001b[0m\u001b[0;34m:\u001b[0m\u001b[0;34m\u001b[0m\u001b[0;34m\u001b[0m\u001b[0m\n\u001b[1;32m    152\u001b[0m       \u001b[0mfiltered_tb\u001b[0m \u001b[0;34m=\u001b[0m \u001b[0m_process_traceback_frames\u001b[0m\u001b[0;34m(\u001b[0m\u001b[0me\u001b[0m\u001b[0;34m.\u001b[0m\u001b[0m__traceback__\u001b[0m\u001b[0;34m)\u001b[0m\u001b[0;34m\u001b[0m\u001b[0;34m\u001b[0m\u001b[0m\n",
            "\u001b[0;32m/usr/local/lib/python3.10/dist-packages/tensorflow/python/util/dispatch.py\u001b[0m in \u001b[0;36mop_dispatch_handler\u001b[0;34m(*args, **kwargs)\u001b[0m\n\u001b[1;32m   1258\u001b[0m       \u001b[0;31m# Fallback dispatch system (dispatch v1):\u001b[0m\u001b[0;34m\u001b[0m\u001b[0;34m\u001b[0m\u001b[0m\n\u001b[1;32m   1259\u001b[0m       \u001b[0;32mtry\u001b[0m\u001b[0;34m:\u001b[0m\u001b[0;34m\u001b[0m\u001b[0;34m\u001b[0m\u001b[0m\n\u001b[0;32m-> 1260\u001b[0;31m         \u001b[0;32mreturn\u001b[0m \u001b[0mdispatch_target\u001b[0m\u001b[0;34m(\u001b[0m\u001b[0;34m*\u001b[0m\u001b[0margs\u001b[0m\u001b[0;34m,\u001b[0m \u001b[0;34m**\u001b[0m\u001b[0mkwargs\u001b[0m\u001b[0;34m)\u001b[0m\u001b[0;34m\u001b[0m\u001b[0;34m\u001b[0m\u001b[0m\n\u001b[0m\u001b[1;32m   1261\u001b[0m       \u001b[0;32mexcept\u001b[0m \u001b[0;34m(\u001b[0m\u001b[0mTypeError\u001b[0m\u001b[0;34m,\u001b[0m \u001b[0mValueError\u001b[0m\u001b[0;34m)\u001b[0m\u001b[0;34m:\u001b[0m\u001b[0;34m\u001b[0m\u001b[0;34m\u001b[0m\u001b[0m\n\u001b[1;32m   1262\u001b[0m         \u001b[0;31m# Note: convert_to_eager_tensor currently raises a ValueError, not a\u001b[0m\u001b[0;34m\u001b[0m\u001b[0;34m\u001b[0m\u001b[0m\n",
            "\u001b[0;32m/usr/local/lib/python3.10/dist-packages/tensorflow/python/ops/array_ops.py\u001b[0m in \u001b[0;36midentity\u001b[0;34m(input, name)\u001b[0m\n\u001b[1;32m    310\u001b[0m     \u001b[0;31m# variables. Variables have correct handle data when graph building.\u001b[0m\u001b[0;34m\u001b[0m\u001b[0;34m\u001b[0m\u001b[0m\n\u001b[1;32m    311\u001b[0m     \u001b[0minput\u001b[0m \u001b[0;34m=\u001b[0m \u001b[0mops\u001b[0m\u001b[0;34m.\u001b[0m\u001b[0mconvert_to_tensor\u001b[0m\u001b[0;34m(\u001b[0m\u001b[0minput\u001b[0m\u001b[0;34m)\u001b[0m\u001b[0;34m\u001b[0m\u001b[0;34m\u001b[0m\u001b[0m\n\u001b[0;32m--> 312\u001b[0;31m   \u001b[0mret\u001b[0m \u001b[0;34m=\u001b[0m \u001b[0mgen_array_ops\u001b[0m\u001b[0;34m.\u001b[0m\u001b[0midentity\u001b[0m\u001b[0;34m(\u001b[0m\u001b[0minput\u001b[0m\u001b[0;34m,\u001b[0m \u001b[0mname\u001b[0m\u001b[0;34m=\u001b[0m\u001b[0mname\u001b[0m\u001b[0;34m)\u001b[0m\u001b[0;34m\u001b[0m\u001b[0;34m\u001b[0m\u001b[0m\n\u001b[0m\u001b[1;32m    313\u001b[0m   \u001b[0;31m# Propagate handle data for happier shape inference for resource variables.\u001b[0m\u001b[0;34m\u001b[0m\u001b[0;34m\u001b[0m\u001b[0m\n\u001b[1;32m    314\u001b[0m   \u001b[0;32mif\u001b[0m \u001b[0mhasattr\u001b[0m\u001b[0;34m(\u001b[0m\u001b[0minput\u001b[0m\u001b[0;34m,\u001b[0m \u001b[0;34m\"_handle_data\"\u001b[0m\u001b[0;34m)\u001b[0m\u001b[0;34m:\u001b[0m\u001b[0;34m\u001b[0m\u001b[0;34m\u001b[0m\u001b[0m\n",
            "\u001b[0;32m/usr/local/lib/python3.10/dist-packages/tensorflow/python/ops/gen_array_ops.py\u001b[0m in \u001b[0;36midentity\u001b[0;34m(input, name)\u001b[0m\n\u001b[1;32m   4168\u001b[0m \u001b[0mTV_Identity_T\u001b[0m \u001b[0;34m=\u001b[0m \u001b[0mTypeVar\u001b[0m\u001b[0;34m(\u001b[0m\u001b[0;34m\"TV_Identity_T\"\u001b[0m\u001b[0;34m,\u001b[0m \u001b[0m_atypes\u001b[0m\u001b[0;34m.\u001b[0m\u001b[0mBFloat16\u001b[0m\u001b[0;34m,\u001b[0m \u001b[0m_atypes\u001b[0m\u001b[0;34m.\u001b[0m\u001b[0mBool\u001b[0m\u001b[0;34m,\u001b[0m \u001b[0m_atypes\u001b[0m\u001b[0;34m.\u001b[0m\u001b[0mComplex128\u001b[0m\u001b[0;34m,\u001b[0m \u001b[0m_atypes\u001b[0m\u001b[0;34m.\u001b[0m\u001b[0mComplex64\u001b[0m\u001b[0;34m,\u001b[0m \u001b[0m_atypes\u001b[0m\u001b[0;34m.\u001b[0m\u001b[0mFloat16\u001b[0m\u001b[0;34m,\u001b[0m \u001b[0m_atypes\u001b[0m\u001b[0;34m.\u001b[0m\u001b[0mFloat32\u001b[0m\u001b[0;34m,\u001b[0m \u001b[0m_atypes\u001b[0m\u001b[0;34m.\u001b[0m\u001b[0mFloat64\u001b[0m\u001b[0;34m,\u001b[0m \u001b[0m_atypes\u001b[0m\u001b[0;34m.\u001b[0m\u001b[0mFloat8e4m3fn\u001b[0m\u001b[0;34m,\u001b[0m \u001b[0m_atypes\u001b[0m\u001b[0;34m.\u001b[0m\u001b[0mFloat8e5m2\u001b[0m\u001b[0;34m,\u001b[0m \u001b[0m_atypes\u001b[0m\u001b[0;34m.\u001b[0m\u001b[0mHalf\u001b[0m\u001b[0;34m,\u001b[0m \u001b[0m_atypes\u001b[0m\u001b[0;34m.\u001b[0m\u001b[0mInt16\u001b[0m\u001b[0;34m,\u001b[0m \u001b[0m_atypes\u001b[0m\u001b[0;34m.\u001b[0m\u001b[0mInt32\u001b[0m\u001b[0;34m,\u001b[0m \u001b[0m_atypes\u001b[0m\u001b[0;34m.\u001b[0m\u001b[0mInt4\u001b[0m\u001b[0;34m,\u001b[0m \u001b[0m_atypes\u001b[0m\u001b[0;34m.\u001b[0m\u001b[0mInt64\u001b[0m\u001b[0;34m,\u001b[0m \u001b[0m_atypes\u001b[0m\u001b[0;34m.\u001b[0m\u001b[0mInt8\u001b[0m\u001b[0;34m,\u001b[0m \u001b[0m_atypes\u001b[0m\u001b[0;34m.\u001b[0m\u001b[0mQInt16\u001b[0m\u001b[0;34m,\u001b[0m \u001b[0m_atypes\u001b[0m\u001b[0;34m.\u001b[0m\u001b[0mQInt32\u001b[0m\u001b[0;34m,\u001b[0m \u001b[0m_atypes\u001b[0m\u001b[0;34m.\u001b[0m\u001b[0mQInt8\u001b[0m\u001b[0;34m,\u001b[0m \u001b[0m_atypes\u001b[0m\u001b[0;34m.\u001b[0m\u001b[0mQUInt16\u001b[0m\u001b[0;34m,\u001b[0m \u001b[0m_atypes\u001b[0m\u001b[0;34m.\u001b[0m\u001b[0mQUInt8\u001b[0m\u001b[0;34m,\u001b[0m \u001b[0m_atypes\u001b[0m\u001b[0;34m.\u001b[0m\u001b[0mResource\u001b[0m\u001b[0;34m,\u001b[0m \u001b[0m_atypes\u001b[0m\u001b[0;34m.\u001b[0m\u001b[0mString\u001b[0m\u001b[0;34m,\u001b[0m \u001b[0m_atypes\u001b[0m\u001b[0;34m.\u001b[0m\u001b[0mUInt16\u001b[0m\u001b[0;34m,\u001b[0m \u001b[0m_atypes\u001b[0m\u001b[0;34m.\u001b[0m\u001b[0mUInt32\u001b[0m\u001b[0;34m,\u001b[0m \u001b[0m_atypes\u001b[0m\u001b[0;34m.\u001b[0m\u001b[0mUInt4\u001b[0m\u001b[0;34m,\u001b[0m \u001b[0m_atypes\u001b[0m...\n\u001b[1;32m   4169\u001b[0m \u001b[0;34m\u001b[0m\u001b[0m\n\u001b[0;32m-> 4170\u001b[0;31m \u001b[0;32mdef\u001b[0m \u001b[0midentity\u001b[0m\u001b[0;34m(\u001b[0m\u001b[0minput\u001b[0m\u001b[0;34m:\u001b[0m \u001b[0mAnnotated\u001b[0m\u001b[0;34m[\u001b[0m\u001b[0mAny\u001b[0m\u001b[0;34m,\u001b[0m \u001b[0mTV_Identity_T\u001b[0m\u001b[0;34m]\u001b[0m\u001b[0;34m,\u001b[0m \u001b[0mname\u001b[0m\u001b[0;34m=\u001b[0m\u001b[0;32mNone\u001b[0m\u001b[0;34m)\u001b[0m \u001b[0;34m->\u001b[0m \u001b[0mAnnotated\u001b[0m\u001b[0;34m[\u001b[0m\u001b[0mAny\u001b[0m\u001b[0;34m,\u001b[0m \u001b[0mTV_Identity_T\u001b[0m\u001b[0;34m]\u001b[0m\u001b[0;34m:\u001b[0m\u001b[0;34m\u001b[0m\u001b[0;34m\u001b[0m\u001b[0m\n\u001b[0m\u001b[1;32m   4171\u001b[0m   r\"\"\"Return a tensor with the same shape and contents as the input tensor or value.\n\u001b[1;32m   4172\u001b[0m \u001b[0;34m\u001b[0m\u001b[0m\n",
            "\u001b[0;31mKeyboardInterrupt\u001b[0m: "
          ]
        }
      ],
      "source": [
        "from keras.optimizers import RMSprop\n",
        "\n",
        "model = keras.Sequential()\n",
        "model.add(layers.Dense(64,activation=\"relu\",input_dim=2))\n",
        "model.add(layers.Dense(1,activation=\"linear\"))\n",
        "\n",
        "model.summary()\n",
        "\n",
        "# Compile the Model\n",
        "model.compile(loss = 'MSE',\n",
        "              optimizer=RMSprop(learning_rate=0.000000001))\n",
        "\n",
        "# Callbacks Configs\n",
        "earlyStopping = EarlyStopping(monitor='val_loss', patience=10, verbose=0, mode='min')\n",
        "mcp_save = ModelCheckpoint('.mdl_wts.hdf5', save_best_only=True, monitor='val_loss', mode='min')\n",
        "reduce_lr_loss = ReduceLROnPlateau(monitor='val_loss', factor=0.1, patience=7, verbose=1, epsilon=1e-4, mode='min')\n",
        "\n",
        "history = model.fit(X_train,Y_train,batch_size=64,epochs=100,validation_split=0.2,callbacks=[earlyStopping, mcp_save, reduce_lr_loss],)"
      ]
    },
    {
      "cell_type": "code",
      "source": [
        "from matplotlib import pyplot as plt\n",
        "plt.plot(history.history['loss'])\n",
        "plt.plot(history.history['val_loss'])\n",
        "plt.title('model loss')\n",
        "plt.ylabel('loss')\n",
        "plt.xlabel('epoch')\n",
        "plt.legend(['train', 'val'], loc='upper left')\n",
        "plt.show()"
      ],
      "metadata": {
        "id": "cqOqHiYXHSg_"
      },
      "execution_count": null,
      "outputs": []
    },
    {
      "cell_type": "code",
      "source": [
        "from matplotlib import pyplot as plt\n",
        "plt.plot(history.history['loss'][5:])\n",
        "plt.plot(history.history['val_loss'][5:])\n",
        "plt.title('model loss')\n",
        "plt.ylabel('loss')\n",
        "plt.xlabel('epoch')\n",
        "plt.legend(['train', 'val'], loc='upper left')\n",
        "plt.show()"
      ],
      "metadata": {
        "id": "5VPWcxTEHShA"
      },
      "execution_count": null,
      "outputs": []
    },
    {
      "cell_type": "code",
      "source": [
        "from matplotlib import pyplot as plt\n",
        "plt.plot(history.history['loss'][30:])\n",
        "plt.plot(history.history['val_loss'][30:])\n",
        "plt.title('model loss')\n",
        "plt.ylabel('loss')\n",
        "plt.xlabel('epoch')\n",
        "plt.legend(['train', 'val'], loc='upper left')\n",
        "plt.show()"
      ],
      "metadata": {
        "id": "Yt_QnqyRHShA"
      },
      "execution_count": null,
      "outputs": []
    },
    {
      "cell_type": "markdown",
      "source": [
        "### ٍEvaluate Model"
      ],
      "metadata": {
        "id": "G9BqyOdNHShA"
      }
    },
    {
      "cell_type": "code",
      "execution_count": null,
      "metadata": {
        "id": "clw30vakHShA"
      },
      "outputs": [],
      "source": [
        "model.evaluate(X_test,Y_test)"
      ]
    },
    {
      "cell_type": "code",
      "source": [
        "y_predicted = model.predict(X_test)"
      ],
      "metadata": {
        "id": "O3Gokb2FHShA"
      },
      "execution_count": null,
      "outputs": []
    },
    {
      "cell_type": "code",
      "source": [
        "from sklearn.metrics import (\n",
        "    mean_absolute_error,\n",
        "    mean_squared_error,\n",
        "    r2_score,\n",
        ")\n",
        "\n",
        "print('MAE: ',mean_absolute_error(Y_test, y_predicted))\n",
        "print('MSE: ',mean_squared_error(Y_test, y_predicted))\n",
        "print('R2_score: ',r2_score(Y_test, y_predicted))\n"
      ],
      "metadata": {
        "id": "Ss547JyIHShA"
      },
      "execution_count": null,
      "outputs": []
    },
    {
      "cell_type": "markdown",
      "source": [
        "### Let's test the model"
      ],
      "metadata": {
        "id": "y9hc_OnvHShA"
      }
    },
    {
      "cell_type": "code",
      "source": [
        "test_data = X_test.iloc[:1]\n",
        "print(\"Data :\")\n",
        "display(test_data)\n",
        "print(\"------------------------------------\")\n",
        "print(\"lable :\",)\n",
        "display(Y_test.iloc[:1])\n",
        "print(\"------------------------------------\")\n",
        "predicted = model.predict(test_data)\n",
        "print(\"------------------------------------\")\n",
        "print(f\"Model scaled Prediction is : {predicted}\")\n",
        "output = scaler.inverse_transform([[np.nan,np.nan,predicted[0][0]]])\n",
        "print(f\"Model Prediction is : {output[0][2]}\")"
      ],
      "metadata": {
        "id": "xIO6TMGFHShA"
      },
      "execution_count": null,
      "outputs": []
    },
    {
      "cell_type": "markdown",
      "source": [
        "### Let's test the model via unseen data"
      ],
      "metadata": {
        "id": "XCgguC6KHShA"
      }
    },
    {
      "cell_type": "code",
      "source": [
        "num_1 = 8000\n",
        "num_2 = 3000\n",
        "unseen_data = scaler.transform([[num_1,num_2,np.nan]])\n",
        "print(\"Data :\",unseen_data)\n",
        "print(\"Label :\" )\n",
        "print(\"Actual Multiplication :\",num_1*num_2 +5)\n",
        "print(\"------------------------------------\")\n",
        "predicted = model.predict(unseen_data[:,:2])\n",
        "print(\"------------------------------------\")\n",
        "print(f\"Model scaled Prediction is : {predicted}\")\n",
        "output = scaler.inverse_transform([[np.nan,np.nan,predicted[0][0]]])\n",
        "print(f\"Model Prediction is : {output[0][2]}\")"
      ],
      "metadata": {
        "id": "gL-NRE69HShA"
      },
      "execution_count": null,
      "outputs": []
    },
    {
      "cell_type": "code",
      "source": [],
      "metadata": {
        "id": "E0lktX9iHCBE"
      },
      "execution_count": null,
      "outputs": []
    }
  ],
  "metadata": {
    "colab": {
      "provenance": [],
      "collapsed_sections": [
        "WA81FIaBNlrp",
        "LuKzQVTPxAEN",
        "mm_I6L4UxlvN",
        "koac3v0k-IeE",
        "8nZQfx7eNb-L",
        "IhuFBOY8Nb-M",
        "QyxGRtYdNb-M"
      ],
      "gpuType": "T4",
      "authorship_tag": "ABX9TyNa0jlJORVhc97ZcLN8QDAv",
      "include_colab_link": true
    },
    "kernelspec": {
      "display_name": "Python 3",
      "name": "python3"
    },
    "language_info": {
      "name": "python"
    },
    "accelerator": "GPU"
  },
  "nbformat": 4,
  "nbformat_minor": 0
}