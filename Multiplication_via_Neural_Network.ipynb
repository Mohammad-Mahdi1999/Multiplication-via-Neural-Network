{
  "cells": [
    {
      "cell_type": "markdown",
      "metadata": {
        "id": "view-in-github",
        "colab_type": "text"
      },
      "source": [
        "<a href=\"https://colab.research.google.com/github/Mohammad-Mahdi1999/Multiplication-via-Neural-Network/blob/master/Multiplication_via_Neural_Network.ipynb\" target=\"_parent\"><img src=\"https://colab.research.google.com/assets/colab-badge.svg\" alt=\"Open In Colab\"/></a>"
      ]
    },
    {
      "cell_type": "code",
      "execution_count": 2,
      "metadata": {
        "id": "fNGk1t_aMi96"
      },
      "outputs": [],
      "source": [
        "import numpy as np\n",
        "import pandas as pd\n",
        "import tensorflow as tf\n",
        "from tensorflow import keras"
      ]
    },
    {
      "cell_type": "markdown",
      "metadata": {
        "id": "WA81FIaBNlrp"
      },
      "source": [
        "# Generate Dataset"
      ]
    },
    {
      "cell_type": "code",
      "execution_count": 3,
      "metadata": {
        "id": "412lukIBNEZF"
      },
      "outputs": [],
      "source": [
        "x_1 = np.random.randint(0,10_000,1_000_000)\n",
        "x_2 = np.random.randint(0,10_000,1_000_000)\n",
        "y = x_1 * x_2 + 5"
      ]
    },
    {
      "cell_type": "code",
      "execution_count": 4,
      "metadata": {
        "colab": {
          "base_uri": "https://localhost:8080/",
          "height": 0
        },
        "id": "TehWO-gyP50A",
        "outputId": "436935a2-bcc1-4362-af1b-4b6a0548d503"
      },
      "outputs": [
        {
          "output_type": "execute_result",
          "data": {
            "text/plain": [
              "         x_1   x_2         y\n",
              "0       8712  9469  82493933\n",
              "1       3677  5555  20425740\n",
              "2       5998  1412   8469181\n",
              "3       7723  4684  36174537\n",
              "4       7280  5411  39392085\n",
              "...      ...   ...       ...\n",
              "999995  6017  6271  37732612\n",
              "999996  9518  1350  12849305\n",
              "999997   326  2131    694711\n",
              "999998  3596  1807   6497977\n",
              "999999  2007  7271  14592902\n",
              "\n",
              "[1000000 rows x 3 columns]"
            ],
            "text/html": [
              "\n",
              "  <div id=\"df-45898a85-db1e-4c2b-ad10-b7865554d473\" class=\"colab-df-container\">\n",
              "    <div>\n",
              "<style scoped>\n",
              "    .dataframe tbody tr th:only-of-type {\n",
              "        vertical-align: middle;\n",
              "    }\n",
              "\n",
              "    .dataframe tbody tr th {\n",
              "        vertical-align: top;\n",
              "    }\n",
              "\n",
              "    .dataframe thead th {\n",
              "        text-align: right;\n",
              "    }\n",
              "</style>\n",
              "<table border=\"1\" class=\"dataframe\">\n",
              "  <thead>\n",
              "    <tr style=\"text-align: right;\">\n",
              "      <th></th>\n",
              "      <th>x_1</th>\n",
              "      <th>x_2</th>\n",
              "      <th>y</th>\n",
              "    </tr>\n",
              "  </thead>\n",
              "  <tbody>\n",
              "    <tr>\n",
              "      <th>0</th>\n",
              "      <td>8712</td>\n",
              "      <td>9469</td>\n",
              "      <td>82493933</td>\n",
              "    </tr>\n",
              "    <tr>\n",
              "      <th>1</th>\n",
              "      <td>3677</td>\n",
              "      <td>5555</td>\n",
              "      <td>20425740</td>\n",
              "    </tr>\n",
              "    <tr>\n",
              "      <th>2</th>\n",
              "      <td>5998</td>\n",
              "      <td>1412</td>\n",
              "      <td>8469181</td>\n",
              "    </tr>\n",
              "    <tr>\n",
              "      <th>3</th>\n",
              "      <td>7723</td>\n",
              "      <td>4684</td>\n",
              "      <td>36174537</td>\n",
              "    </tr>\n",
              "    <tr>\n",
              "      <th>4</th>\n",
              "      <td>7280</td>\n",
              "      <td>5411</td>\n",
              "      <td>39392085</td>\n",
              "    </tr>\n",
              "    <tr>\n",
              "      <th>...</th>\n",
              "      <td>...</td>\n",
              "      <td>...</td>\n",
              "      <td>...</td>\n",
              "    </tr>\n",
              "    <tr>\n",
              "      <th>999995</th>\n",
              "      <td>6017</td>\n",
              "      <td>6271</td>\n",
              "      <td>37732612</td>\n",
              "    </tr>\n",
              "    <tr>\n",
              "      <th>999996</th>\n",
              "      <td>9518</td>\n",
              "      <td>1350</td>\n",
              "      <td>12849305</td>\n",
              "    </tr>\n",
              "    <tr>\n",
              "      <th>999997</th>\n",
              "      <td>326</td>\n",
              "      <td>2131</td>\n",
              "      <td>694711</td>\n",
              "    </tr>\n",
              "    <tr>\n",
              "      <th>999998</th>\n",
              "      <td>3596</td>\n",
              "      <td>1807</td>\n",
              "      <td>6497977</td>\n",
              "    </tr>\n",
              "    <tr>\n",
              "      <th>999999</th>\n",
              "      <td>2007</td>\n",
              "      <td>7271</td>\n",
              "      <td>14592902</td>\n",
              "    </tr>\n",
              "  </tbody>\n",
              "</table>\n",
              "<p>1000000 rows × 3 columns</p>\n",
              "</div>\n",
              "    <div class=\"colab-df-buttons\">\n",
              "\n",
              "  <div class=\"colab-df-container\">\n",
              "    <button class=\"colab-df-convert\" onclick=\"convertToInteractive('df-45898a85-db1e-4c2b-ad10-b7865554d473')\"\n",
              "            title=\"Convert this dataframe to an interactive table.\"\n",
              "            style=\"display:none;\">\n",
              "\n",
              "  <svg xmlns=\"http://www.w3.org/2000/svg\" height=\"24px\" viewBox=\"0 -960 960 960\">\n",
              "    <path d=\"M120-120v-720h720v720H120Zm60-500h600v-160H180v160Zm220 220h160v-160H400v160Zm0 220h160v-160H400v160ZM180-400h160v-160H180v160Zm440 0h160v-160H620v160ZM180-180h160v-160H180v160Zm440 0h160v-160H620v160Z\"/>\n",
              "  </svg>\n",
              "    </button>\n",
              "\n",
              "  <style>\n",
              "    .colab-df-container {\n",
              "      display:flex;\n",
              "      gap: 12px;\n",
              "    }\n",
              "\n",
              "    .colab-df-convert {\n",
              "      background-color: #E8F0FE;\n",
              "      border: none;\n",
              "      border-radius: 50%;\n",
              "      cursor: pointer;\n",
              "      display: none;\n",
              "      fill: #1967D2;\n",
              "      height: 32px;\n",
              "      padding: 0 0 0 0;\n",
              "      width: 32px;\n",
              "    }\n",
              "\n",
              "    .colab-df-convert:hover {\n",
              "      background-color: #E2EBFA;\n",
              "      box-shadow: 0px 1px 2px rgba(60, 64, 67, 0.3), 0px 1px 3px 1px rgba(60, 64, 67, 0.15);\n",
              "      fill: #174EA6;\n",
              "    }\n",
              "\n",
              "    .colab-df-buttons div {\n",
              "      margin-bottom: 4px;\n",
              "    }\n",
              "\n",
              "    [theme=dark] .colab-df-convert {\n",
              "      background-color: #3B4455;\n",
              "      fill: #D2E3FC;\n",
              "    }\n",
              "\n",
              "    [theme=dark] .colab-df-convert:hover {\n",
              "      background-color: #434B5C;\n",
              "      box-shadow: 0px 1px 3px 1px rgba(0, 0, 0, 0.15);\n",
              "      filter: drop-shadow(0px 1px 2px rgba(0, 0, 0, 0.3));\n",
              "      fill: #FFFFFF;\n",
              "    }\n",
              "  </style>\n",
              "\n",
              "    <script>\n",
              "      const buttonEl =\n",
              "        document.querySelector('#df-45898a85-db1e-4c2b-ad10-b7865554d473 button.colab-df-convert');\n",
              "      buttonEl.style.display =\n",
              "        google.colab.kernel.accessAllowed ? 'block' : 'none';\n",
              "\n",
              "      async function convertToInteractive(key) {\n",
              "        const element = document.querySelector('#df-45898a85-db1e-4c2b-ad10-b7865554d473');\n",
              "        const dataTable =\n",
              "          await google.colab.kernel.invokeFunction('convertToInteractive',\n",
              "                                                    [key], {});\n",
              "        if (!dataTable) return;\n",
              "\n",
              "        const docLinkHtml = 'Like what you see? Visit the ' +\n",
              "          '<a target=\"_blank\" href=https://colab.research.google.com/notebooks/data_table.ipynb>data table notebook</a>'\n",
              "          + ' to learn more about interactive tables.';\n",
              "        element.innerHTML = '';\n",
              "        dataTable['output_type'] = 'display_data';\n",
              "        await google.colab.output.renderOutput(dataTable, element);\n",
              "        const docLink = document.createElement('div');\n",
              "        docLink.innerHTML = docLinkHtml;\n",
              "        element.appendChild(docLink);\n",
              "      }\n",
              "    </script>\n",
              "  </div>\n",
              "\n",
              "\n",
              "<div id=\"df-387cfb54-a25a-4989-9b9c-eebc5cc1d6ee\">\n",
              "  <button class=\"colab-df-quickchart\" onclick=\"quickchart('df-387cfb54-a25a-4989-9b9c-eebc5cc1d6ee')\"\n",
              "            title=\"Suggest charts\"\n",
              "            style=\"display:none;\">\n",
              "\n",
              "<svg xmlns=\"http://www.w3.org/2000/svg\" height=\"24px\"viewBox=\"0 0 24 24\"\n",
              "     width=\"24px\">\n",
              "    <g>\n",
              "        <path d=\"M19 3H5c-1.1 0-2 .9-2 2v14c0 1.1.9 2 2 2h14c1.1 0 2-.9 2-2V5c0-1.1-.9-2-2-2zM9 17H7v-7h2v7zm4 0h-2V7h2v10zm4 0h-2v-4h2v4z\"/>\n",
              "    </g>\n",
              "</svg>\n",
              "  </button>\n",
              "\n",
              "<style>\n",
              "  .colab-df-quickchart {\n",
              "      --bg-color: #E8F0FE;\n",
              "      --fill-color: #1967D2;\n",
              "      --hover-bg-color: #E2EBFA;\n",
              "      --hover-fill-color: #174EA6;\n",
              "      --disabled-fill-color: #AAA;\n",
              "      --disabled-bg-color: #DDD;\n",
              "  }\n",
              "\n",
              "  [theme=dark] .colab-df-quickchart {\n",
              "      --bg-color: #3B4455;\n",
              "      --fill-color: #D2E3FC;\n",
              "      --hover-bg-color: #434B5C;\n",
              "      --hover-fill-color: #FFFFFF;\n",
              "      --disabled-bg-color: #3B4455;\n",
              "      --disabled-fill-color: #666;\n",
              "  }\n",
              "\n",
              "  .colab-df-quickchart {\n",
              "    background-color: var(--bg-color);\n",
              "    border: none;\n",
              "    border-radius: 50%;\n",
              "    cursor: pointer;\n",
              "    display: none;\n",
              "    fill: var(--fill-color);\n",
              "    height: 32px;\n",
              "    padding: 0;\n",
              "    width: 32px;\n",
              "  }\n",
              "\n",
              "  .colab-df-quickchart:hover {\n",
              "    background-color: var(--hover-bg-color);\n",
              "    box-shadow: 0 1px 2px rgba(60, 64, 67, 0.3), 0 1px 3px 1px rgba(60, 64, 67, 0.15);\n",
              "    fill: var(--button-hover-fill-color);\n",
              "  }\n",
              "\n",
              "  .colab-df-quickchart-complete:disabled,\n",
              "  .colab-df-quickchart-complete:disabled:hover {\n",
              "    background-color: var(--disabled-bg-color);\n",
              "    fill: var(--disabled-fill-color);\n",
              "    box-shadow: none;\n",
              "  }\n",
              "\n",
              "  .colab-df-spinner {\n",
              "    border: 2px solid var(--fill-color);\n",
              "    border-color: transparent;\n",
              "    border-bottom-color: var(--fill-color);\n",
              "    animation:\n",
              "      spin 1s steps(1) infinite;\n",
              "  }\n",
              "\n",
              "  @keyframes spin {\n",
              "    0% {\n",
              "      border-color: transparent;\n",
              "      border-bottom-color: var(--fill-color);\n",
              "      border-left-color: var(--fill-color);\n",
              "    }\n",
              "    20% {\n",
              "      border-color: transparent;\n",
              "      border-left-color: var(--fill-color);\n",
              "      border-top-color: var(--fill-color);\n",
              "    }\n",
              "    30% {\n",
              "      border-color: transparent;\n",
              "      border-left-color: var(--fill-color);\n",
              "      border-top-color: var(--fill-color);\n",
              "      border-right-color: var(--fill-color);\n",
              "    }\n",
              "    40% {\n",
              "      border-color: transparent;\n",
              "      border-right-color: var(--fill-color);\n",
              "      border-top-color: var(--fill-color);\n",
              "    }\n",
              "    60% {\n",
              "      border-color: transparent;\n",
              "      border-right-color: var(--fill-color);\n",
              "    }\n",
              "    80% {\n",
              "      border-color: transparent;\n",
              "      border-right-color: var(--fill-color);\n",
              "      border-bottom-color: var(--fill-color);\n",
              "    }\n",
              "    90% {\n",
              "      border-color: transparent;\n",
              "      border-bottom-color: var(--fill-color);\n",
              "    }\n",
              "  }\n",
              "</style>\n",
              "\n",
              "  <script>\n",
              "    async function quickchart(key) {\n",
              "      const quickchartButtonEl =\n",
              "        document.querySelector('#' + key + ' button');\n",
              "      quickchartButtonEl.disabled = true;  // To prevent multiple clicks.\n",
              "      quickchartButtonEl.classList.add('colab-df-spinner');\n",
              "      try {\n",
              "        const charts = await google.colab.kernel.invokeFunction(\n",
              "            'suggestCharts', [key], {});\n",
              "      } catch (error) {\n",
              "        console.error('Error during call to suggestCharts:', error);\n",
              "      }\n",
              "      quickchartButtonEl.classList.remove('colab-df-spinner');\n",
              "      quickchartButtonEl.classList.add('colab-df-quickchart-complete');\n",
              "    }\n",
              "    (() => {\n",
              "      let quickchartButtonEl =\n",
              "        document.querySelector('#df-387cfb54-a25a-4989-9b9c-eebc5cc1d6ee button');\n",
              "      quickchartButtonEl.style.display =\n",
              "        google.colab.kernel.accessAllowed ? 'block' : 'none';\n",
              "    })();\n",
              "  </script>\n",
              "</div>\n",
              "    </div>\n",
              "  </div>\n"
            ],
            "application/vnd.google.colaboratory.intrinsic+json": {
              "type": "dataframe",
              "variable_name": "df"
            }
          },
          "metadata": {},
          "execution_count": 4
        }
      ],
      "source": [
        "df = pd.DataFrame({\n",
        "    \"x_1\" : x_1,\n",
        "    \"x_2\" : x_2,\n",
        "    \"y\" : y,\n",
        "\n",
        "})\n",
        "\n",
        "df"
      ]
    },
    {
      "cell_type": "markdown",
      "metadata": {
        "id": "lE0bZlJOxUfQ"
      },
      "source": [
        "## Data Preprocessing"
      ]
    },
    {
      "cell_type": "code",
      "execution_count": 5,
      "metadata": {
        "colab": {
          "base_uri": "https://localhost:8080/",
          "height": 0
        },
        "id": "OJfuUYbSZMP4",
        "outputId": "088ad6cc-4ed1-40d8-b2a5-264835e4ebf6"
      },
      "outputs": [
        {
          "output_type": "execute_result",
          "data": {
            "text/plain": [
              "             x_1       x_2         y\n",
              "0       0.871287  0.946995  0.825187\n",
              "1       0.367737  0.555556  0.204319\n",
              "2       0.599860  0.141214  0.084717\n",
              "3       0.772377  0.468447  0.361854\n",
              "4       0.728073  0.541154  0.394039\n",
              "...          ...       ...       ...\n",
              "999995  0.601760  0.627163  0.377439\n",
              "999996  0.951895  0.135014  0.128532\n",
              "999997  0.032603  0.213121  0.006949\n",
              "999998  0.359636  0.180718  0.064999\n",
              "999999  0.200720  0.727173  0.145973\n",
              "\n",
              "[1000000 rows x 3 columns]"
            ],
            "text/html": [
              "\n",
              "  <div id=\"df-edf19eef-d41a-4f2d-9697-9eda77ef3676\" class=\"colab-df-container\">\n",
              "    <div>\n",
              "<style scoped>\n",
              "    .dataframe tbody tr th:only-of-type {\n",
              "        vertical-align: middle;\n",
              "    }\n",
              "\n",
              "    .dataframe tbody tr th {\n",
              "        vertical-align: top;\n",
              "    }\n",
              "\n",
              "    .dataframe thead th {\n",
              "        text-align: right;\n",
              "    }\n",
              "</style>\n",
              "<table border=\"1\" class=\"dataframe\">\n",
              "  <thead>\n",
              "    <tr style=\"text-align: right;\">\n",
              "      <th></th>\n",
              "      <th>x_1</th>\n",
              "      <th>x_2</th>\n",
              "      <th>y</th>\n",
              "    </tr>\n",
              "  </thead>\n",
              "  <tbody>\n",
              "    <tr>\n",
              "      <th>0</th>\n",
              "      <td>0.871287</td>\n",
              "      <td>0.946995</td>\n",
              "      <td>0.825187</td>\n",
              "    </tr>\n",
              "    <tr>\n",
              "      <th>1</th>\n",
              "      <td>0.367737</td>\n",
              "      <td>0.555556</td>\n",
              "      <td>0.204319</td>\n",
              "    </tr>\n",
              "    <tr>\n",
              "      <th>2</th>\n",
              "      <td>0.599860</td>\n",
              "      <td>0.141214</td>\n",
              "      <td>0.084717</td>\n",
              "    </tr>\n",
              "    <tr>\n",
              "      <th>3</th>\n",
              "      <td>0.772377</td>\n",
              "      <td>0.468447</td>\n",
              "      <td>0.361854</td>\n",
              "    </tr>\n",
              "    <tr>\n",
              "      <th>4</th>\n",
              "      <td>0.728073</td>\n",
              "      <td>0.541154</td>\n",
              "      <td>0.394039</td>\n",
              "    </tr>\n",
              "    <tr>\n",
              "      <th>...</th>\n",
              "      <td>...</td>\n",
              "      <td>...</td>\n",
              "      <td>...</td>\n",
              "    </tr>\n",
              "    <tr>\n",
              "      <th>999995</th>\n",
              "      <td>0.601760</td>\n",
              "      <td>0.627163</td>\n",
              "      <td>0.377439</td>\n",
              "    </tr>\n",
              "    <tr>\n",
              "      <th>999996</th>\n",
              "      <td>0.951895</td>\n",
              "      <td>0.135014</td>\n",
              "      <td>0.128532</td>\n",
              "    </tr>\n",
              "    <tr>\n",
              "      <th>999997</th>\n",
              "      <td>0.032603</td>\n",
              "      <td>0.213121</td>\n",
              "      <td>0.006949</td>\n",
              "    </tr>\n",
              "    <tr>\n",
              "      <th>999998</th>\n",
              "      <td>0.359636</td>\n",
              "      <td>0.180718</td>\n",
              "      <td>0.064999</td>\n",
              "    </tr>\n",
              "    <tr>\n",
              "      <th>999999</th>\n",
              "      <td>0.200720</td>\n",
              "      <td>0.727173</td>\n",
              "      <td>0.145973</td>\n",
              "    </tr>\n",
              "  </tbody>\n",
              "</table>\n",
              "<p>1000000 rows × 3 columns</p>\n",
              "</div>\n",
              "    <div class=\"colab-df-buttons\">\n",
              "\n",
              "  <div class=\"colab-df-container\">\n",
              "    <button class=\"colab-df-convert\" onclick=\"convertToInteractive('df-edf19eef-d41a-4f2d-9697-9eda77ef3676')\"\n",
              "            title=\"Convert this dataframe to an interactive table.\"\n",
              "            style=\"display:none;\">\n",
              "\n",
              "  <svg xmlns=\"http://www.w3.org/2000/svg\" height=\"24px\" viewBox=\"0 -960 960 960\">\n",
              "    <path d=\"M120-120v-720h720v720H120Zm60-500h600v-160H180v160Zm220 220h160v-160H400v160Zm0 220h160v-160H400v160ZM180-400h160v-160H180v160Zm440 0h160v-160H620v160ZM180-180h160v-160H180v160Zm440 0h160v-160H620v160Z\"/>\n",
              "  </svg>\n",
              "    </button>\n",
              "\n",
              "  <style>\n",
              "    .colab-df-container {\n",
              "      display:flex;\n",
              "      gap: 12px;\n",
              "    }\n",
              "\n",
              "    .colab-df-convert {\n",
              "      background-color: #E8F0FE;\n",
              "      border: none;\n",
              "      border-radius: 50%;\n",
              "      cursor: pointer;\n",
              "      display: none;\n",
              "      fill: #1967D2;\n",
              "      height: 32px;\n",
              "      padding: 0 0 0 0;\n",
              "      width: 32px;\n",
              "    }\n",
              "\n",
              "    .colab-df-convert:hover {\n",
              "      background-color: #E2EBFA;\n",
              "      box-shadow: 0px 1px 2px rgba(60, 64, 67, 0.3), 0px 1px 3px 1px rgba(60, 64, 67, 0.15);\n",
              "      fill: #174EA6;\n",
              "    }\n",
              "\n",
              "    .colab-df-buttons div {\n",
              "      margin-bottom: 4px;\n",
              "    }\n",
              "\n",
              "    [theme=dark] .colab-df-convert {\n",
              "      background-color: #3B4455;\n",
              "      fill: #D2E3FC;\n",
              "    }\n",
              "\n",
              "    [theme=dark] .colab-df-convert:hover {\n",
              "      background-color: #434B5C;\n",
              "      box-shadow: 0px 1px 3px 1px rgba(0, 0, 0, 0.15);\n",
              "      filter: drop-shadow(0px 1px 2px rgba(0, 0, 0, 0.3));\n",
              "      fill: #FFFFFF;\n",
              "    }\n",
              "  </style>\n",
              "\n",
              "    <script>\n",
              "      const buttonEl =\n",
              "        document.querySelector('#df-edf19eef-d41a-4f2d-9697-9eda77ef3676 button.colab-df-convert');\n",
              "      buttonEl.style.display =\n",
              "        google.colab.kernel.accessAllowed ? 'block' : 'none';\n",
              "\n",
              "      async function convertToInteractive(key) {\n",
              "        const element = document.querySelector('#df-edf19eef-d41a-4f2d-9697-9eda77ef3676');\n",
              "        const dataTable =\n",
              "          await google.colab.kernel.invokeFunction('convertToInteractive',\n",
              "                                                    [key], {});\n",
              "        if (!dataTable) return;\n",
              "\n",
              "        const docLinkHtml = 'Like what you see? Visit the ' +\n",
              "          '<a target=\"_blank\" href=https://colab.research.google.com/notebooks/data_table.ipynb>data table notebook</a>'\n",
              "          + ' to learn more about interactive tables.';\n",
              "        element.innerHTML = '';\n",
              "        dataTable['output_type'] = 'display_data';\n",
              "        await google.colab.output.renderOutput(dataTable, element);\n",
              "        const docLink = document.createElement('div');\n",
              "        docLink.innerHTML = docLinkHtml;\n",
              "        element.appendChild(docLink);\n",
              "      }\n",
              "    </script>\n",
              "  </div>\n",
              "\n",
              "\n",
              "<div id=\"df-0c8e6cac-2dbb-4000-8936-216d71b9af02\">\n",
              "  <button class=\"colab-df-quickchart\" onclick=\"quickchart('df-0c8e6cac-2dbb-4000-8936-216d71b9af02')\"\n",
              "            title=\"Suggest charts\"\n",
              "            style=\"display:none;\">\n",
              "\n",
              "<svg xmlns=\"http://www.w3.org/2000/svg\" height=\"24px\"viewBox=\"0 0 24 24\"\n",
              "     width=\"24px\">\n",
              "    <g>\n",
              "        <path d=\"M19 3H5c-1.1 0-2 .9-2 2v14c0 1.1.9 2 2 2h14c1.1 0 2-.9 2-2V5c0-1.1-.9-2-2-2zM9 17H7v-7h2v7zm4 0h-2V7h2v10zm4 0h-2v-4h2v4z\"/>\n",
              "    </g>\n",
              "</svg>\n",
              "  </button>\n",
              "\n",
              "<style>\n",
              "  .colab-df-quickchart {\n",
              "      --bg-color: #E8F0FE;\n",
              "      --fill-color: #1967D2;\n",
              "      --hover-bg-color: #E2EBFA;\n",
              "      --hover-fill-color: #174EA6;\n",
              "      --disabled-fill-color: #AAA;\n",
              "      --disabled-bg-color: #DDD;\n",
              "  }\n",
              "\n",
              "  [theme=dark] .colab-df-quickchart {\n",
              "      --bg-color: #3B4455;\n",
              "      --fill-color: #D2E3FC;\n",
              "      --hover-bg-color: #434B5C;\n",
              "      --hover-fill-color: #FFFFFF;\n",
              "      --disabled-bg-color: #3B4455;\n",
              "      --disabled-fill-color: #666;\n",
              "  }\n",
              "\n",
              "  .colab-df-quickchart {\n",
              "    background-color: var(--bg-color);\n",
              "    border: none;\n",
              "    border-radius: 50%;\n",
              "    cursor: pointer;\n",
              "    display: none;\n",
              "    fill: var(--fill-color);\n",
              "    height: 32px;\n",
              "    padding: 0;\n",
              "    width: 32px;\n",
              "  }\n",
              "\n",
              "  .colab-df-quickchart:hover {\n",
              "    background-color: var(--hover-bg-color);\n",
              "    box-shadow: 0 1px 2px rgba(60, 64, 67, 0.3), 0 1px 3px 1px rgba(60, 64, 67, 0.15);\n",
              "    fill: var(--button-hover-fill-color);\n",
              "  }\n",
              "\n",
              "  .colab-df-quickchart-complete:disabled,\n",
              "  .colab-df-quickchart-complete:disabled:hover {\n",
              "    background-color: var(--disabled-bg-color);\n",
              "    fill: var(--disabled-fill-color);\n",
              "    box-shadow: none;\n",
              "  }\n",
              "\n",
              "  .colab-df-spinner {\n",
              "    border: 2px solid var(--fill-color);\n",
              "    border-color: transparent;\n",
              "    border-bottom-color: var(--fill-color);\n",
              "    animation:\n",
              "      spin 1s steps(1) infinite;\n",
              "  }\n",
              "\n",
              "  @keyframes spin {\n",
              "    0% {\n",
              "      border-color: transparent;\n",
              "      border-bottom-color: var(--fill-color);\n",
              "      border-left-color: var(--fill-color);\n",
              "    }\n",
              "    20% {\n",
              "      border-color: transparent;\n",
              "      border-left-color: var(--fill-color);\n",
              "      border-top-color: var(--fill-color);\n",
              "    }\n",
              "    30% {\n",
              "      border-color: transparent;\n",
              "      border-left-color: var(--fill-color);\n",
              "      border-top-color: var(--fill-color);\n",
              "      border-right-color: var(--fill-color);\n",
              "    }\n",
              "    40% {\n",
              "      border-color: transparent;\n",
              "      border-right-color: var(--fill-color);\n",
              "      border-top-color: var(--fill-color);\n",
              "    }\n",
              "    60% {\n",
              "      border-color: transparent;\n",
              "      border-right-color: var(--fill-color);\n",
              "    }\n",
              "    80% {\n",
              "      border-color: transparent;\n",
              "      border-right-color: var(--fill-color);\n",
              "      border-bottom-color: var(--fill-color);\n",
              "    }\n",
              "    90% {\n",
              "      border-color: transparent;\n",
              "      border-bottom-color: var(--fill-color);\n",
              "    }\n",
              "  }\n",
              "</style>\n",
              "\n",
              "  <script>\n",
              "    async function quickchart(key) {\n",
              "      const quickchartButtonEl =\n",
              "        document.querySelector('#' + key + ' button');\n",
              "      quickchartButtonEl.disabled = true;  // To prevent multiple clicks.\n",
              "      quickchartButtonEl.classList.add('colab-df-spinner');\n",
              "      try {\n",
              "        const charts = await google.colab.kernel.invokeFunction(\n",
              "            'suggestCharts', [key], {});\n",
              "      } catch (error) {\n",
              "        console.error('Error during call to suggestCharts:', error);\n",
              "      }\n",
              "      quickchartButtonEl.classList.remove('colab-df-spinner');\n",
              "      quickchartButtonEl.classList.add('colab-df-quickchart-complete');\n",
              "    }\n",
              "    (() => {\n",
              "      let quickchartButtonEl =\n",
              "        document.querySelector('#df-0c8e6cac-2dbb-4000-8936-216d71b9af02 button');\n",
              "      quickchartButtonEl.style.display =\n",
              "        google.colab.kernel.accessAllowed ? 'block' : 'none';\n",
              "    })();\n",
              "  </script>\n",
              "</div>\n",
              "    </div>\n",
              "  </div>\n"
            ],
            "application/vnd.google.colaboratory.intrinsic+json": {
              "type": "dataframe",
              "variable_name": "df_scaled"
            }
          },
          "metadata": {},
          "execution_count": 5
        }
      ],
      "source": [
        "\n",
        "from sklearn.preprocessing import MinMaxScaler\n",
        "\n",
        "scaler = MinMaxScaler()\n",
        "\n",
        "df_scaled = pd.DataFrame(scaler.fit_transform(df.to_numpy()), columns=df.columns)\n",
        "df_scaled"
      ]
    },
    {
      "cell_type": "markdown",
      "metadata": {
        "id": "rX46ymo-xSyT"
      },
      "source": [
        "## Data Cleaning"
      ]
    },
    {
      "cell_type": "code",
      "execution_count": 6,
      "metadata": {
        "colab": {
          "base_uri": "https://localhost:8080/",
          "height": 0
        },
        "id": "R8AES5oOSB4b",
        "outputId": "0dd3cedd-e44b-4571-f264-63a14b691576"
      },
      "outputs": [
        {
          "output_type": "stream",
          "name": "stdout",
          "text": [
            "There are 4872 duplicate records in dataset\n",
            "Dataset length after droping duplicatets:  995128\n"
          ]
        }
      ],
      "source": [
        "print (f\"There are {df_scaled.duplicated().sum()} duplicate records in dataset\")\n",
        "\n",
        "# Drop duplicates\n",
        "\n",
        "df_scaled.drop_duplicates(inplace = True)\n",
        "print(\"Dataset length after droping duplicatets: \", len(df_scaled))"
      ]
    },
    {
      "cell_type": "markdown",
      "metadata": {
        "id": "LuKzQVTPxAEN"
      },
      "source": [
        "## Data Splitting"
      ]
    },
    {
      "cell_type": "code",
      "execution_count": 7,
      "metadata": {
        "colab": {
          "base_uri": "https://localhost:8080/",
          "height": 0
        },
        "id": "lrWuhtp4Q22l",
        "outputId": "7cecf3b7-0a64-48ed-9edc-378939300009"
      },
      "outputs": [
        {
          "output_type": "stream",
          "name": "stdout",
          "text": [
            "Lenght of Train Data: (800000, 2)\n",
            "Lenght of Test Data: (195128, 2)\n"
          ]
        }
      ],
      "source": [
        "X_train = df_scaled[[\"x_1\",\"x_2\"]][:800000]\n",
        "Y_train = df_scaled[[\"y\"]][:800000]\n",
        "X_test = df_scaled[[\"x_1\",\"x_2\"]][800000:]\n",
        "Y_test = df_scaled[[\"y\"]][800000:]\n",
        "\n",
        "print(f\"Lenght of Train Data: {X_train.shape}\")\n",
        "print(f\"Lenght of Test Data: {X_test.shape}\")"
      ]
    },
    {
      "cell_type": "markdown",
      "metadata": {
        "id": "ADyVTb15xRfg"
      },
      "source": [
        "# Modeling"
      ]
    },
    {
      "cell_type": "code",
      "execution_count": 8,
      "metadata": {
        "id": "2UsN_IR_StQ3"
      },
      "outputs": [],
      "source": [
        "from keras import layers\n",
        "from sklearn.metrics import r2_score\n",
        "from keras.callbacks import EarlyStopping\n",
        "from keras.callbacks import ModelCheckpoint\n",
        "from keras.callbacks import ReduceLROnPlateau"
      ]
    },
    {
      "cell_type": "markdown",
      "metadata": {
        "id": "mm_I6L4UxlvN"
      },
      "source": [
        "## FFN : One Hidden Layer"
      ]
    },
    {
      "cell_type": "code",
      "execution_count": 10,
      "metadata": {
        "colab": {
          "base_uri": "https://localhost:8080/",
          "height": 0
        },
        "id": "o5I7yd7LS9lK",
        "outputId": "a23a9d56-bb4a-48ec-b88c-ccf194fa0ca3"
      },
      "outputs": [
        {
          "output_type": "stream",
          "name": "stdout",
          "text": [
            "Model: \"sequential\"\n",
            "_________________________________________________________________\n",
            " Layer (type)                Output Shape              Param #   \n",
            "=================================================================\n",
            " dense (Dense)               (None, 64)                192       \n",
            "                                                                 \n",
            " dense_1 (Dense)             (None, 1)                 65        \n",
            "                                                                 \n",
            "=================================================================\n",
            "Total params: 257 (1.00 KB)\n",
            "Trainable params: 257 (1.00 KB)\n",
            "Non-trainable params: 0 (0.00 Byte)\n",
            "_________________________________________________________________\n"
          ]
        },
        {
          "output_type": "stream",
          "name": "stderr",
          "text": [
            "WARNING:tensorflow:`epsilon` argument is deprecated and will be removed, use `min_delta` instead.\n"
          ]
        },
        {
          "output_type": "stream",
          "name": "stdout",
          "text": [
            "Epoch 1/100\n",
            "10000/10000 [==============================] - 39s 3ms/step - loss: 5.0590e-04 - val_loss: 1.7739e-06 - lr: 0.0010\n",
            "Epoch 2/100\n",
            "   69/10000 [..............................] - ETA: 22s - loss: 2.9748e-06"
          ]
        },
        {
          "output_type": "stream",
          "name": "stderr",
          "text": [
            "/usr/local/lib/python3.10/dist-packages/keras/src/engine/training.py:3103: UserWarning: You are saving your model as an HDF5 file via `model.save()`. This file format is considered legacy. We recommend using instead the native Keras format, e.g. `model.save('my_model.keras')`.\n",
            "  saving_api.save_model(\n"
          ]
        },
        {
          "output_type": "stream",
          "name": "stdout",
          "text": [
            "10000/10000 [==============================] - 30s 3ms/step - loss: 1.5022e-06 - val_loss: 1.6513e-06 - lr: 0.0010\n",
            "Epoch 3/100\n",
            "10000/10000 [==============================] - 29s 3ms/step - loss: 1.2592e-06 - val_loss: 9.0362e-07 - lr: 0.0010\n",
            "Epoch 4/100\n",
            "10000/10000 [==============================] - 31s 3ms/step - loss: 1.1692e-06 - val_loss: 7.1976e-07 - lr: 0.0010\n",
            "Epoch 5/100\n",
            "10000/10000 [==============================] - 31s 3ms/step - loss: 1.1338e-06 - val_loss: 1.1583e-06 - lr: 0.0010\n",
            "Epoch 6/100\n",
            "10000/10000 [==============================] - 29s 3ms/step - loss: 1.1042e-06 - val_loss: 5.8195e-07 - lr: 0.0010\n",
            "Epoch 7/100\n",
            "10000/10000 [==============================] - 29s 3ms/step - loss: 1.0954e-06 - val_loss: 6.1329e-07 - lr: 0.0010\n",
            "Epoch 8/100\n",
            "10000/10000 [==============================] - ETA: 0s - loss: 1.0339e-06\n",
            "Epoch 8: ReduceLROnPlateau reducing learning rate to 0.00010000000474974513.\n",
            "10000/10000 [==============================] - 29s 3ms/step - loss: 1.0339e-06 - val_loss: 7.4539e-07 - lr: 0.0010\n",
            "Epoch 9/100\n",
            "10000/10000 [==============================] - 29s 3ms/step - loss: 5.3240e-07 - val_loss: 5.7562e-07 - lr: 1.0000e-04\n",
            "Epoch 10/100\n",
            "10000/10000 [==============================] - 30s 3ms/step - loss: 5.3695e-07 - val_loss: 6.3110e-07 - lr: 1.0000e-04\n",
            "Epoch 11/100\n",
            "10000/10000 [==============================] - 31s 3ms/step - loss: 5.3328e-07 - val_loss: 5.0249e-07 - lr: 1.0000e-04\n",
            "Epoch 12/100\n",
            "10000/10000 [==============================] - 30s 3ms/step - loss: 5.3295e-07 - val_loss: 6.5585e-07 - lr: 1.0000e-04\n",
            "Epoch 13/100\n",
            "10000/10000 [==============================] - 30s 3ms/step - loss: 5.3077e-07 - val_loss: 5.7791e-07 - lr: 1.0000e-04\n",
            "Epoch 14/100\n",
            "10000/10000 [==============================] - 30s 3ms/step - loss: 5.2780e-07 - val_loss: 4.8436e-07 - lr: 1.0000e-04\n",
            "Epoch 15/100\n",
            " 9992/10000 [============================>.] - ETA: 0s - loss: 5.2917e-07\n",
            "Epoch 15: ReduceLROnPlateau reducing learning rate to 1.0000000474974514e-05.\n",
            "10000/10000 [==============================] - 31s 3ms/step - loss: 5.2917e-07 - val_loss: 5.0560e-07 - lr: 1.0000e-04\n",
            "Epoch 16/100\n",
            "10000/10000 [==============================] - 29s 3ms/step - loss: 4.8093e-07 - val_loss: 4.7985e-07 - lr: 1.0000e-05\n",
            "Epoch 17/100\n",
            "10000/10000 [==============================] - 29s 3ms/step - loss: 4.8121e-07 - val_loss: 4.7701e-07 - lr: 1.0000e-05\n",
            "Epoch 18/100\n",
            "10000/10000 [==============================] - 29s 3ms/step - loss: 4.8087e-07 - val_loss: 4.7436e-07 - lr: 1.0000e-05\n",
            "Epoch 19/100\n",
            "10000/10000 [==============================] - 31s 3ms/step - loss: 4.8102e-07 - val_loss: 4.7930e-07 - lr: 1.0000e-05\n",
            "Epoch 20/100\n",
            "10000/10000 [==============================] - 28s 3ms/step - loss: 4.8036e-07 - val_loss: 4.7805e-07 - lr: 1.0000e-05\n",
            "Epoch 21/100\n",
            "10000/10000 [==============================] - 28s 3ms/step - loss: 4.8054e-07 - val_loss: 4.7700e-07 - lr: 1.0000e-05\n",
            "Epoch 22/100\n",
            " 9997/10000 [============================>.] - ETA: 0s - loss: 4.8026e-07\n",
            "Epoch 22: ReduceLROnPlateau reducing learning rate to 1.0000000656873453e-06.\n",
            "10000/10000 [==============================] - 30s 3ms/step - loss: 4.8024e-07 - val_loss: 4.7414e-07 - lr: 1.0000e-05\n",
            "Epoch 23/100\n",
            "10000/10000 [==============================] - 29s 3ms/step - loss: 4.7355e-07 - val_loss: 4.7338e-07 - lr: 1.0000e-06\n",
            "Epoch 24/100\n",
            "10000/10000 [==============================] - 28s 3ms/step - loss: 4.7358e-07 - val_loss: 4.7296e-07 - lr: 1.0000e-06\n",
            "Epoch 25/100\n",
            "10000/10000 [==============================] - 30s 3ms/step - loss: 4.7359e-07 - val_loss: 4.7274e-07 - lr: 1.0000e-06\n",
            "Epoch 26/100\n",
            "10000/10000 [==============================] - 29s 3ms/step - loss: 4.7350e-07 - val_loss: 4.7369e-07 - lr: 1.0000e-06\n",
            "Epoch 27/100\n",
            "10000/10000 [==============================] - 30s 3ms/step - loss: 4.7343e-07 - val_loss: 4.7352e-07 - lr: 1.0000e-06\n",
            "Epoch 28/100\n",
            "10000/10000 [==============================] - 28s 3ms/step - loss: 4.7348e-07 - val_loss: 4.7551e-07 - lr: 1.0000e-06\n",
            "Epoch 29/100\n",
            " 9994/10000 [============================>.] - ETA: 0s - loss: 4.7347e-07\n",
            "Epoch 29: ReduceLROnPlateau reducing learning rate to 1.0000001111620805e-07.\n",
            "10000/10000 [==============================] - 31s 3ms/step - loss: 4.7344e-07 - val_loss: 4.7373e-07 - lr: 1.0000e-06\n",
            "Epoch 30/100\n",
            "10000/10000 [==============================] - 29s 3ms/step - loss: 4.7266e-07 - val_loss: 4.7259e-07 - lr: 1.0000e-07\n",
            "Epoch 31/100\n",
            "10000/10000 [==============================] - 30s 3ms/step - loss: 4.7264e-07 - val_loss: 4.7259e-07 - lr: 1.0000e-07\n",
            "Epoch 32/100\n",
            "10000/10000 [==============================] - 29s 3ms/step - loss: 4.7262e-07 - val_loss: 4.7261e-07 - lr: 1.0000e-07\n",
            "Epoch 33/100\n",
            "10000/10000 [==============================] - 30s 3ms/step - loss: 4.7262e-07 - val_loss: 4.7272e-07 - lr: 1.0000e-07\n",
            "Epoch 34/100\n",
            "10000/10000 [==============================] - 29s 3ms/step - loss: 4.7262e-07 - val_loss: 4.7257e-07 - lr: 1.0000e-07\n",
            "Epoch 35/100\n",
            "10000/10000 [==============================] - 30s 3ms/step - loss: 4.7263e-07 - val_loss: 4.7259e-07 - lr: 1.0000e-07\n",
            "Epoch 36/100\n",
            " 9996/10000 [============================>.] - ETA: 0s - loss: 4.7264e-07\n",
            "Epoch 36: ReduceLROnPlateau reducing learning rate to 1.000000082740371e-08.\n",
            "10000/10000 [==============================] - 29s 3ms/step - loss: 4.7262e-07 - val_loss: 4.7282e-07 - lr: 1.0000e-07\n",
            "Epoch 37/100\n",
            "10000/10000 [==============================] - 30s 3ms/step - loss: 4.7255e-07 - val_loss: 4.7255e-07 - lr: 1.0000e-08\n",
            "Epoch 38/100\n",
            "10000/10000 [==============================] - 30s 3ms/step - loss: 4.7254e-07 - val_loss: 4.7255e-07 - lr: 1.0000e-08\n",
            "Epoch 39/100\n",
            "10000/10000 [==============================] - 30s 3ms/step - loss: 4.7253e-07 - val_loss: 4.7255e-07 - lr: 1.0000e-08\n",
            "Epoch 40/100\n",
            "10000/10000 [==============================] - 30s 3ms/step - loss: 4.7253e-07 - val_loss: 4.7256e-07 - lr: 1.0000e-08\n",
            "Epoch 41/100\n",
            "10000/10000 [==============================] - 28s 3ms/step - loss: 4.7253e-07 - val_loss: 4.7255e-07 - lr: 1.0000e-08\n",
            "Epoch 42/100\n",
            "10000/10000 [==============================] - 30s 3ms/step - loss: 4.7253e-07 - val_loss: 4.7255e-07 - lr: 1.0000e-08\n",
            "Epoch 43/100\n",
            " 9991/10000 [============================>.] - ETA: 0s - loss: 4.7250e-07\n",
            "Epoch 43: ReduceLROnPlateau reducing learning rate to 1.000000082740371e-09.\n",
            "10000/10000 [==============================] - 30s 3ms/step - loss: 4.7253e-07 - val_loss: 4.7256e-07 - lr: 1.0000e-08\n",
            "Epoch 44/100\n",
            "10000/10000 [==============================] - 31s 3ms/step - loss: 4.7253e-07 - val_loss: 4.7256e-07 - lr: 1.0000e-09\n",
            "Epoch 45/100\n",
            "10000/10000 [==============================] - 31s 3ms/step - loss: 4.7253e-07 - val_loss: 4.7256e-07 - lr: 1.0000e-09\n",
            "Epoch 46/100\n",
            "10000/10000 [==============================] - 31s 3ms/step - loss: 4.7253e-07 - val_loss: 4.7256e-07 - lr: 1.0000e-09\n",
            "Epoch 47/100\n",
            "10000/10000 [==============================] - 31s 3ms/step - loss: 4.7253e-07 - val_loss: 4.7256e-07 - lr: 1.0000e-09\n",
            "Epoch 48/100\n",
            "10000/10000 [==============================] - 29s 3ms/step - loss: 4.7253e-07 - val_loss: 4.7256e-07 - lr: 1.0000e-09\n"
          ]
        }
      ],
      "source": [
        "model = keras.Sequential()\n",
        "model.add(layers.Dense(64,activation=\"relu\",input_dim=2))\n",
        "model.add(layers.Dense(1,activation=\"linear\"))\n",
        "\n",
        "model.summary()\n",
        "\n",
        "# Compile the Model\n",
        "model.compile(loss = 'MSE',\n",
        "              optimizer=\"adam\")\n",
        "\n",
        "# Callbacks Configs\n",
        "earlyStopping = EarlyStopping(monitor='val_loss', patience=10, verbose=0, mode='min')\n",
        "mcp_save = ModelCheckpoint('.mdl_wts.hdf5', save_best_only=True, monitor='val_loss', mode='min')\n",
        "reduce_lr_loss = ReduceLROnPlateau(monitor='val_loss', factor=0.1, patience=7, verbose=1, epsilon=1e-4, mode='min')\n",
        "\n",
        "history = model.fit(X_train,Y_train,batch_size=64,epochs=100,validation_split=0.2,callbacks=[earlyStopping, mcp_save, reduce_lr_loss],)"
      ]
    },
    {
      "cell_type": "code",
      "execution_count": 11,
      "metadata": {
        "colab": {
          "base_uri": "https://localhost:8080/",
          "height": 472
        },
        "id": "Qe3NFQLL0Shj",
        "outputId": "63f1017c-654a-40c3-c0e3-bd19f239875a"
      },
      "outputs": [
        {
          "output_type": "display_data",
          "data": {
            "text/plain": [
              "<Figure size 640x480 with 1 Axes>"
            ],
            "image/png": "[encoded data removed]"
          },
          "metadata": {}
        }
      ],
      "source": [
        "from matplotlib import pyplot as plt\n",
        "plt.plot(history.history['loss'])\n",
        "plt.plot(history.history['val_loss'])\n",
        "plt.title('model loss')\n",
        "plt.ylabel('loss')\n",
        "plt.xlabel('epoch')\n",
        "plt.legend(['train', 'val'], loc='upper left')\n",
        "plt.show()"
      ]
    },
    {
      "cell_type": "code",
      "execution_count": 12,
      "metadata": {
        "colab": {
          "base_uri": "https://localhost:8080/",
          "height": 472
        },
        "id": "sbuTtT7m4W4u",
        "outputId": "b623ec72-fbc9-49a6-ef9d-c3e3edf0650a"
      },
      "outputs": [
        {
          "output_type": "display_data",
          "data": {
            "text/plain": [
              "<Figure size 640x480 with 1 Axes>"
            ],
            "image/png": "[encoded data removed]"
          },
          "metadata": {}
        }
      ],
      "source": [
        "from matplotlib import pyplot as plt\n",
        "plt.plot(history.history['loss'][5:])\n",
        "plt.plot(history.history['val_loss'][5:])\n",
        "plt.title('model loss')\n",
        "plt.ylabel('loss')\n",
        "plt.xlabel('epoch')\n",
        "plt.legend(['train', 'val'], loc='upper left')\n",
        "plt.show()"
      ]
    },
    {
      "cell_type": "code",
      "execution_count": 13,
      "metadata": {
        "colab": {
          "base_uri": "https://localhost:8080/",
          "height": 472
        },
        "id": "GfbK9UDl4eEh",
        "outputId": "564278e3-a991-4b07-9ec1-a0e6e460d674"
      },
      "outputs": [
        {
          "output_type": "display_data",
          "data": {
            "text/plain": [
              "<Figure size 640x480 with 1 Axes>"
            ],
            "image/png": "[encoded data removed]"
          },
          "metadata": {}
        }
      ],
      "source": [
        "from matplotlib import pyplot as plt\n",
        "plt.plot(history.history['loss'][30:])\n",
        "plt.plot(history.history['val_loss'][30:])\n",
        "plt.title('model loss')\n",
        "plt.ylabel('loss')\n",
        "plt.xlabel('epoch')\n",
        "plt.legend(['train', 'val'], loc='upper left')\n",
        "plt.show()"
      ]
    },
    {
      "cell_type": "markdown",
      "metadata": {
        "id": "xzkcn9Iu3Gqb"
      },
      "source": [
        "### ٍEvaluate Model"
      ]
    },
    {
      "cell_type": "code",
      "execution_count": 14,
      "metadata": {
        "colab": {
          "base_uri": "https://localhost:8080/",
          "height": 0
        },
        "id": "pC8bJkRWWdO1",
        "outputId": "536a6902-d3d3-46c2-e6a8-4844f200b9a1"
      },
      "outputs": [
        {
          "output_type": "stream",
          "name": "stdout",
          "text": [
            "6096/6096 [==============================] - 13s 2ms/step - loss: 4.7215e-07\n"
          ]
        },
        {
          "output_type": "execute_result",
          "data": {
            "text/plain": [
              "4.7215209519890777e-07"
            ]
          },
          "metadata": {},
          "execution_count": 14
        }
      ],
      "source": [
        "model.evaluate(X_test,Y_test)"
      ]
    },
    {
      "cell_type": "code",
      "execution_count": 15,
      "metadata": {
        "colab": {
          "base_uri": "https://localhost:8080/",
          "height": 0
        },
        "id": "etHlGzQA519E",
        "outputId": "4509f1d4-3d62-4d1e-fe1a-547d47e1adc5"
      },
      "outputs": [
        {
          "output_type": "stream",
          "name": "stdout",
          "text": [
            "6096/6096 [==============================] - 11s 2ms/step\n"
          ]
        }
      ],
      "source": [
        "y_predicted = model.predict(X_test)"
      ]
    },
    {
      "cell_type": "code",
      "execution_count": 16,
      "metadata": {
        "colab": {
          "base_uri": "https://localhost:8080/",
          "height": 0
        },
        "id": "PauoqaBI5z85",
        "outputId": "847bf802-dc3c-45f6-be96-b98a53c3c0d4"
      },
      "outputs": [
        {
          "output_type": "stream",
          "name": "stdout",
          "text": [
            "MAE:  0.0005479935321854128\n",
            "MSE:  4.7215244692417704e-07\n",
            "R2_score:  0.9999903359938178\n"
          ]
        }
      ],
      "source": [
        "from sklearn.metrics import (\n",
        "    mean_absolute_error,\n",
        "    mean_squared_error,\n",
        "    r2_score,\n",
        ")\n",
        "\n",
        "print('MAE: ',mean_absolute_error(Y_test, y_predicted))\n",
        "print('MSE: ',mean_squared_error(Y_test, y_predicted))\n",
        "print('R2_score: ',r2_score(Y_test, y_predicted))\n"
      ]
    },
    {
      "cell_type": "markdown",
      "metadata": {
        "id": "H3q7y-Gc3NIe"
      },
      "source": [
        "### Let's test the model"
      ]
    },
    {
      "cell_type": "code",
      "execution_count": 17,
      "metadata": {
        "colab": {
          "base_uri": "https://localhost:8080/",
          "height": 283
        },
        "id": "RiH0fmGIvpaV",
        "outputId": "ad103c12-d955-4545-9170-b1093d411b00"
      },
      "outputs": [
        {
          "output_type": "stream",
          "name": "stdout",
          "text": [
            "Data :\n"
          ]
        },
        {
          "output_type": "display_data",
          "data": {
            "text/plain": [
              "             x_1       x_2\n",
              "803165  0.978398  0.547255"
            ],
            "text/html": [
              "\n",
              "  <div id=\"df-2410cad7-ff54-43db-bf9b-03af2b520e9d\" class=\"colab-df-container\">\n",
              "    <div>\n",
              "<style scoped>\n",
              "    .dataframe tbody tr th:only-of-type {\n",
              "        vertical-align: middle;\n",
              "    }\n",
              "\n",
              "    .dataframe tbody tr th {\n",
              "        vertical-align: top;\n",
              "    }\n",
              "\n",
              "    .dataframe thead th {\n",
              "        text-align: right;\n",
              "    }\n",
              "</style>\n",
              "<table border=\"1\" class=\"dataframe\">\n",
              "  <thead>\n",
              "    <tr style=\"text-align: right;\">\n",
              "      <th></th>\n",
              "      <th>x_1</th>\n",
              "      <th>x_2</th>\n",
              "    </tr>\n",
              "  </thead>\n",
              "  <tbody>\n",
              "    <tr>\n",
              "      <th>803165</th>\n",
              "      <td>0.978398</td>\n",
              "      <td>0.547255</td>\n",
              "    </tr>\n",
              "  </tbody>\n",
              "</table>\n",
              "</div>\n",
              "    <div class=\"colab-df-buttons\">\n",
              "\n",
              "  <div class=\"colab-df-container\">\n",
              "    <button class=\"colab-df-convert\" onclick=\"convertToInteractive('df-2410cad7-ff54-43db-bf9b-03af2b520e9d')\"\n",
              "            title=\"Convert this dataframe to an interactive table.\"\n",
              "            style=\"display:none;\">\n",
              "\n",
              "  <svg xmlns=\"http://www.w3.org/2000/svg\" height=\"24px\" viewBox=\"0 -960 960 960\">\n",
              "    <path d=\"M120-120v-720h720v720H120Zm60-500h600v-160H180v160Zm220 220h160v-160H400v160Zm0 220h160v-160H400v160ZM180-400h160v-160H180v160Zm440 0h160v-160H620v160ZM180-180h160v-160H180v160Zm440 0h160v-160H620v160Z\"/>\n",
              "  </svg>\n",
              "    </button>\n",
              "\n",
              "  <style>\n",
              "    .colab-df-container {\n",
              "      display:flex;\n",
              "      gap: 12px;\n",
              "    }\n",
              "\n",
              "    .colab-df-convert {\n",
              "      background-color: #E8F0FE;\n",
              "      border: none;\n",
              "      border-radius: 50%;\n",
              "      cursor: pointer;\n",
              "      display: none;\n",
              "      fill: #1967D2;\n",
              "      height: 32px;\n",
              "      padding: 0 0 0 0;\n",
              "      width: 32px;\n",
              "    }\n",
              "\n",
              "    .colab-df-convert:hover {\n",
              "      background-color: #E2EBFA;\n",
              "      box-shadow: 0px 1px 2px rgba(60, 64, 67, 0.3), 0px 1px 3px 1px rgba(60, 64, 67, 0.15);\n",
              "      fill: #174EA6;\n",
              "    }\n",
              "\n",
              "    .colab-df-buttons div {\n",
              "      margin-bottom: 4px;\n",
              "    }\n",
              "\n",
              "    [theme=dark] .colab-df-convert {\n",
              "      background-color: #3B4455;\n",
              "      fill: #D2E3FC;\n",
              "    }\n",
              "\n",
              "    [theme=dark] .colab-df-convert:hover {\n",
              "      background-color: #434B5C;\n",
              "      box-shadow: 0px 1px 3px 1px rgba(0, 0, 0, 0.15);\n",
              "      filter: drop-shadow(0px 1px 2px rgba(0, 0, 0, 0.3));\n",
              "      fill: #FFFFFF;\n",
              "    }\n",
              "  </style>\n",
              "\n",
              "    <script>\n",
              "      const buttonEl =\n",
              "        document.querySelector('#df-2410cad7-ff54-43db-bf9b-03af2b520e9d button.colab-df-convert');\n",
              "      buttonEl.style.display =\n",
              "        google.colab.kernel.accessAllowed ? 'block' : 'none';\n",
              "\n",
              "      async function convertToInteractive(key) {\n",
              "        const element = document.querySelector('#df-2410cad7-ff54-43db-bf9b-03af2b520e9d');\n",
              "        const dataTable =\n",
              "          await google.colab.kernel.invokeFunction('convertToInteractive',\n",
              "                                                    [key], {});\n",
              "        if (!dataTable) return;\n",
              "\n",
              "        const docLinkHtml = 'Like what you see? Visit the ' +\n",
              "          '<a target=\"_blank\" href=https://colab.research.google.com/notebooks/data_table.ipynb>data table notebook</a>'\n",
              "          + ' to learn more about interactive tables.';\n",
              "        element.innerHTML = '';\n",
              "        dataTable['output_type'] = 'display_data';\n",
              "        await google.colab.output.renderOutput(dataTable, element);\n",
              "        const docLink = document.createElement('div');\n",
              "        docLink.innerHTML = docLinkHtml;\n",
              "        element.appendChild(docLink);\n",
              "      }\n",
              "    </script>\n",
              "  </div>\n",
              "\n",
              "    </div>\n",
              "  </div>\n"
            ],
            "application/vnd.google.colaboratory.intrinsic+json": {
              "type": "dataframe",
              "variable_name": "test_data",
              "summary": "{\n  \"name\": \"test_data\",\n  \"rows\": 1,\n  \"fields\": [\n    {\n      \"column\": \"x_1\",\n      \"properties\": {\n        \"dtype\": \"number\",\n        \"std\": null,\n        \"min\": 0.9783978397839784,\n        \"max\": 0.9783978397839784,\n        \"num_unique_values\": 1,\n        \"samples\": [\n          0.9783978397839784\n        ],\n        \"semantic_type\": \"\",\n        \"description\": \"\"\n      }\n    },\n    {\n      \"column\": \"x_2\",\n      \"properties\": {\n        \"dtype\": \"number\",\n        \"std\": null,\n        \"min\": 0.5472547254725473,\n        \"max\": 0.5472547254725473,\n        \"num_unique_values\": 1,\n        \"samples\": [\n          0.5472547254725473\n        ],\n        \"semantic_type\": \"\",\n        \"description\": \"\"\n      }\n    }\n  ]\n}"
            }
          },
          "metadata": {}
        },
        {
          "output_type": "stream",
          "name": "stdout",
          "text": [
            "------------------------------------\n",
            "lable :\n"
          ]
        },
        {
          "output_type": "display_data",
          "data": {
            "text/plain": [
              "               y\n",
              "803165  0.536237"
            ],
            "text/html": [
              "\n",
              "  <div id=\"df-0e065e64-6bee-407a-a9d9-f45bfe244a71\" class=\"colab-df-container\">\n",
              "    <div>\n",
              "<style scoped>\n",
              "    .dataframe tbody tr th:only-of-type {\n",
              "        vertical-align: middle;\n",
              "    }\n",
              "\n",
              "    .dataframe tbody tr th {\n",
              "        vertical-align: top;\n",
              "    }\n",
              "\n",
              "    .dataframe thead th {\n",
              "        text-align: right;\n",
              "    }\n",
              "</style>\n",
              "<table border=\"1\" class=\"dataframe\">\n",
              "  <thead>\n",
              "    <tr style=\"text-align: right;\">\n",
              "      <th></th>\n",
              "      <th>y</th>\n",
              "    </tr>\n",
              "  </thead>\n",
              "  <tbody>\n",
              "    <tr>\n",
              "      <th>803165</th>\n",
              "      <td>0.536237</td>\n",
              "    </tr>\n",
              "  </tbody>\n",
              "</table>\n",
              "</div>\n",
              "    <div class=\"colab-df-buttons\">\n",
              "\n",
              "  <div class=\"colab-df-container\">\n",
              "    <button class=\"colab-df-convert\" onclick=\"convertToInteractive('df-0e065e64-6bee-407a-a9d9-f45bfe244a71')\"\n",
              "            title=\"Convert this dataframe to an interactive table.\"\n",
              "            style=\"display:none;\">\n",
              "\n",
              "  <svg xmlns=\"http://www.w3.org/2000/svg\" height=\"24px\" viewBox=\"0 -960 960 960\">\n",
              "    <path d=\"M120-120v-720h720v720H120Zm60-500h600v-160H180v160Zm220 220h160v-160H400v160Zm0 220h160v-160H400v160ZM180-400h160v-160H180v160Zm440 0h160v-160H620v160ZM180-180h160v-160H180v160Zm440 0h160v-160H620v160Z\"/>\n",
              "  </svg>\n",
              "    </button>\n",
              "\n",
              "  <style>\n",
              "    .colab-df-container {\n",
              "      display:flex;\n",
              "      gap: 12px;\n",
              "    }\n",
              "\n",
              "    .colab-df-convert {\n",
              "      background-color: #E8F0FE;\n",
              "      border: none;\n",
              "      border-radius: 50%;\n",
              "      cursor: pointer;\n",
              "      display: none;\n",
              "      fill: #1967D2;\n",
              "      height: 32px;\n",
              "      padding: 0 0 0 0;\n",
              "      width: 32px;\n",
              "    }\n",
              "\n",
              "    .colab-df-convert:hover {\n",
              "      background-color: #E2EBFA;\n",
              "      box-shadow: 0px 1px 2px rgba(60, 64, 67, 0.3), 0px 1px 3px 1px rgba(60, 64, 67, 0.15);\n",
              "      fill: #174EA6;\n",
              "    }\n",
              "\n",
              "    .colab-df-buttons div {\n",
              "      margin-bottom: 4px;\n",
              "    }\n",
              "\n",
              "    [theme=dark] .colab-df-convert {\n",
              "      background-color: #3B4455;\n",
              "      fill: #D2E3FC;\n",
              "    }\n",
              "\n",
              "    [theme=dark] .colab-df-convert:hover {\n",
              "      background-color: #434B5C;\n",
              "      box-shadow: 0px 1px 3px 1px rgba(0, 0, 0, 0.15);\n",
              "      filter: drop-shadow(0px 1px 2px rgba(0, 0, 0, 0.3));\n",
              "      fill: #FFFFFF;\n",
              "    }\n",
              "  </style>\n",
              "\n",
              "    <script>\n",
              "      const buttonEl =\n",
              "        document.querySelector('#df-0e065e64-6bee-407a-a9d9-f45bfe244a71 button.colab-df-convert');\n",
              "      buttonEl.style.display =\n",
              "        google.colab.kernel.accessAllowed ? 'block' : 'none';\n",
              "\n",
              "      async function convertToInteractive(key) {\n",
              "        const element = document.querySelector('#df-0e065e64-6bee-407a-a9d9-f45bfe244a71');\n",
              "        const dataTable =\n",
              "          await google.colab.kernel.invokeFunction('convertToInteractive',\n",
              "                                                    [key], {});\n",
              "        if (!dataTable) return;\n",
              "\n",
              "        const docLinkHtml = 'Like what you see? Visit the ' +\n",
              "          '<a target=\"_blank\" href=https://colab.research.google.com/notebooks/data_table.ipynb>data table notebook</a>'\n",
              "          + ' to learn more about interactive tables.';\n",
              "        element.innerHTML = '';\n",
              "        dataTable['output_type'] = 'display_data';\n",
              "        await google.colab.output.renderOutput(dataTable, element);\n",
              "        const docLink = document.createElement('div');\n",
              "        docLink.innerHTML = docLinkHtml;\n",
              "        element.appendChild(docLink);\n",
              "      }\n",
              "    </script>\n",
              "  </div>\n",
              "\n",
              "    </div>\n",
              "  </div>\n"
            ],
            "application/vnd.google.colaboratory.intrinsic+json": {
              "type": "dataframe",
              "summary": "{\n  \"name\": \"print(f\\\"Model Prediction is : {output[0][2]}\\\")\",\n  \"rows\": 1,\n  \"fields\": [\n    {\n      \"column\": \"y\",\n      \"properties\": {\n        \"dtype\": \"number\",\n        \"std\": null,\n        \"min\": 0.5362372775739113,\n        \"max\": 0.5362372775739113,\n        \"num_unique_values\": 1,\n        \"samples\": [\n          0.5362372775739113\n        ],\n        \"semantic_type\": \"\",\n        \"description\": \"\"\n      }\n    }\n  ]\n}"
            }
          },
          "metadata": {}
        },
        {
          "output_type": "stream",
          "name": "stdout",
          "text": [
            "------------------------------------\n",
            "1/1 [==============================] - 0s 20ms/step\n",
            "------------------------------------\n",
            "Model scaled Prediction is : [[0.5364693]]\n",
            "Model Prediction is : 53555741.87776184\n"
          ]
        }
      ],
      "source": [
        "test_data = X_test.iloc[:1]\n",
        "print(\"Data :\")\n",
        "display(test_data)\n",
        "print(\"------------------------------------\")\n",
        "print(\"lable :\",)\n",
        "display(Y_test.iloc[:1])\n",
        "print(\"------------------------------------\")\n",
        "predicted = model.predict(test_data)\n",
        "print(\"------------------------------------\")\n",
        "print(f\"Model scaled Prediction is : {predicted}\")\n",
        "output = scaler.inverse_transform([[np.nan,np.nan,predicted[0][0]]])\n",
        "print(f\"Model Prediction is : {output[0][2]}\")"
      ]
    },
    {
      "cell_type": "markdown",
      "metadata": {
        "id": "7ChyWrI33Ttf"
      },
      "source": [
        "### Let's test the model via unseen data"
      ]
    },
    {
      "cell_type": "code",
      "execution_count": 18,
      "metadata": {
        "colab": {
          "base_uri": "https://localhost:8080/",
          "height": 0
        },
        "id": "_8Vn44F-vSYo",
        "outputId": "cfd760bc-d669-4426-fa3d-2fa1da52ca78"
      },
      "outputs": [
        {
          "output_type": "stream",
          "name": "stdout",
          "text": [
            "Data : [[0.80008001 0.30003           nan]]\n",
            "Label :\n",
            "Actual Multiplication : 24000005\n",
            "------------------------------------\n",
            "1/1 [==============================] - 0s 51ms/step\n",
            "------------------------------------\n",
            "Model scaled Prediction is : [[0.24092543]]\n",
            "Model Prediction is : 24051594.656646732\n"
          ]
        }
      ],
      "source": [
        "num_1 = 8000\n",
        "num_2 = 3000\n",
        "unseen_data = scaler.transform([[num_1,num_2,np.nan]])\n",
        "print(\"Data :\",unseen_data)\n",
        "print(\"Label :\" )\n",
        "print(\"Actual Multiplication :\",num_1*num_2 +5)\n",
        "print(\"------------------------------------\")\n",
        "predicted = model.predict(unseen_data[:,:2])\n",
        "print(\"------------------------------------\")\n",
        "print(f\"Model scaled Prediction is : {predicted}\")\n",
        "output = scaler.inverse_transform([[np.nan,np.nan,predicted[0][0]]])\n",
        "print(f\"Model Prediction is : {output[0][2]}\")"
      ]
    },
    {
      "cell_type": "code",
      "execution_count": 19,
      "metadata": {
        "colab": {
          "base_uri": "https://localhost:8080/",
          "height": 0
        },
        "outputId": "7b17f49d-868b-4b9f-87ab-ab1271efb141",
        "id": "pCcmRrkhU4mI"
      },
      "outputs": [
        {
          "output_type": "stream",
          "name": "stdout",
          "text": [
            "Data : [[0.00080008 0.00040004        nan]]\n",
            "Label :\n",
            "Actual Multiplication : 37\n",
            "------------------------------------\n",
            "1/1 [==============================] - 0s 59ms/step\n",
            "------------------------------------\n",
            "Model scaled Prediction is : [[-0.00527963]]\n",
            "Model Prediction is : -527060.5895614624\n"
          ]
        }
      ],
      "source": [
        "num_1 = 8\n",
        "num_2 = 4\n",
        "unseen_data = scaler.transform([[num_1,num_2,np.nan]])\n",
        "print(\"Data :\",unseen_data)\n",
        "print(\"Label :\" )\n",
        "print(\"Actual Multiplication :\",num_1*num_2 +5)\n",
        "print(\"------------------------------------\")\n",
        "predicted = model.predict(unseen_data[:,:2])\n",
        "print(\"------------------------------------\")\n",
        "print(f\"Model scaled Prediction is : {predicted}\")\n",
        "output = scaler.inverse_transform([[np.nan,np.nan,predicted[0][0]]])\n",
        "print(f\"Model Prediction is : {output[0][2]}\")"
      ]
    },
    {
      "cell_type": "markdown",
      "metadata": {
        "id": "koac3v0k-IeE"
      },
      "source": [
        "## FFN : Two Hidden Layer"
      ]
    },
    {
      "cell_type": "code",
      "execution_count": null,
      "metadata": {
        "colab": {
          "base_uri": "https://localhost:8080/"
        },
        "id": "fd53uCqk-IeM",
        "outputId": "7082e43f-2dd6-4a97-fc2e-744ce026c0c0"
      },
      "outputs": [
        {
          "name": "stdout",
          "output_type": "stream",
          "text": [
            "Model: \"sequential_1\"\n",
            "_________________________________________________________________\n",
            " Layer (type)                Output Shape              Param #   \n",
            "=================================================================\n",
            " dense_3 (Dense)             (None, 64)                192       \n",
            "                                                                 \n",
            " dense_4 (Dense)             (None, 64)                4160      \n",
            "                                                                 \n",
            " dense_5 (Dense)             (None, 1)                 65        \n",
            "                                                                 \n",
            "=================================================================\n",
            "Total params: 4417 (17.25 KB)\n",
            "Trainable params: 4417 (17.25 KB)\n",
            "Non-trainable params: 0 (0.00 Byte)\n",
            "_________________________________________________________________\n"
          ]
        },
        {
          "name": "stderr",
          "output_type": "stream",
          "text": [
            "WARNING:tensorflow:`epsilon` argument is deprecated and will be removed, use `min_delta` instead.\n"
          ]
        },
        {
          "name": "stdout",
          "output_type": "stream",
          "text": [
            "Epoch 1/100\n",
            "10000/10000 [==============================] - 37s 3ms/step - loss: 0.0017 - val_loss: 2.2257e-05 - lr: 0.0010\n",
            "Epoch 2/100\n",
            "   63/10000 [..............................] - ETA: 24s - loss: 1.5908e-05"
          ]
        },
        {
          "name": "stderr",
          "output_type": "stream",
          "text": [
            "/usr/local/lib/python3.10/dist-packages/keras/src/engine/training.py:3103: UserWarning: You are saving your model as an HDF5 file via `model.save()`. This file format is considered legacy. We recommend using instead the native Keras format, e.g. `model.save('my_model.keras')`.\n",
            "  saving_api.save_model(\n"
          ]
        },
        {
          "name": "stdout",
          "output_type": "stream",
          "text": [
            "10000/10000 [==============================] - 35s 3ms/step - loss: 2.5534e-05 - val_loss: 4.0732e-06 - lr: 0.0010\n",
            "Epoch 3/100\n",
            "10000/10000 [==============================] - 29s 3ms/step - loss: 1.7490e-05 - val_loss: 8.3898e-06 - lr: 0.0010\n",
            "Epoch 4/100\n",
            "10000/10000 [==============================] - 32s 3ms/step - loss: 1.5373e-05 - val_loss: 4.8172e-06 - lr: 0.0010\n",
            "Epoch 5/100\n",
            "10000/10000 [==============================] - 31s 3ms/step - loss: 1.2696e-05 - val_loss: 5.8235e-06 - lr: 0.0010\n",
            "Epoch 6/100\n",
            "10000/10000 [==============================] - 30s 3ms/step - loss: 1.3037e-05 - val_loss: 4.5417e-06 - lr: 0.0010\n",
            "Epoch 7/100\n",
            "10000/10000 [==============================] - 32s 3ms/step - loss: 1.0587e-05 - val_loss: 4.4341e-06 - lr: 0.0010\n",
            "Epoch 8/100\n",
            " 9981/10000 [============================>.] - ETA: 0s - loss: 1.1161e-05\n",
            "Epoch 8: ReduceLROnPlateau reducing learning rate to 0.00010000000474974513.\n",
            "10000/10000 [==============================] - 29s 3ms/step - loss: 1.1148e-05 - val_loss: 4.8549e-06 - lr: 0.0010\n",
            "Epoch 9/100\n",
            "10000/10000 [==============================] - 32s 3ms/step - loss: 1.6237e-06 - val_loss: 1.4540e-06 - lr: 1.0000e-04\n",
            "Epoch 10/100\n",
            "10000/10000 [==============================] - 29s 3ms/step - loss: 1.5722e-06 - val_loss: 1.4954e-06 - lr: 1.0000e-04\n",
            "Epoch 11/100\n",
            "10000/10000 [==============================] - 30s 3ms/step - loss: 1.4611e-06 - val_loss: 1.1833e-06 - lr: 1.0000e-04\n",
            "Epoch 12/100\n",
            "10000/10000 [==============================] - 32s 3ms/step - loss: 1.4061e-06 - val_loss: 1.3546e-06 - lr: 1.0000e-04\n",
            "Epoch 13/100\n",
            "10000/10000 [==============================] - 30s 3ms/step - loss: 1.3353e-06 - val_loss: 1.4372e-06 - lr: 1.0000e-04\n",
            "Epoch 14/100\n",
            "10000/10000 [==============================] - 30s 3ms/step - loss: 1.2825e-06 - val_loss: 1.7286e-06 - lr: 1.0000e-04\n",
            "Epoch 15/100\n",
            " 9996/10000 [============================>.] - ETA: 0s - loss: 1.2533e-06\n",
            "Epoch 15: ReduceLROnPlateau reducing learning rate to 1.0000000474974514e-05.\n",
            "10000/10000 [==============================] - 30s 3ms/step - loss: 1.2532e-06 - val_loss: 1.0288e-06 - lr: 1.0000e-04\n",
            "Epoch 16/100\n",
            "10000/10000 [==============================] - 29s 3ms/step - loss: 8.9701e-07 - val_loss: 9.0172e-07 - lr: 1.0000e-05\n",
            "Epoch 17/100\n",
            "10000/10000 [==============================] - 30s 3ms/step - loss: 8.8985e-07 - val_loss: 8.5341e-07 - lr: 1.0000e-05\n",
            "Epoch 18/100\n",
            "10000/10000 [==============================] - 32s 3ms/step - loss: 8.8437e-07 - val_loss: 9.6275e-07 - lr: 1.0000e-05\n",
            "Epoch 19/100\n",
            "10000/10000 [==============================] - 32s 3ms/step - loss: 8.7785e-07 - val_loss: 8.9240e-07 - lr: 1.0000e-05\n",
            "Epoch 20/100\n",
            "10000/10000 [==============================] - 31s 3ms/step - loss: 8.7257e-07 - val_loss: 8.7452e-07 - lr: 1.0000e-05\n",
            "Epoch 21/100\n",
            "10000/10000 [==============================] - 32s 3ms/step - loss: 8.6893e-07 - val_loss: 8.4461e-07 - lr: 1.0000e-05\n",
            "Epoch 22/100\n",
            " 9988/10000 [============================>.] - ETA: 0s - loss: 8.6262e-07\n",
            "Epoch 22: ReduceLROnPlateau reducing learning rate to 1.0000000656873453e-06.\n",
            "10000/10000 [==============================] - 31s 3ms/step - loss: 8.6266e-07 - val_loss: 8.4909e-07 - lr: 1.0000e-05\n",
            "Epoch 23/100\n",
            "10000/10000 [==============================] - 31s 3ms/step - loss: 8.2053e-07 - val_loss: 8.1753e-07 - lr: 1.0000e-06\n",
            "Epoch 24/100\n",
            "10000/10000 [==============================] - 34s 3ms/step - loss: 8.1961e-07 - val_loss: 8.1560e-07 - lr: 1.0000e-06\n",
            "Epoch 25/100\n",
            "10000/10000 [==============================] - 30s 3ms/step - loss: 8.1924e-07 - val_loss: 8.1563e-07 - lr: 1.0000e-06\n",
            "Epoch 26/100\n",
            "10000/10000 [==============================] - 30s 3ms/step - loss: 8.1851e-07 - val_loss: 8.1603e-07 - lr: 1.0000e-06\n",
            "Epoch 27/100\n",
            "10000/10000 [==============================] - 31s 3ms/step - loss: 8.1794e-07 - val_loss: 8.1335e-07 - lr: 1.0000e-06\n",
            "Epoch 28/100\n",
            "10000/10000 [==============================] - 31s 3ms/step - loss: 8.1704e-07 - val_loss: 8.1676e-07 - lr: 1.0000e-06\n",
            "Epoch 29/100\n",
            " 9999/10000 [============================>.] - ETA: 0s - loss: 8.1661e-07\n",
            "Epoch 29: ReduceLROnPlateau reducing learning rate to 1.0000001111620805e-07.\n",
            "10000/10000 [==============================] - 30s 3ms/step - loss: 8.1661e-07 - val_loss: 8.1619e-07 - lr: 1.0000e-06\n",
            "Epoch 30/100\n",
            "10000/10000 [==============================] - 32s 3ms/step - loss: 8.1180e-07 - val_loss: 8.1029e-07 - lr: 1.0000e-07\n",
            "Epoch 31/100\n",
            "10000/10000 [==============================] - 33s 3ms/step - loss: 8.1162e-07 - val_loss: 8.1038e-07 - lr: 1.0000e-07\n",
            "Epoch 32/100\n",
            "10000/10000 [==============================] - 34s 3ms/step - loss: 8.1147e-07 - val_loss: 8.1111e-07 - lr: 1.0000e-07\n",
            "Epoch 33/100\n",
            "10000/10000 [==============================] - 33s 3ms/step - loss: 8.1147e-07 - val_loss: 8.1039e-07 - lr: 1.0000e-07\n",
            "Epoch 34/100\n",
            "10000/10000 [==============================] - 30s 3ms/step - loss: 8.1146e-07 - val_loss: 8.1029e-07 - lr: 1.0000e-07\n",
            "Epoch 35/100\n",
            "10000/10000 [==============================] - 30s 3ms/step - loss: 8.1140e-07 - val_loss: 8.1018e-07 - lr: 1.0000e-07\n",
            "Epoch 36/100\n",
            " 9993/10000 [============================>.] - ETA: 0s - loss: 8.1122e-07\n",
            "Epoch 36: ReduceLROnPlateau reducing learning rate to 1.000000082740371e-08.\n",
            "10000/10000 [==============================] - 31s 3ms/step - loss: 8.1128e-07 - val_loss: 8.1027e-07 - lr: 1.0000e-07\n",
            "Epoch 37/100\n",
            "10000/10000 [==============================] - 32s 3ms/step - loss: 8.1082e-07 - val_loss: 8.0990e-07 - lr: 1.0000e-08\n",
            "Epoch 38/100\n",
            "10000/10000 [==============================] - 33s 3ms/step - loss: 8.1076e-07 - val_loss: 8.0989e-07 - lr: 1.0000e-08\n",
            "Epoch 39/100\n",
            "10000/10000 [==============================] - 31s 3ms/step - loss: 8.1074e-07 - val_loss: 8.0987e-07 - lr: 1.0000e-08\n",
            "Epoch 40/100\n",
            "10000/10000 [==============================] - 32s 3ms/step - loss: 8.1074e-07 - val_loss: 8.0986e-07 - lr: 1.0000e-08\n",
            "Epoch 41/100\n",
            "10000/10000 [==============================] - 33s 3ms/step - loss: 8.1073e-07 - val_loss: 8.0984e-07 - lr: 1.0000e-08\n",
            "Epoch 42/100\n",
            "10000/10000 [==============================] - 33s 3ms/step - loss: 8.1071e-07 - val_loss: 8.0993e-07 - lr: 1.0000e-08\n",
            "Epoch 43/100\n",
            " 9994/10000 [============================>.] - ETA: 0s - loss: 8.1069e-07\n",
            "Epoch 43: ReduceLROnPlateau reducing learning rate to 1.000000082740371e-09.\n",
            "10000/10000 [==============================] - 35s 4ms/step - loss: 8.1072e-07 - val_loss: 8.0985e-07 - lr: 1.0000e-08\n",
            "Epoch 44/100\n",
            "10000/10000 [==============================] - 33s 3ms/step - loss: 8.1070e-07 - val_loss: 8.0985e-07 - lr: 1.0000e-09\n",
            "Epoch 45/100\n",
            "10000/10000 [==============================] - 35s 4ms/step - loss: 8.1070e-07 - val_loss: 8.0985e-07 - lr: 1.0000e-09\n",
            "Epoch 46/100\n",
            "10000/10000 [==============================] - 33s 3ms/step - loss: 8.1070e-07 - val_loss: 8.0985e-07 - lr: 1.0000e-09\n",
            "Epoch 47/100\n",
            "10000/10000 [==============================] - 31s 3ms/step - loss: 8.1070e-07 - val_loss: 8.0985e-07 - lr: 1.0000e-09\n",
            "Epoch 48/100\n",
            "10000/10000 [==============================] - 29s 3ms/step - loss: 8.1070e-07 - val_loss: 8.0985e-07 - lr: 1.0000e-09\n",
            "Epoch 49/100\n",
            "10000/10000 [==============================] - 31s 3ms/step - loss: 8.1070e-07 - val_loss: 8.0985e-07 - lr: 1.0000e-09\n",
            "Epoch 50/100\n",
            " 9987/10000 [============================>.] - ETA: 0s - loss: 8.1071e-07\n",
            "Epoch 50: ReduceLROnPlateau reducing learning rate to 1.000000082740371e-10.\n",
            "10000/10000 [==============================] - 31s 3ms/step - loss: 8.1070e-07 - val_loss: 8.0985e-07 - lr: 1.0000e-09\n",
            "Epoch 51/100\n",
            "10000/10000 [==============================] - 30s 3ms/step - loss: 8.1070e-07 - val_loss: 8.0985e-07 - lr: 1.0000e-10\n"
          ]
        }
      ],
      "source": [
        "model = keras.Sequential()\n",
        "model.add(layers.Dense(64,activation=\"relu\",input_dim=2))\n",
        "model.add(layers.Dense(64,activation=\"relu\"))\n",
        "model.add(layers.Dense(1,activation=\"linear\"))\n",
        "\n",
        "model.summary()\n",
        "\n",
        "# Compile the Model\n",
        "model.compile(loss = 'MSE',\n",
        "              optimizer=\"adam\")\n",
        "\n",
        "# Callbacks Configs\n",
        "earlyStopping = EarlyStopping(monitor='val_loss', patience=10, verbose=0, mode='min')\n",
        "mcp_save = ModelCheckpoint('.mdl_wts.hdf5', save_best_only=True, monitor='val_loss', mode='min')\n",
        "reduce_lr_loss = ReduceLROnPlateau(monitor='val_loss', factor=0.1, patience=7, verbose=1, epsilon=1e-4, mode='min')\n",
        "\n",
        "history = model.fit(X_train,Y_train,batch_size=64,epochs=100,validation_split=0.2,callbacks=[earlyStopping, mcp_save, reduce_lr_loss],)"
      ]
    },
    {
      "cell_type": "code",
      "execution_count": null,
      "metadata": {
        "colab": {
          "base_uri": "https://localhost:8080/",
          "height": 472
        },
        "id": "itwtYwtV-IeN",
        "outputId": "c89abe47-18a6-4e1d-c79f-90637d861d74"
      },
      "outputs": [
        {
          "data": {
            "image/png": "[encoded data removed]",
            "text/plain": [
              "<Figure size 640x480 with 1 Axes>"
            ]
          },
          "metadata": {},
          "output_type": "display_data"
        }
      ],
      "source": [
        "from matplotlib import pyplot as plt\n",
        "plt.plot(history.history['loss'])\n",
        "plt.plot(history.history['val_loss'])\n",
        "plt.title('model loss')\n",
        "plt.ylabel('loss')\n",
        "plt.xlabel('epoch')\n",
        "plt.legend(['train', 'val'], loc='upper left')\n",
        "plt.show()"
      ]
    },
    {
      "cell_type": "code",
      "execution_count": null,
      "metadata": {
        "id": "wfgeRWQW-IeN"
      },
      "outputs": [],
      "source": [
        "from matplotlib import pyplot as plt\n",
        "plt.plot(history.history['loss'][5:])\n",
        "plt.plot(history.history['val_loss'][5:])\n",
        "plt.title('model loss')\n",
        "plt.ylabel('loss')\n",
        "plt.xlabel('epoch')\n",
        "plt.legend(['train', 'val'], loc='upper left')\n",
        "plt.show()"
      ]
    },
    {
      "cell_type": "code",
      "execution_count": null,
      "metadata": {
        "colab": {
          "base_uri": "https://localhost:8080/",
          "height": 472
        },
        "id": "r8vqnzWM-IeN",
        "outputId": "0c8f681a-04ff-4d7f-8771-c8a18068d55f"
      },
      "outputs": [
        {
          "data": {
            "image/png": "[encoded data removed]",
            "text/plain": [
              "<Figure size 640x480 with 1 Axes>"
            ]
          },
          "metadata": {},
          "output_type": "display_data"
        }
      ],
      "source": [
        "from matplotlib import pyplot as plt\n",
        "plt.plot(history.history['loss'][30:])\n",
        "plt.plot(history.history['val_loss'][30:])\n",
        "plt.title('model loss')\n",
        "plt.ylabel('loss')\n",
        "plt.xlabel('epoch')\n",
        "plt.legend(['train', 'val'], loc='upper left')\n",
        "plt.show()"
      ]
    },
    {
      "cell_type": "markdown",
      "metadata": {
        "id": "A8BrzRV4-IeO"
      },
      "source": [
        "### ٍEvaluate Model"
      ]
    },
    {
      "cell_type": "code",
      "execution_count": null,
      "metadata": {
        "colab": {
          "base_uri": "https://localhost:8080/"
        },
        "id": "Sz8xnZWM-IeO",
        "outputId": "1c64e8af-e4ab-4be7-ec14-fc20af56c4c9"
      },
      "outputs": [
        {
          "name": "stdout",
          "output_type": "stream",
          "text": [
            "6093/6093 [==============================] - 13s 2ms/step - loss: 8.1234e-07\n"
          ]
        },
        {
          "data": {
            "text/plain": [
              "8.123406018967216e-07"
            ]
          },
          "execution_count": 15,
          "metadata": {},
          "output_type": "execute_result"
        }
      ],
      "source": [
        "model.evaluate(X_test,Y_test)"
      ]
    },
    {
      "cell_type": "code",
      "execution_count": null,
      "metadata": {
        "id": "bdnKnSWf-IeO"
      },
      "outputs": [],
      "source": [
        "y_predicted = model.predict(X_test)"
      ]
    },
    {
      "cell_type": "code",
      "execution_count": null,
      "metadata": {
        "colab": {
          "base_uri": "https://localhost:8080/"
        },
        "id": "P71xkVxs-IeO",
        "outputId": "3db7c208-99c1-4e69-865c-da2694bcae53"
      },
      "outputs": [
        {
          "name": "stdout",
          "output_type": "stream",
          "text": [
            "MAE:  0.000706885314877243\n",
            "MSE:  8.123406824961714e-07\n",
            "R2_score:  0.9999991873627554\n"
          ]
        }
      ],
      "source": [
        "from sklearn.metrics import (\n",
        "    mean_absolute_error,\n",
        "    mean_squared_error,\n",
        "    r2_score,\n",
        ")\n",
        "\n",
        "print('MAE: ',mean_absolute_error(Y_test, y_predicted))\n",
        "print('MSE: ',mean_squared_error(Y_test, y_predicted))\n",
        "print('R2_score: ',r2_score(Y_test, y_predicted))\n"
      ]
    },
    {
      "cell_type": "markdown",
      "metadata": {
        "id": "FkisExmv-IeO"
      },
      "source": [
        "### Let's test the model"
      ]
    },
    {
      "cell_type": "code",
      "execution_count": null,
      "metadata": {
        "id": "6yC1JCV0-IeO"
      },
      "outputs": [],
      "source": [
        "test_data = X_test.iloc[:1]\n",
        "print(\"Data :\")\n",
        "display(test_data)\n",
        "print(\"------------------------------------\")\n",
        "print(\"lable :\",)\n",
        "display(Y_test.iloc[:1])\n",
        "print(\"------------------------------------\")\n",
        "predicted = model.predict(test_data)\n",
        "print(\"------------------------------------\")\n",
        "print(f\"Model scaled Prediction is : {predicted}\")\n",
        "output = scaler.inverse_transform([[np.nan,np.nan,predicted[0][0]]])\n",
        "print(f\"Model Prediction is : {output[0][2]}\")"
      ]
    },
    {
      "cell_type": "markdown",
      "metadata": {
        "id": "rLasqUVO-IeO"
      },
      "source": [
        "### Let's test the model via unseen data"
      ]
    },
    {
      "cell_type": "code",
      "execution_count": null,
      "metadata": {
        "colab": {
          "base_uri": "https://localhost:8080/"
        },
        "id": "z1VNhITZ-IeO",
        "outputId": "8e617110-e8d2-4c97-f471-0abd254fe5a7"
      },
      "outputs": [
        {
          "name": "stdout",
          "output_type": "stream",
          "text": [
            "Data : [[ 1.03774632 -0.69262191         nan]]\n",
            "Label :\n",
            "Actual Multiplication : 24000005\n",
            "------------------------------------\n",
            "1/1 [==============================] - 0s 57ms/step\n",
            "------------------------------------\n",
            "Model scaled Prediction is : [[-0.04481017]]\n",
            "Model Prediction is : 24023951.601729915\n",
            "Data : [[ 1.03774632 -0.69262191         nan]]\n",
            "Label :\n",
            "Actual Multiplication : 24000005\n",
            "------------------------------------\n",
            "1/1 [==============================] - 0s 57ms/step\n",
            "------------------------------------\n",
            "Model scaled Prediction is : [[-0.04481017]]\n",
            "Model Prediction is : 24023951.601729915\n"
          ]
        }
      ],
      "source": [
        "num_1 = 8000\n",
        "num_2 = 3000\n",
        "unseen_data = scaler.transform([[num_1,num_2,np.nan]])\n",
        "print(\"Data :\",unseen_data)\n",
        "print(\"Label :\" )\n",
        "print(\"Actual Multiplication :\",num_1*num_2 +5)\n",
        "print(\"------------------------------------\")\n",
        "predicted = model.predict(unseen_data[:,:2])\n",
        "print(\"------------------------------------\")\n",
        "print(f\"Model scaled Prediction is : {predicted}\")\n",
        "output = scaler.inverse_transform([[np.nan,np.nan,predicted[0][0]]])\n",
        "print(f\"Model Prediction is : {output[0][2]}\")"
      ]
    },
    {
      "cell_type": "code",
      "execution_count": null,
      "metadata": {
        "colab": {
          "base_uri": "https://localhost:8080/"
        },
        "id": "QJwcxxgUF_u4",
        "outputId": "ec7e3424-d072-4c45-f9a1-eee733cea19a"
      },
      "outputs": [
        {
          "name": "stdout",
          "output_type": "stream",
          "text": [
            "Data : [[-0.18925441  0.19237757         nan]]\n",
            "Label :\n",
            "Actual Multiplication : 24751985\n",
            "------------------------------------\n",
            "1/1 [==============================] - 0s 18ms/step\n",
            "------------------------------------\n",
            "Model scaled Prediction is : [[-0.01235055]]\n",
            "Model Prediction is : 24740506.189390738\n"
          ]
        }
      ],
      "source": [
        "num_1 = 4455\n",
        "num_2 = 5556\n",
        "unseen_data = scaler.transform([[num_1,num_2,np.nan]])\n",
        "print(\"Data :\",unseen_data)\n",
        "print(\"Label :\" )\n",
        "print(\"Actual Multiplication :\",num_1*num_2 +5)\n",
        "print(\"------------------------------------\")\n",
        "predicted = model.predict(unseen_data[:,:2])\n",
        "print(\"------------------------------------\")\n",
        "print(f\"Model scaled Prediction is : {predicted}\")\n",
        "output = scaler.inverse_transform([[np.nan,np.nan,predicted[0][0]]])\n",
        "print(f\"Model Prediction is : {output[0][2]}\")"
      ]
    },
    {
      "cell_type": "code",
      "execution_count": null,
      "metadata": {
        "colab": {
          "base_uri": "https://localhost:8080/"
        },
        "id": "1ilib2t2GYND",
        "outputId": "769ef542-27b1-43eb-95ef-a91fde2c1d3c"
      },
      "outputs": [
        {
          "name": "stdout",
          "output_type": "stream",
          "text": [
            "Data : [[-1.71391962 -1.7195814          nan]]\n",
            "Label :\n",
            "Actual Multiplication : 1705\n",
            "------------------------------------\n",
            "1/1 [==============================] - 0s 18ms/step\n",
            "------------------------------------\n",
            "Model scaled Prediction is : [[-1.1391819]]\n",
            "Model Prediction is : -134592.9642238319\n"
          ]
        }
      ],
      "source": [
        "num_1 = 50\n",
        "num_2 = 34\n",
        "unseen_data = scaler.transform([[num_1,num_2,np.nan]])\n",
        "print(\"Data :\",unseen_data)\n",
        "print(\"Label :\" )\n",
        "print(\"Actual Multiplication :\",num_1*num_2 +5)\n",
        "print(\"------------------------------------\")\n",
        "predicted = model.predict(unseen_data[:,:2])\n",
        "print(\"------------------------------------\")\n",
        "print(f\"Model scaled Prediction is : {predicted}\")\n",
        "output = scaler.inverse_transform([[np.nan,np.nan,predicted[0][0]]])\n",
        "print(f\"Model Prediction is : {output[0][2]}\")"
      ]
    },
    {
      "cell_type": "markdown",
      "metadata": {
        "id": "8nZQfx7eNb-L"
      },
      "source": [
        "## CNN : 1D"
      ]
    },
    {
      "cell_type": "code",
      "execution_count": null,
      "metadata": {
        "colab": {
          "base_uri": "https://localhost:8080/"
        },
        "id": "WnmNo9pQcPMY",
        "outputId": "31a77cae-b053-4dc3-b46b-2cec2a0570eb"
      },
      "outputs": [
        {
          "name": "stdout",
          "output_type": "stream",
          "text": [
            "After reshape train data set shape:\n",
            " (800000, 2, 1)\n",
            "1 Sample shape:\n",
            " (2, 1)\n",
            "An example sample:\n",
            " [[-0.52729616]\n",
            " [-0.0170842 ]]\n"
          ]
        }
      ],
      "source": [
        "sample_size = X_train.shape[0] # number of samples in train set\n",
        "time_steps  = X_train.shape[1] # number of features in train set\n",
        "input_dimension = 1               # each feature is represented by 1 number\n",
        "\n",
        "train_data_reshaped = X_train.to_numpy().reshape(sample_size,time_steps,input_dimension)\n",
        "print(\"After reshape train data set shape:\\n\", train_data_reshaped.shape)\n",
        "print(\"1 Sample shape:\\n\",train_data_reshaped[0].shape)\n",
        "print(\"An example sample:\\n\", train_data_reshaped[0])"
      ]
    },
    {
      "cell_type": "code",
      "execution_count": null,
      "metadata": {
        "id": "Sox1i5qKhaHK"
      },
      "outputs": [],
      "source": [
        "test_data_reshaped = X_test.to_numpy().reshape(X_test.shape[0],X_test.shape[1],1)"
      ]
    },
    {
      "cell_type": "code",
      "execution_count": null,
      "metadata": {
        "colab": {
          "base_uri": "https://localhost:8080/"
        },
        "id": "GKKQ2pMENb-L",
        "outputId": "1ea9950c-cab8-4703-85a3-75d645270aa3"
      },
      "outputs": [
        {
          "name": "stdout",
          "output_type": "stream",
          "text": [
            "Model: \"model_conv1D\"\n",
            "_________________________________________________________________\n",
            " Layer (type)                Output Shape              Param #   \n",
            "=================================================================\n",
            " Conv1D_1 (Conv1D)           (None, 2, 64)             128       \n",
            "                                                                 \n",
            " dropout_6 (Dropout)         (None, 2, 64)             0         \n",
            "                                                                 \n",
            " MaxPooling1D (MaxPooling1D  (None, 1, 64)             0         \n",
            " )                                                               \n",
            "                                                                 \n",
            " flatten_2 (Flatten)         (None, 64)                0         \n",
            "                                                                 \n",
            " Dense_1 (Dense)             (None, 32)                2080      \n",
            "                                                                 \n",
            " Dense_2 (Dense)             (None, 1)                 33        \n",
            "                                                                 \n",
            "=================================================================\n",
            "Total params: 2241 (8.75 KB)\n",
            "Trainable params: 2241 (8.75 KB)\n",
            "Non-trainable params: 0 (0.00 Byte)\n",
            "_________________________________________________________________\n"
          ]
        }
      ],
      "source": [
        "from keras.optimizers import RMSprop\n",
        "def build_conv1D_model():\n",
        "  n_timesteps = train_data_reshaped.shape[1] #13\n",
        "  n_features  = train_data_reshaped.shape[2] #1\n",
        "  model = keras.Sequential(name=\"model_conv1D\")\n",
        "  model.add(keras.layers.Input(shape=(n_timesteps,n_features)))\n",
        "  model.add(keras.layers.Conv1D(filters=64, kernel_size=1, activation='relu', name=\"Conv1D_1\"))\n",
        "  model.add(keras.layers.Dropout(0.5))\n",
        "  # model.add(keras.layers.Conv1D(filters=32, kernel_size=3, activation='relu', name=\"Conv1D_2\"))\n",
        "\n",
        "  # model.add(keras.layers.Conv1D(filters=16, kernel_size=2, activation='relu', name=\"Conv1D_3\"))\n",
        "\n",
        "  model.add(keras.layers.MaxPooling1D(pool_size=2, name=\"MaxPooling1D\"))\n",
        "  model.add(keras.layers.Flatten())\n",
        "  model.add(keras.layers.Dense(32, activation='relu', name=\"Dense_1\"))\n",
        "  model.add(keras.layers.Dense(1, name=\"Dense_2\"))\n",
        "\n",
        "\n",
        "  optimizer = tf.keras.optimizers.RMSprop(0.001)\n",
        "\n",
        "  model.compile(loss='mse',optimizer=optimizer,metrics=['mae'])\n",
        "  return model\n",
        "\n",
        "model_conv1D = build_conv1D_model()\n",
        "model_conv1D.summary()"
      ]
    },
    {
      "cell_type": "code",
      "execution_count": null,
      "metadata": {
        "colab": {
          "base_uri": "https://localhost:8080/"
        },
        "id": "lMarF7WzanXr",
        "outputId": "68f92456-5b45-4801-8d6b-c330936475b7"
      },
      "outputs": [
        {
          "name": "stderr",
          "output_type": "stream",
          "text": [
            "WARNING:tensorflow:`epsilon` argument is deprecated and will be removed, use `min_delta` instead.\n"
          ]
        },
        {
          "name": "stdout",
          "output_type": "stream",
          "text": [
            "Epoch 1/1000\n",
            "10000/10000 [==============================] - 51s 5ms/step - loss: 0.0162 - mae: 0.0880 - val_loss: 0.0363 - val_mae: 0.1566 - lr: 0.0010\n",
            "Epoch 2/1000\n",
            "   38/10000 [..............................] - ETA: 41s - loss: 0.0087 - mae: 0.0688"
          ]
        },
        {
          "name": "stderr",
          "output_type": "stream",
          "text": [
            "/usr/local/lib/python3.10/dist-packages/keras/src/engine/training.py:3103: UserWarning: You are saving your model as an HDF5 file via `model.save()`. This file format is considered legacy. We recommend using instead the native Keras format, e.g. `model.save('my_model.keras')`.\n",
            "  saving_api.save_model(\n"
          ]
        },
        {
          "name": "stdout",
          "output_type": "stream",
          "text": [
            "10000/10000 [==============================] - 37s 4ms/step - loss: 0.0080 - mae: 0.0644 - val_loss: 0.0410 - val_mae: 0.1715 - lr: 0.0010\n",
            "Epoch 3/1000\n",
            "10000/10000 [==============================] - 38s 4ms/step - loss: 0.0072 - mae: 0.0603 - val_loss: 0.0370 - val_mae: 0.1574 - lr: 0.0010\n",
            "Epoch 4/1000\n",
            "10000/10000 [==============================] - 36s 4ms/step - loss: 0.0069 - mae: 0.0585 - val_loss: 0.0407 - val_mae: 0.1729 - lr: 0.0010\n",
            "Epoch 5/1000\n",
            "10000/10000 [==============================] - 36s 4ms/step - loss: 0.0068 - mae: 0.0572 - val_loss: 0.0347 - val_mae: 0.1552 - lr: 0.0010\n",
            "Epoch 6/1000\n",
            "10000/10000 [==============================] - 35s 4ms/step - loss: 0.0069 - mae: 0.0566 - val_loss: 0.0351 - val_mae: 0.1593 - lr: 0.0010\n",
            "Epoch 7/1000\n",
            "10000/10000 [==============================] - 37s 4ms/step - loss: 0.0069 - mae: 0.0560 - val_loss: 0.0369 - val_mae: 0.1665 - lr: 0.0010\n",
            "Epoch 8/1000\n",
            "10000/10000 [==============================] - 52s 5ms/step - loss: 0.0067 - mae: 0.0550 - val_loss: 0.0374 - val_mae: 0.1655 - lr: 0.0010\n",
            "Epoch 9/1000\n",
            "10000/10000 [==============================] - 47s 5ms/step - loss: 0.0067 - mae: 0.0544 - val_loss: 0.0339 - val_mae: 0.1578 - lr: 0.0010\n",
            "Epoch 10/1000\n",
            "10000/10000 [==============================] - 36s 4ms/step - loss: 0.0067 - mae: 0.0542 - val_loss: 0.0330 - val_mae: 0.1507 - lr: 0.0010\n",
            "Epoch 11/1000\n",
            "10000/10000 [==============================] - 35s 4ms/step - loss: 0.0067 - mae: 0.0543 - val_loss: 0.0306 - val_mae: 0.1421 - lr: 0.0010\n",
            "Epoch 12/1000\n",
            "10000/10000 [==============================] - 36s 4ms/step - loss: 0.0066 - mae: 0.0540 - val_loss: 0.0302 - val_mae: 0.1466 - lr: 0.0010\n",
            "Epoch 13/1000\n",
            "10000/10000 [==============================] - 52s 5ms/step - loss: 0.0067 - mae: 0.0540 - val_loss: 0.0299 - val_mae: 0.1419 - lr: 0.0010\n",
            "Epoch 14/1000\n",
            "10000/10000 [==============================] - 37s 4ms/step - loss: 0.0066 - mae: 0.0535 - val_loss: 0.0329 - val_mae: 0.1568 - lr: 0.0010\n",
            "Epoch 15/1000\n",
            "10000/10000 [==============================] - 36s 4ms/step - loss: 0.0068 - mae: 0.0538 - val_loss: 0.0342 - val_mae: 0.1569 - lr: 0.0010\n",
            "Epoch 16/1000\n",
            "10000/10000 [==============================] - 49s 5ms/step - loss: 0.0066 - mae: 0.0533 - val_loss: 0.0309 - val_mae: 0.1541 - lr: 0.0010\n",
            "Epoch 17/1000\n",
            "10000/10000 [==============================] - 39s 4ms/step - loss: 0.0066 - mae: 0.0533 - val_loss: 0.0312 - val_mae: 0.1545 - lr: 0.0010\n",
            "Epoch 18/1000\n",
            "10000/10000 [==============================] - 35s 4ms/step - loss: 0.0066 - mae: 0.0530 - val_loss: 0.0366 - val_mae: 0.1667 - lr: 0.0010\n",
            "Epoch 19/1000\n",
            "10000/10000 [==============================] - 44s 4ms/step - loss: 0.0066 - mae: 0.0530 - val_loss: 0.0294 - val_mae: 0.1501 - lr: 0.0010\n",
            "Epoch 20/1000\n",
            "10000/10000 [==============================] - 52s 5ms/step - loss: 0.0065 - mae: 0.0527 - val_loss: 0.0354 - val_mae: 0.1649 - lr: 0.0010\n",
            "Epoch 21/1000\n",
            "10000/10000 [==============================] - 38s 4ms/step - loss: 0.0064 - mae: 0.0526 - val_loss: 0.0310 - val_mae: 0.1518 - lr: 0.0010\n",
            "Epoch 22/1000\n",
            "10000/10000 [==============================] - 37s 4ms/step - loss: 0.0065 - mae: 0.0525 - val_loss: 0.0394 - val_mae: 0.1803 - lr: 0.0010\n",
            "Epoch 23/1000\n",
            "10000/10000 [==============================] - 36s 4ms/step - loss: 0.0065 - mae: 0.0525 - val_loss: 0.0422 - val_mae: 0.1862 - lr: 0.0010\n",
            "Epoch 24/1000\n",
            "10000/10000 [==============================] - 34s 3ms/step - loss: 0.0066 - mae: 0.0526 - val_loss: 0.0327 - val_mae: 0.1578 - lr: 0.0010\n",
            "Epoch 25/1000\n",
            "10000/10000 [==============================] - 37s 4ms/step - loss: 0.0066 - mae: 0.0525 - val_loss: 0.0394 - val_mae: 0.1718 - lr: 0.0010\n",
            "Epoch 26/1000\n",
            " 9998/10000 [============================>.] - ETA: 0s - loss: 0.0065 - mae: 0.0523\n",
            "Epoch 26: ReduceLROnPlateau reducing learning rate to 0.00010000000474974513.\n",
            "10000/10000 [==============================] - 36s 4ms/step - loss: 0.0065 - mae: 0.0523 - val_loss: 0.0348 - val_mae: 0.1591 - lr: 0.0010\n",
            "Epoch 27/1000\n",
            "10000/10000 [==============================] - 35s 4ms/step - loss: 0.0059 - mae: 0.0481 - val_loss: 0.0344 - val_mae: 0.1610 - lr: 1.0000e-04\n",
            "Epoch 28/1000\n",
            "10000/10000 [==============================] - 36s 4ms/step - loss: 0.0060 - mae: 0.0482 - val_loss: 0.0359 - val_mae: 0.1631 - lr: 1.0000e-04\n",
            "Epoch 29/1000\n",
            "10000/10000 [==============================] - 37s 4ms/step - loss: 0.0061 - mae: 0.0483 - val_loss: 0.0360 - val_mae: 0.1628 - lr: 1.0000e-04\n"
          ]
        }
      ],
      "source": [
        "\n",
        "# Callbacks Configs\n",
        "earlyStopping = EarlyStopping(monitor='val_loss', patience=10, verbose=0, mode='min')\n",
        "mcp_save = ModelCheckpoint('.mdl_wts.hdf5', save_best_only=True, monitor='val_loss', mode='min')\n",
        "reduce_lr_loss = ReduceLROnPlateau(monitor='val_loss', factor=0.1, patience=7, verbose=1, epsilon=1e-4, mode='min')\n",
        "\n",
        "# Store training stats\n",
        "history = model_conv1D.fit(X_train, Y_train, epochs=1000, batch_size = 64,\n",
        "                    validation_split=0.2, verbose=1,callbacks=[earlyStopping, mcp_save, reduce_lr_loss])"
      ]
    },
    {
      "cell_type": "code",
      "execution_count": null,
      "metadata": {
        "colab": {
          "base_uri": "https://localhost:8080/",
          "height": 472
        },
        "id": "riLfJ_0eNb-M",
        "outputId": "b429f1ed-dc5d-49ea-b6be-4dd32a51c1d7"
      },
      "outputs": [
        {
          "data": {
            "image/png": "[encoded data removed]",
            "text/plain": [
              "<Figure size 640x480 with 1 Axes>"
            ]
          },
          "metadata": {},
          "output_type": "display_data"
        }
      ],
      "source": [
        "from matplotlib import pyplot as plt\n",
        "plt.plot(history.history['loss'])\n",
        "plt.plot(history.history['val_loss'])\n",
        "plt.title('model loss')\n",
        "plt.ylabel('loss')\n",
        "plt.xlabel('epoch')\n",
        "plt.legend(['train', 'val'], loc='upper left')\n",
        "plt.show()"
      ]
    },
    {
      "cell_type": "code",
      "execution_count": null,
      "metadata": {
        "colab": {
          "base_uri": "https://localhost:8080/"
        },
        "id": "l7PB7oYRhKIV",
        "outputId": "1b83ca36-2c85-4036-ec22-82fca4b91850"
      },
      "outputs": [
        {
          "name": "stdout",
          "output_type": "stream",
          "text": [
            "Testing set Mean Abs Error:  162.04\n"
          ]
        }
      ],
      "source": [
        "[loss, mae] = model_conv1D.evaluate(test_data_reshaped, Y_test, verbose=0)\n",
        "print(\"Testing set Mean Abs Error: {:7.2f}\".format(mae * 1000) )"
      ]
    },
    {
      "cell_type": "code",
      "execution_count": null,
      "metadata": {
        "id": "Lh000TEGhSZY"
      },
      "outputs": [],
      "source": [
        "test_predictions = model_conv1D.predict(test_data_reshaped).flatten()\n",
        "# plot_prediction(X_test, test_predictions)"
      ]
    },
    {
      "cell_type": "code",
      "execution_count": null,
      "metadata": {
        "id": "kknX30PqNb-M"
      },
      "outputs": [],
      "source": [
        "from matplotlib import pyplot as plt\n",
        "plt.plot(history.history['loss'][30:])\n",
        "plt.plot(history.history['val_loss'][30:])\n",
        "plt.title('model loss')\n",
        "plt.ylabel('loss')\n",
        "plt.xlabel('epoch')\n",
        "plt.legend(['train', 'val'], loc='upper left')\n",
        "plt.show()"
      ]
    },
    {
      "cell_type": "markdown",
      "metadata": {
        "id": "IhuFBOY8Nb-M"
      },
      "source": [
        "### ٍEvaluate Model"
      ]
    },
    {
      "cell_type": "code",
      "execution_count": null,
      "metadata": {
        "id": "dx-J_byONb-M"
      },
      "outputs": [],
      "source": [
        "model.evaluate(X_test,Y_test)"
      ]
    },
    {
      "cell_type": "code",
      "execution_count": null,
      "metadata": {
        "id": "C0bhg1ZVNb-M"
      },
      "outputs": [],
      "source": [
        "y_predicted = model.predict(X_test)"
      ]
    },
    {
      "cell_type": "code",
      "execution_count": null,
      "metadata": {
        "id": "UoWWU1VMNb-M"
      },
      "outputs": [],
      "source": [
        "from sklearn.metrics import (\n",
        "    mean_absolute_error,\n",
        "    mean_squared_error,\n",
        "    r2_score,\n",
        ")\n",
        "\n",
        "print('MAE: ',mean_absolute_error(Y_test, y_predicted))\n",
        "print('MSE: ',mean_squared_error(Y_test, y_predicted))\n",
        "print('R2_score: ',r2_score(Y_test, y_predicted))\n"
      ]
    },
    {
      "cell_type": "markdown",
      "metadata": {
        "id": "QyxGRtYdNb-M"
      },
      "source": [
        "### Let's test the model"
      ]
    },
    {
      "cell_type": "code",
      "execution_count": null,
      "metadata": {
        "id": "1tk-hi_1Nb-M"
      },
      "outputs": [],
      "source": [
        "test_data = X_test.iloc[:1]\n",
        "print(\"Data :\")\n",
        "display(test_data)\n",
        "print(\"------------------------------------\")\n",
        "print(\"lable :\",)\n",
        "display(Y_test.iloc[:1])\n",
        "print(\"------------------------------------\")\n",
        "predicted = model.predict(test_data)\n",
        "print(\"------------------------------------\")\n",
        "print(f\"Model scaled Prediction is : {predicted}\")\n",
        "output = scaler.inverse_transform([[np.nan,np.nan,predicted[0][0]]])\n",
        "print(f\"Model Prediction is : {output[0][2]}\")"
      ]
    },
    {
      "cell_type": "markdown",
      "metadata": {
        "id": "-60NHE_VNb-M"
      },
      "source": [
        "### Let's test the model via unseen data"
      ]
    },
    {
      "cell_type": "code",
      "execution_count": null,
      "metadata": {
        "id": "hn7G3DpGNb-M"
      },
      "outputs": [],
      "source": [
        "num_1 = 8000\n",
        "num_2 = 3000\n",
        "unseen_data = scaler.transform([[num_1,num_2,np.nan]])\n",
        "print(\"Data :\",unseen_data)\n",
        "print(\"Label :\" )\n",
        "print(\"Actual Multiplication :\",num_1*num_2 +5)\n",
        "print(\"------------------------------------\")\n",
        "predicted = model.predict(unseen_data[:,:2])\n",
        "print(\"------------------------------------\")\n",
        "print(f\"Model scaled Prediction is : {predicted}\")\n",
        "output = scaler.inverse_transform([[np.nan,np.nan,predicted[0][0]]])\n",
        "print(f\"Model Prediction is : {output[0][2]}\")"
      ]
    },
    {
      "cell_type": "code",
      "execution_count": null,
      "metadata": {
        "id": "vyCwik53Nb-M"
      },
      "outputs": [],
      "source": []
    },
    {
      "cell_type": "markdown",
      "metadata": {
        "id": "7lTwT_n6-0LL"
      },
      "source": [
        "# Data Normalization via Log"
      ]
    },
    {
      "cell_type": "code",
      "execution_count": 9,
      "metadata": {
        "colab": {
          "base_uri": "https://localhost:8080/",
          "height": 424
        },
        "id": "DWmzMbBC-0LL",
        "outputId": "8ef14140-1a00-4a7a-dc82-497b7dee3752"
      },
      "outputs": [
        {
          "output_type": "execute_result",
          "data": {
            "text/plain": [
              "             x_1       x_2          y\n",
              "0       9.072686  9.155990  18.228235\n",
              "1       8.210396  8.622814  16.832307\n",
              "2       8.699515  7.254178  15.951945\n",
              "3       8.952217  8.452335  17.403866\n",
              "4       8.893161  8.596559  17.489076\n",
              "...          ...       ...        ...\n",
              "999995  8.702676  8.744010  17.446035\n",
              "999996  9.161150  7.209340  16.368800\n",
              "999997  5.793014  7.665285  13.451254\n",
              "999998  8.188133  7.500529  15.687002\n",
              "999999  7.605392  8.891924  16.496046\n",
              "\n",
              "[1000000 rows x 3 columns]"
            ],
            "text/html": [
              "\n",
              "  <div id=\"df-a5aa300a-6ed8-40aa-b71f-2bf0671a9418\" class=\"colab-df-container\">\n",
              "    <div>\n",
              "<style scoped>\n",
              "    .dataframe tbody tr th:only-of-type {\n",
              "        vertical-align: middle;\n",
              "    }\n",
              "\n",
              "    .dataframe tbody tr th {\n",
              "        vertical-align: top;\n",
              "    }\n",
              "\n",
              "    .dataframe thead th {\n",
              "        text-align: right;\n",
              "    }\n",
              "</style>\n",
              "<table border=\"1\" class=\"dataframe\">\n",
              "  <thead>\n",
              "    <tr style=\"text-align: right;\">\n",
              "      <th></th>\n",
              "      <th>x_1</th>\n",
              "      <th>x_2</th>\n",
              "      <th>y</th>\n",
              "    </tr>\n",
              "  </thead>\n",
              "  <tbody>\n",
              "    <tr>\n",
              "      <th>0</th>\n",
              "      <td>9.072686</td>\n",
              "      <td>9.155990</td>\n",
              "      <td>18.228235</td>\n",
              "    </tr>\n",
              "    <tr>\n",
              "      <th>1</th>\n",
              "      <td>8.210396</td>\n",
              "      <td>8.622814</td>\n",
              "      <td>16.832307</td>\n",
              "    </tr>\n",
              "    <tr>\n",
              "      <th>2</th>\n",
              "      <td>8.699515</td>\n",
              "      <td>7.254178</td>\n",
              "      <td>15.951945</td>\n",
              "    </tr>\n",
              "    <tr>\n",
              "      <th>3</th>\n",
              "      <td>8.952217</td>\n",
              "      <td>8.452335</td>\n",
              "      <td>17.403866</td>\n",
              "    </tr>\n",
              "    <tr>\n",
              "      <th>4</th>\n",
              "      <td>8.893161</td>\n",
              "      <td>8.596559</td>\n",
              "      <td>17.489076</td>\n",
              "    </tr>\n",
              "    <tr>\n",
              "      <th>...</th>\n",
              "      <td>...</td>\n",
              "      <td>...</td>\n",
              "      <td>...</td>\n",
              "    </tr>\n",
              "    <tr>\n",
              "      <th>999995</th>\n",
              "      <td>8.702676</td>\n",
              "      <td>8.744010</td>\n",
              "      <td>17.446035</td>\n",
              "    </tr>\n",
              "    <tr>\n",
              "      <th>999996</th>\n",
              "      <td>9.161150</td>\n",
              "      <td>7.209340</td>\n",
              "      <td>16.368800</td>\n",
              "    </tr>\n",
              "    <tr>\n",
              "      <th>999997</th>\n",
              "      <td>5.793014</td>\n",
              "      <td>7.665285</td>\n",
              "      <td>13.451254</td>\n",
              "    </tr>\n",
              "    <tr>\n",
              "      <th>999998</th>\n",
              "      <td>8.188133</td>\n",
              "      <td>7.500529</td>\n",
              "      <td>15.687002</td>\n",
              "    </tr>\n",
              "    <tr>\n",
              "      <th>999999</th>\n",
              "      <td>7.605392</td>\n",
              "      <td>8.891924</td>\n",
              "      <td>16.496046</td>\n",
              "    </tr>\n",
              "  </tbody>\n",
              "</table>\n",
              "<p>1000000 rows × 3 columns</p>\n",
              "</div>\n",
              "    <div class=\"colab-df-buttons\">\n",
              "\n",
              "  <div class=\"colab-df-container\">\n",
              "    <button class=\"colab-df-convert\" onclick=\"convertToInteractive('df-a5aa300a-6ed8-40aa-b71f-2bf0671a9418')\"\n",
              "            title=\"Convert this dataframe to an interactive table.\"\n",
              "            style=\"display:none;\">\n",
              "\n",
              "  <svg xmlns=\"http://www.w3.org/2000/svg\" height=\"24px\" viewBox=\"0 -960 960 960\">\n",
              "    <path d=\"M120-120v-720h720v720H120Zm60-500h600v-160H180v160Zm220 220h160v-160H400v160Zm0 220h160v-160H400v160ZM180-400h160v-160H180v160Zm440 0h160v-160H620v160ZM180-180h160v-160H180v160Zm440 0h160v-160H620v160Z\"/>\n",
              "  </svg>\n",
              "    </button>\n",
              "\n",
              "  <style>\n",
              "    .colab-df-container {\n",
              "      display:flex;\n",
              "      gap: 12px;\n",
              "    }\n",
              "\n",
              "    .colab-df-convert {\n",
              "      background-color: #E8F0FE;\n",
              "      border: none;\n",
              "      border-radius: 50%;\n",
              "      cursor: pointer;\n",
              "      display: none;\n",
              "      fill: #1967D2;\n",
              "      height: 32px;\n",
              "      padding: 0 0 0 0;\n",
              "      width: 32px;\n",
              "    }\n",
              "\n",
              "    .colab-df-convert:hover {\n",
              "      background-color: #E2EBFA;\n",
              "      box-shadow: 0px 1px 2px rgba(60, 64, 67, 0.3), 0px 1px 3px 1px rgba(60, 64, 67, 0.15);\n",
              "      fill: #174EA6;\n",
              "    }\n",
              "\n",
              "    .colab-df-buttons div {\n",
              "      margin-bottom: 4px;\n",
              "    }\n",
              "\n",
              "    [theme=dark] .colab-df-convert {\n",
              "      background-color: #3B4455;\n",
              "      fill: #D2E3FC;\n",
              "    }\n",
              "\n",
              "    [theme=dark] .colab-df-convert:hover {\n",
              "      background-color: #434B5C;\n",
              "      box-shadow: 0px 1px 3px 1px rgba(0, 0, 0, 0.15);\n",
              "      filter: drop-shadow(0px 1px 2px rgba(0, 0, 0, 0.3));\n",
              "      fill: #FFFFFF;\n",
              "    }\n",
              "  </style>\n",
              "\n",
              "    <script>\n",
              "      const buttonEl =\n",
              "        document.querySelector('#df-a5aa300a-6ed8-40aa-b71f-2bf0671a9418 button.colab-df-convert');\n",
              "      buttonEl.style.display =\n",
              "        google.colab.kernel.accessAllowed ? 'block' : 'none';\n",
              "\n",
              "      async function convertToInteractive(key) {\n",
              "        const element = document.querySelector('#df-a5aa300a-6ed8-40aa-b71f-2bf0671a9418');\n",
              "        const dataTable =\n",
              "          await google.colab.kernel.invokeFunction('convertToInteractive',\n",
              "                                                    [key], {});\n",
              "        if (!dataTable) return;\n",
              "\n",
              "        const docLinkHtml = 'Like what you see? Visit the ' +\n",
              "          '<a target=\"_blank\" href=https://colab.research.google.com/notebooks/data_table.ipynb>data table notebook</a>'\n",
              "          + ' to learn more about interactive tables.';\n",
              "        element.innerHTML = '';\n",
              "        dataTable['output_type'] = 'display_data';\n",
              "        await google.colab.output.renderOutput(dataTable, element);\n",
              "        const docLink = document.createElement('div');\n",
              "        docLink.innerHTML = docLinkHtml;\n",
              "        element.appendChild(docLink);\n",
              "      }\n",
              "    </script>\n",
              "  </div>\n",
              "\n",
              "\n",
              "<div id=\"df-e7e0c680-87bc-404a-ae84-bec7a829610d\">\n",
              "  <button class=\"colab-df-quickchart\" onclick=\"quickchart('df-e7e0c680-87bc-404a-ae84-bec7a829610d')\"\n",
              "            title=\"Suggest charts\"\n",
              "            style=\"display:none;\">\n",
              "\n",
              "<svg xmlns=\"http://www.w3.org/2000/svg\" height=\"24px\"viewBox=\"0 0 24 24\"\n",
              "     width=\"24px\">\n",
              "    <g>\n",
              "        <path d=\"M19 3H5c-1.1 0-2 .9-2 2v14c0 1.1.9 2 2 2h14c1.1 0 2-.9 2-2V5c0-1.1-.9-2-2-2zM9 17H7v-7h2v7zm4 0h-2V7h2v10zm4 0h-2v-4h2v4z\"/>\n",
              "    </g>\n",
              "</svg>\n",
              "  </button>\n",
              "\n",
              "<style>\n",
              "  .colab-df-quickchart {\n",
              "      --bg-color: #E8F0FE;\n",
              "      --fill-color: #1967D2;\n",
              "      --hover-bg-color: #E2EBFA;\n",
              "      --hover-fill-color: #174EA6;\n",
              "      --disabled-fill-color: #AAA;\n",
              "      --disabled-bg-color: #DDD;\n",
              "  }\n",
              "\n",
              "  [theme=dark] .colab-df-quickchart {\n",
              "      --bg-color: #3B4455;\n",
              "      --fill-color: #D2E3FC;\n",
              "      --hover-bg-color: #434B5C;\n",
              "      --hover-fill-color: #FFFFFF;\n",
              "      --disabled-bg-color: #3B4455;\n",
              "      --disabled-fill-color: #666;\n",
              "  }\n",
              "\n",
              "  .colab-df-quickchart {\n",
              "    background-color: var(--bg-color);\n",
              "    border: none;\n",
              "    border-radius: 50%;\n",
              "    cursor: pointer;\n",
              "    display: none;\n",
              "    fill: var(--fill-color);\n",
              "    height: 32px;\n",
              "    padding: 0;\n",
              "    width: 32px;\n",
              "  }\n",
              "\n",
              "  .colab-df-quickchart:hover {\n",
              "    background-color: var(--hover-bg-color);\n",
              "    box-shadow: 0 1px 2px rgba(60, 64, 67, 0.3), 0 1px 3px 1px rgba(60, 64, 67, 0.15);\n",
              "    fill: var(--button-hover-fill-color);\n",
              "  }\n",
              "\n",
              "  .colab-df-quickchart-complete:disabled,\n",
              "  .colab-df-quickchart-complete:disabled:hover {\n",
              "    background-color: var(--disabled-bg-color);\n",
              "    fill: var(--disabled-fill-color);\n",
              "    box-shadow: none;\n",
              "  }\n",
              "\n",
              "  .colab-df-spinner {\n",
              "    border: 2px solid var(--fill-color);\n",
              "    border-color: transparent;\n",
              "    border-bottom-color: var(--fill-color);\n",
              "    animation:\n",
              "      spin 1s steps(1) infinite;\n",
              "  }\n",
              "\n",
              "  @keyframes spin {\n",
              "    0% {\n",
              "      border-color: transparent;\n",
              "      border-bottom-color: var(--fill-color);\n",
              "      border-left-color: var(--fill-color);\n",
              "    }\n",
              "    20% {\n",
              "      border-color: transparent;\n",
              "      border-left-color: var(--fill-color);\n",
              "      border-top-color: var(--fill-color);\n",
              "    }\n",
              "    30% {\n",
              "      border-color: transparent;\n",
              "      border-left-color: var(--fill-color);\n",
              "      border-top-color: var(--fill-color);\n",
              "      border-right-color: var(--fill-color);\n",
              "    }\n",
              "    40% {\n",
              "      border-color: transparent;\n",
              "      border-right-color: var(--fill-color);\n",
              "      border-top-color: var(--fill-color);\n",
              "    }\n",
              "    60% {\n",
              "      border-color: transparent;\n",
              "      border-right-color: var(--fill-color);\n",
              "    }\n",
              "    80% {\n",
              "      border-color: transparent;\n",
              "      border-right-color: var(--fill-color);\n",
              "      border-bottom-color: var(--fill-color);\n",
              "    }\n",
              "    90% {\n",
              "      border-color: transparent;\n",
              "      border-bottom-color: var(--fill-color);\n",
              "    }\n",
              "  }\n",
              "</style>\n",
              "\n",
              "  <script>\n",
              "    async function quickchart(key) {\n",
              "      const quickchartButtonEl =\n",
              "        document.querySelector('#' + key + ' button');\n",
              "      quickchartButtonEl.disabled = true;  // To prevent multiple clicks.\n",
              "      quickchartButtonEl.classList.add('colab-df-spinner');\n",
              "      try {\n",
              "        const charts = await google.colab.kernel.invokeFunction(\n",
              "            'suggestCharts', [key], {});\n",
              "      } catch (error) {\n",
              "        console.error('Error during call to suggestCharts:', error);\n",
              "      }\n",
              "      quickchartButtonEl.classList.remove('colab-df-spinner');\n",
              "      quickchartButtonEl.classList.add('colab-df-quickchart-complete');\n",
              "    }\n",
              "    (() => {\n",
              "      let quickchartButtonEl =\n",
              "        document.querySelector('#df-e7e0c680-87bc-404a-ae84-bec7a829610d button');\n",
              "      quickchartButtonEl.style.display =\n",
              "        google.colab.kernel.accessAllowed ? 'block' : 'none';\n",
              "    })();\n",
              "  </script>\n",
              "</div>\n",
              "    </div>\n",
              "  </div>\n"
            ],
            "application/vnd.google.colaboratory.intrinsic+json": {
              "type": "dataframe",
              "variable_name": "df_log_scaled"
            }
          },
          "metadata": {},
          "execution_count": 9
        }
      ],
      "source": [
        "def log_normalize(f):\n",
        "    return np.log(f + 2)\n",
        "\n",
        "def inverse_log_normalize(f):\n",
        "    f = np.exp(f)\n",
        "    return f - 2\n",
        "\n",
        "df_log_scaled = pd.DataFrame(log_normalize(df.to_numpy()), columns=df.columns)\n",
        "df_log_scaled"
      ]
    },
    {
      "cell_type": "markdown",
      "metadata": {
        "id": "9HjhU54M-0LL"
      },
      "source": [
        "## Data Cleaning"
      ]
    },
    {
      "cell_type": "code",
      "execution_count": 10,
      "metadata": {
        "colab": {
          "base_uri": "https://localhost:8080/",
          "height": 0
        },
        "id": "gkosTFuW-0LL",
        "outputId": "ee0c487c-d82c-4943-a209-5f1d2917ea6f"
      },
      "outputs": [
        {
          "output_type": "stream",
          "name": "stdout",
          "text": [
            "There are 4872 duplicate records in dataset\n",
            "Dataset length after droping duplicatets:  995128\n"
          ]
        }
      ],
      "source": [
        "print (f\"There are {df_log_scaled.duplicated().sum()} duplicate records in dataset\")\n",
        "\n",
        "# Drop duplicates\n",
        "\n",
        "df_log_scaled.drop_duplicates(inplace = True)\n",
        "print(\"Dataset length after droping duplicatets: \", len(df_log_scaled))"
      ]
    },
    {
      "cell_type": "markdown",
      "metadata": {
        "id": "s4fFY7-_-0LL"
      },
      "source": [
        "## Data Splitting"
      ]
    },
    {
      "cell_type": "code",
      "execution_count": 11,
      "metadata": {
        "colab": {
          "base_uri": "https://localhost:8080/",
          "height": 0
        },
        "id": "jNknqeb2-0LL",
        "outputId": "be9b7935-dba4-4180-a848-087273e5d173"
      },
      "outputs": [
        {
          "output_type": "stream",
          "name": "stdout",
          "text": [
            "Lenght of Train Data: (800000, 2)\n",
            "Lenght of Test Data: (195128, 2)\n"
          ]
        }
      ],
      "source": [
        "X_train = df_log_scaled[[\"x_1\",\"x_2\"]][:800000]\n",
        "Y_train = df_log_scaled[[\"y\"]][:800000]\n",
        "X_test = df_log_scaled[[\"x_1\",\"x_2\"]][800000:]\n",
        "Y_test = df_log_scaled[[\"y\"]][800000:]\n",
        "\n",
        "print(f\"Lenght of Train Data: {X_train.shape}\")\n",
        "print(f\"Lenght of Test Data: {X_test.shape}\")"
      ]
    },
    {
      "cell_type": "markdown",
      "metadata": {
        "id": "pAu7BlS_HO30"
      },
      "source": [
        "## Modeling"
      ]
    },
    {
      "cell_type": "markdown",
      "metadata": {
        "id": "O_J4b1csHSg3"
      },
      "source": [
        "## FFN : One Hidden Layer"
      ]
    },
    {
      "cell_type": "code",
      "execution_count": 15,
      "metadata": {
        "colab": {
          "base_uri": "https://localhost:8080/",
          "height": 0
        },
        "id": "GyTi3ctdHSg_",
        "outputId": "1a78203e-49e5-4956-9acb-b5f2e6323b99"
      },
      "outputs": [
        {
          "output_type": "stream",
          "name": "stdout",
          "text": [
            "Model: \"sequential_1\"\n",
            "_________________________________________________________________\n",
            " Layer (type)                Output Shape              Param #   \n",
            "=================================================================\n",
            " dense_2 (Dense)             (None, 64)                192       \n",
            "                                                                 \n",
            " dense_3 (Dense)             (None, 1)                 65        \n",
            "                                                                 \n",
            "=================================================================\n",
            "Total params: 257 (1.00 KB)\n",
            "Trainable params: 257 (1.00 KB)\n",
            "Non-trainable params: 0 (0.00 Byte)\n",
            "_________________________________________________________________\n"
          ]
        },
        {
          "output_type": "stream",
          "name": "stderr",
          "text": [
            "WARNING:tensorflow:`epsilon` argument is deprecated and will be removed, use `min_delta` instead.\n"
          ]
        },
        {
          "output_type": "stream",
          "name": "stdout",
          "text": [
            "Epoch 1/100\n",
            "10000/10000 [==============================] - 22s 2ms/step - loss: 2.2406 - val_loss: 0.0069 - lr: 0.0010\n",
            "Epoch 2/100\n",
            "  100/10000 [..............................] - ETA: 15s - loss: 0.0020"
          ]
        },
        {
          "output_type": "stream",
          "name": "stderr",
          "text": [
            "/usr/local/lib/python3.10/dist-packages/keras/src/engine/training.py:3103: UserWarning: You are saving your model as an HDF5 file via `model.save()`. This file format is considered legacy. We recommend using instead the native Keras format, e.g. `model.save('my_model.keras')`.\n",
            "  saving_api.save_model(\n"
          ]
        },
        {
          "output_type": "stream",
          "name": "stdout",
          "text": [
            "10000/10000 [==============================] - 21s 2ms/step - loss: 0.0046 - val_loss: 0.0036 - lr: 0.0010\n",
            "Epoch 3/100\n",
            "10000/10000 [==============================] - 20s 2ms/step - loss: 0.0027 - val_loss: 0.0029 - lr: 0.0010\n",
            "Epoch 4/100\n",
            "10000/10000 [==============================] - 19s 2ms/step - loss: 0.0017 - val_loss: 0.0016 - lr: 0.0010\n",
            "Epoch 5/100\n",
            "10000/10000 [==============================] - 20s 2ms/step - loss: 9.5801e-04 - val_loss: 5.5515e-04 - lr: 0.0010\n",
            "Epoch 6/100\n",
            "10000/10000 [==============================] - 21s 2ms/step - loss: 5.8972e-04 - val_loss: 5.3815e-04 - lr: 0.0010\n",
            "Epoch 7/100\n",
            "10000/10000 [==============================] - 23s 2ms/step - loss: 4.5307e-04 - val_loss: 2.1285e-04 - lr: 0.0010\n",
            "Epoch 8/100\n",
            "10000/10000 [==============================] - 21s 2ms/step - loss: 3.7504e-04 - val_loss: 5.9406e-04 - lr: 0.0010\n",
            "Epoch 9/100\n",
            "10000/10000 [==============================] - 23s 2ms/step - loss: 3.3012e-04 - val_loss: 5.1850e-04 - lr: 0.0010\n"
          ]
        }
      ],
      "source": [
        "model = keras.Sequential()\n",
        "model.add(layers.Dense(64,activation=\"relu\",input_dim=2))\n",
        "model.add(layers.Dense(1,activation=\"linear\"))\n",
        "\n",
        "model.summary()\n",
        "\n",
        "# Compile the Model\n",
        "model.compile(loss = 'MSE',\n",
        "              optimizer=\"adam\")\n",
        "\n",
        "# Callbacks Configs\n",
        "earlyStopping = EarlyStopping(monitor='val_loss', patience=5, verbose=0, mode='min')\n",
        "mcp_save = ModelCheckpoint('.mdl_wts.hdf5', save_best_only=True, monitor='val_loss', mode='min')\n",
        "reduce_lr_loss = ReduceLROnPlateau(monitor='val_loss', factor=0.1, patience=3, verbose=1, epsilon=1e-4, mode='min')\n",
        "\n",
        "history = model.fit(X_train,Y_train,batch_size=64,epochs=100,validation_split=0.2,callbacks=[earlyStopping, mcp_save, reduce_lr_loss],)"
      ]
    },
    {
      "cell_type": "code",
      "execution_count": 16,
      "metadata": {
        "id": "cqOqHiYXHSg_",
        "colab": {
          "base_uri": "https://localhost:8080/",
          "height": 472
        },
        "outputId": "5d5b1bee-628f-4429-a87d-a3f2bb889039"
      },
      "outputs": [
        {
          "output_type": "display_data",
          "data": {
            "text/plain": [
              "<Figure size 640x480 with 1 Axes>"
            ],
            "image/png": "[encoded data removed]"
          },
          "metadata": {}
        }
      ],
      "source": [
        "from matplotlib import pyplot as plt\n",
        "plt.plot(history.history['loss'])\n",
        "plt.plot(history.history['val_loss'])\n",
        "plt.title('model loss')\n",
        "plt.ylabel('loss')\n",
        "plt.xlabel('epoch')\n",
        "plt.legend(['train', 'val'], loc='upper left')\n",
        "plt.show()"
      ]
    },
    {
      "cell_type": "code",
      "execution_count": 17,
      "metadata": {
        "id": "5VPWcxTEHShA",
        "colab": {
          "base_uri": "https://localhost:8080/",
          "height": 472
        },
        "outputId": "1a118478-0e17-4867-e1fe-2aedd2b7ef57"
      },
      "outputs": [
        {
          "output_type": "display_data",
          "data": {
            "text/plain": [
              "<Figure size 640x480 with 1 Axes>"
            ],
            "image/png": "[encoded data removed]"
          },
          "metadata": {}
        }
      ],
      "source": [
        "from matplotlib import pyplot as plt\n",
        "plt.plot(history.history['loss'][5:])\n",
        "plt.plot(history.history['val_loss'][5:])\n",
        "plt.title('model loss')\n",
        "plt.ylabel('loss')\n",
        "plt.xlabel('epoch')\n",
        "plt.legend(['train', 'val'], loc='upper left')\n",
        "plt.show()"
      ]
    },
    {
      "cell_type": "markdown",
      "metadata": {
        "id": "G9BqyOdNHShA"
      },
      "source": [
        "### ٍEvaluate Model"
      ]
    },
    {
      "cell_type": "code",
      "execution_count": 20,
      "metadata": {
        "id": "clw30vakHShA",
        "colab": {
          "base_uri": "https://localhost:8080/",
          "height": 0
        },
        "outputId": "80216d2f-e7fc-491f-add0-9983290da627"
      },
      "outputs": [
        {
          "output_type": "stream",
          "name": "stdout",
          "text": [
            "6098/6098 [==============================] - 11s 2ms/step - loss: 5.6891e-04\n"
          ]
        },
        {
          "output_type": "execute_result",
          "data": {
            "text/plain": [
              "0.0005689122481271625"
            ]
          },
          "metadata": {},
          "execution_count": 20
        }
      ],
      "source": [
        "model.evaluate(X_test,Y_test)"
      ]
    },
    {
      "cell_type": "code",
      "source": [
        "y_predicted = model.predict(X_test)\n",
        "\n",
        "from sklearn.metrics import (\n",
        "    mean_absolute_error,\n",
        "    mean_squared_error,\n",
        "    r2_score,\n",
        ")\n",
        "\n",
        "print('MAE: ',mean_absolute_error(Y_test, y_predicted))\n",
        "print('MSE: ',mean_squared_error(Y_test, y_predicted))\n",
        "print('R2_score: ',r2_score(Y_test, y_predicted))\n"
      ],
      "metadata": {
        "colab": {
          "base_uri": "https://localhost:8080/",
          "height": 0
        },
        "id": "hqOrsThocNLC",
        "outputId": "783dcf2b-e165-45ef-ec82-29d849174530"
      },
      "execution_count": 19,
      "outputs": [
        {
          "output_type": "stream",
          "name": "stdout",
          "text": [
            "6098/6098 [==============================] - 11s 2ms/step\n",
            "MAE:  0.008117436613241257\n",
            "MSE:  0.0005689126557795001\n",
            "R2_score:  0.9997207890952038\n"
          ]
        }
      ]
    },
    {
      "cell_type": "markdown",
      "metadata": {
        "id": "y9hc_OnvHShA"
      },
      "source": [
        "### Let's test the model"
      ]
    },
    {
      "cell_type": "code",
      "execution_count": 24,
      "metadata": {
        "id": "xIO6TMGFHShA",
        "colab": {
          "base_uri": "https://localhost:8080/",
          "height": 283
        },
        "outputId": "c7092776-48fe-4c5b-cd5a-76aa69a07271"
      },
      "outputs": [
        {
          "output_type": "stream",
          "name": "stdout",
          "text": [
            "Data :\n"
          ]
        },
        {
          "output_type": "display_data",
          "data": {
            "text/plain": [
              "             x_1       x_2\n",
              "803131  8.089789  7.847372"
            ],
            "text/html": [
              "\n",
              "  <div id=\"df-b3c8ad84-715a-4438-aac2-50f32434e97f\" class=\"colab-df-container\">\n",
              "    <div>\n",
              "<style scoped>\n",
              "    .dataframe tbody tr th:only-of-type {\n",
              "        vertical-align: middle;\n",
              "    }\n",
              "\n",
              "    .dataframe tbody tr th {\n",
              "        vertical-align: top;\n",
              "    }\n",
              "\n",
              "    .dataframe thead th {\n",
              "        text-align: right;\n",
              "    }\n",
              "</style>\n",
              "<table border=\"1\" class=\"dataframe\">\n",
              "  <thead>\n",
              "    <tr style=\"text-align: right;\">\n",
              "      <th></th>\n",
              "      <th>x_1</th>\n",
              "      <th>x_2</th>\n",
              "    </tr>\n",
              "  </thead>\n",
              "  <tbody>\n",
              "    <tr>\n",
              "      <th>803131</th>\n",
              "      <td>8.089789</td>\n",
              "      <td>7.847372</td>\n",
              "    </tr>\n",
              "  </tbody>\n",
              "</table>\n",
              "</div>\n",
              "    <div class=\"colab-df-buttons\">\n",
              "\n",
              "  <div class=\"colab-df-container\">\n",
              "    <button class=\"colab-df-convert\" onclick=\"convertToInteractive('df-b3c8ad84-715a-4438-aac2-50f32434e97f')\"\n",
              "            title=\"Convert this dataframe to an interactive table.\"\n",
              "            style=\"display:none;\">\n",
              "\n",
              "  <svg xmlns=\"http://www.w3.org/2000/svg\" height=\"24px\" viewBox=\"0 -960 960 960\">\n",
              "    <path d=\"M120-120v-720h720v720H120Zm60-500h600v-160H180v160Zm220 220h160v-160H400v160Zm0 220h160v-160H400v160ZM180-400h160v-160H180v160Zm440 0h160v-160H620v160ZM180-180h160v-160H180v160Zm440 0h160v-160H620v160Z\"/>\n",
              "  </svg>\n",
              "    </button>\n",
              "\n",
              "  <style>\n",
              "    .colab-df-container {\n",
              "      display:flex;\n",
              "      gap: 12px;\n",
              "    }\n",
              "\n",
              "    .colab-df-convert {\n",
              "      background-color: #E8F0FE;\n",
              "      border: none;\n",
              "      border-radius: 50%;\n",
              "      cursor: pointer;\n",
              "      display: none;\n",
              "      fill: #1967D2;\n",
              "      height: 32px;\n",
              "      padding: 0 0 0 0;\n",
              "      width: 32px;\n",
              "    }\n",
              "\n",
              "    .colab-df-convert:hover {\n",
              "      background-color: #E2EBFA;\n",
              "      box-shadow: 0px 1px 2px rgba(60, 64, 67, 0.3), 0px 1px 3px 1px rgba(60, 64, 67, 0.15);\n",
              "      fill: #174EA6;\n",
              "    }\n",
              "\n",
              "    .colab-df-buttons div {\n",
              "      margin-bottom: 4px;\n",
              "    }\n",
              "\n",
              "    [theme=dark] .colab-df-convert {\n",
              "      background-color: #3B4455;\n",
              "      fill: #D2E3FC;\n",
              "    }\n",
              "\n",
              "    [theme=dark] .colab-df-convert:hover {\n",
              "      background-color: #434B5C;\n",
              "      box-shadow: 0px 1px 3px 1px rgba(0, 0, 0, 0.15);\n",
              "      filter: drop-shadow(0px 1px 2px rgba(0, 0, 0, 0.3));\n",
              "      fill: #FFFFFF;\n",
              "    }\n",
              "  </style>\n",
              "\n",
              "    <script>\n",
              "      const buttonEl =\n",
              "        document.querySelector('#df-b3c8ad84-715a-4438-aac2-50f32434e97f button.colab-df-convert');\n",
              "      buttonEl.style.display =\n",
              "        google.colab.kernel.accessAllowed ? 'block' : 'none';\n",
              "\n",
              "      async function convertToInteractive(key) {\n",
              "        const element = document.querySelector('#df-b3c8ad84-715a-4438-aac2-50f32434e97f');\n",
              "        const dataTable =\n",
              "          await google.colab.kernel.invokeFunction('convertToInteractive',\n",
              "                                                    [key], {});\n",
              "        if (!dataTable) return;\n",
              "\n",
              "        const docLinkHtml = 'Like what you see? Visit the ' +\n",
              "          '<a target=\"_blank\" href=https://colab.research.google.com/notebooks/data_table.ipynb>data table notebook</a>'\n",
              "          + ' to learn more about interactive tables.';\n",
              "        element.innerHTML = '';\n",
              "        dataTable['output_type'] = 'display_data';\n",
              "        await google.colab.output.renderOutput(dataTable, element);\n",
              "        const docLink = document.createElement('div');\n",
              "        docLink.innerHTML = docLinkHtml;\n",
              "        element.appendChild(docLink);\n",
              "      }\n",
              "    </script>\n",
              "  </div>\n",
              "\n",
              "    </div>\n",
              "  </div>\n"
            ],
            "application/vnd.google.colaboratory.intrinsic+json": {
              "type": "dataframe",
              "variable_name": "test_data",
              "summary": "{\n  \"name\": \"test_data\",\n  \"rows\": 1,\n  \"fields\": [\n    {\n      \"column\": \"x_1\",\n      \"properties\": {\n        \"dtype\": \"number\",\n        \"std\": null,\n        \"min\": 8.089789175789319,\n        \"max\": 8.089789175789319,\n        \"num_unique_values\": 1,\n        \"samples\": [\n          8.089789175789319\n        ],\n        \"semantic_type\": \"\",\n        \"description\": \"\"\n      }\n    },\n    {\n      \"column\": \"x_2\",\n      \"properties\": {\n        \"dtype\": \"number\",\n        \"std\": null,\n        \"min\": 7.847371836159788,\n        \"max\": 7.847371836159788,\n        \"num_unique_values\": 1,\n        \"samples\": [\n          7.847371836159788\n        ],\n        \"semantic_type\": \"\",\n        \"description\": \"\"\n      }\n    }\n  ]\n}"
            }
          },
          "metadata": {}
        },
        {
          "output_type": "stream",
          "name": "stdout",
          "text": [
            "------------------------------------\n",
            "lable :\n"
          ]
        },
        {
          "output_type": "display_data",
          "data": {
            "text/plain": [
              "                y\n",
              "803131  15.935766"
            ],
            "text/html": [
              "\n",
              "  <div id=\"df-f758dbf2-eac3-4282-86ea-8448e7ec4b55\" class=\"colab-df-container\">\n",
              "    <div>\n",
              "<style scoped>\n",
              "    .dataframe tbody tr th:only-of-type {\n",
              "        vertical-align: middle;\n",
              "    }\n",
              "\n",
              "    .dataframe tbody tr th {\n",
              "        vertical-align: top;\n",
              "    }\n",
              "\n",
              "    .dataframe thead th {\n",
              "        text-align: right;\n",
              "    }\n",
              "</style>\n",
              "<table border=\"1\" class=\"dataframe\">\n",
              "  <thead>\n",
              "    <tr style=\"text-align: right;\">\n",
              "      <th></th>\n",
              "      <th>y</th>\n",
              "    </tr>\n",
              "  </thead>\n",
              "  <tbody>\n",
              "    <tr>\n",
              "      <th>803131</th>\n",
              "      <td>15.935766</td>\n",
              "    </tr>\n",
              "  </tbody>\n",
              "</table>\n",
              "</div>\n",
              "    <div class=\"colab-df-buttons\">\n",
              "\n",
              "  <div class=\"colab-df-container\">\n",
              "    <button class=\"colab-df-convert\" onclick=\"convertToInteractive('df-f758dbf2-eac3-4282-86ea-8448e7ec4b55')\"\n",
              "            title=\"Convert this dataframe to an interactive table.\"\n",
              "            style=\"display:none;\">\n",
              "\n",
              "  <svg xmlns=\"http://www.w3.org/2000/svg\" height=\"24px\" viewBox=\"0 -960 960 960\">\n",
              "    <path d=\"M120-120v-720h720v720H120Zm60-500h600v-160H180v160Zm220 220h160v-160H400v160Zm0 220h160v-160H400v160ZM180-400h160v-160H180v160Zm440 0h160v-160H620v160ZM180-180h160v-160H180v160Zm440 0h160v-160H620v160Z\"/>\n",
              "  </svg>\n",
              "    </button>\n",
              "\n",
              "  <style>\n",
              "    .colab-df-container {\n",
              "      display:flex;\n",
              "      gap: 12px;\n",
              "    }\n",
              "\n",
              "    .colab-df-convert {\n",
              "      background-color: #E8F0FE;\n",
              "      border: none;\n",
              "      border-radius: 50%;\n",
              "      cursor: pointer;\n",
              "      display: none;\n",
              "      fill: #1967D2;\n",
              "      height: 32px;\n",
              "      padding: 0 0 0 0;\n",
              "      width: 32px;\n",
              "    }\n",
              "\n",
              "    .colab-df-convert:hover {\n",
              "      background-color: #E2EBFA;\n",
              "      box-shadow: 0px 1px 2px rgba(60, 64, 67, 0.3), 0px 1px 3px 1px rgba(60, 64, 67, 0.15);\n",
              "      fill: #174EA6;\n",
              "    }\n",
              "\n",
              "    .colab-df-buttons div {\n",
              "      margin-bottom: 4px;\n",
              "    }\n",
              "\n",
              "    [theme=dark] .colab-df-convert {\n",
              "      background-color: #3B4455;\n",
              "      fill: #D2E3FC;\n",
              "    }\n",
              "\n",
              "    [theme=dark] .colab-df-convert:hover {\n",
              "      background-color: #434B5C;\n",
              "      box-shadow: 0px 1px 3px 1px rgba(0, 0, 0, 0.15);\n",
              "      filter: drop-shadow(0px 1px 2px rgba(0, 0, 0, 0.3));\n",
              "      fill: #FFFFFF;\n",
              "    }\n",
              "  </style>\n",
              "\n",
              "    <script>\n",
              "      const buttonEl =\n",
              "        document.querySelector('#df-f758dbf2-eac3-4282-86ea-8448e7ec4b55 button.colab-df-convert');\n",
              "      buttonEl.style.display =\n",
              "        google.colab.kernel.accessAllowed ? 'block' : 'none';\n",
              "\n",
              "      async function convertToInteractive(key) {\n",
              "        const element = document.querySelector('#df-f758dbf2-eac3-4282-86ea-8448e7ec4b55');\n",
              "        const dataTable =\n",
              "          await google.colab.kernel.invokeFunction('convertToInteractive',\n",
              "                                                    [key], {});\n",
              "        if (!dataTable) return;\n",
              "\n",
              "        const docLinkHtml = 'Like what you see? Visit the ' +\n",
              "          '<a target=\"_blank\" href=https://colab.research.google.com/notebooks/data_table.ipynb>data table notebook</a>'\n",
              "          + ' to learn more about interactive tables.';\n",
              "        element.innerHTML = '';\n",
              "        dataTable['output_type'] = 'display_data';\n",
              "        await google.colab.output.renderOutput(dataTable, element);\n",
              "        const docLink = document.createElement('div');\n",
              "        docLink.innerHTML = docLinkHtml;\n",
              "        element.appendChild(docLink);\n",
              "      }\n",
              "    </script>\n",
              "  </div>\n",
              "\n",
              "    </div>\n",
              "  </div>\n"
            ],
            "application/vnd.google.colaboratory.intrinsic+json": {
              "type": "dataframe",
              "summary": "{\n  \"name\": \"print(f\\\"Model Prediction is : {output}\\\")\",\n  \"rows\": 1,\n  \"fields\": [\n    {\n      \"column\": \"y\",\n      \"properties\": {\n        \"dtype\": \"number\",\n        \"std\": null,\n        \"min\": 15.935766494135486,\n        \"max\": 15.935766494135486,\n        \"num_unique_values\": 1,\n        \"samples\": [\n          15.935766494135486\n        ],\n        \"semantic_type\": \"\",\n        \"description\": \"\"\n      }\n    }\n  ]\n}"
            }
          },
          "metadata": {}
        },
        {
          "output_type": "stream",
          "name": "stdout",
          "text": [
            "------------------------------------\n",
            "1/1 [==============================] - 0s 70ms/step\n",
            "------------------------------------\n",
            "Model scaled Prediction is : [[15.940862]]\n",
            "Model Prediction is : 8375836.5\n"
          ]
        }
      ],
      "source": [
        "test_data = X_test.iloc[:1]\n",
        "print(\"Data :\")\n",
        "display(test_data)\n",
        "print(\"------------------------------------\")\n",
        "print(\"lable :\",)\n",
        "display(Y_test.iloc[:1])\n",
        "print(\"------------------------------------\")\n",
        "predicted = model.predict(test_data)\n",
        "print(\"------------------------------------\")\n",
        "print(f\"Model scaled Prediction is : {predicted}\")\n",
        "output = inverse_log_normalize(predicted[0][0])\n",
        "print(f\"Model Prediction is : {output}\")"
      ]
    },
    {
      "cell_type": "markdown",
      "metadata": {
        "id": "XCgguC6KHShA"
      },
      "source": [
        "### Let's test the model via unseen data"
      ]
    },
    {
      "cell_type": "code",
      "execution_count": 43,
      "metadata": {
        "id": "gL-NRE69HShA",
        "colab": {
          "base_uri": "https://localhost:8080/",
          "height": 0
        },
        "outputId": "64560b34-1c73-448c-fbb8-0dabbe284954"
      },
      "outputs": [
        {
          "output_type": "stream",
          "name": "stdout",
          "text": [
            "Data : [[8.98744679 8.00703401]]\n",
            "Label :\n",
            "Actual Multiplication : 24000005\n",
            "------------------------------------\n",
            "1/1 [==============================] - 0s 76ms/step\n",
            "------------------------------------\n",
            "Model scaled Prediction is : [[17.00193]]\n",
            "Model Prediction is : 24201620.0\n"
          ]
        }
      ],
      "source": [
        "num_1 = 8000\n",
        "num_2 = 3000\n",
        "unseen_data = log_normalize(np.array([[num_1,num_2]]))\n",
        "print(\"Data :\",unseen_data)\n",
        "print(\"Label :\" )\n",
        "print(\"Actual Multiplication :\",num_1*num_2 +5)\n",
        "print(\"------------------------------------\")\n",
        "predicted = model.predict([unseen_data])\n",
        "print(\"------------------------------------\")\n",
        "print(f\"Model scaled Prediction is : {predicted}\")\n",
        "output = inverse_log_normalize(predicted[0][0])\n",
        "print(f\"Model Prediction is : {output}\")"
      ]
    },
    {
      "cell_type": "code",
      "execution_count": 44,
      "metadata": {
        "colab": {
          "base_uri": "https://localhost:8080/",
          "height": 0
        },
        "id": "jgrUtQ35idmY",
        "outputId": "38ef57cc-3183-4636-da99-7686af374ee5"
      },
      "outputs": [
        {
          "output_type": "stream",
          "name": "stdout",
          "text": [
            "Data : [[3.29583687 2.77258872]]\n",
            "Label :\n",
            "Actual Multiplication : 355\n",
            "------------------------------------\n",
            "1/1 [==============================] - 0s 104ms/step\n",
            "------------------------------------\n",
            "Model scaled Prediction is : [[6.040133]]\n",
            "Model Prediction is : 417.94891357421875\n"
          ]
        }
      ],
      "source": [
        "num_1 = 25\n",
        "num_2 = 14\n",
        "unseen_data = log_normalize(np.array([[num_1,num_2]]))\n",
        "print(\"Data :\",unseen_data)\n",
        "print(\"Label :\" )\n",
        "print(\"Actual Multiplication :\",num_1*num_2 +5)\n",
        "print(\"------------------------------------\")\n",
        "predicted = model.predict(unseen_data[:,:2])\n",
        "print(\"------------------------------------\")\n",
        "print(f\"Model scaled Prediction is : {predicted}\")\n",
        "output = inverse_log_normalize(predicted[0][0])\n",
        "print(f\"Model Prediction is : {output}\")"
      ]
    },
    {
      "cell_type": "markdown",
      "source": [
        "## Save and Load Model"
      ],
      "metadata": {
        "id": "Cdi-dgm2bno3"
      }
    },
    {
      "cell_type": "code",
      "source": [
        "from keras.models import Sequential, model_from_json\n",
        "\n",
        "# serialize model to JSON\n",
        "model_json = model.to_json()\n",
        "with open(\"model.json\", \"w\") as json_file:\n",
        "    json_file.write(model_json)\n",
        "# serialize weights to HDF5\n",
        "model.save_weights(\"model.h5\")\n",
        "print(\"Saved model to disk\")\n",
        "\n",
        "# later...\n",
        "\n",
        "# load json and create model\n",
        "json_file = open('model.json', 'r')\n",
        "loaded_model_json = json_file.read()\n",
        "json_file.close()\n",
        "loaded_model = model_from_json(loaded_model_json)\n",
        "# load weights into new model\n",
        "loaded_model.load_weights(\"model.h5\")\n",
        "print(\"Loaded model from disk\")\n",
        "\n",
        "# evaluate loaded model on test data\n",
        "loaded_model.compile(loss='mse', optimizer='adam', metrics=['mae'])\n",
        "score = loaded_model.evaluate(X_test, Y_test, verbose=0)\n",
        "print(\"%s: %.2f%%\" % (loaded_model.metrics_names[1], score[1]*100))"
      ],
      "metadata": {
        "colab": {
          "base_uri": "https://localhost:8080/",
          "height": 0
        },
        "id": "sIwJwKRmbsN_",
        "outputId": "59640ea2-8087-4c63-9b6f-68cfaa1de84e"
      },
      "execution_count": 29,
      "outputs": [
        {
          "output_type": "stream",
          "name": "stdout",
          "text": [
            "Saved model to disk\n",
            "Loaded model from disk\n",
            "mae: 0.81%\n"
          ]
        }
      ]
    },
    {
      "cell_type": "code",
      "source": [
        "num_1 = 25\n",
        "num_2 = 14\n",
        "unseen_data = log_normalize(np.array([[num_1,num_2]]))\n",
        "print(\"Data :\",unseen_data)\n",
        "print(\"Label :\" )\n",
        "print(\"Actual Multiplication :\",num_1*num_2 +5)\n",
        "print(\"------------------------------------\")\n",
        "predicted = model.predict(unseen_data[:,:2])\n",
        "print(\"------------------------------------\")\n",
        "print(f\"Model scaled Prediction is : {predicted}\")\n",
        "output = inverse_log_normalize(predicted[0][0])\n",
        "print(f\"Model Prediction is : {output}\")"
      ],
      "metadata": {
        "colab": {
          "base_uri": "https://localhost:8080/",
          "height": 0
        },
        "id": "dZB_xZe5c7Dp",
        "outputId": "9c98d0b3-fde5-490b-c4b9-e6491b2e8050"
      },
      "execution_count": 45,
      "outputs": [
        {
          "output_type": "stream",
          "name": "stdout",
          "text": [
            "Data : [[3.29583687 2.77258872]]\n",
            "Label :\n",
            "Actual Multiplication : 355\n",
            "------------------------------------\n",
            "1/1 [==============================] - 0s 35ms/step\n",
            "------------------------------------\n",
            "Model scaled Prediction is : [[6.040133]]\n",
            "Model Prediction is : 417.94891357421875\n"
          ]
        }
      ]
    },
    {
      "cell_type": "code",
      "source": [],
      "metadata": {
        "id": "OARKbXRRi8bA"
      },
      "execution_count": null,
      "outputs": []
    }
  ],
  "metadata": {
    "accelerator": "GPU",
    "colab": {
      "collapsed_sections": [
        "LuKzQVTPxAEN",
        "koac3v0k-IeE",
        "8nZQfx7eNb-L",
        "IhuFBOY8Nb-M",
        "QyxGRtYdNb-M",
        "G9BqyOdNHShA"
      ],
      "gpuType": "T4",
      "provenance": [],
      "authorship_tag": "ABX9TyOHo3PG1hkoxjT4an8gKL1X",
      "include_colab_link": true
    },
    "kernelspec": {
      "display_name": "Python 3",
      "name": "python3"
    },
    "language_info": {
      "name": "python"
    }
  },
  "nbformat": 4,
  "nbformat_minor": 0
}